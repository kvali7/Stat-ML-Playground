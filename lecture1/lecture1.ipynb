{
 "cells": [
  {
   "cell_type": "markdown",
   "metadata": {
    "slideshow": {
     "slide_type": "slide"
    }
   },
   "source": [
    "# Intro to Statistical Machine Learning\n",
    "\n",
    "## Lecture 1\n",
    "\n",
    "## Prof. James Sharpnack\n",
    "\n",
    "#### The life satisfaction data example and some of the code is based on the notebook file [01 in Aurélien Geron's github page](https://github.com/ageron/handson-ml)"
   ]
  },
  {
   "cell_type": "markdown",
   "metadata": {
    "slideshow": {
     "slide_type": "slide"
    }
   },
   "source": [
    "## Machine Learning\n",
    "\n",
    "A computer program learns from experience, E, with respect to class of tasks, T, and performance measure, P, if its performance at T improves by P with E.\n",
    "\n",
    "Examples of these categories are,\n",
    "- E: data (training)\n",
    "- P: loss (test), reward\n",
    "- T: classification, regression, expert selection, etc. "
   ]
  },
  {
   "cell_type": "markdown",
   "metadata": {
    "slideshow": {
     "slide_type": "slide"
    }
   },
   "source": [
    "## Inference vs. Prediction\n",
    "\n",
    "- statistical inference: is this effect significant? is the model correct? etc.\n",
    "- prediction: does this algorithm predict the response variable well?\n",
    "\n",
    "### terms\n",
    "\n",
    "- *supervised learning*: predicting one variable from many others\n",
    "- *predictor* variables: X variables\n",
    "- *response* variable: Y variable\n",
    "- ``X``: $n \\times p$ design matrix / features\n",
    "- ``Y``: $n$ label vector\n"
   ]
  },
  {
   "cell_type": "code",
   "execution_count": 8,
   "metadata": {},
   "outputs": [
    {
     "output_type": "stream",
     "name": "stdout",
     "text": "Requirement already satisfied: sklearn in c:\\anaconda2\\envs\\stat\\lib\\site-packages (0.0)\nCollecting statsmodels\n  Downloading statsmodels-0.11.1-cp37-none-win_amd64.whl (8.2 MB)\nRequirement already satisfied: scikit-learn in c:\\anaconda2\\envs\\stat\\lib\\site-packages (from sklearn) (0.22.2.post1)\nCollecting patsy>=0.5\n  Downloading patsy-0.5.1-py2.py3-none-any.whl (231 kB)\nRequirement already satisfied: scipy>=1.0 in c:\\anaconda2\\envs\\stat\\lib\\site-packages (from statsmodels) (1.4.1)\nRequirement already satisfied: numpy>=1.14 in c:\\anaconda2\\envs\\stat\\lib\\site-packages (from statsmodels) (1.18.1)\nRequirement already satisfied: pandas>=0.21 in c:\\anaconda2\\envs\\stat\\lib\\site-packages (from statsmodels) (1.0.3)\nRequirement already satisfied: joblib>=0.11 in c:\\anaconda2\\envs\\stat\\lib\\site-packages (from scikit-learn->sklearn) (0.14.1)\nRequirement already satisfied: six in c:\\users\\kourosh vali\\appdata\\roaming\\python\\python37\\site-packages (from patsy>=0.5->statsmodels) (1.14.0)\nRequirement already satisfied: python-dateutil>=2.6.1 in c:\\anaconda2\\envs\\stat\\lib\\site-packages (from pandas>=0.21->statsmodels) (2.8.1)\nRequirement already satisfied: pytz>=2017.2 in c:\\anaconda2\\envs\\stat\\lib\\site-packages (from pandas>=0.21->statsmodels) (2019.3)\nInstalling collected packages: patsy, statsmodels\nSuccessfully installed patsy-0.5.1 statsmodels-0.11.1\nCollecting package metadata (repodata.json): ...working... done\nSolving environment: ...working... done\n\n# All requested packages already installed.\n\n"
    }
   ],
   "source": [
    "!pip install sklearn statsmodels\n",
    "!conda install numpy scipy matplotlib seaborn pandas\n",
    ""
   ]
  },
  {
   "cell_type": "code",
   "execution_count": 9,
   "metadata": {
    "slideshow": {
     "slide_type": "slide"
    }
   },
   "outputs": [],
   "source": [
    "## I will be using Python 3, for install instructions see \n",
    "## http://anson.ucdavis.edu/~jsharpna/DSBook/unit1/intro.html#installation-and-workflow\n",
    "\n",
    "## The following packages are numpy (linear algebra), pandas (data munging), \n",
    "## sklearn (machine learning), matplotlib (graphics), statsmodels (statistical models)\n",
    "\n",
    "import numpy as np\n",
    "import pandas as pd\n",
    "import statsmodels.api as sm\n",
    "import matplotlib.pyplot as plt\n",
    "from sklearn.linear_model import LinearRegression"
   ]
  },
  {
   "cell_type": "code",
   "execution_count": 7,
   "metadata": {
    "slideshow": {
     "slide_type": "slide"
    }
   },
   "outputs": [
    {
     "output_type": "stream",
     "name": "stdout",
     "text": "-rw-r--r--  1 kourosh  staff  84199 Apr  6 14:29 ../../data/winequality-red.csv\n"
    }
   ],
   "source": [
    "## Lines that start with ! run a bash command\n",
    "\n",
    "!ls -l ../../data/winequality-red.csv"
   ]
  },
  {
   "cell_type": "code",
   "execution_count": 9,
   "metadata": {
    "slideshow": {
     "slide_type": "fragment"
    }
   },
   "outputs": [
    {
     "output_type": "stream",
     "name": "stdout",
     "text": "\"fixed acidity\";\"volatile acidity\";\"citric acid\";\"residual sugar\";\"chlorides\";\"free sulfur dioxide\";\"total sulfur dioxide\";\"density\";\"pH\";\"sulphates\";\"alcohol\";\"quality\"\n7.4;0.7;0;1.9;0.076;11;34;0.9978;3.51;0.56;9.4;5\n7.8;0.88;0;2.6;0.098;25;67;0.9968;3.2;0.68;9.8;5\n7.8;0.76;0.04;2.3;0.092;15;54;0.997;3.26;0.65;9.8;5\n11.2;0.28;0.56;1.9;0.075;17;60;0.998;3.16;0.58;9.8;6\n7.4;0.7;0;1.9;0.076;11;34;0.9978;3.51;0.56;9.4;5\n7.4;0.66;0;1.8;0.075;13;40;0.9978;3.51;0.56;9.4;5\n7.9;0.6;0.06;1.6;0.069;15;59;0.9964;3.3;0.46;9.4;5\n7.3;0.65;0;1.2;0.065;15;21;0.9946;3.39;0.47;10;7\n7.8;0.58;0.02;2;0.073;9;18;0.9968;3.36;0.57;9.5;7\n"
    }
   ],
   "source": [
    "!head ../../data/winequality-red.csv"
   ]
  },
  {
   "cell_type": "markdown",
   "metadata": {
    "slideshow": {
     "slide_type": "slide"
    }
   },
   "source": [
    "Wine dataset description\n",
    "- 84199 bytes (not large, feel free to load into memory)\n",
    "- header with quotations \" in the text\n",
    "- each line has floats without quotations\n",
    "- each datum separated by ;\n",
    "\n",
    "Some Python basics:\n",
    "- file input/output\n",
    "- [f(a) for a in L] list comprehensions\n",
    "- iterables, basic types, built-in functions"
   ]
  },
  {
   "cell_type": "code",
   "execution_count": 16,
   "metadata": {
    "slideshow": {
     "slide_type": "slide"
    }
   },
   "outputs": [],
   "source": [
    "datapath = \"../../data/\"\n",
    "#line.strip() removes the whitespaces\n",
    "# x.split(;) splits elements seperated by semicolon in x to a list \n",
    "with open(datapath + 'winequality-red.csv','r') as winefile:\n",
    "    header = winefile.readline()\n",
    "    wine_list = [line.strip().split(';') for line in winefile]"
   ]
  },
  {
   "cell_type": "code",
   "execution_count": 40,
   "metadata": {
    "slideshow": {
     "slide_type": "fragment"
    }
   },
   "outputs": [
    {
     "output_type": "stream",
     "name": "stdout",
     "text": "1599\n(1599, 12)\n"
    }
   ],
   "source": [
    "# convert list of list to array\n",
    "#list of list is iterateable\n",
    "wine_ar = np.array(wine_list,dtype=np.float64)\n",
    "print(wine_ar.shape)"
   ]
  },
  {
   "cell_type": "code",
   "execution_count": 41,
   "metadata": {
    "slideshow": {
     "slide_type": "fragment"
    }
   },
   "outputs": [
    {
     "output_type": "stream",
     "name": "stdout",
     "text": "['fixed acidity', 'volatile acidity', 'citric acid', 'residual sugar', 'chlorides', 'free sulfur dioxide', 'total sulfur dioxide', 'density', 'pH', 'sulphates', 'alcohol', 'quality']\n12\n"
    }
   ],
   "source": [
    "#processes the header\n",
    "names = [name.strip('\"') for name in header.strip().split(';')]\n",
    "print(names)\n",
    "print(len(names))"
   ]
  },
  {
   "cell_type": "code",
   "execution_count": 57,
   "metadata": {
    "slideshow": {
     "slide_type": "slide"
    }
   },
   "outputs": [
    {
     "output_type": "stream",
     "name": "stdout",
     "text": "length of y\n1599\nsize of X\n(1599, 11)\n"
    }
   ],
   "source": [
    "#Subselect the predictor X and response y\n",
    "y = wine_ar[:,-1]\n",
    "print(\"length of y\")\n",
    "print(len(y))\n",
    "X = wine_ar[:,:-1]\n",
    "print(\"size of X\")\n",
    "print(X.shape)\n",
    "n,p = X.shape"
   ]
  },
  {
   "cell_type": "code",
   "execution_count": 58,
   "metadata": {
    "slideshow": {
     "slide_type": "fragment"
    }
   },
   "outputs": [
    {
     "output_type": "execute_result",
     "data": {
      "text/plain": "((1599,), (1599, 11))"
     },
     "metadata": {},
     "execution_count": 58
    }
   ],
   "source": [
    "y.shape, X.shape #just checking"
   ]
  },
  {
   "cell_type": "code",
   "execution_count": 59,
   "metadata": {
    "slideshow": {
     "slide_type": "slide"
    }
   },
   "outputs": [
    {
     "output_type": "stream",
     "name": "stdout",
     "text": "(1599, 11)\nsize after adding intercept\n(1599, 12)\n"
    }
   ],
   "source": [
    "import statsmodels.api as sm\n",
    "\n",
    "# stasmodels api doesn't add intercept (b0) by itself, we need to add it manually (see below)\n",
    "print(X.shape)\n",
    "X = np.hstack((np.ones((n,1)),X)) #add intercept\n",
    "print(\"size after adding intercept\")\n",
    "print(X.shape)\n",
    "wine_ols = sm.OLS(y,X) #Initialize the OLS \n",
    "wine_res = wine_ols.fit() # fit the OLS model"
   ]
  },
  {
   "cell_type": "code",
   "execution_count": 60,
   "metadata": {
    "slideshow": {
     "slide_type": "slide"
    }
   },
   "outputs": [
    {
     "output_type": "execute_result",
     "data": {
      "text/plain": "<class 'statsmodels.iolib.summary.Summary'>\n\"\"\"\n                            OLS Regression Results                            \n==============================================================================\nDep. Variable:                      y   R-squared:                       0.361\nModel:                            OLS   Adj. R-squared:                  0.356\nMethod:                 Least Squares   F-statistic:                     81.35\nDate:                Sat, 11 Apr 2020   Prob (F-statistic):          1.79e-145\nTime:                        15:20:43   Log-Likelihood:                -1569.1\nNo. Observations:                1599   AIC:                             3162.\nDf Residuals:                    1587   BIC:                             3227.\nDf Model:                          11                                         \nCovariance Type:            nonrobust                                         \n==============================================================================\n                 coef    std err          t      P>|t|      [0.025      0.975]\n------------------------------------------------------------------------------\nconst         21.9652     21.195      1.036      0.300     -19.607      63.538\nx1             0.0250      0.026      0.963      0.336      -0.026       0.076\nx2            -1.0836      0.121     -8.948      0.000      -1.321      -0.846\nx3            -0.1826      0.147     -1.240      0.215      -0.471       0.106\nx4             0.0163      0.015      1.089      0.276      -0.013       0.046\nx5            -1.8742      0.419     -4.470      0.000      -2.697      -1.052\nx6             0.0044      0.002      2.009      0.045       0.000       0.009\nx7            -0.0033      0.001     -4.480      0.000      -0.005      -0.002\nx8           -17.8812     21.633     -0.827      0.409     -60.314      24.551\nx9            -0.4137      0.192     -2.159      0.031      -0.789      -0.038\nx10            0.9163      0.114      8.014      0.000       0.692       1.141\nx11            0.2762      0.026     10.429      0.000       0.224       0.328\n==============================================================================\nOmnibus:                       27.376   Durbin-Watson:                   1.757\nProb(Omnibus):                  0.000   Jarque-Bera (JB):               40.965\nSkew:                          -0.168   Prob(JB):                     1.27e-09\nKurtosis:                       3.708   Cond. No.                     1.13e+05\n==============================================================================\n\nWarnings:\n[1] Standard Errors assume that the covariance matrix of the errors is correctly specified.\n[2] The condition number is large, 1.13e+05. This might indicate that there are\nstrong multicollinearity or other numerical problems.\n\"\"\"",
      "text/html": "<table class=\"simpletable\">\n<caption>OLS Regression Results</caption>\n<tr>\n  <th>Dep. Variable:</th>            <td>y</td>        <th>  R-squared:         </th> <td>   0.361</td> \n</tr>\n<tr>\n  <th>Model:</th>                   <td>OLS</td>       <th>  Adj. R-squared:    </th> <td>   0.356</td> \n</tr>\n<tr>\n  <th>Method:</th>             <td>Least Squares</td>  <th>  F-statistic:       </th> <td>   81.35</td> \n</tr>\n<tr>\n  <th>Date:</th>             <td>Sat, 11 Apr 2020</td> <th>  Prob (F-statistic):</th> <td>1.79e-145</td>\n</tr>\n<tr>\n  <th>Time:</th>                 <td>15:20:43</td>     <th>  Log-Likelihood:    </th> <td> -1569.1</td> \n</tr>\n<tr>\n  <th>No. Observations:</th>      <td>  1599</td>      <th>  AIC:               </th> <td>   3162.</td> \n</tr>\n<tr>\n  <th>Df Residuals:</th>          <td>  1587</td>      <th>  BIC:               </th> <td>   3227.</td> \n</tr>\n<tr>\n  <th>Df Model:</th>              <td>    11</td>      <th>                     </th>     <td> </td>    \n</tr>\n<tr>\n  <th>Covariance Type:</th>      <td>nonrobust</td>    <th>                     </th>     <td> </td>    \n</tr>\n</table>\n<table class=\"simpletable\">\n<tr>\n    <td></td>       <th>coef</th>     <th>std err</th>      <th>t</th>      <th>P>|t|</th>  <th>[0.025</th>    <th>0.975]</th>  \n</tr>\n<tr>\n  <th>const</th> <td>   21.9652</td> <td>   21.195</td> <td>    1.036</td> <td> 0.300</td> <td>  -19.607</td> <td>   63.538</td>\n</tr>\n<tr>\n  <th>x1</th>    <td>    0.0250</td> <td>    0.026</td> <td>    0.963</td> <td> 0.336</td> <td>   -0.026</td> <td>    0.076</td>\n</tr>\n<tr>\n  <th>x2</th>    <td>   -1.0836</td> <td>    0.121</td> <td>   -8.948</td> <td> 0.000</td> <td>   -1.321</td> <td>   -0.846</td>\n</tr>\n<tr>\n  <th>x3</th>    <td>   -0.1826</td> <td>    0.147</td> <td>   -1.240</td> <td> 0.215</td> <td>   -0.471</td> <td>    0.106</td>\n</tr>\n<tr>\n  <th>x4</th>    <td>    0.0163</td> <td>    0.015</td> <td>    1.089</td> <td> 0.276</td> <td>   -0.013</td> <td>    0.046</td>\n</tr>\n<tr>\n  <th>x5</th>    <td>   -1.8742</td> <td>    0.419</td> <td>   -4.470</td> <td> 0.000</td> <td>   -2.697</td> <td>   -1.052</td>\n</tr>\n<tr>\n  <th>x6</th>    <td>    0.0044</td> <td>    0.002</td> <td>    2.009</td> <td> 0.045</td> <td>    0.000</td> <td>    0.009</td>\n</tr>\n<tr>\n  <th>x7</th>    <td>   -0.0033</td> <td>    0.001</td> <td>   -4.480</td> <td> 0.000</td> <td>   -0.005</td> <td>   -0.002</td>\n</tr>\n<tr>\n  <th>x8</th>    <td>  -17.8812</td> <td>   21.633</td> <td>   -0.827</td> <td> 0.409</td> <td>  -60.314</td> <td>   24.551</td>\n</tr>\n<tr>\n  <th>x9</th>    <td>   -0.4137</td> <td>    0.192</td> <td>   -2.159</td> <td> 0.031</td> <td>   -0.789</td> <td>   -0.038</td>\n</tr>\n<tr>\n  <th>x10</th>   <td>    0.9163</td> <td>    0.114</td> <td>    8.014</td> <td> 0.000</td> <td>    0.692</td> <td>    1.141</td>\n</tr>\n<tr>\n  <th>x11</th>   <td>    0.2762</td> <td>    0.026</td> <td>   10.429</td> <td> 0.000</td> <td>    0.224</td> <td>    0.328</td>\n</tr>\n</table>\n<table class=\"simpletable\">\n<tr>\n  <th>Omnibus:</th>       <td>27.376</td> <th>  Durbin-Watson:     </th> <td>   1.757</td>\n</tr>\n<tr>\n  <th>Prob(Omnibus):</th> <td> 0.000</td> <th>  Jarque-Bera (JB):  </th> <td>  40.965</td>\n</tr>\n<tr>\n  <th>Skew:</th>          <td>-0.168</td> <th>  Prob(JB):          </th> <td>1.27e-09</td>\n</tr>\n<tr>\n  <th>Kurtosis:</th>      <td> 3.708</td> <th>  Cond. No.          </th> <td>1.13e+05</td>\n</tr>\n</table><br/><br/>Warnings:<br/>[1] Standard Errors assume that the covariance matrix of the errors is correctly specified.<br/>[2] The condition number is large, 1.13e+05. This might indicate that there are<br/>strong multicollinearity or other numerical problems."
     },
     "metadata": {},
     "execution_count": 60
    }
   ],
   "source": [
    "wine_res.summary()"
   ]
  },
  {
   "cell_type": "markdown",
   "metadata": {
    "slideshow": {
     "slide_type": "slide"
    }
   },
   "source": [
    "### Linear model\n",
    "\n",
    "$$f_\\beta(x_i) = \\beta_0 + \\sum_{j=1}^p \\beta_j x_{i,j}$$\n",
    "\n",
    "### Inference in linear models\n",
    "\n",
    "- statistically test for significance of effects\n",
    "- requires normality assumptions, homoscedasticity, linear model is correct\n",
    "- hard to obtain significance for individual effect under colinearity\n",
    "\n",
    "### Prediction perspective\n",
    "\n",
    "- think of OLS as a black-box model for predicting $Y | X$\n",
    "- how do we evaluate performance of prediction?\n",
    "- how do we choose between multiple OLS models?"
   ]
  },
  {
   "cell_type": "markdown",
   "metadata": {
    "slideshow": {
     "slide_type": "slide"
    }
   },
   "source": [
    "### Supervised learning\n",
    "\n",
    "Learning machine that takes $p$-dimensional data $x_i = (x_{i,1}, \\ldots, x_{i,p})$ and predicts $y_i \\in \\mathcal Y$. \n",
    "\n",
    "- *Task:* **Predict** $y$ given $x$ as $f_\\beta(x)$\n",
    "- *Performance Metric:* **Loss** measured with some function $\\ell(\\beta; x,y)$\n",
    "- *Experience:* **Fit** the model with training data $\\{x_i,y_i\\}_{i=1}^{n}$"
   ]
  },
  {
   "cell_type": "markdown",
   "metadata": {
    "slideshow": {
     "slide_type": "slide"
    }
   },
   "source": [
    "### Linear Regression\n",
    "\n",
    "- **Fit**: Compute $\\hat \\beta$ from OLS with training data $\\{x_i,y_i\\}_{i=1}^{n}$\n",
    "- **Predict**: For a new predictor $x_{n+1}$ predict $$\\hat y = f_{\\hat \\beta}(x_{n+1}) = \\hat \\beta_0 + \\sum_{j=1}^p \\hat \\beta_j x_{n+1,j}$$\n",
    "- **Loss**: Observe new response $y_{n+1}$ and see loss $$\\ell(\\hat \\beta; x_{n+1},y_{n+1}) = (f_{\\hat \\beta}(x_{n+1}) - y_{n+1})^2$$"
   ]
  },
  {
   "cell_type": "markdown",
   "metadata": {
    "slideshow": {
     "slide_type": "slide"
    }
   },
   "source": [
    "### Exercise 1.1\n",
    "\n",
    "- Look at the [train_test_split documentation](https://scikit-learn.org/stable/modules/generated/sklearn.model_selection.train_test_split.html) and the [LinearRegression documentation](https://scikit-learn.org/stable/modules/generated/sklearn.linear_model.LinearRegression.html); look at the `fit` and `predict` methods for the linear regression\n",
    "- Split the wine data using the `train_test_split` with `test_size` at 50%.\n",
    "- Use the `LinearRegression` class to fit a linear regression on the training data\n",
    "- Predict the wine quality on the test data and compute the average square error loss"
   ]
  },
  {
   "cell_type": "code",
   "execution_count": 121,
   "metadata": {},
   "outputs": [],
   "source": [
    "# my answer to Exercise 1.1\n",
    "y = wine_ar[:,-1]\n",
    "X = wine_ar[:,:-1]\n",
    "n,p = X.shape\n",
    ""
   ]
  },
  {
   "cell_type": "code",
   "execution_count": 78,
   "metadata": {},
   "outputs": [
    {
     "output_type": "stream",
     "name": "stdout",
     "text": "size of X_train and y_train:\n(799, 11)\n(799,)\nsize of x_test and y_test:\n(800, 11)\n(800,)\n"
    }
   ],
   "source": [
    "#split X and y to two train and test sets with size of 50%\n",
    "from sklearn.model_selection import train_test_split\n",
    "\n",
    "X_train, X_test, y_train, y_test = train_test_split(X, y, test_size=0.5)\n",
    "\n",
    "print (\"size of X_train and y_train:\")\n",
    "print(X_train.shape)\n",
    "print(y_train.shape)\n",
    "\n",
    "print (\"size of x_test and y_test:\")\n",
    "print(X_test.shape)\n",
    "print(y_test.shape)\n",
    "\n",
    "testSize = len(y_test)"
   ]
  },
  {
   "cell_type": "code",
   "execution_count": 96,
   "metadata": {},
   "outputs": [
    {
     "output_type": "stream",
     "name": "stdout",
     "text": "size of ceffs =  11\nintercept = 14.489692019168118\n"
    }
   ],
   "source": [
    "# fir the Linear regression model\n",
    "from sklearn.linear_model import LinearRegression\n",
    "\n",
    "reg = LinearRegression().fit(X_train,y_train)\n",
    "coeffs = reg.coef_\n",
    "print (\"size of ceffs = \", len(coeffs))\n",
    "intercept = reg.intercept_\n",
    "print (\"intercept =\", intercept)\n",
    "\n",
    "y_train_pred = reg.predict(X_train)\n",
    "train_MSE = ((y_train - y_train_pred)**2).mean()"
   ]
  },
  {
   "cell_type": "code",
   "execution_count": 94,
   "metadata": {},
   "outputs": [
    {
     "output_type": "stream",
     "name": "stdout",
     "text": "size of predicted data =  800\nerror of prediction is =  0.42169871100122663\n"
    }
   ],
   "source": [
    "# predict on the test data and calculate the average square error\n",
    "y_pred = reg.predict(X_test)\n",
    "print (\"size of predicted data = \", len(pred))#sanity check\n",
    "MSE = ((y_test - y_pred)**2).mean()\n",
    "print (\"error of prediction is = \", MSE)\n"
   ]
  },
  {
   "cell_type": "code",
   "execution_count": 12,
   "metadata": {
    "slideshow": {
     "slide_type": "slide"
    }
   },
   "outputs": [],
   "source": [
    "## Answer to ex 1.1\n",
    "from sklearn.model_selection import train_test_split\n",
    "\n",
    "X_train, X_test, y_train, y_test = train_test_split(X,y,test_size = .5)\n",
    "lr = LinearRegression()  #linear regression object is initialized\n",
    "lr.fit(X_train,y_train)\n",
    "\n",
    "y_pred = lr.predict(X_test)\n",
    "MSE = ((y_pred - y_test)**2).mean()"
   ]
  },
  {
   "cell_type": "code",
   "execution_count": 101,
   "metadata": {
    "slideshow": {
     "slide_type": "fragment"
    }
   },
   "outputs": [
    {
     "output_type": "stream",
     "name": "stdout",
     "text": "0.42169871100122663\n0.65999375\n0.4152909922997398\n0.3542865724883676\n"
    }
   ],
   "source": [
    "## It is reasonable to compare the MSE to the variance...\n",
    "# as if we wanted to predict y with just using a single variable instead of using the Xs at all \n",
    "print(MSE)\n",
    "print(y_test.var())\n",
    "print(train_MSE)\n",
    "\n",
    "# R^2 is the ratio of MSE of test test / MSE of training set\n"
   ]
  },
  {
   "cell_type": "code",
   "execution_count": 127,
   "metadata": {
    "slideshow": {
     "slide_type": "slide"
    }
   },
   "outputs": [],
   "source": [
    "## The following uses pandas!\n",
    "\n",
    "# Load and prepare country quality of life data\n",
    "\n",
    "datapath = \"../../data/\"\n",
    "oecd_bli = pd.read_csv(datapath + \"oecd_bli_2015.csv\", thousands=',')\n",
    "oecd_bli = oecd_bli[oecd_bli[\"INEQUALITY\"]==\"TOT\"]\n",
    "oecd_bli = oecd_bli.pivot(index=\"Country\", columns=\"Indicator\", values=\"Value\")\n",
    "\n",
    "\n",
    "# Load and prepare GDP per capita data\n",
    "\n",
    "# Download data from http://goo.gl/j1MSKe (=> imf.org)\n",
    "gdp_per_capita = pd.read_csv(datapath+\"gdp_per_capita.csv\", thousands=',', delimiter='\\t',\n",
    "                             encoding='latin1', na_values=\"n/a\")\n",
    "gdp_per_capita = gdp_per_capita.rename(columns={\"2015\": \"GDP per capita\"})\n",
    "gdp_per_capita = gdp_per_capita.set_index(\"Country\")\n",
    "\n",
    "full_country_stats = pd.merge(left=oecd_bli, right=gdp_per_capita, left_index=True, right_index=True)\n",
    "full_country_stats = full_country_stats.sort_values(by=\"GDP per capita\")"
   ]
  },
  {
   "cell_type": "code",
   "execution_count": 128,
   "metadata": {},
   "outputs": [
    {
     "output_type": "execute_result",
     "data": {
      "text/plain": "Indicator  Air pollution  Assault rate  Consultation on rule-making  \\\nCountry                                                               \nAustralia           13.0           2.1                         10.5   \nAustria             27.0           3.4                          7.1   \nBelgium             21.0           6.6                          4.5   \nBrazil              18.0           7.9                          4.0   \nCanada              15.0           1.3                         10.5   \n\nIndicator  Dwellings without basic facilities  Educational attainment  \\\nCountry                                                                 \nAustralia                                 1.1                    76.0   \nAustria                                   1.0                    83.0   \nBelgium                                   2.0                    72.0   \nBrazil                                    6.7                    45.0   \nCanada                                    0.2                    89.0   \n\nIndicator  Employees working very long hours  Employment rate  Homicide rate  \\\nCountry                                                                        \nAustralia                              14.02             72.0            0.8   \nAustria                                 7.61             72.0            0.4   \nBelgium                                 4.57             62.0            1.1   \nBrazil                                 10.41             67.0           25.5   \nCanada                                  3.94             72.0            1.5   \n\nIndicator  Household net adjusted disposable income  \\\nCountry                                               \nAustralia                                   31588.0   \nAustria                                     31173.0   \nBelgium                                     28307.0   \nBrazil                                      11664.0   \nCanada                                      29365.0   \n\nIndicator  Household net financial wealth  ...  Long-term unemployment rate  \\\nCountry                                    ...                                \nAustralia                         47657.0  ...                         1.08   \nAustria                           49887.0  ...                         1.19   \nBelgium                           83876.0  ...                         3.88   \nBrazil                             6844.0  ...                         1.97   \nCanada                            67913.0  ...                         0.90   \n\nIndicator  Personal earnings  Quality of support network  Rooms per person  \\\nCountry                                                                      \nAustralia            50449.0                        92.0               2.3   \nAustria              45199.0                        89.0               1.6   \nBelgium              48082.0                        94.0               2.2   \nBrazil               17177.0                        90.0               1.6   \nCanada               46911.0                        92.0               2.5   \n\nIndicator  Self-reported health  Student skills  \\\nCountry                                           \nAustralia                  85.0           512.0   \nAustria                    69.0           500.0   \nBelgium                    74.0           509.0   \nBrazil                     69.0           402.0   \nCanada                     89.0           522.0   \n\nIndicator  Time devoted to leisure and personal care  Voter turnout  \\\nCountry                                                               \nAustralia                                      14.41           93.0   \nAustria                                        14.46           75.0   \nBelgium                                        15.71           89.0   \nBrazil                                         14.97           79.0   \nCanada                                         14.25           61.0   \n\nIndicator  Water quality  Years in education  \nCountry                                       \nAustralia           91.0                19.4  \nAustria             94.0                17.0  \nBelgium             87.0                18.9  \nBrazil              72.0                16.3  \nCanada              91.0                17.2  \n\n[5 rows x 24 columns]",
      "text/html": "<div>\n<style scoped>\n    .dataframe tbody tr th:only-of-type {\n        vertical-align: middle;\n    }\n\n    .dataframe tbody tr th {\n        vertical-align: top;\n    }\n\n    .dataframe thead th {\n        text-align: right;\n    }\n</style>\n<table border=\"1\" class=\"dataframe\">\n  <thead>\n    <tr style=\"text-align: right;\">\n      <th>Indicator</th>\n      <th>Air pollution</th>\n      <th>Assault rate</th>\n      <th>Consultation on rule-making</th>\n      <th>Dwellings without basic facilities</th>\n      <th>Educational attainment</th>\n      <th>Employees working very long hours</th>\n      <th>Employment rate</th>\n      <th>Homicide rate</th>\n      <th>Household net adjusted disposable income</th>\n      <th>Household net financial wealth</th>\n      <th>...</th>\n      <th>Long-term unemployment rate</th>\n      <th>Personal earnings</th>\n      <th>Quality of support network</th>\n      <th>Rooms per person</th>\n      <th>Self-reported health</th>\n      <th>Student skills</th>\n      <th>Time devoted to leisure and personal care</th>\n      <th>Voter turnout</th>\n      <th>Water quality</th>\n      <th>Years in education</th>\n    </tr>\n    <tr>\n      <th>Country</th>\n      <th></th>\n      <th></th>\n      <th></th>\n      <th></th>\n      <th></th>\n      <th></th>\n      <th></th>\n      <th></th>\n      <th></th>\n      <th></th>\n      <th></th>\n      <th></th>\n      <th></th>\n      <th></th>\n      <th></th>\n      <th></th>\n      <th></th>\n      <th></th>\n      <th></th>\n      <th></th>\n      <th></th>\n    </tr>\n  </thead>\n  <tbody>\n    <tr>\n      <td>Australia</td>\n      <td>13.0</td>\n      <td>2.1</td>\n      <td>10.5</td>\n      <td>1.1</td>\n      <td>76.0</td>\n      <td>14.02</td>\n      <td>72.0</td>\n      <td>0.8</td>\n      <td>31588.0</td>\n      <td>47657.0</td>\n      <td>...</td>\n      <td>1.08</td>\n      <td>50449.0</td>\n      <td>92.0</td>\n      <td>2.3</td>\n      <td>85.0</td>\n      <td>512.0</td>\n      <td>14.41</td>\n      <td>93.0</td>\n      <td>91.0</td>\n      <td>19.4</td>\n    </tr>\n    <tr>\n      <td>Austria</td>\n      <td>27.0</td>\n      <td>3.4</td>\n      <td>7.1</td>\n      <td>1.0</td>\n      <td>83.0</td>\n      <td>7.61</td>\n      <td>72.0</td>\n      <td>0.4</td>\n      <td>31173.0</td>\n      <td>49887.0</td>\n      <td>...</td>\n      <td>1.19</td>\n      <td>45199.0</td>\n      <td>89.0</td>\n      <td>1.6</td>\n      <td>69.0</td>\n      <td>500.0</td>\n      <td>14.46</td>\n      <td>75.0</td>\n      <td>94.0</td>\n      <td>17.0</td>\n    </tr>\n    <tr>\n      <td>Belgium</td>\n      <td>21.0</td>\n      <td>6.6</td>\n      <td>4.5</td>\n      <td>2.0</td>\n      <td>72.0</td>\n      <td>4.57</td>\n      <td>62.0</td>\n      <td>1.1</td>\n      <td>28307.0</td>\n      <td>83876.0</td>\n      <td>...</td>\n      <td>3.88</td>\n      <td>48082.0</td>\n      <td>94.0</td>\n      <td>2.2</td>\n      <td>74.0</td>\n      <td>509.0</td>\n      <td>15.71</td>\n      <td>89.0</td>\n      <td>87.0</td>\n      <td>18.9</td>\n    </tr>\n    <tr>\n      <td>Brazil</td>\n      <td>18.0</td>\n      <td>7.9</td>\n      <td>4.0</td>\n      <td>6.7</td>\n      <td>45.0</td>\n      <td>10.41</td>\n      <td>67.0</td>\n      <td>25.5</td>\n      <td>11664.0</td>\n      <td>6844.0</td>\n      <td>...</td>\n      <td>1.97</td>\n      <td>17177.0</td>\n      <td>90.0</td>\n      <td>1.6</td>\n      <td>69.0</td>\n      <td>402.0</td>\n      <td>14.97</td>\n      <td>79.0</td>\n      <td>72.0</td>\n      <td>16.3</td>\n    </tr>\n    <tr>\n      <td>Canada</td>\n      <td>15.0</td>\n      <td>1.3</td>\n      <td>10.5</td>\n      <td>0.2</td>\n      <td>89.0</td>\n      <td>3.94</td>\n      <td>72.0</td>\n      <td>1.5</td>\n      <td>29365.0</td>\n      <td>67913.0</td>\n      <td>...</td>\n      <td>0.90</td>\n      <td>46911.0</td>\n      <td>92.0</td>\n      <td>2.5</td>\n      <td>89.0</td>\n      <td>522.0</td>\n      <td>14.25</td>\n      <td>61.0</td>\n      <td>91.0</td>\n      <td>17.2</td>\n    </tr>\n  </tbody>\n</table>\n<p>5 rows × 24 columns</p>\n</div>"
     },
     "metadata": {},
     "execution_count": 128
    }
   ],
   "source": [
    "oecd_bli.head()\n",
    ""
   ]
  },
  {
   "cell_type": "code",
   "execution_count": 129,
   "metadata": {},
   "outputs": [
    {
     "output_type": "execute_result",
     "data": {
      "text/plain": "                                                    Subject Descriptor  \\\nCountry                                                                  \nAfghanistan          Gross domestic product per capita, current prices   \nAlbania              Gross domestic product per capita, current prices   \nAlgeria              Gross domestic product per capita, current prices   \nAngola               Gross domestic product per capita, current prices   \nAntigua and Barbuda  Gross domestic product per capita, current prices   \n\n                            Units  Scale  \\\nCountry                                    \nAfghanistan          U.S. dollars  Units   \nAlbania              U.S. dollars  Units   \nAlgeria              U.S. dollars  Units   \nAngola               U.S. dollars  Units   \nAntigua and Barbuda  U.S. dollars  Units   \n\n                                         Country/Series-specific Notes  \\\nCountry                                                                  \nAfghanistan          See notes for:  Gross domestic product, curren...   \nAlbania              See notes for:  Gross domestic product, curren...   \nAlgeria              See notes for:  Gross domestic product, curren...   \nAngola               See notes for:  Gross domestic product, curren...   \nAntigua and Barbuda  See notes for:  Gross domestic product, curren...   \n\n                     GDP per capita  Estimates Start After  \nCountry                                                     \nAfghanistan                 599.994                 2013.0  \nAlbania                    3995.383                 2010.0  \nAlgeria                    4318.135                 2014.0  \nAngola                     4100.315                 2014.0  \nAntigua and Barbuda       14414.302                 2011.0  ",
      "text/html": "<div>\n<style scoped>\n    .dataframe tbody tr th:only-of-type {\n        vertical-align: middle;\n    }\n\n    .dataframe tbody tr th {\n        vertical-align: top;\n    }\n\n    .dataframe thead th {\n        text-align: right;\n    }\n</style>\n<table border=\"1\" class=\"dataframe\">\n  <thead>\n    <tr style=\"text-align: right;\">\n      <th></th>\n      <th>Subject Descriptor</th>\n      <th>Units</th>\n      <th>Scale</th>\n      <th>Country/Series-specific Notes</th>\n      <th>GDP per capita</th>\n      <th>Estimates Start After</th>\n    </tr>\n    <tr>\n      <th>Country</th>\n      <th></th>\n      <th></th>\n      <th></th>\n      <th></th>\n      <th></th>\n      <th></th>\n    </tr>\n  </thead>\n  <tbody>\n    <tr>\n      <td>Afghanistan</td>\n      <td>Gross domestic product per capita, current prices</td>\n      <td>U.S. dollars</td>\n      <td>Units</td>\n      <td>See notes for:  Gross domestic product, curren...</td>\n      <td>599.994</td>\n      <td>2013.0</td>\n    </tr>\n    <tr>\n      <td>Albania</td>\n      <td>Gross domestic product per capita, current prices</td>\n      <td>U.S. dollars</td>\n      <td>Units</td>\n      <td>See notes for:  Gross domestic product, curren...</td>\n      <td>3995.383</td>\n      <td>2010.0</td>\n    </tr>\n    <tr>\n      <td>Algeria</td>\n      <td>Gross domestic product per capita, current prices</td>\n      <td>U.S. dollars</td>\n      <td>Units</td>\n      <td>See notes for:  Gross domestic product, curren...</td>\n      <td>4318.135</td>\n      <td>2014.0</td>\n    </tr>\n    <tr>\n      <td>Angola</td>\n      <td>Gross domestic product per capita, current prices</td>\n      <td>U.S. dollars</td>\n      <td>Units</td>\n      <td>See notes for:  Gross domestic product, curren...</td>\n      <td>4100.315</td>\n      <td>2014.0</td>\n    </tr>\n    <tr>\n      <td>Antigua and Barbuda</td>\n      <td>Gross domestic product per capita, current prices</td>\n      <td>U.S. dollars</td>\n      <td>Units</td>\n      <td>See notes for:  Gross domestic product, curren...</td>\n      <td>14414.302</td>\n      <td>2011.0</td>\n    </tr>\n  </tbody>\n</table>\n</div>"
     },
     "metadata": {},
     "execution_count": 129
    }
   ],
   "source": [
    "gdp_per_capita.head()\n",
    ""
   ]
  },
  {
   "cell_type": "code",
   "execution_count": 131,
   "metadata": {
    "slideshow": {
     "slide_type": "slide"
    }
   },
   "outputs": [
    {
     "output_type": "execute_result",
     "data": {
      "text/plain": "         Air pollution  Assault rate  Consultation on rule-making  \\\nCountry                                                             \nBrazil            18.0           7.9                          4.0   \nMexico            30.0          12.8                          9.0   \nRussia            15.0           3.8                          2.5   \nTurkey            35.0           5.0                          5.5   \nHungary           15.0           3.6                          7.9   \n\n         Dwellings without basic facilities  Educational attainment  \\\nCountry                                                               \nBrazil                                  6.7                    45.0   \nMexico                                  4.2                    37.0   \nRussia                                 15.1                    94.0   \nTurkey                                 12.7                    34.0   \nHungary                                 4.8                    82.0   \n\n         Employees working very long hours  Employment rate  Homicide rate  \\\nCountry                                                                      \nBrazil                               10.41             67.0           25.5   \nMexico                               28.83             61.0           23.4   \nRussia                                0.16             69.0           12.8   \nTurkey                               40.86             50.0            1.2   \nHungary                               3.19             58.0            1.3   \n\n         Household net adjusted disposable income  \\\nCountry                                             \nBrazil                                    11664.0   \nMexico                                    13085.0   \nRussia                                    19292.0   \nTurkey                                    14095.0   \nHungary                                   15442.0   \n\n         Household net financial wealth  ...  \\\nCountry                                  ...   \nBrazil                           6844.0  ...   \nMexico                           9056.0  ...   \nRussia                           3412.0  ...   \nTurkey                           3251.0  ...   \nHungary                         13277.0  ...   \n\n         Time devoted to leisure and personal care  Voter turnout  \\\nCountry                                                             \nBrazil                                       14.97           79.0   \nMexico                                       13.89           63.0   \nRussia                                       14.97           65.0   \nTurkey                                       13.42           88.0   \nHungary                                      15.04           62.0   \n\n         Water quality  Years in education  \\\nCountry                                      \nBrazil            72.0                16.3   \nMexico            67.0                14.4   \nRussia            56.0                16.0   \nTurkey            62.0                16.4   \nHungary           77.0                17.6   \n\n                                        Subject Descriptor         Units  \\\nCountry                                                                    \nBrazil   Gross domestic product per capita, current prices  U.S. dollars   \nMexico   Gross domestic product per capita, current prices  U.S. dollars   \nRussia   Gross domestic product per capita, current prices  U.S. dollars   \nTurkey   Gross domestic product per capita, current prices  U.S. dollars   \nHungary  Gross domestic product per capita, current prices  U.S. dollars   \n\n         Scale                      Country/Series-specific Notes  \\\nCountry                                                             \nBrazil   Units  See notes for:  Gross domestic product, curren...   \nMexico   Units  See notes for:  Gross domestic product, curren...   \nRussia   Units  See notes for:  Gross domestic product, curren...   \nTurkey   Units  See notes for:  Gross domestic product, curren...   \nHungary  Units  See notes for:  Gross domestic product, curren...   \n\n         GDP per capita  Estimates Start After  \nCountry                                         \nBrazil         8669.998                 2014.0  \nMexico         9009.280                 2015.0  \nRussia         9054.914                 2015.0  \nTurkey         9437.372                 2013.0  \nHungary       12239.894                 2015.0  \n\n[5 rows x 30 columns]",
      "text/html": "<div>\n<style scoped>\n    .dataframe tbody tr th:only-of-type {\n        vertical-align: middle;\n    }\n\n    .dataframe tbody tr th {\n        vertical-align: top;\n    }\n\n    .dataframe thead th {\n        text-align: right;\n    }\n</style>\n<table border=\"1\" class=\"dataframe\">\n  <thead>\n    <tr style=\"text-align: right;\">\n      <th></th>\n      <th>Air pollution</th>\n      <th>Assault rate</th>\n      <th>Consultation on rule-making</th>\n      <th>Dwellings without basic facilities</th>\n      <th>Educational attainment</th>\n      <th>Employees working very long hours</th>\n      <th>Employment rate</th>\n      <th>Homicide rate</th>\n      <th>Household net adjusted disposable income</th>\n      <th>Household net financial wealth</th>\n      <th>...</th>\n      <th>Time devoted to leisure and personal care</th>\n      <th>Voter turnout</th>\n      <th>Water quality</th>\n      <th>Years in education</th>\n      <th>Subject Descriptor</th>\n      <th>Units</th>\n      <th>Scale</th>\n      <th>Country/Series-specific Notes</th>\n      <th>GDP per capita</th>\n      <th>Estimates Start After</th>\n    </tr>\n    <tr>\n      <th>Country</th>\n      <th></th>\n      <th></th>\n      <th></th>\n      <th></th>\n      <th></th>\n      <th></th>\n      <th></th>\n      <th></th>\n      <th></th>\n      <th></th>\n      <th></th>\n      <th></th>\n      <th></th>\n      <th></th>\n      <th></th>\n      <th></th>\n      <th></th>\n      <th></th>\n      <th></th>\n      <th></th>\n      <th></th>\n    </tr>\n  </thead>\n  <tbody>\n    <tr>\n      <td>Brazil</td>\n      <td>18.0</td>\n      <td>7.9</td>\n      <td>4.0</td>\n      <td>6.7</td>\n      <td>45.0</td>\n      <td>10.41</td>\n      <td>67.0</td>\n      <td>25.5</td>\n      <td>11664.0</td>\n      <td>6844.0</td>\n      <td>...</td>\n      <td>14.97</td>\n      <td>79.0</td>\n      <td>72.0</td>\n      <td>16.3</td>\n      <td>Gross domestic product per capita, current prices</td>\n      <td>U.S. dollars</td>\n      <td>Units</td>\n      <td>See notes for:  Gross domestic product, curren...</td>\n      <td>8669.998</td>\n      <td>2014.0</td>\n    </tr>\n    <tr>\n      <td>Mexico</td>\n      <td>30.0</td>\n      <td>12.8</td>\n      <td>9.0</td>\n      <td>4.2</td>\n      <td>37.0</td>\n      <td>28.83</td>\n      <td>61.0</td>\n      <td>23.4</td>\n      <td>13085.0</td>\n      <td>9056.0</td>\n      <td>...</td>\n      <td>13.89</td>\n      <td>63.0</td>\n      <td>67.0</td>\n      <td>14.4</td>\n      <td>Gross domestic product per capita, current prices</td>\n      <td>U.S. dollars</td>\n      <td>Units</td>\n      <td>See notes for:  Gross domestic product, curren...</td>\n      <td>9009.280</td>\n      <td>2015.0</td>\n    </tr>\n    <tr>\n      <td>Russia</td>\n      <td>15.0</td>\n      <td>3.8</td>\n      <td>2.5</td>\n      <td>15.1</td>\n      <td>94.0</td>\n      <td>0.16</td>\n      <td>69.0</td>\n      <td>12.8</td>\n      <td>19292.0</td>\n      <td>3412.0</td>\n      <td>...</td>\n      <td>14.97</td>\n      <td>65.0</td>\n      <td>56.0</td>\n      <td>16.0</td>\n      <td>Gross domestic product per capita, current prices</td>\n      <td>U.S. dollars</td>\n      <td>Units</td>\n      <td>See notes for:  Gross domestic product, curren...</td>\n      <td>9054.914</td>\n      <td>2015.0</td>\n    </tr>\n    <tr>\n      <td>Turkey</td>\n      <td>35.0</td>\n      <td>5.0</td>\n      <td>5.5</td>\n      <td>12.7</td>\n      <td>34.0</td>\n      <td>40.86</td>\n      <td>50.0</td>\n      <td>1.2</td>\n      <td>14095.0</td>\n      <td>3251.0</td>\n      <td>...</td>\n      <td>13.42</td>\n      <td>88.0</td>\n      <td>62.0</td>\n      <td>16.4</td>\n      <td>Gross domestic product per capita, current prices</td>\n      <td>U.S. dollars</td>\n      <td>Units</td>\n      <td>See notes for:  Gross domestic product, curren...</td>\n      <td>9437.372</td>\n      <td>2013.0</td>\n    </tr>\n    <tr>\n      <td>Hungary</td>\n      <td>15.0</td>\n      <td>3.6</td>\n      <td>7.9</td>\n      <td>4.8</td>\n      <td>82.0</td>\n      <td>3.19</td>\n      <td>58.0</td>\n      <td>1.3</td>\n      <td>15442.0</td>\n      <td>13277.0</td>\n      <td>...</td>\n      <td>15.04</td>\n      <td>62.0</td>\n      <td>77.0</td>\n      <td>17.6</td>\n      <td>Gross domestic product per capita, current prices</td>\n      <td>U.S. dollars</td>\n      <td>Units</td>\n      <td>See notes for:  Gross domestic product, curren...</td>\n      <td>12239.894</td>\n      <td>2015.0</td>\n    </tr>\n  </tbody>\n</table>\n<p>5 rows × 30 columns</p>\n</div>"
     },
     "metadata": {},
     "execution_count": 131
    }
   ],
   "source": [
    "full_country_stats.head()"
   ]
  },
  {
   "cell_type": "code",
   "execution_count": 132,
   "metadata": {
    "slideshow": {
     "slide_type": "slide"
    }
   },
   "outputs": [
    {
     "output_type": "execute_result",
     "data": {
      "text/plain": "Text(0.5, 1.0, 'Life Satisfaction Index')"
     },
     "metadata": {},
     "execution_count": 132
    },
    {
     "output_type": "display_data",
     "data": {
      "text/plain": "<Figure size 432x288 with 1 Axes>",
      "image/svg+xml": "<?xml version=\"1.0\" encoding=\"utf-8\" standalone=\"no\"?>\n<!DOCTYPE svg PUBLIC \"-//W3C//DTD SVG 1.1//EN\"\n  \"http://www.w3.org/Graphics/SVG/1.1/DTD/svg11.dtd\">\n<!-- Created with matplotlib (https://matplotlib.org/) -->\n<svg height=\"277.314375pt\" version=\"1.1\" viewBox=\"0 0 385.78125 277.314375\" width=\"385.78125pt\" xmlns=\"http://www.w3.org/2000/svg\" xmlns:xlink=\"http://www.w3.org/1999/xlink\">\n <defs>\n  <style type=\"text/css\">\n*{stroke-linecap:butt;stroke-linejoin:round;}\n  </style>\n </defs>\n <g id=\"figure_1\">\n  <g id=\"patch_1\">\n   <path d=\"M 0 277.314375 \nL 385.78125 277.314375 \nL 385.78125 0 \nL 0 0 \nz\n\" style=\"fill:none;\"/>\n  </g>\n  <g id=\"axes_1\">\n   <g id=\"patch_2\">\n    <path d=\"M 43.78125 239.758125 \nL 378.58125 239.758125 \nL 378.58125 22.318125 \nL 43.78125 22.318125 \nz\n\" style=\"fill:#ffffff;\"/>\n   </g>\n   <g id=\"PathCollection_1\">\n    <defs>\n     <path d=\"M 0 2.236068 \nC 0.593012 2.236068 1.161816 2.000462 1.581139 1.581139 \nC 2.000462 1.161816 2.236068 0.593012 2.236068 0 \nC 2.236068 -0.593012 2.000462 -1.161816 1.581139 -1.581139 \nC 1.161816 -2.000462 0.593012 -2.236068 0 -2.236068 \nC -0.593012 -2.236068 -1.161816 -2.000462 -1.581139 -1.581139 \nC -2.000462 -1.161816 -2.236068 -0.593012 -2.236068 0 \nC -2.236068 0.593012 -2.000462 1.161816 -1.581139 1.581139 \nC -1.161816 2.000462 -0.593012 2.236068 0 2.236068 \nz\n\" id=\"m97ae2574d5\" style=\"stroke:#1f77b4;\"/>\n    </defs>\n    <g clip-path=\"url(#p4f580ad74e)\">\n     <use style=\"fill:#1f77b4;stroke:#1f77b4;\" x=\"58.999454\" xlink:href=\"#m97ae2574d5\" y=\"69.278277\"/>\n     <use style=\"fill:#1f77b4;stroke:#1f77b4;\" x=\"60.105975\" xlink:href=\"#m97ae2574d5\" y=\"91.07587\"/>\n     <use style=\"fill:#1f77b4;stroke:#1f77b4;\" x=\"60.254804\" xlink:href=\"#m97ae2574d5\" y=\"141.936922\"/>\n     <use style=\"fill:#1f77b4;stroke:#1f77b4;\" x=\"61.502137\" xlink:href=\"#m97ae2574d5\" y=\"171.00038\"/>\n     <use style=\"fill:#1f77b4;stroke:#1f77b4;\" x=\"70.642174\" xlink:href=\"#m97ae2574d5\" y=\"221.861431\"/>\n     <use style=\"fill:#1f77b4;stroke:#1f77b4;\" x=\"71.475256\" xlink:href=\"#m97ae2574d5\" y=\"156.468651\"/>\n     <use style=\"fill:#1f77b4;stroke:#1f77b4;\" x=\"74.232969\" xlink:href=\"#m97ae2574d5\" y=\"91.07587\"/>\n     <use style=\"fill:#1f77b4;stroke:#1f77b4;\" x=\"82.878287\" xlink:href=\"#m97ae2574d5\" y=\"134.671057\"/>\n     <use style=\"fill:#1f77b4;stroke:#1f77b4;\" x=\"87.004502\" xlink:href=\"#m97ae2574d5\" y=\"105.607599\"/>\n     <use style=\"fill:#1f77b4;stroke:#1f77b4;\" x=\"87.106143\" xlink:href=\"#m97ae2574d5\" y=\"171.00038\"/>\n     <use style=\"fill:#1f77b4;stroke:#1f77b4;\" x=\"89.637628\" xlink:href=\"#m97ae2574d5\" y=\"229.127296\"/>\n     <use style=\"fill:#1f77b4;stroke:#1f77b4;\" x=\"93.085878\" xlink:href=\"#m97ae2574d5\" y=\"207.329702\"/>\n     <use style=\"fill:#1f77b4;stroke:#1f77b4;\" x=\"98.339572\" xlink:href=\"#m97ae2574d5\" y=\"163.734515\"/>\n     <use style=\"fill:#1f77b4;stroke:#1f77b4;\" x=\"115.077658\" xlink:href=\"#m97ae2574d5\" y=\"105.607599\"/>\n     <use style=\"fill:#1f77b4;stroke:#1f77b4;\" x=\"119.416821\" xlink:href=\"#m97ae2574d5\" y=\"156.468651\"/>\n     <use style=\"fill:#1f77b4;stroke:#1f77b4;\" x=\"128.129169\" xlink:href=\"#m97ae2574d5\" y=\"141.936922\"/>\n     <use style=\"fill:#1f77b4;stroke:#1f77b4;\" x=\"136.670557\" xlink:href=\"#m97ae2574d5\" y=\"149.202786\"/>\n     <use style=\"fill:#1f77b4;stroke:#1f77b4;\" x=\"145.990846\" xlink:href=\"#m97ae2574d5\" y=\"40.214819\"/>\n     <use style=\"fill:#1f77b4;stroke:#1f77b4;\" x=\"151.540232\" xlink:href=\"#m97ae2574d5\" y=\"47.480683\"/>\n     <use style=\"fill:#1f77b4;stroke:#1f77b4;\" x=\"153.595265\" xlink:href=\"#m97ae2574d5\" y=\"105.607599\"/>\n     <use style=\"fill:#1f77b4;stroke:#1f77b4;\" x=\"161.525675\" xlink:href=\"#m97ae2574d5\" y=\"76.544141\"/>\n     <use style=\"fill:#1f77b4;stroke:#1f77b4;\" x=\"164.427892\" xlink:href=\"#m97ae2574d5\" y=\"69.278277\"/>\n     <use style=\"fill:#1f77b4;stroke:#1f77b4;\" x=\"167.615798\" xlink:href=\"#m97ae2574d5\" y=\"40.214819\"/>\n     <use style=\"fill:#1f77b4;stroke:#1f77b4;\" x=\"172.044639\" xlink:href=\"#m97ae2574d5\" y=\"47.480683\"/>\n     <use style=\"fill:#1f77b4;stroke:#1f77b4;\" x=\"172.92897\" xlink:href=\"#m97ae2574d5\" y=\"47.480683\"/>\n     <use style=\"fill:#1f77b4;stroke:#1f77b4;\" x=\"173.323321\" xlink:href=\"#m97ae2574d5\" y=\"76.544141\"/>\n     <use style=\"fill:#1f77b4;stroke:#1f77b4;\" x=\"173.475486\" xlink:href=\"#m97ae2574d5\" y=\"83.810006\"/>\n     <use style=\"fill:#1f77b4;stroke:#1f77b4;\" x=\"193.355368\" xlink:href=\"#m97ae2574d5\" y=\"54.746548\"/>\n     <use style=\"fill:#1f77b4;stroke:#1f77b4;\" x=\"196.578627\" xlink:href=\"#m97ae2574d5\" y=\"32.948954\"/>\n     <use style=\"fill:#1f77b4;stroke:#1f77b4;\" x=\"196.928512\" xlink:href=\"#m97ae2574d5\" y=\"47.480683\"/>\n     <use style=\"fill:#1f77b4;stroke:#1f77b4;\" x=\"198.196787\" xlink:href=\"#m97ae2574d5\" y=\"69.278277\"/>\n     <use style=\"fill:#1f77b4;stroke:#1f77b4;\" x=\"200.686579\" xlink:href=\"#m97ae2574d5\" y=\"32.948954\"/>\n     <use style=\"fill:#1f77b4;stroke:#1f77b4;\" x=\"212.724391\" xlink:href=\"#m97ae2574d5\" y=\"54.746548\"/>\n     <use style=\"fill:#1f77b4;stroke:#1f77b4;\" x=\"274.745379\" xlink:href=\"#m97ae2574d5\" y=\"40.214819\"/>\n     <use style=\"fill:#1f77b4;stroke:#1f77b4;\" x=\"293.834786\" xlink:href=\"#m97ae2574d5\" y=\"32.948954\"/>\n     <use style=\"fill:#1f77b4;stroke:#1f77b4;\" x=\"363.363046\" xlink:href=\"#m97ae2574d5\" y=\"76.544141\"/>\n    </g>\n   </g>\n   <g id=\"matplotlib.axis_1\">\n    <g id=\"xtick_1\">\n     <g id=\"line2d_1\">\n      <defs>\n       <path d=\"M 0 0 \nL 0 3.5 \n\" id=\"m9bb6dd6257\" style=\"stroke:#000000;stroke-width:0.8;\"/>\n      </defs>\n      <g>\n       <use style=\"stroke:#000000;stroke-width:0.8;\" x=\"95.950684\" xlink:href=\"#m9bb6dd6257\" y=\"239.758125\"/>\n      </g>\n     </g>\n     <g id=\"text_1\">\n      <!-- 20000 -->\n      <defs>\n       <path d=\"M 19.1875 8.296875 \nL 53.609375 8.296875 \nL 53.609375 0 \nL 7.328125 0 \nL 7.328125 8.296875 \nQ 12.9375 14.109375 22.625 23.890625 \nQ 32.328125 33.6875 34.8125 36.53125 \nQ 39.546875 41.84375 41.421875 45.53125 \nQ 43.3125 49.21875 43.3125 52.78125 \nQ 43.3125 58.59375 39.234375 62.25 \nQ 35.15625 65.921875 28.609375 65.921875 \nQ 23.96875 65.921875 18.8125 64.3125 \nQ 13.671875 62.703125 7.8125 59.421875 \nL 7.8125 69.390625 \nQ 13.765625 71.78125 18.9375 73 \nQ 24.125 74.21875 28.421875 74.21875 \nQ 39.75 74.21875 46.484375 68.546875 \nQ 53.21875 62.890625 53.21875 53.421875 \nQ 53.21875 48.921875 51.53125 44.890625 \nQ 49.859375 40.875 45.40625 35.40625 \nQ 44.1875 33.984375 37.640625 27.21875 \nQ 31.109375 20.453125 19.1875 8.296875 \nz\n\" id=\"DejaVuSans-50\"/>\n       <path d=\"M 31.78125 66.40625 \nQ 24.171875 66.40625 20.328125 58.90625 \nQ 16.5 51.421875 16.5 36.375 \nQ 16.5 21.390625 20.328125 13.890625 \nQ 24.171875 6.390625 31.78125 6.390625 \nQ 39.453125 6.390625 43.28125 13.890625 \nQ 47.125 21.390625 47.125 36.375 \nQ 47.125 51.421875 43.28125 58.90625 \nQ 39.453125 66.40625 31.78125 66.40625 \nz\nM 31.78125 74.21875 \nQ 44.046875 74.21875 50.515625 64.515625 \nQ 56.984375 54.828125 56.984375 36.375 \nQ 56.984375 17.96875 50.515625 8.265625 \nQ 44.046875 -1.421875 31.78125 -1.421875 \nQ 19.53125 -1.421875 13.0625 8.265625 \nQ 6.59375 17.96875 6.59375 36.375 \nQ 6.59375 54.828125 13.0625 64.515625 \nQ 19.53125 74.21875 31.78125 74.21875 \nz\n\" id=\"DejaVuSans-48\"/>\n      </defs>\n      <g transform=\"translate(80.044434 254.356562)scale(0.1 -0.1)\">\n       <use xlink:href=\"#DejaVuSans-50\"/>\n       <use x=\"63.623047\" xlink:href=\"#DejaVuSans-48\"/>\n       <use x=\"127.246094\" xlink:href=\"#DejaVuSans-48\"/>\n       <use x=\"190.869141\" xlink:href=\"#DejaVuSans-48\"/>\n       <use x=\"254.492188\" xlink:href=\"#DejaVuSans-48\"/>\n      </g>\n     </g>\n    </g>\n    <g id=\"xtick_2\">\n     <g id=\"line2d_2\">\n      <g>\n       <use style=\"stroke:#000000;stroke-width:0.8;\" x=\"161.17791\" xlink:href=\"#m9bb6dd6257\" y=\"239.758125\"/>\n      </g>\n     </g>\n     <g id=\"text_2\">\n      <!-- 40000 -->\n      <defs>\n       <path d=\"M 37.796875 64.3125 \nL 12.890625 25.390625 \nL 37.796875 25.390625 \nz\nM 35.203125 72.90625 \nL 47.609375 72.90625 \nL 47.609375 25.390625 \nL 58.015625 25.390625 \nL 58.015625 17.1875 \nL 47.609375 17.1875 \nL 47.609375 0 \nL 37.796875 0 \nL 37.796875 17.1875 \nL 4.890625 17.1875 \nL 4.890625 26.703125 \nz\n\" id=\"DejaVuSans-52\"/>\n      </defs>\n      <g transform=\"translate(145.27166 254.356562)scale(0.1 -0.1)\">\n       <use xlink:href=\"#DejaVuSans-52\"/>\n       <use x=\"63.623047\" xlink:href=\"#DejaVuSans-48\"/>\n       <use x=\"127.246094\" xlink:href=\"#DejaVuSans-48\"/>\n       <use x=\"190.869141\" xlink:href=\"#DejaVuSans-48\"/>\n       <use x=\"254.492188\" xlink:href=\"#DejaVuSans-48\"/>\n      </g>\n     </g>\n    </g>\n    <g id=\"xtick_3\">\n     <g id=\"line2d_3\">\n      <g>\n       <use style=\"stroke:#000000;stroke-width:0.8;\" x=\"226.405136\" xlink:href=\"#m9bb6dd6257\" y=\"239.758125\"/>\n      </g>\n     </g>\n     <g id=\"text_3\">\n      <!-- 60000 -->\n      <defs>\n       <path d=\"M 33.015625 40.375 \nQ 26.375 40.375 22.484375 35.828125 \nQ 18.609375 31.296875 18.609375 23.390625 \nQ 18.609375 15.53125 22.484375 10.953125 \nQ 26.375 6.390625 33.015625 6.390625 \nQ 39.65625 6.390625 43.53125 10.953125 \nQ 47.40625 15.53125 47.40625 23.390625 \nQ 47.40625 31.296875 43.53125 35.828125 \nQ 39.65625 40.375 33.015625 40.375 \nz\nM 52.59375 71.296875 \nL 52.59375 62.3125 \nQ 48.875 64.0625 45.09375 64.984375 \nQ 41.3125 65.921875 37.59375 65.921875 \nQ 27.828125 65.921875 22.671875 59.328125 \nQ 17.53125 52.734375 16.796875 39.40625 \nQ 19.671875 43.65625 24.015625 45.921875 \nQ 28.375 48.1875 33.59375 48.1875 \nQ 44.578125 48.1875 50.953125 41.515625 \nQ 57.328125 34.859375 57.328125 23.390625 \nQ 57.328125 12.15625 50.6875 5.359375 \nQ 44.046875 -1.421875 33.015625 -1.421875 \nQ 20.359375 -1.421875 13.671875 8.265625 \nQ 6.984375 17.96875 6.984375 36.375 \nQ 6.984375 53.65625 15.1875 63.9375 \nQ 23.390625 74.21875 37.203125 74.21875 \nQ 40.921875 74.21875 44.703125 73.484375 \nQ 48.484375 72.75 52.59375 71.296875 \nz\n\" id=\"DejaVuSans-54\"/>\n      </defs>\n      <g transform=\"translate(210.498886 254.356562)scale(0.1 -0.1)\">\n       <use xlink:href=\"#DejaVuSans-54\"/>\n       <use x=\"63.623047\" xlink:href=\"#DejaVuSans-48\"/>\n       <use x=\"127.246094\" xlink:href=\"#DejaVuSans-48\"/>\n       <use x=\"190.869141\" xlink:href=\"#DejaVuSans-48\"/>\n       <use x=\"254.492188\" xlink:href=\"#DejaVuSans-48\"/>\n      </g>\n     </g>\n    </g>\n    <g id=\"xtick_4\">\n     <g id=\"line2d_4\">\n      <g>\n       <use style=\"stroke:#000000;stroke-width:0.8;\" x=\"291.632362\" xlink:href=\"#m9bb6dd6257\" y=\"239.758125\"/>\n      </g>\n     </g>\n     <g id=\"text_4\">\n      <!-- 80000 -->\n      <defs>\n       <path d=\"M 31.78125 34.625 \nQ 24.75 34.625 20.71875 30.859375 \nQ 16.703125 27.09375 16.703125 20.515625 \nQ 16.703125 13.921875 20.71875 10.15625 \nQ 24.75 6.390625 31.78125 6.390625 \nQ 38.8125 6.390625 42.859375 10.171875 \nQ 46.921875 13.96875 46.921875 20.515625 \nQ 46.921875 27.09375 42.890625 30.859375 \nQ 38.875 34.625 31.78125 34.625 \nz\nM 21.921875 38.8125 \nQ 15.578125 40.375 12.03125 44.71875 \nQ 8.5 49.078125 8.5 55.328125 \nQ 8.5 64.0625 14.71875 69.140625 \nQ 20.953125 74.21875 31.78125 74.21875 \nQ 42.671875 74.21875 48.875 69.140625 \nQ 55.078125 64.0625 55.078125 55.328125 \nQ 55.078125 49.078125 51.53125 44.71875 \nQ 48 40.375 41.703125 38.8125 \nQ 48.828125 37.15625 52.796875 32.3125 \nQ 56.78125 27.484375 56.78125 20.515625 \nQ 56.78125 9.90625 50.3125 4.234375 \nQ 43.84375 -1.421875 31.78125 -1.421875 \nQ 19.734375 -1.421875 13.25 4.234375 \nQ 6.78125 9.90625 6.78125 20.515625 \nQ 6.78125 27.484375 10.78125 32.3125 \nQ 14.796875 37.15625 21.921875 38.8125 \nz\nM 18.3125 54.390625 \nQ 18.3125 48.734375 21.84375 45.5625 \nQ 25.390625 42.390625 31.78125 42.390625 \nQ 38.140625 42.390625 41.71875 45.5625 \nQ 45.3125 48.734375 45.3125 54.390625 \nQ 45.3125 60.0625 41.71875 63.234375 \nQ 38.140625 66.40625 31.78125 66.40625 \nQ 25.390625 66.40625 21.84375 63.234375 \nQ 18.3125 60.0625 18.3125 54.390625 \nz\n\" id=\"DejaVuSans-56\"/>\n      </defs>\n      <g transform=\"translate(275.726112 254.356562)scale(0.1 -0.1)\">\n       <use xlink:href=\"#DejaVuSans-56\"/>\n       <use x=\"63.623047\" xlink:href=\"#DejaVuSans-48\"/>\n       <use x=\"127.246094\" xlink:href=\"#DejaVuSans-48\"/>\n       <use x=\"190.869141\" xlink:href=\"#DejaVuSans-48\"/>\n       <use x=\"254.492188\" xlink:href=\"#DejaVuSans-48\"/>\n      </g>\n     </g>\n    </g>\n    <g id=\"xtick_5\">\n     <g id=\"line2d_5\">\n      <g>\n       <use style=\"stroke:#000000;stroke-width:0.8;\" x=\"356.859589\" xlink:href=\"#m9bb6dd6257\" y=\"239.758125\"/>\n      </g>\n     </g>\n     <g id=\"text_5\">\n      <!-- 100000 -->\n      <defs>\n       <path d=\"M 12.40625 8.296875 \nL 28.515625 8.296875 \nL 28.515625 63.921875 \nL 10.984375 60.40625 \nL 10.984375 69.390625 \nL 28.421875 72.90625 \nL 38.28125 72.90625 \nL 38.28125 8.296875 \nL 54.390625 8.296875 \nL 54.390625 0 \nL 12.40625 0 \nz\n\" id=\"DejaVuSans-49\"/>\n      </defs>\n      <g transform=\"translate(337.772089 254.356562)scale(0.1 -0.1)\">\n       <use xlink:href=\"#DejaVuSans-49\"/>\n       <use x=\"63.623047\" xlink:href=\"#DejaVuSans-48\"/>\n       <use x=\"127.246094\" xlink:href=\"#DejaVuSans-48\"/>\n       <use x=\"190.869141\" xlink:href=\"#DejaVuSans-48\"/>\n       <use x=\"254.492188\" xlink:href=\"#DejaVuSans-48\"/>\n       <use x=\"318.115234\" xlink:href=\"#DejaVuSans-48\"/>\n      </g>\n     </g>\n    </g>\n    <g id=\"text_6\">\n     <!-- GDP per capita -->\n     <defs>\n      <path d=\"M 59.515625 10.40625 \nL 59.515625 29.984375 \nL 43.40625 29.984375 \nL 43.40625 38.09375 \nL 69.28125 38.09375 \nL 69.28125 6.78125 \nQ 63.578125 2.734375 56.6875 0.65625 \nQ 49.8125 -1.421875 42 -1.421875 \nQ 24.90625 -1.421875 15.25 8.5625 \nQ 5.609375 18.5625 5.609375 36.375 \nQ 5.609375 54.25 15.25 64.234375 \nQ 24.90625 74.21875 42 74.21875 \nQ 49.125 74.21875 55.546875 72.453125 \nQ 61.96875 70.703125 67.390625 67.28125 \nL 67.390625 56.78125 \nQ 61.921875 61.421875 55.765625 63.765625 \nQ 49.609375 66.109375 42.828125 66.109375 \nQ 29.4375 66.109375 22.71875 58.640625 \nQ 16.015625 51.171875 16.015625 36.375 \nQ 16.015625 21.625 22.71875 14.15625 \nQ 29.4375 6.6875 42.828125 6.6875 \nQ 48.046875 6.6875 52.140625 7.59375 \nQ 56.25 8.5 59.515625 10.40625 \nz\n\" id=\"DejaVuSans-71\"/>\n      <path d=\"M 19.671875 64.796875 \nL 19.671875 8.109375 \nL 31.59375 8.109375 \nQ 46.6875 8.109375 53.6875 14.9375 \nQ 60.6875 21.78125 60.6875 36.53125 \nQ 60.6875 51.171875 53.6875 57.984375 \nQ 46.6875 64.796875 31.59375 64.796875 \nz\nM 9.8125 72.90625 \nL 30.078125 72.90625 \nQ 51.265625 72.90625 61.171875 64.09375 \nQ 71.09375 55.28125 71.09375 36.53125 \nQ 71.09375 17.671875 61.125 8.828125 \nQ 51.171875 0 30.078125 0 \nL 9.8125 0 \nz\n\" id=\"DejaVuSans-68\"/>\n      <path d=\"M 19.671875 64.796875 \nL 19.671875 37.40625 \nL 32.078125 37.40625 \nQ 38.96875 37.40625 42.71875 40.96875 \nQ 46.484375 44.53125 46.484375 51.125 \nQ 46.484375 57.671875 42.71875 61.234375 \nQ 38.96875 64.796875 32.078125 64.796875 \nz\nM 9.8125 72.90625 \nL 32.078125 72.90625 \nQ 44.34375 72.90625 50.609375 67.359375 \nQ 56.890625 61.8125 56.890625 51.125 \nQ 56.890625 40.328125 50.609375 34.8125 \nQ 44.34375 29.296875 32.078125 29.296875 \nL 19.671875 29.296875 \nL 19.671875 0 \nL 9.8125 0 \nz\n\" id=\"DejaVuSans-80\"/>\n      <path id=\"DejaVuSans-32\"/>\n      <path d=\"M 18.109375 8.203125 \nL 18.109375 -20.796875 \nL 9.078125 -20.796875 \nL 9.078125 54.6875 \nL 18.109375 54.6875 \nL 18.109375 46.390625 \nQ 20.953125 51.265625 25.265625 53.625 \nQ 29.59375 56 35.59375 56 \nQ 45.5625 56 51.78125 48.09375 \nQ 58.015625 40.1875 58.015625 27.296875 \nQ 58.015625 14.40625 51.78125 6.484375 \nQ 45.5625 -1.421875 35.59375 -1.421875 \nQ 29.59375 -1.421875 25.265625 0.953125 \nQ 20.953125 3.328125 18.109375 8.203125 \nz\nM 48.6875 27.296875 \nQ 48.6875 37.203125 44.609375 42.84375 \nQ 40.53125 48.484375 33.40625 48.484375 \nQ 26.265625 48.484375 22.1875 42.84375 \nQ 18.109375 37.203125 18.109375 27.296875 \nQ 18.109375 17.390625 22.1875 11.75 \nQ 26.265625 6.109375 33.40625 6.109375 \nQ 40.53125 6.109375 44.609375 11.75 \nQ 48.6875 17.390625 48.6875 27.296875 \nz\n\" id=\"DejaVuSans-112\"/>\n      <path d=\"M 56.203125 29.59375 \nL 56.203125 25.203125 \nL 14.890625 25.203125 \nQ 15.484375 15.921875 20.484375 11.0625 \nQ 25.484375 6.203125 34.421875 6.203125 \nQ 39.59375 6.203125 44.453125 7.46875 \nQ 49.3125 8.734375 54.109375 11.28125 \nL 54.109375 2.78125 \nQ 49.265625 0.734375 44.1875 -0.34375 \nQ 39.109375 -1.421875 33.890625 -1.421875 \nQ 20.796875 -1.421875 13.15625 6.1875 \nQ 5.515625 13.8125 5.515625 26.8125 \nQ 5.515625 40.234375 12.765625 48.109375 \nQ 20.015625 56 32.328125 56 \nQ 43.359375 56 49.78125 48.890625 \nQ 56.203125 41.796875 56.203125 29.59375 \nz\nM 47.21875 32.234375 \nQ 47.125 39.59375 43.09375 43.984375 \nQ 39.0625 48.390625 32.421875 48.390625 \nQ 24.90625 48.390625 20.390625 44.140625 \nQ 15.875 39.890625 15.1875 32.171875 \nz\n\" id=\"DejaVuSans-101\"/>\n      <path d=\"M 41.109375 46.296875 \nQ 39.59375 47.171875 37.8125 47.578125 \nQ 36.03125 48 33.890625 48 \nQ 26.265625 48 22.1875 43.046875 \nQ 18.109375 38.09375 18.109375 28.8125 \nL 18.109375 0 \nL 9.078125 0 \nL 9.078125 54.6875 \nL 18.109375 54.6875 \nL 18.109375 46.1875 \nQ 20.953125 51.171875 25.484375 53.578125 \nQ 30.03125 56 36.53125 56 \nQ 37.453125 56 38.578125 55.875 \nQ 39.703125 55.765625 41.0625 55.515625 \nz\n\" id=\"DejaVuSans-114\"/>\n      <path d=\"M 48.78125 52.59375 \nL 48.78125 44.1875 \nQ 44.96875 46.296875 41.140625 47.34375 \nQ 37.3125 48.390625 33.40625 48.390625 \nQ 24.65625 48.390625 19.8125 42.84375 \nQ 14.984375 37.3125 14.984375 27.296875 \nQ 14.984375 17.28125 19.8125 11.734375 \nQ 24.65625 6.203125 33.40625 6.203125 \nQ 37.3125 6.203125 41.140625 7.25 \nQ 44.96875 8.296875 48.78125 10.40625 \nL 48.78125 2.09375 \nQ 45.015625 0.34375 40.984375 -0.53125 \nQ 36.96875 -1.421875 32.421875 -1.421875 \nQ 20.0625 -1.421875 12.78125 6.34375 \nQ 5.515625 14.109375 5.515625 27.296875 \nQ 5.515625 40.671875 12.859375 48.328125 \nQ 20.21875 56 33.015625 56 \nQ 37.15625 56 41.109375 55.140625 \nQ 45.0625 54.296875 48.78125 52.59375 \nz\n\" id=\"DejaVuSans-99\"/>\n      <path d=\"M 34.28125 27.484375 \nQ 23.390625 27.484375 19.1875 25 \nQ 14.984375 22.515625 14.984375 16.5 \nQ 14.984375 11.71875 18.140625 8.90625 \nQ 21.296875 6.109375 26.703125 6.109375 \nQ 34.1875 6.109375 38.703125 11.40625 \nQ 43.21875 16.703125 43.21875 25.484375 \nL 43.21875 27.484375 \nz\nM 52.203125 31.203125 \nL 52.203125 0 \nL 43.21875 0 \nL 43.21875 8.296875 \nQ 40.140625 3.328125 35.546875 0.953125 \nQ 30.953125 -1.421875 24.3125 -1.421875 \nQ 15.921875 -1.421875 10.953125 3.296875 \nQ 6 8.015625 6 15.921875 \nQ 6 25.140625 12.171875 29.828125 \nQ 18.359375 34.515625 30.609375 34.515625 \nL 43.21875 34.515625 \nL 43.21875 35.40625 \nQ 43.21875 41.609375 39.140625 45 \nQ 35.0625 48.390625 27.6875 48.390625 \nQ 23 48.390625 18.546875 47.265625 \nQ 14.109375 46.140625 10.015625 43.890625 \nL 10.015625 52.203125 \nQ 14.9375 54.109375 19.578125 55.046875 \nQ 24.21875 56 28.609375 56 \nQ 40.484375 56 46.34375 49.84375 \nQ 52.203125 43.703125 52.203125 31.203125 \nz\n\" id=\"DejaVuSans-97\"/>\n      <path d=\"M 9.421875 54.6875 \nL 18.40625 54.6875 \nL 18.40625 0 \nL 9.421875 0 \nz\nM 9.421875 75.984375 \nL 18.40625 75.984375 \nL 18.40625 64.59375 \nL 9.421875 64.59375 \nz\n\" id=\"DejaVuSans-105\"/>\n      <path d=\"M 18.3125 70.21875 \nL 18.3125 54.6875 \nL 36.8125 54.6875 \nL 36.8125 47.703125 \nL 18.3125 47.703125 \nL 18.3125 18.015625 \nQ 18.3125 11.328125 20.140625 9.421875 \nQ 21.96875 7.515625 27.59375 7.515625 \nL 36.8125 7.515625 \nL 36.8125 0 \nL 27.59375 0 \nQ 17.1875 0 13.234375 3.875 \nQ 9.28125 7.765625 9.28125 18.015625 \nL 9.28125 47.703125 \nL 2.6875 47.703125 \nL 2.6875 54.6875 \nL 9.28125 54.6875 \nL 9.28125 70.21875 \nz\n\" id=\"DejaVuSans-116\"/>\n     </defs>\n     <g transform=\"translate(173.557031 268.034687)scale(0.1 -0.1)\">\n      <use xlink:href=\"#DejaVuSans-71\"/>\n      <use x=\"77.490234\" xlink:href=\"#DejaVuSans-68\"/>\n      <use x=\"154.492188\" xlink:href=\"#DejaVuSans-80\"/>\n      <use x=\"214.794922\" xlink:href=\"#DejaVuSans-32\"/>\n      <use x=\"246.582031\" xlink:href=\"#DejaVuSans-112\"/>\n      <use x=\"310.058594\" xlink:href=\"#DejaVuSans-101\"/>\n      <use x=\"371.582031\" xlink:href=\"#DejaVuSans-114\"/>\n      <use x=\"412.695312\" xlink:href=\"#DejaVuSans-32\"/>\n      <use x=\"444.482422\" xlink:href=\"#DejaVuSans-99\"/>\n      <use x=\"499.462891\" xlink:href=\"#DejaVuSans-97\"/>\n      <use x=\"560.742188\" xlink:href=\"#DejaVuSans-112\"/>\n      <use x=\"624.21875\" xlink:href=\"#DejaVuSans-105\"/>\n      <use x=\"652.001953\" xlink:href=\"#DejaVuSans-116\"/>\n      <use x=\"691.210938\" xlink:href=\"#DejaVuSans-97\"/>\n     </g>\n    </g>\n   </g>\n   <g id=\"matplotlib.axis_2\">\n    <g id=\"ytick_1\">\n     <g id=\"line2d_6\">\n      <defs>\n       <path d=\"M 0 0 \nL -3.5 0 \n\" id=\"m83f1d5b12c\" style=\"stroke:#000000;stroke-width:0.8;\"/>\n      </defs>\n      <g>\n       <use style=\"stroke:#000000;stroke-width:0.8;\" x=\"43.78125\" xlink:href=\"#m83f1d5b12c\" y=\"214.595567\"/>\n      </g>\n     </g>\n     <g id=\"text_7\">\n      <!-- 5.0 -->\n      <defs>\n       <path d=\"M 10.796875 72.90625 \nL 49.515625 72.90625 \nL 49.515625 64.59375 \nL 19.828125 64.59375 \nL 19.828125 46.734375 \nQ 21.96875 47.46875 24.109375 47.828125 \nQ 26.265625 48.1875 28.421875 48.1875 \nQ 40.625 48.1875 47.75 41.5 \nQ 54.890625 34.8125 54.890625 23.390625 \nQ 54.890625 11.625 47.5625 5.09375 \nQ 40.234375 -1.421875 26.90625 -1.421875 \nQ 22.3125 -1.421875 17.546875 -0.640625 \nQ 12.796875 0.140625 7.71875 1.703125 \nL 7.71875 11.625 \nQ 12.109375 9.234375 16.796875 8.0625 \nQ 21.484375 6.890625 26.703125 6.890625 \nQ 35.15625 6.890625 40.078125 11.328125 \nQ 45.015625 15.765625 45.015625 23.390625 \nQ 45.015625 31 40.078125 35.4375 \nQ 35.15625 39.890625 26.703125 39.890625 \nQ 22.75 39.890625 18.8125 39.015625 \nQ 14.890625 38.140625 10.796875 36.28125 \nz\n\" id=\"DejaVuSans-53\"/>\n       <path d=\"M 10.6875 12.40625 \nL 21 12.40625 \nL 21 0 \nL 10.6875 0 \nz\n\" id=\"DejaVuSans-46\"/>\n      </defs>\n      <g transform=\"translate(20.878125 218.394785)scale(0.1 -0.1)\">\n       <use xlink:href=\"#DejaVuSans-53\"/>\n       <use x=\"63.623047\" xlink:href=\"#DejaVuSans-46\"/>\n       <use x=\"95.410156\" xlink:href=\"#DejaVuSans-48\"/>\n      </g>\n     </g>\n    </g>\n    <g id=\"ytick_2\">\n     <g id=\"line2d_7\">\n      <g>\n       <use style=\"stroke:#000000;stroke-width:0.8;\" x=\"43.78125\" xlink:href=\"#m83f1d5b12c\" y=\"178.266244\"/>\n      </g>\n     </g>\n     <g id=\"text_8\">\n      <!-- 5.5 -->\n      <g transform=\"translate(20.878125 182.065463)scale(0.1 -0.1)\">\n       <use xlink:href=\"#DejaVuSans-53\"/>\n       <use x=\"63.623047\" xlink:href=\"#DejaVuSans-46\"/>\n       <use x=\"95.410156\" xlink:href=\"#DejaVuSans-53\"/>\n      </g>\n     </g>\n    </g>\n    <g id=\"ytick_3\">\n     <g id=\"line2d_8\">\n      <g>\n       <use style=\"stroke:#000000;stroke-width:0.8;\" x=\"43.78125\" xlink:href=\"#m83f1d5b12c\" y=\"141.936922\"/>\n      </g>\n     </g>\n     <g id=\"text_9\">\n      <!-- 6.0 -->\n      <g transform=\"translate(20.878125 145.73614)scale(0.1 -0.1)\">\n       <use xlink:href=\"#DejaVuSans-54\"/>\n       <use x=\"63.623047\" xlink:href=\"#DejaVuSans-46\"/>\n       <use x=\"95.410156\" xlink:href=\"#DejaVuSans-48\"/>\n      </g>\n     </g>\n    </g>\n    <g id=\"ytick_4\">\n     <g id=\"line2d_9\">\n      <g>\n       <use style=\"stroke:#000000;stroke-width:0.8;\" x=\"43.78125\" xlink:href=\"#m83f1d5b12c\" y=\"105.607599\"/>\n      </g>\n     </g>\n     <g id=\"text_10\">\n      <!-- 6.5 -->\n      <g transform=\"translate(20.878125 109.406818)scale(0.1 -0.1)\">\n       <use xlink:href=\"#DejaVuSans-54\"/>\n       <use x=\"63.623047\" xlink:href=\"#DejaVuSans-46\"/>\n       <use x=\"95.410156\" xlink:href=\"#DejaVuSans-53\"/>\n      </g>\n     </g>\n    </g>\n    <g id=\"ytick_5\">\n     <g id=\"line2d_10\">\n      <g>\n       <use style=\"stroke:#000000;stroke-width:0.8;\" x=\"43.78125\" xlink:href=\"#m83f1d5b12c\" y=\"69.278277\"/>\n      </g>\n     </g>\n     <g id=\"text_11\">\n      <!-- 7.0 -->\n      <defs>\n       <path d=\"M 8.203125 72.90625 \nL 55.078125 72.90625 \nL 55.078125 68.703125 \nL 28.609375 0 \nL 18.3125 0 \nL 43.21875 64.59375 \nL 8.203125 64.59375 \nz\n\" id=\"DejaVuSans-55\"/>\n      </defs>\n      <g transform=\"translate(20.878125 73.077496)scale(0.1 -0.1)\">\n       <use xlink:href=\"#DejaVuSans-55\"/>\n       <use x=\"63.623047\" xlink:href=\"#DejaVuSans-46\"/>\n       <use x=\"95.410156\" xlink:href=\"#DejaVuSans-48\"/>\n      </g>\n     </g>\n    </g>\n    <g id=\"ytick_6\">\n     <g id=\"line2d_11\">\n      <g>\n       <use style=\"stroke:#000000;stroke-width:0.8;\" x=\"43.78125\" xlink:href=\"#m83f1d5b12c\" y=\"32.948954\"/>\n      </g>\n     </g>\n     <g id=\"text_12\">\n      <!-- 7.5 -->\n      <g transform=\"translate(20.878125 36.748173)scale(0.1 -0.1)\">\n       <use xlink:href=\"#DejaVuSans-55\"/>\n       <use x=\"63.623047\" xlink:href=\"#DejaVuSans-46\"/>\n       <use x=\"95.410156\" xlink:href=\"#DejaVuSans-53\"/>\n      </g>\n     </g>\n    </g>\n    <g id=\"text_13\">\n     <!-- Life satisfaction -->\n     <defs>\n      <path d=\"M 9.8125 72.90625 \nL 19.671875 72.90625 \nL 19.671875 8.296875 \nL 55.171875 8.296875 \nL 55.171875 0 \nL 9.8125 0 \nz\n\" id=\"DejaVuSans-76\"/>\n      <path d=\"M 37.109375 75.984375 \nL 37.109375 68.5 \nL 28.515625 68.5 \nQ 23.6875 68.5 21.796875 66.546875 \nQ 19.921875 64.59375 19.921875 59.515625 \nL 19.921875 54.6875 \nL 34.71875 54.6875 \nL 34.71875 47.703125 \nL 19.921875 47.703125 \nL 19.921875 0 \nL 10.890625 0 \nL 10.890625 47.703125 \nL 2.296875 47.703125 \nL 2.296875 54.6875 \nL 10.890625 54.6875 \nL 10.890625 58.5 \nQ 10.890625 67.625 15.140625 71.796875 \nQ 19.390625 75.984375 28.609375 75.984375 \nz\n\" id=\"DejaVuSans-102\"/>\n      <path d=\"M 44.28125 53.078125 \nL 44.28125 44.578125 \nQ 40.484375 46.53125 36.375 47.5 \nQ 32.28125 48.484375 27.875 48.484375 \nQ 21.1875 48.484375 17.84375 46.4375 \nQ 14.5 44.390625 14.5 40.28125 \nQ 14.5 37.15625 16.890625 35.375 \nQ 19.28125 33.59375 26.515625 31.984375 \nL 29.59375 31.296875 \nQ 39.15625 29.25 43.1875 25.515625 \nQ 47.21875 21.78125 47.21875 15.09375 \nQ 47.21875 7.46875 41.1875 3.015625 \nQ 35.15625 -1.421875 24.609375 -1.421875 \nQ 20.21875 -1.421875 15.453125 -0.5625 \nQ 10.6875 0.296875 5.421875 2 \nL 5.421875 11.28125 \nQ 10.40625 8.6875 15.234375 7.390625 \nQ 20.0625 6.109375 24.8125 6.109375 \nQ 31.15625 6.109375 34.5625 8.28125 \nQ 37.984375 10.453125 37.984375 14.40625 \nQ 37.984375 18.0625 35.515625 20.015625 \nQ 33.0625 21.96875 24.703125 23.78125 \nL 21.578125 24.515625 \nQ 13.234375 26.265625 9.515625 29.90625 \nQ 5.8125 33.546875 5.8125 39.890625 \nQ 5.8125 47.609375 11.28125 51.796875 \nQ 16.75 56 26.8125 56 \nQ 31.78125 56 36.171875 55.265625 \nQ 40.578125 54.546875 44.28125 53.078125 \nz\n\" id=\"DejaVuSans-115\"/>\n      <path d=\"M 30.609375 48.390625 \nQ 23.390625 48.390625 19.1875 42.75 \nQ 14.984375 37.109375 14.984375 27.296875 \nQ 14.984375 17.484375 19.15625 11.84375 \nQ 23.34375 6.203125 30.609375 6.203125 \nQ 37.796875 6.203125 41.984375 11.859375 \nQ 46.1875 17.53125 46.1875 27.296875 \nQ 46.1875 37.015625 41.984375 42.703125 \nQ 37.796875 48.390625 30.609375 48.390625 \nz\nM 30.609375 56 \nQ 42.328125 56 49.015625 48.375 \nQ 55.71875 40.765625 55.71875 27.296875 \nQ 55.71875 13.875 49.015625 6.21875 \nQ 42.328125 -1.421875 30.609375 -1.421875 \nQ 18.84375 -1.421875 12.171875 6.21875 \nQ 5.515625 13.875 5.515625 27.296875 \nQ 5.515625 40.765625 12.171875 48.375 \nQ 18.84375 56 30.609375 56 \nz\n\" id=\"DejaVuSans-111\"/>\n      <path d=\"M 54.890625 33.015625 \nL 54.890625 0 \nL 45.90625 0 \nL 45.90625 32.71875 \nQ 45.90625 40.484375 42.875 44.328125 \nQ 39.84375 48.1875 33.796875 48.1875 \nQ 26.515625 48.1875 22.3125 43.546875 \nQ 18.109375 38.921875 18.109375 30.90625 \nL 18.109375 0 \nL 9.078125 0 \nL 9.078125 54.6875 \nL 18.109375 54.6875 \nL 18.109375 46.1875 \nQ 21.34375 51.125 25.703125 53.5625 \nQ 30.078125 56 35.796875 56 \nQ 45.21875 56 50.046875 50.171875 \nQ 54.890625 44.34375 54.890625 33.015625 \nz\n\" id=\"DejaVuSans-110\"/>\n     </defs>\n     <g transform=\"translate(14.798438 170.412344)rotate(-90)scale(0.1 -0.1)\">\n      <use xlink:href=\"#DejaVuSans-76\"/>\n      <use x=\"55.712891\" xlink:href=\"#DejaVuSans-105\"/>\n      <use x=\"83.496094\" xlink:href=\"#DejaVuSans-102\"/>\n      <use x=\"118.701172\" xlink:href=\"#DejaVuSans-101\"/>\n      <use x=\"180.224609\" xlink:href=\"#DejaVuSans-32\"/>\n      <use x=\"212.011719\" xlink:href=\"#DejaVuSans-115\"/>\n      <use x=\"264.111328\" xlink:href=\"#DejaVuSans-97\"/>\n      <use x=\"325.390625\" xlink:href=\"#DejaVuSans-116\"/>\n      <use x=\"364.599609\" xlink:href=\"#DejaVuSans-105\"/>\n      <use x=\"392.382812\" xlink:href=\"#DejaVuSans-115\"/>\n      <use x=\"444.482422\" xlink:href=\"#DejaVuSans-102\"/>\n      <use x=\"479.6875\" xlink:href=\"#DejaVuSans-97\"/>\n      <use x=\"540.966797\" xlink:href=\"#DejaVuSans-99\"/>\n      <use x=\"595.947266\" xlink:href=\"#DejaVuSans-116\"/>\n      <use x=\"635.15625\" xlink:href=\"#DejaVuSans-105\"/>\n      <use x=\"662.939453\" xlink:href=\"#DejaVuSans-111\"/>\n      <use x=\"724.121094\" xlink:href=\"#DejaVuSans-110\"/>\n     </g>\n    </g>\n   </g>\n   <g id=\"patch_3\">\n    <path d=\"M 43.78125 239.758125 \nL 43.78125 22.318125 \n\" style=\"fill:none;stroke:#000000;stroke-linecap:square;stroke-linejoin:miter;stroke-width:0.8;\"/>\n   </g>\n   <g id=\"patch_4\">\n    <path d=\"M 378.58125 239.758125 \nL 378.58125 22.318125 \n\" style=\"fill:none;stroke:#000000;stroke-linecap:square;stroke-linejoin:miter;stroke-width:0.8;\"/>\n   </g>\n   <g id=\"patch_5\">\n    <path d=\"M 43.78125 239.758125 \nL 378.58125 239.758125 \n\" style=\"fill:none;stroke:#000000;stroke-linecap:square;stroke-linejoin:miter;stroke-width:0.8;\"/>\n   </g>\n   <g id=\"patch_6\">\n    <path d=\"M 43.78125 22.318125 \nL 378.58125 22.318125 \n\" style=\"fill:none;stroke:#000000;stroke-linecap:square;stroke-linejoin:miter;stroke-width:0.8;\"/>\n   </g>\n   <g id=\"text_14\">\n    <!-- Life Satisfaction Index -->\n    <defs>\n     <path d=\"M 53.515625 70.515625 \nL 53.515625 60.890625 \nQ 47.90625 63.578125 42.921875 64.890625 \nQ 37.9375 66.21875 33.296875 66.21875 \nQ 25.25 66.21875 20.875 63.09375 \nQ 16.5 59.96875 16.5 54.203125 \nQ 16.5 49.359375 19.40625 46.890625 \nQ 22.3125 44.4375 30.421875 42.921875 \nL 36.375 41.703125 \nQ 47.40625 39.59375 52.65625 34.296875 \nQ 57.90625 29 57.90625 20.125 \nQ 57.90625 9.515625 50.796875 4.046875 \nQ 43.703125 -1.421875 29.984375 -1.421875 \nQ 24.8125 -1.421875 18.96875 -0.25 \nQ 13.140625 0.921875 6.890625 3.21875 \nL 6.890625 13.375 \nQ 12.890625 10.015625 18.65625 8.296875 \nQ 24.421875 6.59375 29.984375 6.59375 \nQ 38.421875 6.59375 43.015625 9.90625 \nQ 47.609375 13.234375 47.609375 19.390625 \nQ 47.609375 24.75 44.3125 27.78125 \nQ 41.015625 30.8125 33.5 32.328125 \nL 27.484375 33.5 \nQ 16.453125 35.6875 11.515625 40.375 \nQ 6.59375 45.0625 6.59375 53.421875 \nQ 6.59375 63.09375 13.40625 68.65625 \nQ 20.21875 74.21875 32.171875 74.21875 \nQ 37.3125 74.21875 42.625 73.28125 \nQ 47.953125 72.359375 53.515625 70.515625 \nz\n\" id=\"DejaVuSans-83\"/>\n     <path d=\"M 9.8125 72.90625 \nL 19.671875 72.90625 \nL 19.671875 0 \nL 9.8125 0 \nz\n\" id=\"DejaVuSans-73\"/>\n     <path d=\"M 45.40625 46.390625 \nL 45.40625 75.984375 \nL 54.390625 75.984375 \nL 54.390625 0 \nL 45.40625 0 \nL 45.40625 8.203125 \nQ 42.578125 3.328125 38.25 0.953125 \nQ 33.9375 -1.421875 27.875 -1.421875 \nQ 17.96875 -1.421875 11.734375 6.484375 \nQ 5.515625 14.40625 5.515625 27.296875 \nQ 5.515625 40.1875 11.734375 48.09375 \nQ 17.96875 56 27.875 56 \nQ 33.9375 56 38.25 53.625 \nQ 42.578125 51.265625 45.40625 46.390625 \nz\nM 14.796875 27.296875 \nQ 14.796875 17.390625 18.875 11.75 \nQ 22.953125 6.109375 30.078125 6.109375 \nQ 37.203125 6.109375 41.296875 11.75 \nQ 45.40625 17.390625 45.40625 27.296875 \nQ 45.40625 37.203125 41.296875 42.84375 \nQ 37.203125 48.484375 30.078125 48.484375 \nQ 22.953125 48.484375 18.875 42.84375 \nQ 14.796875 37.203125 14.796875 27.296875 \nz\n\" id=\"DejaVuSans-100\"/>\n     <path d=\"M 54.890625 54.6875 \nL 35.109375 28.078125 \nL 55.90625 0 \nL 45.3125 0 \nL 29.390625 21.484375 \nL 13.484375 0 \nL 2.875 0 \nL 24.125 28.609375 \nL 4.6875 54.6875 \nL 15.28125 54.6875 \nL 29.78125 35.203125 \nL 44.28125 54.6875 \nz\n\" id=\"DejaVuSans-120\"/>\n    </defs>\n    <g transform=\"translate(144.718125 16.318125)scale(0.12 -0.12)\">\n     <use xlink:href=\"#DejaVuSans-76\"/>\n     <use x=\"55.712891\" xlink:href=\"#DejaVuSans-105\"/>\n     <use x=\"83.496094\" xlink:href=\"#DejaVuSans-102\"/>\n     <use x=\"118.701172\" xlink:href=\"#DejaVuSans-101\"/>\n     <use x=\"180.224609\" xlink:href=\"#DejaVuSans-32\"/>\n     <use x=\"212.011719\" xlink:href=\"#DejaVuSans-83\"/>\n     <use x=\"275.488281\" xlink:href=\"#DejaVuSans-97\"/>\n     <use x=\"336.767578\" xlink:href=\"#DejaVuSans-116\"/>\n     <use x=\"375.976562\" xlink:href=\"#DejaVuSans-105\"/>\n     <use x=\"403.759766\" xlink:href=\"#DejaVuSans-115\"/>\n     <use x=\"455.859375\" xlink:href=\"#DejaVuSans-102\"/>\n     <use x=\"491.064453\" xlink:href=\"#DejaVuSans-97\"/>\n     <use x=\"552.34375\" xlink:href=\"#DejaVuSans-99\"/>\n     <use x=\"607.324219\" xlink:href=\"#DejaVuSans-116\"/>\n     <use x=\"646.533203\" xlink:href=\"#DejaVuSans-105\"/>\n     <use x=\"674.316406\" xlink:href=\"#DejaVuSans-111\"/>\n     <use x=\"735.498047\" xlink:href=\"#DejaVuSans-110\"/>\n     <use x=\"798.876953\" xlink:href=\"#DejaVuSans-32\"/>\n     <use x=\"830.664062\" xlink:href=\"#DejaVuSans-73\"/>\n     <use x=\"860.15625\" xlink:href=\"#DejaVuSans-110\"/>\n     <use x=\"923.535156\" xlink:href=\"#DejaVuSans-100\"/>\n     <use x=\"987.011719\" xlink:href=\"#DejaVuSans-101\"/>\n     <use x=\"1048.519531\" xlink:href=\"#DejaVuSans-120\"/>\n    </g>\n   </g>\n  </g>\n </g>\n <defs>\n  <clipPath id=\"p4f580ad74e\">\n   <rect height=\"217.44\" width=\"334.8\" x=\"43.78125\" y=\"22.318125\"/>\n  </clipPath>\n </defs>\n</svg>\n",
      "image/png": "[encoded data removed]"
     },
     "metadata": {
      "needs_background": "light"
     }
    }
   ],
   "source": [
    "_ = full_country_stats.plot(\"GDP per capita\",'Life satisfaction',kind='scatter')\n",
    "plt.title('Life Satisfaction Index')"
   ]
  },
  {
   "cell_type": "code",
   "execution_count": 133,
   "metadata": {
    "slideshow": {
     "slide_type": "slide"
    }
   },
   "outputs": [],
   "source": [
    "keepvars = full_country_stats.dtypes[full_country_stats.dtypes == float].index.values\n",
    "keepvars = keepvars[:-1]\n",
    "country = full_country_stats[keepvars]"
   ]
  },
  {
   "cell_type": "code",
   "execution_count": 134,
   "metadata": {
    "slideshow": {
     "slide_type": "fragment"
    }
   },
   "outputs": [],
   "source": [
    "Y = np.array(country['Life satisfaction'])\n",
    "del country['Life satisfaction']\n",
    "X_vars = country.columns.values\n",
    "X = np.array(country)"
   ]
  },
  {
   "cell_type": "code",
   "execution_count": 135,
   "metadata": {
    "slideshow": {
     "slide_type": "slide"
    }
   },
   "outputs": [],
   "source": [
    "def loss(yhat,y):\n",
    "    \"\"\"sqr error loss\"\"\"\n",
    "    return (yhat - y)**2\n",
    "\n",
    "def fit(X,Y):\n",
    "    \"\"\"fit the OLS from training w/ intercept\"\"\"\n",
    "    lin1 = LinearRegression(fit_intercept=True) # OLS from sklearn\n",
    "    lin1.fit(X,Y) # fit OLS\n",
    "    return np.append(lin1.intercept_,lin1.coef_) # return betahat\n",
    "\n",
    "def predict(x, betahat):\n",
    "    \"\"\"predict for point x\"\"\"\n",
    "    return betahat[0] + x @ betahat[1:]"
   ]
  },
  {
   "cell_type": "markdown",
   "metadata": {},
   "source": [
    "### Summary\n",
    "\n",
    "- Supervised learning task is to predict $Y$ given $X$\n",
    "- Fit is using training data to fit parameters\n",
    "- Predict uses the fitted parameters to do prediction\n",
    "- Loss is a function that says how poorly you did on datum $x_i,y_i$"
   ]
  },
  {
   "cell_type": "markdown",
   "metadata": {
    "slideshow": {
     "slide_type": "slide"
    }
   },
   "source": [
    "### Risk and Empirical Risk\n",
    "\n",
    "Given a loss $\\ell(\\theta; X,Y)$, for parameters $\\theta$, the *risk* is \n",
    "$$\n",
    "R(\\theta) = \\mathbb E [\\ell(\\theta; X,Y)].\n",
    "$$\n",
    "\n",
    "And given training data $\\{x_i,y_i\\}_{i=1}^{n_0}$ (drawn iid to $X,Y$), then the *empirical risk* is\n",
    "$$\n",
    "R_n(\\theta) = \\frac 1n \\sum_{i=1}^n \\ell(\\theta; x_i, y_i).\n",
    "$$\n",
    "for fixed $\\theta$ we have: \n",
    "$$\\mathbb E[ R_n(\\theta)] = R(\\theta)$$\n",
    "\n",
    "For a class of parameters $\\Theta$, the *empirical risk minimizer (ERM)* is the \n",
    "$$\n",
    "\\hat \\theta = \\arg \\min_{\\theta \\in \\Theta} R_n(\\theta)\n",
    "$$\n",
    "(may not be unique)."
   ]
  },
  {
   "cell_type": "markdown",
   "metadata": {
    "slideshow": {
     "slide_type": "slide"
    }
   },
   "source": [
    "### OLS is the ERM\n",
    "\n",
    "OLS minimizes the following objective,\n",
    "$$\n",
    "R_n(\\beta) = \\frac 1n \\sum_{i=1}^n \\left(y_i - x_i^\\top \\beta - \\beta_0 \\right)^2\n",
    "$$\n",
    "with respect to $\\beta,\\beta_0$.\n",
    "This is the ERM for square error loss and linear predictor."
   ]
  },
  {
   "cell_type": "markdown",
   "metadata": {
    "slideshow": {
     "slide_type": "slide"
    }
   },
   "source": [
    "### Why is ERM a good idea?\n",
    "\n",
    "For a fixed $\\theta$ we know by the Law of Large Numbers (as long as expectations exist and data is iid),\n",
    "$$\n",
    "R_n(\\theta) = \\frac 1n \\sum_{i=1}^n \\ell(\\theta; x_i, y_i) \\rightarrow \\mathbb E [\\ell(\\theta; X,Y)] = R(\\theta),\n",
    "$$\n",
    "where convergence is in probability (or almost surely).\n",
    "We want to minimize $R(\\theta)$ so $R_n(\\theta)$ is a pretty good surrogate."
   ]
  },
  {
   "cell_type": "markdown",
   "metadata": {
    "slideshow": {
     "slide_type": "slide"
    }
   },
   "source": [
    "### Example: Binary classification\n",
    "\n",
    "Mortgage insurer pays the mortgage company if the insuree defaults on loan.  To determine how much to charge want to predict if they will default (1) or not (0).\n",
    "\n",
    "An actuary (from 19th century) says that people that are young (less than 30) are irresponsible and will not insure them.  Let $x$ be the age in years, $y = 1$ if they default, and $\\theta = 30$.\n",
    "\n",
    "$$\n",
    "g_\\theta(x) = \\left\\{ \\begin{array}{ll}\n",
    "1, &x < \\theta\\\\\n",
    "0, &x \\ge \\theta \n",
    "\\end{array}\n",
    "\\right.\n",
    "$$\n",
    "\n",
    "0-1 loss is\n",
    "$$\n",
    "\\ell_{0-1}(\\theta; X,Y) = \\mathbf 1 \\{g_\\theta(X)\\ne Y\\}.\n",
    "$$\n",
    "The risk is\n",
    "$$\n",
    "R(\\theta) = \\mathbb E[ \\mathbf 1 \\{g_\\theta(X)\\ne Y\\}] = \\mathbb P \\{ g_\\theta(X) \\ne Y \\}.\n",
    "$$\n",
    "How well will he do?"
   ]
  },
  {
   "cell_type": "markdown",
   "metadata": {
    "slideshow": {
     "slide_type": "slide"
    }
   },
   "source": [
    "### Unsupervised learning\n",
    "\n",
    "Want to summarize/compress/learn distribution of $X$.  Clustering for example is the problem of assigning each datum to a cluster.\n",
    "<img width=\"500px\" src=\"kmeans.png\">\n",
    "\n",
    "Image from https://rpubs.com/cyobero/k-means"
   ]
  },
  {
   "cell_type": "markdown",
   "metadata": {
    "slideshow": {
     "slide_type": "slide"
    }
   },
   "source": [
    "Clustering for example is the problem of assigning each datum to a cluster in index set $[C] = \\{1,\\ldots,C\\}$ for cluster centers $z_k$,\n",
    "$$\n",
    "\\theta = \\left\\{ \\textrm{cluster centers, } \\{ z_k \\}_{k=1}^C \\subset \\mathbb R^p, \\textrm{ cluster assignments, } \\sigma:[n] \\to [C] \\right\\}\n",
    "$$\n",
    "The loss is \n",
    "$$\n",
    "\\ell(\\theta;x_i) = \\| x_i - z_{\\sigma(i)} \\|^2 = \\sum_{j=1}^p (x_{i,j} - z_{\\sigma(i),j})^2.\n",
    "$$\n",
    "Loss, risk, and empirical risk still can be defined, but many concepts are not the same (such as bias-variance tradeoff)."
   ]
  },
  {
   "cell_type": "markdown",
   "metadata": {
    "slideshow": {
     "slide_type": "slide"
    }
   },
   "source": [
    "### Issue with training error in Supervised learning.\n",
    "\n",
    "Let $\\hat \\theta$ be the ERM, then the *training error* is\n",
    "$$\n",
    "R_n(\\hat \\theta) = \\min_{\\theta \\in \\Theta} R_n(\\theta)\n",
    "$$\n",
    "which does NOT converge to $R(\\theta)$ because\n",
    "$$\n",
    "\\mathbb E [R_n(\\hat \\theta)] = \\mathbb E [\\min_\\theta R_n(\\theta)] \\ne \\min_{\\theta} \\mathbb E [R_n(\\theta)] = \\min_\\theta R(\\theta).\n",
    "$$\n",
    "\n",
    "### Solution\n",
    "\n",
    "Split the data randomly into training and test sets: \n",
    "- train $\\hat \\theta$ with the training data\n",
    "- test $\\hat \\theta$ with the test data\n",
    "\n",
    "Because the test data is independent of $\\hat \\theta$ we can think of the training process as fixed and test error is now unbiased for risk of $\\hat \\theta$."
   ]
  },
  {
   "cell_type": "code",
   "execution_count": 136,
   "metadata": {
    "slideshow": {
     "slide_type": "slide"
    }
   },
   "outputs": [],
   "source": [
    "## previously we split the data using scikit learn not we do it manually\n",
    "## randomly shuffle data and split and take first third for training set and second third for test set from the country set\n",
    "n,p = X.shape\n",
    "Ind = np.arange(n) \n",
    "np.random.shuffle(Ind) \n",
    "train_size = 2 * n // 3 +1 # set training set size\n",
    "X_tr, X_te = X[Ind[:train_size],:], X[Ind[train_size:],:]\n",
    "Y_tr, Y_te = Y[Ind[:train_size]], Y[Ind[train_size:]]"
   ]
  },
  {
   "cell_type": "code",
   "execution_count": 137,
   "metadata": {
    "slideshow": {
     "slide_type": "slide"
    }
   },
   "outputs": [],
   "source": [
    "## fit on the train set\n",
    "betahat = fit(X_tr,Y_tr)\n",
    "\n",
    "## compute losses on test set\n",
    "Y_hat_te = [predict(x,betahat) for x in X_te]\n",
    "test_losses = [loss(yhat,y) for yhat,y in zip(Y_hat_te,Y_te)]\n",
    "\n",
    "## compute losses on train set\n",
    "Y_hat_tr = [predict(x,betahat) for x in X_tr]\n",
    "train_losses = [loss(yhat,y) for yhat,y in zip(Y_hat_tr,Y_tr)]"
   ]
  },
  {
   "cell_type": "code",
   "execution_count": 138,
   "metadata": {
    "slideshow": {
     "slide_type": "slide"
    }
   },
   "outputs": [
    {
     "output_type": "execute_result",
     "data": {
      "text/plain": "[3.351422228834276e-23,\n 2.5504343226894823e-23,\n 6.139521725149486e-23,\n 1.3912224706732929e-24,\n 4.851810111471311e-24,\n 2.1502778443123392e-24,\n 3.1131231265851125e-23,\n 1.6045509698285902e-25,\n 1.6983859745046296e-25,\n 2.8826574920108844e-23,\n 1.1148540770978671e-22,\n 8.255658142800403e-23,\n 1.4484452574466672e-23,\n 5.632138697141452e-24,\n 5.502770557395e-23,\n 2.2799165633492825e-23,\n 6.793543898018518e-25,\n 5.632138697141452e-24,\n 6.588645166496413e-24,\n 1.463356621821517e-23,\n 1.3188563155328434e-24,\n 1.1961684077039834e-23,\n 2.257917125968841e-23,\n 4.829010138044251e-23,\n 3.719927951086051e-23]"
     },
     "metadata": {},
     "execution_count": 138
    }
   ],
   "source": [
    "train_losses"
   ]
  },
  {
   "cell_type": "code",
   "execution_count": 139,
   "metadata": {
    "slideshow": {
     "slide_type": "slide"
    }
   },
   "outputs": [
    {
     "output_type": "execute_result",
     "data": {
      "text/plain": "[37.45202688384531,\n 14.701101436645237,\n 1.1790833117351531,\n 0.5304650584414237,\n 7.944466367328166,\n 20.435799319893974,\n 24.845454266111577,\n 8.375702310580909,\n 0.422800914761098,\n 184.560718644866,\n 30.865436441141746]"
     },
     "metadata": {},
     "execution_count": 139
    }
   ],
   "source": [
    "test_losses"
   ]
  },
  {
   "cell_type": "code",
   "execution_count": 140,
   "metadata": {
    "slideshow": {
     "slide_type": "slide"
    }
   },
   "outputs": [
    {
     "output_type": "stream",
     "name": "stdout",
     "text": "train avg loss: 2.5198537668225733e-23\ntest avg loss: 30.1193686323046\nn p : 36 24\n"
    }
   ],
   "source": [
    "print(\"train avg loss: {}\\ntest avg loss: {}\".format(np.mean(train_losses), np.mean(test_losses)))\n",
    "print(\"n p :\",n,p)\n",
    "\n",
    "## massive discrepency between average test loss and train loss\n",
    "## traiing error = empricial risk\n",
    "## now because train set samples (n) is not much more than the parameters (p), empricial risk is nowhere near true risk "
   ]
  },
  {
   "cell_type": "code",
   "execution_count": 141,
   "metadata": {
    "slideshow": {
     "slide_type": "slide"
    }
   },
   "outputs": [],
   "source": [
    "def train_test_split(X,Y,split_pr = 0.5):\n",
    "    \"\"\"train-test split\"\"\"\n",
    "    n,p = X.shape\n",
    "    Ind = np.arange(n) \n",
    "    np.random.shuffle(Ind) \n",
    "    train_size = int(split_pr * n) # set training set size\n",
    "    X_tr, X_te = X[Ind[:train_size],:], X[Ind[train_size:],:]\n",
    "    Y_tr, Y_te = Y[Ind[:train_size]], Y[Ind[train_size:]]\n",
    "    return (X_tr,Y_tr), (X_te, Y_te)"
   ]
  },
  {
   "cell_type": "code",
   "execution_count": 147,
   "metadata": {
    "slideshow": {
     "slide_type": "slide"
    }
   },
   "outputs": [],
   "source": [
    "## now we do the same thing on the wine dataset\n",
    "\n",
    "Y = wine_ar[:,-1]\n",
    "X = wine_ar[:,:-1]\n",
    "n,p = X.shape\n",
    "\n",
    "(X_tr,Y_tr), (X_te, Y_te) = train_test_split(X,Y)"
   ]
  },
  {
   "cell_type": "code",
   "execution_count": 148,
   "metadata": {
    "slideshow": {
     "slide_type": "slide"
    }
   },
   "outputs": [],
   "source": [
    "betahat = fit(X_tr,Y_tr)\n",
    "\n",
    "## compute losses on test set\n",
    "Y_hat_te = [predict(x,betahat) for x in X_te]\n",
    "test_losses = [loss(yhat,y) for yhat,y in zip(Y_hat_te,Y_te)]\n",
    "\n",
    "## compute losses on train set\n",
    "Y_hat_tr = [predict(x,betahat) for x in X_tr]\n",
    "train_losses = [loss(yhat,y) for yhat,y in zip(Y_hat_tr,Y_tr)]"
   ]
  },
  {
   "cell_type": "code",
   "execution_count": 149,
   "metadata": {
    "slideshow": {
     "slide_type": "slide"
    }
   },
   "outputs": [
    {
     "output_type": "stream",
     "name": "stdout",
     "text": "train avg loss: 0.41735226857678454\ntest avg loss: 0.4252413821497859\nn p : 1599 11\n"
    }
   ],
   "source": [
    "print(\"train avg loss: {}\\ntest avg loss: {}\".format(np.mean(train_losses), np.mean(test_losses)))\n",
    "\n",
    "print(\"n p :\",n,p)\n",
    "\n",
    "\n",
    "## hear we did linear regression, and n is much larger than p meaning that number of training samples is larger than number estimating parameteres that's why emprical risk is close to true risk \n",
    "## number of dimension is much less than number of samples\n",
    "## avg training loss = empirical risk is very close to avg test error albeit a bit biased downwards"
   ]
  },
  {
   "cell_type": "markdown",
   "metadata": {},
   "source": [
    "### Summary\n",
    "\n",
    "- Want to minimize true risk (expected loss)\n",
    "- Instead we minimize empirical risk (training error)\n",
    "- Training error is now biased, so we do training test split"
   ]
  }
 ],
 "metadata": {
  "celltoolbar": "Slideshow",
  "kernelspec": {
   "display_name": "Python 3",
   "language": "python",
   "name": "python3"
  },
  "language_info": {
   "codemirror_mode": {
    "name": "ipython",
    "version": 3
   },
   "file_extension": ".py",
   "mimetype": "text/x-python",
   "name": "python",
   "nbconvert_exporter": "python",
   "pygments_lexer": "ipython3",
   "version": "3.7.1-final"
  }
 },
 "nbformat": 4,
 "nbformat_minor": 2
}