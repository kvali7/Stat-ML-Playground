{
 "cells": [
  {
   "cell_type": "markdown",
   "metadata": {
    "slideshow": {
     "slide_type": "slide"
    }
   },
   "source": [
    "# Online Learning\n",
    "\n",
    "## DavisSML: Lecture 8\n",
    "\n",
    "## Prof. James Sharpnack"
   ]
  },
  {
   "cell_type": "markdown",
   "metadata": {
    "slideshow": {
     "slide_type": "slide"
    }
   },
   "source": [
    "### Online Learning\n",
    "\n",
    "Data is streaming, and we need to predict the new points sequentially\n",
    "\n",
    "For each t:\n",
    "- $x_t$ is revealed\n",
    "- learner predicts $\\hat y_t$\n",
    "- $y_t$ is revealed and loss $\\ell(\\hat y_t,y_t)$ is incurred\n",
    "- learner updates parameters based on the experience"
   ]
  },
  {
   "cell_type": "markdown",
   "metadata": {
    "slideshow": {
     "slide_type": "slide"
    }
   },
   "source": [
    "### Naive \"batch\" method\n",
    "\n",
    "For each t:\n",
    "- Learner fits on $\\{x_i,y_i\\}_{i=1}^{t-1}$\n",
    "- Learner predicts $\\hat y_t$ from $x_t$\n",
    "\n",
    "If complexity of fit is $O(A_t)$ time then overall takes \n",
    "$$\n",
    "O\\left(\\sum_{t=1}^T A_t\\right)\n",
    "$$\n",
    "time, for $A_t = t$ (linear time) then $O(\\sum_{t=1}^T A_t) = O(T^2)$"
   ]
  },
  {
   "cell_type": "markdown",
   "metadata": {
    "slideshow": {
     "slide_type": "slide"
    }
   },
   "source": [
    "### Recall Risk and Empirical Risk\n",
    "\n",
    "Given a loss $\\ell(\\theta; X,Y)$, for parameters $\\theta$, the *risk* is \n",
    "$$\n",
    "R(\\theta) = \\mathbb E \\ell(\\theta; X,Y).\n",
    "$$\n",
    "\n",
    "And given training data $\\{x_i,y_i\\}_{i=1}^{n}$ (drawn iid to $X,Y$), then the *empirical risk* is\n",
    "$$\n",
    "R_n(\\theta) = \\frac 1n \\sum_{i=1}^n \\ell(\\theta; x_i, y_i).\n",
    "$$\n",
    "Notice that $\\mathbb E R_n(\\theta) = R(\\theta)$ for fixed $\\theta$.\n",
    "\n",
    "For a class of parameters $\\Theta$, the *empirical risk minimizer (ERM)* is the \n",
    "$$\n",
    "\\hat \\theta = \\arg \\min_{\\theta \\in \\Theta} R_n(\\theta)\n",
    "$$\n",
    "(may not be unique)."
   ]
  },
  {
   "cell_type": "markdown",
   "metadata": {
    "slideshow": {
     "slide_type": "slide"
    }
   },
   "source": [
    "### Ideal gradient descent\n",
    "\n",
    "Suitable for uncontrained/regularized form.  Risk is \n",
    "$$\n",
    "R(\\theta) = \\mathbb E \\ell(\\theta; X,Y).\n",
    "$$\n",
    "\n",
    "Suppose that we had access to $R(\\theta)$ the true risk.  Then to minimize $R$ we could do gradient descent,\n",
    "$$\n",
    "\\theta \\gets \\theta - \\eta \\nabla R(\\theta)\n",
    "$$\n",
    "To do this we only need access to $\\nabla R(\\theta)$"
   ]
  },
  {
   "cell_type": "markdown",
   "metadata": {
    "slideshow": {
     "slide_type": "slide"
    }
   },
   "source": [
    "### ERM for convex opt\n",
    "\n",
    "Gradient for empirical risk:\n",
    "$$\n",
    "\\nabla R_n(\\theta) = \\frac 1n \\sum_{i=1}^n \\nabla \\ell(\\theta; x_i, y_i)\n",
    "$$\n",
    "and \n",
    "$$\n",
    "\\mathbb E \\nabla \\ell(\\theta; x_i, y_i) = \\nabla \\mathbb E \\ell(\\theta; x_i, y_i) = \\nabla R(\\theta)\n",
    "$$\n",
    "So, gradient descent for ERM moves $\\theta$ in direction of $- \\nabla R_n(\\theta)$ \n",
    "$$\n",
    "\\theta \\gets \\theta - \\eta \\nabla R_n(\\theta)\n",
    "$$\n",
    "where\n",
    "$$\n",
    "\\mathbb E \\nabla R_n(\\theta) = \\nabla R(\\theta)\n",
    "$$"
   ]
  },
  {
   "cell_type": "markdown",
   "metadata": {
    "slideshow": {
     "slide_type": "slide"
    }
   },
   "source": [
    "### Minibatch gradient descent\n",
    "\n",
    "A *minibatch* is a random subsample of data $(x_1,y_1), \\ldots, (x_m,y_m)$ in the full training data.\n",
    "Then the minibatch gradient is\n",
    "$$\n",
    "\\nabla R_m(\\theta) = \\frac 1m \\sum_{i=1}^m \\nabla \\ell(\\theta; x_i, y_i)\n",
    "$$\n",
    "we also have that \n",
    "$$\n",
    "\\mathbb E \\nabla R_m(\\theta) = \\nabla R(\\theta)\n",
    "$$\n",
    "the downside is that $R_m(\\theta)$ is noisier."
   ]
  },
  {
   "cell_type": "markdown",
   "metadata": {
    "slideshow": {
     "slide_type": "slide"
    }
   },
   "source": [
    "### Stochastic gradient descent\n",
    "\n",
    "Assumes that $(x_t,y_t)$ are drawn iid from some population.  SGD uses a minibatch size of $m=1$.\n",
    "\n",
    "\n",
    "For each t:\n",
    "- $x_t$ is revealed\n",
    "- learner predicts $\\hat y_t$ with $f_\\theta$\n",
    "- $y_t$ is revealed and loss $\\ell(\\hat y_t,y_t)$ is incurred\n",
    "- learner updates parameters with update,\n",
    "$$\n",
    "\\theta \\gets \\theta - \\eta \\nabla \\ell(\\theta; x_t,y_t)\n",
    "$$"
   ]
  },
  {
   "cell_type": "markdown",
   "metadata": {
    "slideshow": {
     "slide_type": "slide"
    }
   },
   "source": [
    "- **Loss**: $$\\ell(\\hat y_i,y_i) = \\left(\\beta_0 + \\sum_j \\beta_j x_{i,j} - y_i \\right)^2$$\n",
    "\n",
    "- **Gradient**: $$\\frac{\\partial}{\\partial \\beta_j} \\ell(\\hat y_i,y_i) = 2 \\left(\\beta_0 + \\sum_j \\beta_j x_{i,j} - y_i\\right) x_{i,j}  = \\delta_i x_{i,j}$$\n",
    "$$\\frac{\\partial}{\\partial \\beta_0} \\ell(\\hat y_i,y_i) = 2 \\left(\\beta_0 + \\sum_j \\beta_j x_{i,j} - y_i\\right)  = \\delta_i$$\n",
    "$$ \\delta_i = 2 \\left(\\hat y_i - y_i \\right)$$\n",
    "\n",
    "- **Update**: $$\\beta \\gets \\beta - \\eta \\delta_i x_i$$\n",
    "$$\\beta_0 \\gets \\beta_0 - \\eta \\delta_i$$"
   ]
  },
  {
   "cell_type": "markdown",
   "metadata": {
    "slideshow": {
     "slide_type": "slide"
    }
   },
   "source": [
    "### Exercise 8.1\n",
    "\n",
    "1. Suppose $t$ is drawn uniformly at random from $1,\\ldots,n$.  What is $\\mathbb E_t \\nabla \\ell(\\theta; x_t, y_t)$ where the expectation is taken only with respect to the random draw of $t$?\n",
    "\n",
    "2. For the cell above, let $\\beta, \\beta_0$ be fixed.  Suppose that $y_i = \\beta_0^* + x_i^\\top \\beta^* + \\epsilon_i$ where $\\epsilon_i$ is zero mean and independent of $x_i$ (this is called exogeneity).  What is the expected gradients for a random draw of $x_i,y_i$,\n",
    "$$ \\mathbb E \\delta_i x_i = ?$$\n",
    "$$ \\mathbb E \\delta_i = ?$$\n",
    "Try to get these expressions as reduced as possible."
   ]
  },
  {
   "cell_type": "markdown",
   "metadata": {
    "slideshow": {
     "slide_type": "slide"
    }
   },
   "source": [
    "### Exercise 8.1 Answers\n",
    "\n",
    "1. $$ \\mathbb E_t \\nabla \\ell(\\theta; x_t, y_t) = \\frac 1n \\sum_{i=1}^n \\nabla \\ell(\\theta; x_i, y_i) = \\nabla R_n(\\theta)$$\n",
    "\n",
    "2. Because $\\hat y_i = \\beta_0 + \\beta^\\top x_i$, $$\\mathbb E \\delta_i = 2 \\mathbb E (\\beta_0 + \\beta^\\top x_i - y_i) = 2 (\\beta - \\beta^*)^\\top \\mathbb E [x_i] + 2(\\beta_0 - \\beta_0^*).$$\n",
    "Also,\n",
    "$$ \\delta_i x_i = 2(\\beta_0 + \\beta^\\top x_i - y_i) x_i = 2(\\beta_0 - \\beta_0^* + \\beta^\\top x_i - \\beta^{*,\\top} x_i - \\epsilon_i) x_i$$\n",
    "So,\n",
    "$$ \\mathbb E \\delta_i x_i = 2 \\mathbb E (\\beta_0 - \\beta_0^* + \\beta^\\top x_i - \\beta^{*,\\top} x_i) x_i + 2 \\mathbb E \\epsilon_i x_i = 2 \\left( \\mathbb E [x_i x_i^\\top] (\\beta - \\beta^*) + (\\beta_0 - \\beta_0^*) \\mathbb E [x_i] \\right)$$\n",
    "by the exogeneity."
   ]
  },
  {
   "cell_type": "code",
   "execution_count": 25,
   "metadata": {
    "slideshow": {
     "slide_type": "skip"
    }
   },
   "outputs": [],
   "source": [
    "import pandas as pd\n",
    "import numpy as np\n",
    "import matplotlib.pyplot as plt"
   ]
  },
  {
   "cell_type": "code",
   "execution_count": 10,
   "metadata": {
    "slideshow": {
     "slide_type": "slide"
    }
   },
   "outputs": [],
   "source": [
    "## open wine data\n",
    "wine = pd.read_csv('../../data/winequality-red.csv',delimiter=';')\n",
    "Y = wine.values[:,-1]\n",
    "X = wine.values[:,:-1]\n",
    "n,p = X.shape\n",
    "\n",
    "X = n**0.5 * (X - X.mean(axis=0)) / X.std(axis=0)"
   ]
  },
  {
   "cell_type": "code",
   "execution_count": 11,
   "metadata": {
    "slideshow": {
     "slide_type": "slide"
    }
   },
   "outputs": [],
   "source": [
    "## Look at LROnline.py\n",
    "\n",
    "from LROnline import *\n",
    "\n",
    "learner = LROnline(p,loss='sqr',decay=-1.)"
   ]
  },
  {
   "cell_type": "code",
   "execution_count": 12,
   "metadata": {
    "slideshow": {
     "slide_type": "slide"
    }
   },
   "outputs": [
    {
     "name": "stdout",
     "output_type": "stream",
     "text": [
      "Help on method update_beta in module LROnline:\n",
      "\n",
      "update_beta(x, y) method of LROnline.LROnline instance\n",
      "    single step update, output loss\n",
      "    args: x,y\n",
      "\n"
     ]
    }
   ],
   "source": [
    "help(learner.update_beta) # why we do docstrings"
   ]
  },
  {
   "cell_type": "code",
   "execution_count": 13,
   "metadata": {
    "slideshow": {
     "slide_type": "slide"
    }
   },
   "outputs": [
    {
     "data": {
      "text/plain": [
       "(array([0., 0., 0., 0., 0., 0., 0., 0., 0., 0., 0.]),\n",
       " 5.0,\n",
       " array([-21.12777894,  38.46304151, -55.64149498, -18.12307015,\n",
       "         -9.74522065, -18.64187237, -15.16056766,  22.32399898,\n",
       "         51.52960611, -23.16101967, -38.39783932]))"
      ]
     },
     "execution_count": 13,
     "metadata": {},
     "output_type": "execute_result"
    }
   ],
   "source": [
    "yx_it = zip(Y,X) # iterator giving data\n",
    "y,x = next(yx_it) # first datum\n",
    "learner.beta, y, x # init beta, first datum"
   ]
  },
  {
   "cell_type": "code",
   "execution_count": 14,
   "metadata": {
    "slideshow": {
     "slide_type": "slide"
    }
   },
   "outputs": [
    {
     "data": {
      "text/plain": [
       "25.0"
      ]
     },
     "execution_count": 14,
     "metadata": {},
     "output_type": "execute_result"
    }
   ],
   "source": [
    "learner.update_beta(x,y) # return loss"
   ]
  },
  {
   "cell_type": "code",
   "execution_count": 15,
   "metadata": {
    "slideshow": {
     "slide_type": "slide"
    }
   },
   "outputs": [
    {
     "data": {
      "text/plain": [
       "(array([-211.27778942,  384.63041512, -556.41494984, -181.23070154,\n",
       "         -97.45220654, -186.41872368, -151.60567657,  223.2399898 ,\n",
       "         515.29606114, -231.61019672, -383.97839323]),\n",
       " 5.0,\n",
       " array([-21.12777894,  38.46304151, -55.64149498, -18.12307015,\n",
       "         -9.74522065, -18.64187237, -15.16056766,  22.32399898,\n",
       "         51.52960611, -23.16101967, -38.39783932]))"
      ]
     },
     "execution_count": 15,
     "metadata": {},
     "output_type": "execute_result"
    }
   ],
   "source": [
    "learner.beta, y, x # new beta, first datum"
   ]
  },
  {
   "cell_type": "code",
   "execution_count": 16,
   "metadata": {
    "slideshow": {
     "slide_type": "slide"
    }
   },
   "outputs": [
    {
     "name": "stderr",
     "output_type": "stream",
     "text": [
      "/home/jsharpna/Documents/DavisSML/lectures/lecture8/LROnline.py:61: RuntimeWarning: overflow encountered in double_scalars\n",
      "  return (yhat - y)**2.\n"
     ]
    }
   ],
   "source": [
    "losses = [learner.update_beta(x,y) for y,x in yx_it] # run online learning"
   ]
  },
  {
   "cell_type": "code",
   "execution_count": 19,
   "metadata": {
    "slideshow": {
     "slide_type": "slide"
    }
   },
   "outputs": [
    {
     "data": {
      "image/png": "[encoded data removed]",
      "text/plain": [
       "<Figure size 432x288 with 1 Axes>"
      ]
     },
     "metadata": {
      "needs_background": "light"
     },
     "output_type": "display_data"
    }
   ],
   "source": [
    "plt.plot(losses)\n",
    "_ = plt.title('Losses with sqr error gradient descent')"
   ]
  },
  {
   "cell_type": "markdown",
   "metadata": {
    "slideshow": {
     "slide_type": "slide"
    }
   },
   "source": [
    "- **Loss**: $$\\ell(\\hat y_i,y_i) = \\left| \\beta_0 + \\sum_j \\beta_j x_{i,j} - y_i \\right|$$\n",
    "\n",
    "- **(sub-)Gradient**: $$\\frac{\\partial}{\\partial \\beta_j} \\ell(\\hat y_i,y_i) = {\\rm sign} \\left(\\beta_0 + \\sum_j \\beta_j x_{i,j} - y_i\\right) x_{i,j}  = \\delta_i x_{i,j}$$\n",
    "$$\\frac{\\partial}{\\partial \\beta_0} \\ell(\\hat y_i,y_i) = {\\rm sign} \\left(\\beta_0 + \\sum_j \\beta_j x_{i,j} - y_i\\right)  = \\delta_i$$\n",
    "$$ \\delta_i = {\\rm sign} \\left(\\hat y_i - y_i \\right)$$\n",
    "\n",
    "- **Update**: $$\\beta \\gets \\beta - \\eta \\delta_i x_i$$\n",
    "$$\\beta_0 \\gets \\beta_0 - \\eta \\delta_i$$"
   ]
  },
  {
   "cell_type": "code",
   "execution_count": 22,
   "metadata": {
    "slideshow": {
     "slide_type": "slide"
    }
   },
   "outputs": [],
   "source": [
    "learner = LROnline(p,loss='abs',decay=-1.)\n",
    "losses = [learner.update_beta(x,y) for y,x in zip(Y,X)]"
   ]
  },
  {
   "cell_type": "code",
   "execution_count": 24,
   "metadata": {
    "slideshow": {
     "slide_type": "slide"
    }
   },
   "outputs": [
    {
     "data": {
      "image/png": "[encoded data removed]",
      "text/plain": [
       "<Figure size 432x288 with 1 Axes>"
      ]
     },
     "metadata": {
      "needs_background": "light"
     },
     "output_type": "display_data"
    }
   ],
   "source": [
    "plt.plot(losses)\n",
    "_ = plt.title('Losses with abs error SGD')"
   ]
  },
  {
   "cell_type": "markdown",
   "metadata": {
    "slideshow": {
     "slide_type": "slide"
    }
   },
   "source": [
    "### Exercise 8.2\n",
    "\n",
    "Look at `LROnline.py` and determine what the decay argument is doing.  Play with the arguments and see when you achieve convergence and when you do not."
   ]
  },
  {
   "cell_type": "markdown",
   "metadata": {
    "slideshow": {
     "slide_type": "slide"
    }
   },
   "source": [
    "### Perceptron\n",
    "\n",
    "Recall SVM for $y_i \\in \\{-1,1\\}$,\n",
    "$$\n",
    "\\min_\\theta \\frac 1n \\sum_i (1 - y_i x_i^\\top \\theta)_+ + \\lambda \\| \\theta \\|^2.\n",
    "$$\n",
    "\n",
    "Then subdifferential of $(1 - y x^\\top\\theta)_+$ is\n",
    "\n",
    "$\\{- y x\\}$ if $1 - y x^\\top \\theta > 0$\n",
    "\n",
    "$[0,-yx]$ if $1 - y x^\\top \\theta = 0$\n",
    "\n",
    "$\\{0\\}$ if $1 - y x^\\top \\theta < 0$\n",
    "\n",
    "Choose subgradient $0$ when we can."
   ]
  },
  {
   "cell_type": "markdown",
   "metadata": {
    "slideshow": {
     "slide_type": "slide"
    }
   },
   "source": [
    "### Perceptron\n",
    "\n",
    "Our subgradient of $\\ell(\\theta; x, y) = (1 - y x^\\top\\theta)_+ + \\lambda \\| \\theta \\|^2$ is \n",
    "\n",
    "$-yx + \\lambda \\theta$ if $1 - y x^\\top \\theta > 0$\n",
    "\n",
    "$\\lambda \\theta$ otherwise\n",
    "\n",
    "SGD makes update\n",
    "$$\n",
    "\\theta \\gets (1 - \\lambda \\eta) \\theta + \\eta y_t x_t  1\\{1 - y x^\\top \\theta > 0\\}\n",
    "$$"
   ]
  },
  {
   "cell_type": "markdown",
   "metadata": {
    "slideshow": {
     "slide_type": "slide"
    }
   },
   "source": [
    "### Perceptron\n",
    "\n",
    "Recall that as $\\lambda \\rightarrow 0$ the margin is more narrow, equivalent to reducing 1 in $1 - y x^\\top \\theta < 0$.\n",
    "In the limit as $\\lambda \\rightarrow 0$ and with $\\eta = 1$, \n",
    "$$\n",
    "\\theta \\gets \\theta + y_t x_t  1\\{y x^\\top \\theta \\le 0\\}\n",
    "$$\n",
    "which is Rosenblatt's perceptron.\n",
    "\n",
    "The update for the intercept is simpler\n",
    "$$\n",
    "\\theta_0 \\gets \\theta_0 + y_t 1\\{y x^\\top \\theta \\le 0\\}\n",
    "$$"
   ]
  },
  {
   "cell_type": "code",
   "execution_count": null,
   "metadata": {
    "slideshow": {
     "slide_type": "slide"
    }
   },
   "outputs": [],
   "source": [
    " class Perceptron:\n",
    "    \"\"\"\n",
    "    Rosenblatt's perceptron, online learner\n",
    "\n",
    "    Attributes:\n",
    "        eta: learning rate\n",
    "        beta: coefficient vector\n",
    "        p: dimension of X\n",
    "        beta_zero: intercept\n",
    "    \"\"\"\n",
    "\n",
    "    def __init__(self,eta,dim,\n",
    "                 beta_init=None,beta_zero_init=None):\n",
    "        \"\"\"initialize and set beta\"\"\"\n",
    "        self.eta = eta\n",
    "        self.p = dim\n",
    "        if beta_init:\n",
    "            self.beta = beta_init\n",
    "        else:\n",
    "            self.beta = np.zeros(dim)\n",
    "        if beta_zero_init:\n",
    "            self.beta_zero = beta_zero_init\n",
    "        else:\n",
    "            self.beta_zero = 0.\n",
    "    ..."
   ]
  },
  {
   "cell_type": "code",
   "execution_count": null,
   "metadata": {
    "slideshow": {
     "slide_type": "slide"
    }
   },
   "outputs": [],
   "source": [
    " class Perceptron:\n",
    "    ...\n",
    "\n",
    "    def predict(self,x):\n",
    "        \"\"\"predict y with x\"\"\"\n",
    "        s = x @ self.beta + self.beta_zero\n",
    "        yhat = 2*(s > 0) - 1\n",
    "        return yhat\n",
    "\n",
    "    def update_beta(self,x,y):\n",
    "        \"\"\"single step update output 0/1 loss\"\"\"\n",
    "        yhat = self.predict(x)\n",
    "        if yhat != y:\n",
    "            self.beta += self.eta * y * x\n",
    "            self.beta_zero += self.eta * y \n",
    "        return yhat != y"
   ]
  },
  {
   "cell_type": "code",
   "execution_count": null,
   "metadata": {
    "slideshow": {
     "slide_type": "slide"
    }
   },
   "outputs": [],
   "source": [
    "loss = []\n",
    "t_iter = 40\n",
    "for t,(x,y) in enumerate(zip(X,Y)):\n",
    "    loss.append(perc.update_beta(x,y))"
   ]
  },
  {
   "cell_type": "markdown",
   "metadata": {
    "slideshow": {
     "slide_type": "slide"
    }
   },
   "source": [
    "![](perc_0.png)"
   ]
  },
  {
   "cell_type": "markdown",
   "metadata": {
    "slideshow": {
     "slide_type": "slide"
    }
   },
   "source": [
    "![](perc_1.png)"
   ]
  },
  {
   "cell_type": "markdown",
   "metadata": {
    "slideshow": {
     "slide_type": "slide"
    }
   },
   "source": [
    "![](perc_2.png)"
   ]
  },
  {
   "cell_type": "markdown",
   "metadata": {
    "slideshow": {
     "slide_type": "slide"
    }
   },
   "source": [
    "![](perc_3.png)"
   ]
  },
  {
   "cell_type": "markdown",
   "metadata": {
    "slideshow": {
     "slide_type": "slide"
    }
   },
   "source": [
    "![](perc_4.png)"
   ]
  },
  {
   "cell_type": "markdown",
   "metadata": {
    "slideshow": {
     "slide_type": "slide"
    }
   },
   "source": [
    "### Exercise 8.3\n",
    "\n",
    "Look at `Perceptron.py` and go through each line in the main code section after `if __name__==\"__main__\":`.  Look up at the main class and the helper functions to get a good understanding of what is happening there."
   ]
  }
 ],
 "metadata": {
  "celltoolbar": "Slideshow",
  "kernelspec": {
   "display_name": "Python 3",
   "language": "python",
   "name": "python3"
  },
  "language_info": {
   "codemirror_mode": {
    "name": "ipython",
    "version": 3
   },
   "file_extension": ".py",
   "mimetype": "text/x-python",
   "name": "python",
   "nbconvert_exporter": "python",
   "pygments_lexer": "ipython3",
   "version": "3.7.4"
  }
 },
 "nbformat": 4,
 "nbformat_minor": 2
}
