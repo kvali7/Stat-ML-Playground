{
 "cells": [
  {
   "cell_type": "markdown",
   "metadata": {
    "slideshow": {
     "slide_type": "slide"
    }
   },
   "source": [
    "# Online Learning\n",
    "\n",
    "## DavisSML: Lecture 8\n",
    "\n",
    "## Prof. James Sharpnack"
   ]
  },
  {
   "cell_type": "markdown",
   "metadata": {
    "slideshow": {
     "slide_type": "slide"
    }
   },
   "source": [
    "### Online Learning\n",
    "\n",
    "Data is streaming, and we need to predict the new points sequentially\n",
    "\n",
    "For each t:\n",
    "- $x_t$ is revealed\n",
    "- learner predicts $\\hat y_t$\n",
    "- $y_t$ is revealed and loss $\\ell(\\hat y_t,y_t)$ is incurred\n",
    "- learner updates parameters based on the experience"
   ]
  },
  {
   "cell_type": "markdown",
   "metadata": {
    "slideshow": {
     "slide_type": "slide"
    }
   },
   "source": [
    "### Naive \"batch\" method\n",
    "\n",
    "For each t:\n",
    "- Learner fits on $\\{x_i,y_i\\}_{i=1}^{t-1}$\n",
    "- Learner predicts $\\hat y_t$ from $x_t$\n",
    "\n",
    "If complexity of fit is $O(A_t)$ time then overall takes \n",
    "$$\n",
    "O\\left(\\sum_{t=1}^T A_t\\right)\n",
    "$$\n",
    "time, for $A_t = t$ (linear time) then $O(\\sum_{t=1}^T A_t) = O(T^2)$"
   ]
  },
  {
   "cell_type": "markdown",
   "metadata": {
    "slideshow": {
     "slide_type": "slide"
    }
   },
   "source": [
    "### Recall Risk and Empirical Risk\n",
    "\n",
    "Given a loss $\\ell(\\theta; X,Y)$, for parameters $\\theta$, the *risk* is \n",
    "$$\n",
    "R(\\theta) = \\mathbb E \\ell(\\theta; X,Y).\n",
    "$$\n",
    "\n",
    "And given training data $\\{x_i,y_i\\}_{i=1}^{n}$ (drawn iid to $X,Y$), then the *empirical risk* is\n",
    "$$\n",
    "R_n(\\theta) = \\frac 1n \\sum_{i=1}^n \\ell(\\theta; x_i, y_i).\n",
    "$$\n",
    "Notice that $\\mathbb E R_n(\\theta) = R(\\theta)$ for fixed $\\theta$.\n",
    "\n",
    "For a class of parameters $\\Theta$, the *empirical risk minimizer (ERM)* is the \n",
    "$$\n",
    "\\hat \\theta = \\arg \\min_{\\theta \\in \\Theta} R_n(\\theta)\n",
    "$$\n",
    "(may not be unique)."
   ]
  },
  {
   "cell_type": "markdown",
   "metadata": {
    "slideshow": {
     "slide_type": "slide"
    }
   },
   "source": [
    "### Ideal gradient descent\n",
    "\n",
    "Suitable for uncontrained/regularized form.  Risk is \n",
    "$$\n",
    "R(\\theta) = \\mathbb E \\ell(\\theta; X,Y).\n",
    "$$\n",
    "\n",
    "Suppose that we had access to $R(\\theta)$ the true risk.  Then to minimize $R$ we could do gradient descent,\n",
    "$$\n",
    "\\theta \\gets \\theta - \\eta \\nabla R(\\theta)\n",
    "$$\n",
    "To do this we only need access to $\\nabla R(\\theta)$"
   ]
  },
  {
   "cell_type": "markdown",
   "metadata": {
    "slideshow": {
     "slide_type": "slide"
    }
   },
   "source": [
    "### ERM for convex opt\n",
    "\n",
    "Gradient for empirical risk:\n",
    "$$\n",
    "\\nabla R_n(\\theta) = \\frac 1n \\sum_{i=1}^n \\nabla \\ell(\\theta; x_i, y_i)\n",
    "$$\n",
    "and \n",
    "$$\n",
    "\\mathbb E \\nabla \\ell(\\theta; x_i, y_i) = \\nabla \\mathbb E \\ell(\\theta; x_i, y_i) = \\nabla R(\\theta)\n",
    "$$\n",
    "So, gradient descent for ERM moves $\\theta$ in direction of $- \\nabla R_n(\\theta)$ \n",
    "$$\n",
    "\\theta \\gets \\theta - \\eta \\nabla R_n(\\theta)\n",
    "$$\n",
    "where\n",
    "$$\n",
    "\\mathbb E \\nabla R_n(\\theta) = \\nabla R(\\theta)\n",
    "$$"
   ]
  },
  {
   "cell_type": "markdown",
   "metadata": {
    "slideshow": {
     "slide_type": "slide"
    }
   },
   "source": [
    "### Minibatch gradient descent\n",
    "\n",
    "A *minibatch* is a random subsample of data $(x_1,y_1), \\ldots, (x_m,y_m)$ in the full training data.\n",
    "Then the minibatch gradient is\n",
    "$$\n",
    "\\nabla R_m(\\theta) = \\frac 1m \\sum_{i=1}^m \\nabla \\ell(\\theta; x_i, y_i)\n",
    "$$\n",
    "we also have that \n",
    "$$\n",
    "\\mathbb E \\nabla R_m(\\theta) = \\nabla R(\\theta)\n",
    "$$\n",
    "the downside is that $R_m(\\theta)$ is noisier. Meaning that it has high variance.\n",
    "\n",
    "Actually that is good for neural networks."
   ]
  },
  {
   "cell_type": "markdown",
   "metadata": {
    "slideshow": {
     "slide_type": "slide"
    }
   },
   "source": [
    "### Stochastic gradient descent\n",
    "\n",
    "Assumes that $(x_t,y_t)$ are drawn iid from some population.  SGD uses a minibatch size of $m=1$.\n",
    "\n",
    "\n",
    "For each t:\n",
    "- $x_t$ is revealed\n",
    "- learner predicts $\\hat y_t$ with $f_\\theta$\n",
    "- $y_t$ is revealed and loss $\\ell(\\hat y_t,y_t)$ is incurred\n",
    "- learner updates parameters with update,\n",
    "$$\n",
    "\\theta \\gets \\theta - \\eta \\nabla \\ell(\\theta; x_t,y_t)\n",
    "$$"
   ]
  },
  {
   "cell_type": "markdown",
   "metadata": {
    "slideshow": {
     "slide_type": "slide"
    }
   },
   "source": [
    "- **Loss**: $$\\ell(\\hat y_i,y_i) = \\left(\\beta_0 + \\sum_j \\beta_j x_{i,j} - y_i \\right)^2$$\n",
    "Which is the squred error loss and ordinary least squares.\n",
    "\n",
    "- **Gradient**: $$\\frac{\\partial}{\\partial \\beta_j} \\ell(\\hat y_i,y_i) = 2 \\left(\\beta_0 + \\sum_j \\beta_j x_{i,j} - y_i\\right) x_{i,j}  = \\delta_i x_{i,j}$$\n",
    "$$\\frac{\\partial}{\\partial \\beta_0} \\ell(\\hat y_i,y_i) = 2 \\left(\\beta_0 + \\sum_j \\beta_j x_{i,j} - y_i\\right)  = \\delta_i$$\n",
    "$$ \\delta_i = 2 \\left(\\hat y_i - y_i \\right)$$\n",
    "\n",
    "- **Update**: $$\\beta \\gets \\beta - \\eta \\delta_i x_i$$\n",
    "$$\\beta_0 \\gets \\beta_0 - \\eta \\delta_i$$"
   ]
  },
  {
   "cell_type": "markdown",
   "metadata": {
    "slideshow": {
     "slide_type": "slide"
    }
   },
   "source": [
    "### Exercise 8.1\n",
    "\n",
    "1. Suppose $t$ is drawn uniformly at random from $1,\\ldots,n$.  What is $\\mathbb E_t \\nabla \\ell(\\theta; x_t, y_t)$ where the expectation is taken only with respect to the random draw of $t$?\n",
    "\n",
    "2. For the cell above, let $\\beta, \\beta_0$ be fixed.  Suppose that $y_i = \\beta_0^* + x_i^\\top \\beta^* + \\epsilon_i$ where $\\epsilon_i$ is zero mean and independent of $x_i$ (this is called exogeneity).  What is the expected gradients for a random draw of $x_i,y_i$,\n",
    "$$ \\mathbb E \\delta_i x_i = ?$$\n",
    "$$ \\mathbb E \\delta_i = ?$$\n",
    "Try to get these expressions as reduced as possible."
   ]
  },
  {
   "cell_type": "markdown",
   "metadata": {
    "slideshow": {
     "slide_type": "slide"
    }
   },
   "source": [
    "### Exercise 8.1 Answers\n",
    "\n",
    "1. $$ \\mathbb E_t \\nabla \\ell(\\theta; x_t, y_t) = \\frac 1n \\sum_{i=1}^n \\nabla \\ell(\\theta; x_i, y_i) = \\nabla R_n(\\theta)$$\n",
    "\n",
    "2. Because $\\hat y_i = \\beta_0 + \\beta^\\top x_i$, $$\\mathbb E \\delta_i = 2 \\mathbb E (\\beta_0 + \\beta^\\top x_i - y_i) = 2 (\\beta - \\beta^*)^\\top \\mathbb E [x_i] + 2(\\beta_0 - \\beta_0^*).$$\n",
    "Also,\n",
    "$$ \\delta_i x_i = 2(\\beta_0 + \\beta^\\top x_i - y_i) x_i = 2(\\beta_0 - \\beta_0^* + \\beta^\\top x_i - \\beta^{*,\\top} x_i - \\epsilon_i) x_i$$\n",
    "So,\n",
    "$$ \\mathbb E \\delta_i x_i = 2 \\mathbb E (\\beta_0 - \\beta_0^* + \\beta^\\top x_i - \\beta^{*,\\top} x_i) x_i + 2 \\mathbb E \\epsilon_i x_i = 2 \\left( \\mathbb E [x_i x_i^\\top] (\\beta - \\beta^*) + (\\beta_0 - \\beta_0^*) \\mathbb E [x_i] \\right)$$\n",
    "by the exogeneity.\n",
    "\n",
    "This tells us that the $ \\mathbb E \\delta_i x_i$ is dependant on the covariance matrix of $x_i$."
   ]
  },
  {
   "cell_type": "code",
   "execution_count": 1,
   "metadata": {
    "slideshow": {
     "slide_type": "skip"
    }
   },
   "outputs": [],
   "source": [
    "import pandas as pd\n",
    "import numpy as np\n",
    "import matplotlib.pyplot as plt"
   ]
  },
  {
   "cell_type": "code",
   "execution_count": 4,
   "metadata": {},
   "outputs": [
    {
     "output_type": "stream",
     "name": "stdout",
     "text": "# conda environments:\n#\nbase                     C:\\Anaconda2\nPygame                   C:\\Anaconda2\\envs\\Pygame\nefm                      C:\\Anaconda2\\envs\\efm\nimageseg                 C:\\Anaconda2\\envs\\imageseg\nrstudio                  C:\\Anaconda2\\envs\\rstudio\nstat                  *  C:\\Anaconda2\\envs\\stat\n\n"
    }
   ],
   "source": [
    "!conda env list\n"
   ]
  },
  {
   "cell_type": "code",
   "execution_count": 2,
   "metadata": {
    "slideshow": {
     "slide_type": "slide"
    }
   },
   "outputs": [],
   "source": [
    "## open wine data\n",
    "wine = pd.read_csv('../../data/winequality-red.csv',delimiter=';')\n",
    "Y = wine.values[:,-1]\n",
    "X = wine.values[:,:-1]\n",
    "n,p = X.shape\n",
    "\n",
    "X = n**0.5 * (X - X.mean(axis=0)) / X.std(axis=0)"
   ]
  },
  {
   "cell_type": "code",
   "execution_count": 5,
   "metadata": {
    "slideshow": {
     "slide_type": "slide"
    }
   },
   "outputs": [],
   "source": [
    "## Look at LROnline.py\n",
    "\n",
    "from LROnline import *\n",
    "\n",
    "learner = LROnline(p,loss='sqr',decay=-1.)"
   ]
  },
  {
   "cell_type": "code",
   "execution_count": 6,
   "metadata": {
    "slideshow": {
     "slide_type": "slide"
    }
   },
   "outputs": [
    {
     "output_type": "stream",
     "name": "stdout",
     "text": "Help on method update_beta in module LROnline:\n\nupdate_beta(x, y) method of LROnline.LROnline instance\n    single step update, output loss\n    args: x,y\n\n"
    }
   ],
   "source": [
    "help(learner.update_beta) # why we do docstrings"
   ]
  },
  {
   "cell_type": "code",
   "execution_count": 7,
   "metadata": {
    "slideshow": {
     "slide_type": "slide"
    }
   },
   "outputs": [
    {
     "output_type": "execute_result",
     "data": {
      "text/plain": "(array([0., 0., 0., 0., 0., 0., 0., 0., 0., 0., 0.]),\n 5.0,\n array([-21.12777894,  38.46304151, -55.64149498, -18.12307015,\n         -9.74522065, -18.64187237, -15.16056766,  22.32399898,\n         51.52960611, -23.16101967, -38.39783932]))"
     },
     "metadata": {},
     "execution_count": 7
    }
   ],
   "source": [
    "yx_it = zip(Y,X) # iterator giving data\n",
    "y,x = next(yx_it) # first datum\n",
    "learner.beta, y, x # init beta, first datum"
   ]
  },
  {
   "cell_type": "code",
   "execution_count": 8,
   "metadata": {
    "slideshow": {
     "slide_type": "slide"
    }
   },
   "outputs": [
    {
     "output_type": "execute_result",
     "data": {
      "text/plain": "25.0"
     },
     "metadata": {},
     "execution_count": 8
    }
   ],
   "source": [
    "learner.update_beta(x,y) # return loss"
   ]
  },
  {
   "cell_type": "code",
   "execution_count": 9,
   "metadata": {
    "slideshow": {
     "slide_type": "slide"
    }
   },
   "outputs": [
    {
     "output_type": "execute_result",
     "data": {
      "text/plain": "(array([-211.27778942,  384.63041512, -556.41494984, -181.23070154,\n         -97.45220654, -186.41872368, -151.60567657,  223.2399898 ,\n         515.29606114, -231.61019672, -383.97839323]),\n 5.0,\n array([-21.12777894,  38.46304151, -55.64149498, -18.12307015,\n         -9.74522065, -18.64187237, -15.16056766,  22.32399898,\n         51.52960611, -23.16101967, -38.39783932]))"
     },
     "metadata": {},
     "execution_count": 9
    }
   ],
   "source": [
    "learner.beta, y, x # new beta, first datum"
   ]
  },
  {
   "cell_type": "code",
   "execution_count": 10,
   "metadata": {
    "slideshow": {
     "slide_type": "slide"
    }
   },
   "outputs": [],
   "source": [
    "losses = [learner.update_beta(x,y) for y,x in yx_it] # run online learning"
   ]
  },
  {
   "cell_type": "code",
   "execution_count": 11,
   "metadata": {
    "slideshow": {
     "slide_type": "slide"
    }
   },
   "outputs": [
    {
     "output_type": "display_data",
     "data": {
      "text/plain": "<Figure size 432x288 with 1 Axes>",
      "image/svg+xml": "<?xml version=\"1.0\" encoding=\"utf-8\" standalone=\"no\"?>\r\n<!DOCTYPE svg PUBLIC \"-//W3C//DTD SVG 1.1//EN\"\r\n  \"http://www.w3.org/Graphics/SVG/1.1/DTD/svg11.dtd\">\r\n<!-- Created with matplotlib (https://matplotlib.org/) -->\r\n<svg height=\"263.63625pt\" version=\"1.1\" viewBox=\"0 0 378.465625 263.63625\" width=\"378.465625pt\" xmlns=\"http://www.w3.org/2000/svg\" xmlns:xlink=\"http://www.w3.org/1999/xlink\">\r\n <defs>\r\n  <style type=\"text/css\">\r\n*{stroke-linecap:butt;stroke-linejoin:round;}\r\n  </style>\r\n </defs>\r\n <g id=\"figure_1\">\r\n  <g id=\"patch_1\">\r\n   <path d=\"M 0 263.63625 \r\nL 378.465625 263.63625 \r\nL 378.465625 0 \r\nL 0 0 \r\nz\r\n\" style=\"fill:none;\"/>\r\n  </g>\r\n  <g id=\"axes_1\">\r\n   <g id=\"patch_2\">\r\n    <path d=\"M 36.465625 239.758125 \r\nL 371.265625 239.758125 \r\nL 371.265625 22.318125 \r\nL 36.465625 22.318125 \r\nz\r\n\" style=\"fill:#ffffff;\"/>\r\n   </g>\r\n   <g id=\"matplotlib.axis_1\">\r\n    <g id=\"xtick_1\">\r\n     <g id=\"line2d_1\">\r\n      <defs>\r\n       <path d=\"M 0 0 \r\nL 0 3.5 \r\n\" id=\"mc8434ee2ee\" style=\"stroke:#000000;stroke-width:0.8;\"/>\r\n      </defs>\r\n      <g>\r\n       <use style=\"stroke:#000000;stroke-width:0.8;\" x=\"51.683807\" xlink:href=\"#mc8434ee2ee\" y=\"239.758125\"/>\r\n      </g>\r\n     </g>\r\n     <g id=\"text_1\">\r\n      <!-- 0 -->\r\n      <defs>\r\n       <path d=\"M 31.78125 66.40625 \r\nQ 24.171875 66.40625 20.328125 58.90625 \r\nQ 16.5 51.421875 16.5 36.375 \r\nQ 16.5 21.390625 20.328125 13.890625 \r\nQ 24.171875 6.390625 31.78125 6.390625 \r\nQ 39.453125 6.390625 43.28125 13.890625 \r\nQ 47.125 21.390625 47.125 36.375 \r\nQ 47.125 51.421875 43.28125 58.90625 \r\nQ 39.453125 66.40625 31.78125 66.40625 \r\nz\r\nM 31.78125 74.21875 \r\nQ 44.046875 74.21875 50.515625 64.515625 \r\nQ 56.984375 54.828125 56.984375 36.375 \r\nQ 56.984375 17.96875 50.515625 8.265625 \r\nQ 44.046875 -1.421875 31.78125 -1.421875 \r\nQ 19.53125 -1.421875 13.0625 8.265625 \r\nQ 6.59375 17.96875 6.59375 36.375 \r\nQ 6.59375 54.828125 13.0625 64.515625 \r\nQ 19.53125 74.21875 31.78125 74.21875 \r\nz\r\n\" id=\"DejaVuSans-48\"/>\r\n      </defs>\r\n      <g transform=\"translate(48.502557 254.356563)scale(0.1 -0.1)\">\r\n       <use xlink:href=\"#DejaVuSans-48\"/>\r\n      </g>\r\n     </g>\r\n    </g>\r\n    <g id=\"xtick_2\">\r\n     <g id=\"line2d_2\">\r\n      <g>\r\n       <use style=\"stroke:#000000;stroke-width:0.8;\" x=\"101.579485\" xlink:href=\"#mc8434ee2ee\" y=\"239.758125\"/>\r\n      </g>\r\n     </g>\r\n     <g id=\"text_2\">\r\n      <!-- 10 -->\r\n      <defs>\r\n       <path d=\"M 12.40625 8.296875 \r\nL 28.515625 8.296875 \r\nL 28.515625 63.921875 \r\nL 10.984375 60.40625 \r\nL 10.984375 69.390625 \r\nL 28.421875 72.90625 \r\nL 38.28125 72.90625 \r\nL 38.28125 8.296875 \r\nL 54.390625 8.296875 \r\nL 54.390625 0 \r\nL 12.40625 0 \r\nz\r\n\" id=\"DejaVuSans-49\"/>\r\n      </defs>\r\n      <g transform=\"translate(95.216985 254.356563)scale(0.1 -0.1)\">\r\n       <use xlink:href=\"#DejaVuSans-49\"/>\r\n       <use x=\"63.623047\" xlink:href=\"#DejaVuSans-48\"/>\r\n      </g>\r\n     </g>\r\n    </g>\r\n    <g id=\"xtick_3\">\r\n     <g id=\"line2d_3\">\r\n      <g>\r\n       <use style=\"stroke:#000000;stroke-width:0.8;\" x=\"151.475163\" xlink:href=\"#mc8434ee2ee\" y=\"239.758125\"/>\r\n      </g>\r\n     </g>\r\n     <g id=\"text_3\">\r\n      <!-- 20 -->\r\n      <defs>\r\n       <path d=\"M 19.1875 8.296875 \r\nL 53.609375 8.296875 \r\nL 53.609375 0 \r\nL 7.328125 0 \r\nL 7.328125 8.296875 \r\nQ 12.9375 14.109375 22.625 23.890625 \r\nQ 32.328125 33.6875 34.8125 36.53125 \r\nQ 39.546875 41.84375 41.421875 45.53125 \r\nQ 43.3125 49.21875 43.3125 52.78125 \r\nQ 43.3125 58.59375 39.234375 62.25 \r\nQ 35.15625 65.921875 28.609375 65.921875 \r\nQ 23.96875 65.921875 18.8125 64.3125 \r\nQ 13.671875 62.703125 7.8125 59.421875 \r\nL 7.8125 69.390625 \r\nQ 13.765625 71.78125 18.9375 73 \r\nQ 24.125 74.21875 28.421875 74.21875 \r\nQ 39.75 74.21875 46.484375 68.546875 \r\nQ 53.21875 62.890625 53.21875 53.421875 \r\nQ 53.21875 48.921875 51.53125 44.890625 \r\nQ 49.859375 40.875 45.40625 35.40625 \r\nQ 44.1875 33.984375 37.640625 27.21875 \r\nQ 31.109375 20.453125 19.1875 8.296875 \r\nz\r\n\" id=\"DejaVuSans-50\"/>\r\n      </defs>\r\n      <g transform=\"translate(145.112663 254.356563)scale(0.1 -0.1)\">\r\n       <use xlink:href=\"#DejaVuSans-50\"/>\r\n       <use x=\"63.623047\" xlink:href=\"#DejaVuSans-48\"/>\r\n      </g>\r\n     </g>\r\n    </g>\r\n    <g id=\"xtick_4\">\r\n     <g id=\"line2d_4\">\r\n      <g>\r\n       <use style=\"stroke:#000000;stroke-width:0.8;\" x=\"201.370841\" xlink:href=\"#mc8434ee2ee\" y=\"239.758125\"/>\r\n      </g>\r\n     </g>\r\n     <g id=\"text_4\">\r\n      <!-- 30 -->\r\n      <defs>\r\n       <path d=\"M 40.578125 39.3125 \r\nQ 47.65625 37.796875 51.625 33 \r\nQ 55.609375 28.21875 55.609375 21.1875 \r\nQ 55.609375 10.40625 48.1875 4.484375 \r\nQ 40.765625 -1.421875 27.09375 -1.421875 \r\nQ 22.515625 -1.421875 17.65625 -0.515625 \r\nQ 12.796875 0.390625 7.625 2.203125 \r\nL 7.625 11.71875 \r\nQ 11.71875 9.328125 16.59375 8.109375 \r\nQ 21.484375 6.890625 26.8125 6.890625 \r\nQ 36.078125 6.890625 40.9375 10.546875 \r\nQ 45.796875 14.203125 45.796875 21.1875 \r\nQ 45.796875 27.640625 41.28125 31.265625 \r\nQ 36.765625 34.90625 28.71875 34.90625 \r\nL 20.21875 34.90625 \r\nL 20.21875 43.015625 \r\nL 29.109375 43.015625 \r\nQ 36.375 43.015625 40.234375 45.921875 \r\nQ 44.09375 48.828125 44.09375 54.296875 \r\nQ 44.09375 59.90625 40.109375 62.90625 \r\nQ 36.140625 65.921875 28.71875 65.921875 \r\nQ 24.65625 65.921875 20.015625 65.03125 \r\nQ 15.375 64.15625 9.8125 62.3125 \r\nL 9.8125 71.09375 \r\nQ 15.4375 72.65625 20.34375 73.4375 \r\nQ 25.25 74.21875 29.59375 74.21875 \r\nQ 40.828125 74.21875 47.359375 69.109375 \r\nQ 53.90625 64.015625 53.90625 55.328125 \r\nQ 53.90625 49.265625 50.4375 45.09375 \r\nQ 46.96875 40.921875 40.578125 39.3125 \r\nz\r\n\" id=\"DejaVuSans-51\"/>\r\n      </defs>\r\n      <g transform=\"translate(195.008341 254.356563)scale(0.1 -0.1)\">\r\n       <use xlink:href=\"#DejaVuSans-51\"/>\r\n       <use x=\"63.623047\" xlink:href=\"#DejaVuSans-48\"/>\r\n      </g>\r\n     </g>\r\n    </g>\r\n    <g id=\"xtick_5\">\r\n     <g id=\"line2d_5\">\r\n      <g>\r\n       <use style=\"stroke:#000000;stroke-width:0.8;\" x=\"251.266519\" xlink:href=\"#mc8434ee2ee\" y=\"239.758125\"/>\r\n      </g>\r\n     </g>\r\n     <g id=\"text_5\">\r\n      <!-- 40 -->\r\n      <defs>\r\n       <path d=\"M 37.796875 64.3125 \r\nL 12.890625 25.390625 \r\nL 37.796875 25.390625 \r\nz\r\nM 35.203125 72.90625 \r\nL 47.609375 72.90625 \r\nL 47.609375 25.390625 \r\nL 58.015625 25.390625 \r\nL 58.015625 17.1875 \r\nL 47.609375 17.1875 \r\nL 47.609375 0 \r\nL 37.796875 0 \r\nL 37.796875 17.1875 \r\nL 4.890625 17.1875 \r\nL 4.890625 26.703125 \r\nz\r\n\" id=\"DejaVuSans-52\"/>\r\n      </defs>\r\n      <g transform=\"translate(244.904019 254.356563)scale(0.1 -0.1)\">\r\n       <use xlink:href=\"#DejaVuSans-52\"/>\r\n       <use x=\"63.623047\" xlink:href=\"#DejaVuSans-48\"/>\r\n      </g>\r\n     </g>\r\n    </g>\r\n    <g id=\"xtick_6\">\r\n     <g id=\"line2d_6\">\r\n      <g>\r\n       <use style=\"stroke:#000000;stroke-width:0.8;\" x=\"301.162197\" xlink:href=\"#mc8434ee2ee\" y=\"239.758125\"/>\r\n      </g>\r\n     </g>\r\n     <g id=\"text_6\">\r\n      <!-- 50 -->\r\n      <defs>\r\n       <path d=\"M 10.796875 72.90625 \r\nL 49.515625 72.90625 \r\nL 49.515625 64.59375 \r\nL 19.828125 64.59375 \r\nL 19.828125 46.734375 \r\nQ 21.96875 47.46875 24.109375 47.828125 \r\nQ 26.265625 48.1875 28.421875 48.1875 \r\nQ 40.625 48.1875 47.75 41.5 \r\nQ 54.890625 34.8125 54.890625 23.390625 \r\nQ 54.890625 11.625 47.5625 5.09375 \r\nQ 40.234375 -1.421875 26.90625 -1.421875 \r\nQ 22.3125 -1.421875 17.546875 -0.640625 \r\nQ 12.796875 0.140625 7.71875 1.703125 \r\nL 7.71875 11.625 \r\nQ 12.109375 9.234375 16.796875 8.0625 \r\nQ 21.484375 6.890625 26.703125 6.890625 \r\nQ 35.15625 6.890625 40.078125 11.328125 \r\nQ 45.015625 15.765625 45.015625 23.390625 \r\nQ 45.015625 31 40.078125 35.4375 \r\nQ 35.15625 39.890625 26.703125 39.890625 \r\nQ 22.75 39.890625 18.8125 39.015625 \r\nQ 14.890625 38.140625 10.796875 36.28125 \r\nz\r\n\" id=\"DejaVuSans-53\"/>\r\n      </defs>\r\n      <g transform=\"translate(294.799697 254.356563)scale(0.1 -0.1)\">\r\n       <use xlink:href=\"#DejaVuSans-53\"/>\r\n       <use x=\"63.623047\" xlink:href=\"#DejaVuSans-48\"/>\r\n      </g>\r\n     </g>\r\n    </g>\r\n    <g id=\"xtick_7\">\r\n     <g id=\"line2d_7\">\r\n      <g>\r\n       <use style=\"stroke:#000000;stroke-width:0.8;\" x=\"351.057875\" xlink:href=\"#mc8434ee2ee\" y=\"239.758125\"/>\r\n      </g>\r\n     </g>\r\n     <g id=\"text_7\">\r\n      <!-- 60 -->\r\n      <defs>\r\n       <path d=\"M 33.015625 40.375 \r\nQ 26.375 40.375 22.484375 35.828125 \r\nQ 18.609375 31.296875 18.609375 23.390625 \r\nQ 18.609375 15.53125 22.484375 10.953125 \r\nQ 26.375 6.390625 33.015625 6.390625 \r\nQ 39.65625 6.390625 43.53125 10.953125 \r\nQ 47.40625 15.53125 47.40625 23.390625 \r\nQ 47.40625 31.296875 43.53125 35.828125 \r\nQ 39.65625 40.375 33.015625 40.375 \r\nz\r\nM 52.59375 71.296875 \r\nL 52.59375 62.3125 \r\nQ 48.875 64.0625 45.09375 64.984375 \r\nQ 41.3125 65.921875 37.59375 65.921875 \r\nQ 27.828125 65.921875 22.671875 59.328125 \r\nQ 17.53125 52.734375 16.796875 39.40625 \r\nQ 19.671875 43.65625 24.015625 45.921875 \r\nQ 28.375 48.1875 33.59375 48.1875 \r\nQ 44.578125 48.1875 50.953125 41.515625 \r\nQ 57.328125 34.859375 57.328125 23.390625 \r\nQ 57.328125 12.15625 50.6875 5.359375 \r\nQ 44.046875 -1.421875 33.015625 -1.421875 \r\nQ 20.359375 -1.421875 13.671875 8.265625 \r\nQ 6.984375 17.96875 6.984375 36.375 \r\nQ 6.984375 53.65625 15.1875 63.9375 \r\nQ 23.390625 74.21875 37.203125 74.21875 \r\nQ 40.921875 74.21875 44.703125 73.484375 \r\nQ 48.484375 72.75 52.59375 71.296875 \r\nz\r\n\" id=\"DejaVuSans-54\"/>\r\n      </defs>\r\n      <g transform=\"translate(344.695375 254.356563)scale(0.1 -0.1)\">\r\n       <use xlink:href=\"#DejaVuSans-54\"/>\r\n       <use x=\"63.623047\" xlink:href=\"#DejaVuSans-48\"/>\r\n      </g>\r\n     </g>\r\n    </g>\r\n   </g>\r\n   <g id=\"matplotlib.axis_2\">\r\n    <g id=\"ytick_1\">\r\n     <g id=\"line2d_8\">\r\n      <defs>\r\n       <path d=\"M 0 0 \r\nL -3.5 0 \r\n\" id=\"m5c97f1dbbc\" style=\"stroke:#000000;stroke-width:0.8;\"/>\r\n      </defs>\r\n      <g>\r\n       <use style=\"stroke:#000000;stroke-width:0.8;\" x=\"36.465625\" xlink:href=\"#m5c97f1dbbc\" y=\"229.874489\"/>\r\n      </g>\r\n     </g>\r\n     <g id=\"text_8\">\r\n      <!-- 0.00 -->\r\n      <defs>\r\n       <path d=\"M 10.6875 12.40625 \r\nL 21 12.40625 \r\nL 21 0 \r\nL 10.6875 0 \r\nz\r\n\" id=\"DejaVuSans-46\"/>\r\n      </defs>\r\n      <g transform=\"translate(7.2 233.673707)scale(0.1 -0.1)\">\r\n       <use xlink:href=\"#DejaVuSans-48\"/>\r\n       <use x=\"63.623047\" xlink:href=\"#DejaVuSans-46\"/>\r\n       <use x=\"95.410156\" xlink:href=\"#DejaVuSans-48\"/>\r\n       <use x=\"159.033203\" xlink:href=\"#DejaVuSans-48\"/>\r\n      </g>\r\n     </g>\r\n    </g>\r\n    <g id=\"ytick_2\">\r\n     <g id=\"line2d_9\">\r\n      <g>\r\n       <use style=\"stroke:#000000;stroke-width:0.8;\" x=\"36.465625\" xlink:href=\"#m5c97f1dbbc\" y=\"204.775222\"/>\r\n      </g>\r\n     </g>\r\n     <g id=\"text_9\">\r\n      <!-- 0.25 -->\r\n      <g transform=\"translate(7.2 208.574441)scale(0.1 -0.1)\">\r\n       <use xlink:href=\"#DejaVuSans-48\"/>\r\n       <use x=\"63.623047\" xlink:href=\"#DejaVuSans-46\"/>\r\n       <use x=\"95.410156\" xlink:href=\"#DejaVuSans-50\"/>\r\n       <use x=\"159.033203\" xlink:href=\"#DejaVuSans-53\"/>\r\n      </g>\r\n     </g>\r\n    </g>\r\n    <g id=\"ytick_3\">\r\n     <g id=\"line2d_10\">\r\n      <g>\r\n       <use style=\"stroke:#000000;stroke-width:0.8;\" x=\"36.465625\" xlink:href=\"#m5c97f1dbbc\" y=\"179.675956\"/>\r\n      </g>\r\n     </g>\r\n     <g id=\"text_10\">\r\n      <!-- 0.50 -->\r\n      <g transform=\"translate(7.2 183.475175)scale(0.1 -0.1)\">\r\n       <use xlink:href=\"#DejaVuSans-48\"/>\r\n       <use x=\"63.623047\" xlink:href=\"#DejaVuSans-46\"/>\r\n       <use x=\"95.410156\" xlink:href=\"#DejaVuSans-53\"/>\r\n       <use x=\"159.033203\" xlink:href=\"#DejaVuSans-48\"/>\r\n      </g>\r\n     </g>\r\n    </g>\r\n    <g id=\"ytick_4\">\r\n     <g id=\"line2d_11\">\r\n      <g>\r\n       <use style=\"stroke:#000000;stroke-width:0.8;\" x=\"36.465625\" xlink:href=\"#m5c97f1dbbc\" y=\"154.57669\"/>\r\n      </g>\r\n     </g>\r\n     <g id=\"text_11\">\r\n      <!-- 0.75 -->\r\n      <defs>\r\n       <path d=\"M 8.203125 72.90625 \r\nL 55.078125 72.90625 \r\nL 55.078125 68.703125 \r\nL 28.609375 0 \r\nL 18.3125 0 \r\nL 43.21875 64.59375 \r\nL 8.203125 64.59375 \r\nz\r\n\" id=\"DejaVuSans-55\"/>\r\n      </defs>\r\n      <g transform=\"translate(7.2 158.375909)scale(0.1 -0.1)\">\r\n       <use xlink:href=\"#DejaVuSans-48\"/>\r\n       <use x=\"63.623047\" xlink:href=\"#DejaVuSans-46\"/>\r\n       <use x=\"95.410156\" xlink:href=\"#DejaVuSans-55\"/>\r\n       <use x=\"159.033203\" xlink:href=\"#DejaVuSans-53\"/>\r\n      </g>\r\n     </g>\r\n    </g>\r\n    <g id=\"ytick_5\">\r\n     <g id=\"line2d_12\">\r\n      <g>\r\n       <use style=\"stroke:#000000;stroke-width:0.8;\" x=\"36.465625\" xlink:href=\"#m5c97f1dbbc\" y=\"129.477423\"/>\r\n      </g>\r\n     </g>\r\n     <g id=\"text_12\">\r\n      <!-- 1.00 -->\r\n      <g transform=\"translate(7.2 133.276642)scale(0.1 -0.1)\">\r\n       <use xlink:href=\"#DejaVuSans-49\"/>\r\n       <use x=\"63.623047\" xlink:href=\"#DejaVuSans-46\"/>\r\n       <use x=\"95.410156\" xlink:href=\"#DejaVuSans-48\"/>\r\n       <use x=\"159.033203\" xlink:href=\"#DejaVuSans-48\"/>\r\n      </g>\r\n     </g>\r\n    </g>\r\n    <g id=\"ytick_6\">\r\n     <g id=\"line2d_13\">\r\n      <g>\r\n       <use style=\"stroke:#000000;stroke-width:0.8;\" x=\"36.465625\" xlink:href=\"#m5c97f1dbbc\" y=\"104.378157\"/>\r\n      </g>\r\n     </g>\r\n     <g id=\"text_13\">\r\n      <!-- 1.25 -->\r\n      <g transform=\"translate(7.2 108.177376)scale(0.1 -0.1)\">\r\n       <use xlink:href=\"#DejaVuSans-49\"/>\r\n       <use x=\"63.623047\" xlink:href=\"#DejaVuSans-46\"/>\r\n       <use x=\"95.410156\" xlink:href=\"#DejaVuSans-50\"/>\r\n       <use x=\"159.033203\" xlink:href=\"#DejaVuSans-53\"/>\r\n      </g>\r\n     </g>\r\n    </g>\r\n    <g id=\"ytick_7\">\r\n     <g id=\"line2d_14\">\r\n      <g>\r\n       <use style=\"stroke:#000000;stroke-width:0.8;\" x=\"36.465625\" xlink:href=\"#m5c97f1dbbc\" y=\"79.278891\"/>\r\n      </g>\r\n     </g>\r\n     <g id=\"text_14\">\r\n      <!-- 1.50 -->\r\n      <g transform=\"translate(7.2 83.07811)scale(0.1 -0.1)\">\r\n       <use xlink:href=\"#DejaVuSans-49\"/>\r\n       <use x=\"63.623047\" xlink:href=\"#DejaVuSans-46\"/>\r\n       <use x=\"95.410156\" xlink:href=\"#DejaVuSans-53\"/>\r\n       <use x=\"159.033203\" xlink:href=\"#DejaVuSans-48\"/>\r\n      </g>\r\n     </g>\r\n    </g>\r\n    <g id=\"ytick_8\">\r\n     <g id=\"line2d_15\">\r\n      <g>\r\n       <use style=\"stroke:#000000;stroke-width:0.8;\" x=\"36.465625\" xlink:href=\"#m5c97f1dbbc\" y=\"54.179625\"/>\r\n      </g>\r\n     </g>\r\n     <g id=\"text_15\">\r\n      <!-- 1.75 -->\r\n      <g transform=\"translate(7.2 57.978843)scale(0.1 -0.1)\">\r\n       <use xlink:href=\"#DejaVuSans-49\"/>\r\n       <use x=\"63.623047\" xlink:href=\"#DejaVuSans-46\"/>\r\n       <use x=\"95.410156\" xlink:href=\"#DejaVuSans-55\"/>\r\n       <use x=\"159.033203\" xlink:href=\"#DejaVuSans-53\"/>\r\n      </g>\r\n     </g>\r\n    </g>\r\n    <g id=\"ytick_9\">\r\n     <g id=\"line2d_16\">\r\n      <g>\r\n       <use style=\"stroke:#000000;stroke-width:0.8;\" x=\"36.465625\" xlink:href=\"#m5c97f1dbbc\" y=\"29.080358\"/>\r\n      </g>\r\n     </g>\r\n     <g id=\"text_16\">\r\n      <!-- 2.00 -->\r\n      <g transform=\"translate(7.2 32.879577)scale(0.1 -0.1)\">\r\n       <use xlink:href=\"#DejaVuSans-50\"/>\r\n       <use x=\"63.623047\" xlink:href=\"#DejaVuSans-46\"/>\r\n       <use x=\"95.410156\" xlink:href=\"#DejaVuSans-48\"/>\r\n       <use x=\"159.033203\" xlink:href=\"#DejaVuSans-48\"/>\r\n      </g>\r\n     </g>\r\n    </g>\r\n    <g id=\"text_17\">\r\n     <!-- 1e306 -->\r\n     <defs>\r\n      <path d=\"M 56.203125 29.59375 \r\nL 56.203125 25.203125 \r\nL 14.890625 25.203125 \r\nQ 15.484375 15.921875 20.484375 11.0625 \r\nQ 25.484375 6.203125 34.421875 6.203125 \r\nQ 39.59375 6.203125 44.453125 7.46875 \r\nQ 49.3125 8.734375 54.109375 11.28125 \r\nL 54.109375 2.78125 \r\nQ 49.265625 0.734375 44.1875 -0.34375 \r\nQ 39.109375 -1.421875 33.890625 -1.421875 \r\nQ 20.796875 -1.421875 13.15625 6.1875 \r\nQ 5.515625 13.8125 5.515625 26.8125 \r\nQ 5.515625 40.234375 12.765625 48.109375 \r\nQ 20.015625 56 32.328125 56 \r\nQ 43.359375 56 49.78125 48.890625 \r\nQ 56.203125 41.796875 56.203125 29.59375 \r\nz\r\nM 47.21875 32.234375 \r\nQ 47.125 39.59375 43.09375 43.984375 \r\nQ 39.0625 48.390625 32.421875 48.390625 \r\nQ 24.90625 48.390625 20.390625 44.140625 \r\nQ 15.875 39.890625 15.1875 32.171875 \r\nz\r\n\" id=\"DejaVuSans-101\"/>\r\n     </defs>\r\n     <g transform=\"translate(36.465625 19.318125)scale(0.1 -0.1)\">\r\n      <use xlink:href=\"#DejaVuSans-49\"/>\r\n      <use x=\"63.623047\" xlink:href=\"#DejaVuSans-101\"/>\r\n      <use x=\"125.146484\" xlink:href=\"#DejaVuSans-51\"/>\r\n      <use x=\"188.769531\" xlink:href=\"#DejaVuSans-48\"/>\r\n      <use x=\"252.392578\" xlink:href=\"#DejaVuSans-54\"/>\r\n     </g>\r\n    </g>\r\n   </g>\r\n   <g id=\"line2d_17\">\r\n    <path clip-path=\"url(#p891baac639)\" d=\"M 51.683807 229.874489 \r\nL 56.673375 229.874489 \r\nL 61.662942 229.874489 \r\nL 66.65251 229.874489 \r\nL 71.642078 229.874489 \r\nL 76.631646 229.874489 \r\nL 81.621214 229.874489 \r\nL 86.610781 229.874489 \r\nL 91.600349 229.874489 \r\nL 96.589917 229.874489 \r\nL 101.579485 229.874489 \r\nL 106.569053 229.874489 \r\nL 111.558621 229.874489 \r\nL 116.548188 229.874489 \r\nL 121.537756 229.874489 \r\nL 126.527324 229.874489 \r\nL 131.516892 229.874489 \r\nL 136.50646 229.874489 \r\nL 141.496027 229.874489 \r\nL 146.485595 229.874489 \r\nL 151.475163 229.874489 \r\nL 156.464731 229.874489 \r\nL 161.454299 229.874489 \r\nL 166.443866 229.874489 \r\nL 171.433434 229.874489 \r\nL 176.423002 229.874489 \r\nL 181.41257 229.874489 \r\nL 186.402138 229.874489 \r\nL 191.391705 229.874489 \r\nL 196.381273 229.874489 \r\nL 201.370841 229.874489 \r\nL 206.360409 229.874489 \r\nL 211.349977 229.874489 \r\nL 216.339545 229.874489 \r\nL 221.329112 229.874489 \r\nL 226.31868 229.874489 \r\nL 231.308248 229.874489 \r\nL 236.297816 229.874489 \r\nL 241.287384 229.874489 \r\nL 246.276951 229.874489 \r\nL 251.266519 229.874489 \r\nL 256.256087 229.874489 \r\nL 261.245655 229.874489 \r\nL 266.235223 229.874489 \r\nL 271.22479 229.874489 \r\nL 276.214358 229.874489 \r\nL 281.203926 229.874489 \r\nL 286.193494 229.874489 \r\nL 291.183062 229.874489 \r\nL 296.172629 229.874489 \r\nL 301.162197 229.874489 \r\nL 306.151765 229.874489 \r\nL 311.141333 229.874489 \r\nL 316.130901 229.874489 \r\nL 321.120469 229.874489 \r\nL 326.110036 229.874489 \r\nL 331.099604 229.874489 \r\nL 336.089172 229.874489 \r\nL 341.07874 229.874489 \r\nL 346.068308 229.874431 \r\nL 351.057875 229.673903 \r\nL 356.047443 32.201761 \r\n\" style=\"fill:none;stroke:#1f77b4;stroke-linecap:square;stroke-width:1.5;\"/>\r\n   </g>\r\n   <g id=\"patch_3\">\r\n    <path d=\"M 36.465625 239.758125 \r\nL 36.465625 22.318125 \r\n\" style=\"fill:none;stroke:#000000;stroke-linecap:square;stroke-linejoin:miter;stroke-width:0.8;\"/>\r\n   </g>\r\n   <g id=\"patch_4\">\r\n    <path d=\"M 371.265625 239.758125 \r\nL 371.265625 22.318125 \r\n\" style=\"fill:none;stroke:#000000;stroke-linecap:square;stroke-linejoin:miter;stroke-width:0.8;\"/>\r\n   </g>\r\n   <g id=\"patch_5\">\r\n    <path d=\"M 36.465625 239.758125 \r\nL 371.265625 239.758125 \r\n\" style=\"fill:none;stroke:#000000;stroke-linecap:square;stroke-linejoin:miter;stroke-width:0.8;\"/>\r\n   </g>\r\n   <g id=\"patch_6\">\r\n    <path d=\"M 36.465625 22.318125 \r\nL 371.265625 22.318125 \r\n\" style=\"fill:none;stroke:#000000;stroke-linecap:square;stroke-linejoin:miter;stroke-width:0.8;\"/>\r\n   </g>\r\n   <g id=\"text_18\">\r\n    <!-- Losses with sqr error gradient descent -->\r\n    <defs>\r\n     <path d=\"M 9.8125 72.90625 \r\nL 19.671875 72.90625 \r\nL 19.671875 8.296875 \r\nL 55.171875 8.296875 \r\nL 55.171875 0 \r\nL 9.8125 0 \r\nz\r\n\" id=\"DejaVuSans-76\"/>\r\n     <path d=\"M 30.609375 48.390625 \r\nQ 23.390625 48.390625 19.1875 42.75 \r\nQ 14.984375 37.109375 14.984375 27.296875 \r\nQ 14.984375 17.484375 19.15625 11.84375 \r\nQ 23.34375 6.203125 30.609375 6.203125 \r\nQ 37.796875 6.203125 41.984375 11.859375 \r\nQ 46.1875 17.53125 46.1875 27.296875 \r\nQ 46.1875 37.015625 41.984375 42.703125 \r\nQ 37.796875 48.390625 30.609375 48.390625 \r\nz\r\nM 30.609375 56 \r\nQ 42.328125 56 49.015625 48.375 \r\nQ 55.71875 40.765625 55.71875 27.296875 \r\nQ 55.71875 13.875 49.015625 6.21875 \r\nQ 42.328125 -1.421875 30.609375 -1.421875 \r\nQ 18.84375 -1.421875 12.171875 6.21875 \r\nQ 5.515625 13.875 5.515625 27.296875 \r\nQ 5.515625 40.765625 12.171875 48.375 \r\nQ 18.84375 56 30.609375 56 \r\nz\r\n\" id=\"DejaVuSans-111\"/>\r\n     <path d=\"M 44.28125 53.078125 \r\nL 44.28125 44.578125 \r\nQ 40.484375 46.53125 36.375 47.5 \r\nQ 32.28125 48.484375 27.875 48.484375 \r\nQ 21.1875 48.484375 17.84375 46.4375 \r\nQ 14.5 44.390625 14.5 40.28125 \r\nQ 14.5 37.15625 16.890625 35.375 \r\nQ 19.28125 33.59375 26.515625 31.984375 \r\nL 29.59375 31.296875 \r\nQ 39.15625 29.25 43.1875 25.515625 \r\nQ 47.21875 21.78125 47.21875 15.09375 \r\nQ 47.21875 7.46875 41.1875 3.015625 \r\nQ 35.15625 -1.421875 24.609375 -1.421875 \r\nQ 20.21875 -1.421875 15.453125 -0.5625 \r\nQ 10.6875 0.296875 5.421875 2 \r\nL 5.421875 11.28125 \r\nQ 10.40625 8.6875 15.234375 7.390625 \r\nQ 20.0625 6.109375 24.8125 6.109375 \r\nQ 31.15625 6.109375 34.5625 8.28125 \r\nQ 37.984375 10.453125 37.984375 14.40625 \r\nQ 37.984375 18.0625 35.515625 20.015625 \r\nQ 33.0625 21.96875 24.703125 23.78125 \r\nL 21.578125 24.515625 \r\nQ 13.234375 26.265625 9.515625 29.90625 \r\nQ 5.8125 33.546875 5.8125 39.890625 \r\nQ 5.8125 47.609375 11.28125 51.796875 \r\nQ 16.75 56 26.8125 56 \r\nQ 31.78125 56 36.171875 55.265625 \r\nQ 40.578125 54.546875 44.28125 53.078125 \r\nz\r\n\" id=\"DejaVuSans-115\"/>\r\n     <path id=\"DejaVuSans-32\"/>\r\n     <path d=\"M 4.203125 54.6875 \r\nL 13.1875 54.6875 \r\nL 24.421875 12.015625 \r\nL 35.59375 54.6875 \r\nL 46.1875 54.6875 \r\nL 57.421875 12.015625 \r\nL 68.609375 54.6875 \r\nL 77.59375 54.6875 \r\nL 63.28125 0 \r\nL 52.6875 0 \r\nL 40.921875 44.828125 \r\nL 29.109375 0 \r\nL 18.5 0 \r\nz\r\n\" id=\"DejaVuSans-119\"/>\r\n     <path d=\"M 9.421875 54.6875 \r\nL 18.40625 54.6875 \r\nL 18.40625 0 \r\nL 9.421875 0 \r\nz\r\nM 9.421875 75.984375 \r\nL 18.40625 75.984375 \r\nL 18.40625 64.59375 \r\nL 9.421875 64.59375 \r\nz\r\n\" id=\"DejaVuSans-105\"/>\r\n     <path d=\"M 18.3125 70.21875 \r\nL 18.3125 54.6875 \r\nL 36.8125 54.6875 \r\nL 36.8125 47.703125 \r\nL 18.3125 47.703125 \r\nL 18.3125 18.015625 \r\nQ 18.3125 11.328125 20.140625 9.421875 \r\nQ 21.96875 7.515625 27.59375 7.515625 \r\nL 36.8125 7.515625 \r\nL 36.8125 0 \r\nL 27.59375 0 \r\nQ 17.1875 0 13.234375 3.875 \r\nQ 9.28125 7.765625 9.28125 18.015625 \r\nL 9.28125 47.703125 \r\nL 2.6875 47.703125 \r\nL 2.6875 54.6875 \r\nL 9.28125 54.6875 \r\nL 9.28125 70.21875 \r\nz\r\n\" id=\"DejaVuSans-116\"/>\r\n     <path d=\"M 54.890625 33.015625 \r\nL 54.890625 0 \r\nL 45.90625 0 \r\nL 45.90625 32.71875 \r\nQ 45.90625 40.484375 42.875 44.328125 \r\nQ 39.84375 48.1875 33.796875 48.1875 \r\nQ 26.515625 48.1875 22.3125 43.546875 \r\nQ 18.109375 38.921875 18.109375 30.90625 \r\nL 18.109375 0 \r\nL 9.078125 0 \r\nL 9.078125 75.984375 \r\nL 18.109375 75.984375 \r\nL 18.109375 46.1875 \r\nQ 21.34375 51.125 25.703125 53.5625 \r\nQ 30.078125 56 35.796875 56 \r\nQ 45.21875 56 50.046875 50.171875 \r\nQ 54.890625 44.34375 54.890625 33.015625 \r\nz\r\n\" id=\"DejaVuSans-104\"/>\r\n     <path d=\"M 14.796875 27.296875 \r\nQ 14.796875 17.390625 18.875 11.75 \r\nQ 22.953125 6.109375 30.078125 6.109375 \r\nQ 37.203125 6.109375 41.296875 11.75 \r\nQ 45.40625 17.390625 45.40625 27.296875 \r\nQ 45.40625 37.203125 41.296875 42.84375 \r\nQ 37.203125 48.484375 30.078125 48.484375 \r\nQ 22.953125 48.484375 18.875 42.84375 \r\nQ 14.796875 37.203125 14.796875 27.296875 \r\nz\r\nM 45.40625 8.203125 \r\nQ 42.578125 3.328125 38.25 0.953125 \r\nQ 33.9375 -1.421875 27.875 -1.421875 \r\nQ 17.96875 -1.421875 11.734375 6.484375 \r\nQ 5.515625 14.40625 5.515625 27.296875 \r\nQ 5.515625 40.1875 11.734375 48.09375 \r\nQ 17.96875 56 27.875 56 \r\nQ 33.9375 56 38.25 53.625 \r\nQ 42.578125 51.265625 45.40625 46.390625 \r\nL 45.40625 54.6875 \r\nL 54.390625 54.6875 \r\nL 54.390625 -20.796875 \r\nL 45.40625 -20.796875 \r\nz\r\n\" id=\"DejaVuSans-113\"/>\r\n     <path d=\"M 41.109375 46.296875 \r\nQ 39.59375 47.171875 37.8125 47.578125 \r\nQ 36.03125 48 33.890625 48 \r\nQ 26.265625 48 22.1875 43.046875 \r\nQ 18.109375 38.09375 18.109375 28.8125 \r\nL 18.109375 0 \r\nL 9.078125 0 \r\nL 9.078125 54.6875 \r\nL 18.109375 54.6875 \r\nL 18.109375 46.1875 \r\nQ 20.953125 51.171875 25.484375 53.578125 \r\nQ 30.03125 56 36.53125 56 \r\nQ 37.453125 56 38.578125 55.875 \r\nQ 39.703125 55.765625 41.0625 55.515625 \r\nz\r\n\" id=\"DejaVuSans-114\"/>\r\n     <path d=\"M 45.40625 27.984375 \r\nQ 45.40625 37.75 41.375 43.109375 \r\nQ 37.359375 48.484375 30.078125 48.484375 \r\nQ 22.859375 48.484375 18.828125 43.109375 \r\nQ 14.796875 37.75 14.796875 27.984375 \r\nQ 14.796875 18.265625 18.828125 12.890625 \r\nQ 22.859375 7.515625 30.078125 7.515625 \r\nQ 37.359375 7.515625 41.375 12.890625 \r\nQ 45.40625 18.265625 45.40625 27.984375 \r\nz\r\nM 54.390625 6.78125 \r\nQ 54.390625 -7.171875 48.1875 -13.984375 \r\nQ 42 -20.796875 29.203125 -20.796875 \r\nQ 24.46875 -20.796875 20.265625 -20.09375 \r\nQ 16.0625 -19.390625 12.109375 -17.921875 \r\nL 12.109375 -9.1875 \r\nQ 16.0625 -11.328125 19.921875 -12.34375 \r\nQ 23.78125 -13.375 27.78125 -13.375 \r\nQ 36.625 -13.375 41.015625 -8.765625 \r\nQ 45.40625 -4.15625 45.40625 5.171875 \r\nL 45.40625 9.625 \r\nQ 42.625 4.78125 38.28125 2.390625 \r\nQ 33.9375 0 27.875 0 \r\nQ 17.828125 0 11.671875 7.65625 \r\nQ 5.515625 15.328125 5.515625 27.984375 \r\nQ 5.515625 40.671875 11.671875 48.328125 \r\nQ 17.828125 56 27.875 56 \r\nQ 33.9375 56 38.28125 53.609375 \r\nQ 42.625 51.21875 45.40625 46.390625 \r\nL 45.40625 54.6875 \r\nL 54.390625 54.6875 \r\nz\r\n\" id=\"DejaVuSans-103\"/>\r\n     <path d=\"M 34.28125 27.484375 \r\nQ 23.390625 27.484375 19.1875 25 \r\nQ 14.984375 22.515625 14.984375 16.5 \r\nQ 14.984375 11.71875 18.140625 8.90625 \r\nQ 21.296875 6.109375 26.703125 6.109375 \r\nQ 34.1875 6.109375 38.703125 11.40625 \r\nQ 43.21875 16.703125 43.21875 25.484375 \r\nL 43.21875 27.484375 \r\nz\r\nM 52.203125 31.203125 \r\nL 52.203125 0 \r\nL 43.21875 0 \r\nL 43.21875 8.296875 \r\nQ 40.140625 3.328125 35.546875 0.953125 \r\nQ 30.953125 -1.421875 24.3125 -1.421875 \r\nQ 15.921875 -1.421875 10.953125 3.296875 \r\nQ 6 8.015625 6 15.921875 \r\nQ 6 25.140625 12.171875 29.828125 \r\nQ 18.359375 34.515625 30.609375 34.515625 \r\nL 43.21875 34.515625 \r\nL 43.21875 35.40625 \r\nQ 43.21875 41.609375 39.140625 45 \r\nQ 35.0625 48.390625 27.6875 48.390625 \r\nQ 23 48.390625 18.546875 47.265625 \r\nQ 14.109375 46.140625 10.015625 43.890625 \r\nL 10.015625 52.203125 \r\nQ 14.9375 54.109375 19.578125 55.046875 \r\nQ 24.21875 56 28.609375 56 \r\nQ 40.484375 56 46.34375 49.84375 \r\nQ 52.203125 43.703125 52.203125 31.203125 \r\nz\r\n\" id=\"DejaVuSans-97\"/>\r\n     <path d=\"M 45.40625 46.390625 \r\nL 45.40625 75.984375 \r\nL 54.390625 75.984375 \r\nL 54.390625 0 \r\nL 45.40625 0 \r\nL 45.40625 8.203125 \r\nQ 42.578125 3.328125 38.25 0.953125 \r\nQ 33.9375 -1.421875 27.875 -1.421875 \r\nQ 17.96875 -1.421875 11.734375 6.484375 \r\nQ 5.515625 14.40625 5.515625 27.296875 \r\nQ 5.515625 40.1875 11.734375 48.09375 \r\nQ 17.96875 56 27.875 56 \r\nQ 33.9375 56 38.25 53.625 \r\nQ 42.578125 51.265625 45.40625 46.390625 \r\nz\r\nM 14.796875 27.296875 \r\nQ 14.796875 17.390625 18.875 11.75 \r\nQ 22.953125 6.109375 30.078125 6.109375 \r\nQ 37.203125 6.109375 41.296875 11.75 \r\nQ 45.40625 17.390625 45.40625 27.296875 \r\nQ 45.40625 37.203125 41.296875 42.84375 \r\nQ 37.203125 48.484375 30.078125 48.484375 \r\nQ 22.953125 48.484375 18.875 42.84375 \r\nQ 14.796875 37.203125 14.796875 27.296875 \r\nz\r\n\" id=\"DejaVuSans-100\"/>\r\n     <path d=\"M 54.890625 33.015625 \r\nL 54.890625 0 \r\nL 45.90625 0 \r\nL 45.90625 32.71875 \r\nQ 45.90625 40.484375 42.875 44.328125 \r\nQ 39.84375 48.1875 33.796875 48.1875 \r\nQ 26.515625 48.1875 22.3125 43.546875 \r\nQ 18.109375 38.921875 18.109375 30.90625 \r\nL 18.109375 0 \r\nL 9.078125 0 \r\nL 9.078125 54.6875 \r\nL 18.109375 54.6875 \r\nL 18.109375 46.1875 \r\nQ 21.34375 51.125 25.703125 53.5625 \r\nQ 30.078125 56 35.796875 56 \r\nQ 45.21875 56 50.046875 50.171875 \r\nQ 54.890625 44.34375 54.890625 33.015625 \r\nz\r\n\" id=\"DejaVuSans-110\"/>\r\n     <path d=\"M 48.78125 52.59375 \r\nL 48.78125 44.1875 \r\nQ 44.96875 46.296875 41.140625 47.34375 \r\nQ 37.3125 48.390625 33.40625 48.390625 \r\nQ 24.65625 48.390625 19.8125 42.84375 \r\nQ 14.984375 37.3125 14.984375 27.296875 \r\nQ 14.984375 17.28125 19.8125 11.734375 \r\nQ 24.65625 6.203125 33.40625 6.203125 \r\nQ 37.3125 6.203125 41.140625 7.25 \r\nQ 44.96875 8.296875 48.78125 10.40625 \r\nL 48.78125 2.09375 \r\nQ 45.015625 0.34375 40.984375 -0.53125 \r\nQ 36.96875 -1.421875 32.421875 -1.421875 \r\nQ 20.0625 -1.421875 12.78125 6.34375 \r\nQ 5.515625 14.109375 5.515625 27.296875 \r\nQ 5.515625 40.671875 12.859375 48.328125 \r\nQ 20.21875 56 33.015625 56 \r\nQ 37.15625 56 41.109375 55.140625 \r\nQ 45.0625 54.296875 48.78125 52.59375 \r\nz\r\n\" id=\"DejaVuSans-99\"/>\r\n    </defs>\r\n    <g transform=\"translate(88.312188 16.318125)scale(0.12 -0.12)\">\r\n     <use xlink:href=\"#DejaVuSans-76\"/>\r\n     <use x=\"55.697266\" xlink:href=\"#DejaVuSans-111\"/>\r\n     <use x=\"116.878906\" xlink:href=\"#DejaVuSans-115\"/>\r\n     <use x=\"168.978516\" xlink:href=\"#DejaVuSans-115\"/>\r\n     <use x=\"221.078125\" xlink:href=\"#DejaVuSans-101\"/>\r\n     <use x=\"282.601562\" xlink:href=\"#DejaVuSans-115\"/>\r\n     <use x=\"334.701172\" xlink:href=\"#DejaVuSans-32\"/>\r\n     <use x=\"366.488281\" xlink:href=\"#DejaVuSans-119\"/>\r\n     <use x=\"448.275391\" xlink:href=\"#DejaVuSans-105\"/>\r\n     <use x=\"476.058594\" xlink:href=\"#DejaVuSans-116\"/>\r\n     <use x=\"515.267578\" xlink:href=\"#DejaVuSans-104\"/>\r\n     <use x=\"578.646484\" xlink:href=\"#DejaVuSans-32\"/>\r\n     <use x=\"610.433594\" xlink:href=\"#DejaVuSans-115\"/>\r\n     <use x=\"662.533203\" xlink:href=\"#DejaVuSans-113\"/>\r\n     <use x=\"726.009766\" xlink:href=\"#DejaVuSans-114\"/>\r\n     <use x=\"767.123047\" xlink:href=\"#DejaVuSans-32\"/>\r\n     <use x=\"798.910156\" xlink:href=\"#DejaVuSans-101\"/>\r\n     <use x=\"860.433594\" xlink:href=\"#DejaVuSans-114\"/>\r\n     <use x=\"901.53125\" xlink:href=\"#DejaVuSans-114\"/>\r\n     <use x=\"942.613281\" xlink:href=\"#DejaVuSans-111\"/>\r\n     <use x=\"1003.794922\" xlink:href=\"#DejaVuSans-114\"/>\r\n     <use x=\"1044.908203\" xlink:href=\"#DejaVuSans-32\"/>\r\n     <use x=\"1076.695312\" xlink:href=\"#DejaVuSans-103\"/>\r\n     <use x=\"1140.171875\" xlink:href=\"#DejaVuSans-114\"/>\r\n     <use x=\"1181.285156\" xlink:href=\"#DejaVuSans-97\"/>\r\n     <use x=\"1242.564453\" xlink:href=\"#DejaVuSans-100\"/>\r\n     <use x=\"1306.041016\" xlink:href=\"#DejaVuSans-105\"/>\r\n     <use x=\"1333.824219\" xlink:href=\"#DejaVuSans-101\"/>\r\n     <use x=\"1395.347656\" xlink:href=\"#DejaVuSans-110\"/>\r\n     <use x=\"1458.726562\" xlink:href=\"#DejaVuSans-116\"/>\r\n     <use x=\"1497.935547\" xlink:href=\"#DejaVuSans-32\"/>\r\n     <use x=\"1529.722656\" xlink:href=\"#DejaVuSans-100\"/>\r\n     <use x=\"1593.199219\" xlink:href=\"#DejaVuSans-101\"/>\r\n     <use x=\"1654.722656\" xlink:href=\"#DejaVuSans-115\"/>\r\n     <use x=\"1706.822266\" xlink:href=\"#DejaVuSans-99\"/>\r\n     <use x=\"1761.802734\" xlink:href=\"#DejaVuSans-101\"/>\r\n     <use x=\"1823.326172\" xlink:href=\"#DejaVuSans-110\"/>\r\n     <use x=\"1886.705078\" xlink:href=\"#DejaVuSans-116\"/>\r\n    </g>\r\n   </g>\r\n  </g>\r\n </g>\r\n <defs>\r\n  <clipPath id=\"p891baac639\">\r\n   <rect height=\"217.44\" width=\"334.8\" x=\"36.465625\" y=\"22.318125\"/>\r\n  </clipPath>\r\n </defs>\r\n</svg>\r\n",
      "image/png": "[encoded data removed]"
     },
     "metadata": {
      "needs_background": "light"
     }
    }
   ],
   "source": [
    "plt.plot(losses)\n",
    "_ = plt.title('Losses with sqr error gradient descent')"
   ]
  },
  {
   "cell_type": "markdown",
   "metadata": {},
   "source": [
    "Unfortunately here the loss diverges. There is not guarantee that Gradient Descent always works. We can test other decay rate."
   ]
  },
  {
   "cell_type": "markdown",
   "metadata": {
    "slideshow": {
     "slide_type": "slide"
    }
   },
   "source": [
    "- **Loss**: $$\\ell(\\hat y_i,y_i) = \\left| \\beta_0 + \\sum_j \\beta_j x_{i,j} - y_i \\right|$$\n",
    "\n",
    "This is the Absolute Error Loss.\n",
    "- **(sub-)Gradient**: $$\\frac{\\partial}{\\partial \\beta_j} \\ell(\\hat y_i,y_i) = {\\rm sign} \\left(\\beta_0 + \\sum_j \\beta_j x_{i,j} - y_i\\right) x_{i,j}  = \\delta_i x_{i,j}$$\n",
    "$$\\frac{\\partial}{\\partial \\beta_0} \\ell(\\hat y_i,y_i) = {\\rm sign} \\left(\\beta_0 + \\sum_j \\beta_j x_{i,j} - y_i\\right)  = \\delta_i$$\n",
    "$$ \\delta_i = {\\rm sign} \\left(\\hat y_i - y_i \\right)$$\n",
    "\n",
    "- **Update**: $$\\beta \\gets \\beta - \\eta \\delta_i x_i$$\n",
    "$$\\beta_0 \\gets \\beta_0 - \\eta \\delta_i$$"
   ]
  },
  {
   "cell_type": "code",
   "execution_count": 12,
   "metadata": {
    "slideshow": {
     "slide_type": "slide"
    }
   },
   "outputs": [],
   "source": [
    "learner = LROnline(p,loss='abs',decay=-1.)\n",
    "losses = [learner.update_beta(x,y) for y,x in zip(Y,X)]"
   ]
  },
  {
   "cell_type": "code",
   "execution_count": 13,
   "metadata": {
    "slideshow": {
     "slide_type": "slide"
    }
   },
   "outputs": [
    {
     "output_type": "display_data",
     "data": {
      "text/plain": "<Figure size 432x288 with 1 Axes>",
      "image/svg+xml": "<?xml version=\"1.0\" encoding=\"utf-8\" standalone=\"no\"?>\r\n<!DOCTYPE svg PUBLIC \"-//W3C//DTD SVG 1.1//EN\"\r\n  \"http://www.w3.org/Graphics/SVG/1.1/DTD/svg11.dtd\">\r\n<!-- Created with matplotlib (https://matplotlib.org/) -->\r\n<svg height=\"263.63625pt\" version=\"1.1\" viewBox=\"0 0 381.65 263.63625\" width=\"381.65pt\" xmlns=\"http://www.w3.org/2000/svg\" xmlns:xlink=\"http://www.w3.org/1999/xlink\">\r\n <defs>\r\n  <style type=\"text/css\">\r\n*{stroke-linecap:butt;stroke-linejoin:round;}\r\n  </style>\r\n </defs>\r\n <g id=\"figure_1\">\r\n  <g id=\"patch_1\">\r\n   <path d=\"M -0 263.63625 \r\nL 381.65 263.63625 \r\nL 381.65 0 \r\nL -0 0 \r\nz\r\n\" style=\"fill:none;\"/>\r\n  </g>\r\n  <g id=\"axes_1\">\r\n   <g id=\"patch_2\">\r\n    <path d=\"M 39.65 239.758125 \r\nL 374.45 239.758125 \r\nL 374.45 22.318125 \r\nL 39.65 22.318125 \r\nz\r\n\" style=\"fill:#ffffff;\"/>\r\n   </g>\r\n   <g id=\"matplotlib.axis_1\">\r\n    <g id=\"xtick_1\">\r\n     <g id=\"line2d_1\">\r\n      <defs>\r\n       <path d=\"M 0 0 \r\nL 0 3.5 \r\n\" id=\"m45c2c0c222\" style=\"stroke:#000000;stroke-width:0.8;\"/>\r\n      </defs>\r\n      <g>\r\n       <use style=\"stroke:#000000;stroke-width:0.8;\" x=\"54.868182\" xlink:href=\"#m45c2c0c222\" y=\"239.758125\"/>\r\n      </g>\r\n     </g>\r\n     <g id=\"text_1\">\r\n      <!-- 0 -->\r\n      <defs>\r\n       <path d=\"M 31.78125 66.40625 \r\nQ 24.171875 66.40625 20.328125 58.90625 \r\nQ 16.5 51.421875 16.5 36.375 \r\nQ 16.5 21.390625 20.328125 13.890625 \r\nQ 24.171875 6.390625 31.78125 6.390625 \r\nQ 39.453125 6.390625 43.28125 13.890625 \r\nQ 47.125 21.390625 47.125 36.375 \r\nQ 47.125 51.421875 43.28125 58.90625 \r\nQ 39.453125 66.40625 31.78125 66.40625 \r\nz\r\nM 31.78125 74.21875 \r\nQ 44.046875 74.21875 50.515625 64.515625 \r\nQ 56.984375 54.828125 56.984375 36.375 \r\nQ 56.984375 17.96875 50.515625 8.265625 \r\nQ 44.046875 -1.421875 31.78125 -1.421875 \r\nQ 19.53125 -1.421875 13.0625 8.265625 \r\nQ 6.59375 17.96875 6.59375 36.375 \r\nQ 6.59375 54.828125 13.0625 64.515625 \r\nQ 19.53125 74.21875 31.78125 74.21875 \r\nz\r\n\" id=\"DejaVuSans-48\"/>\r\n      </defs>\r\n      <g transform=\"translate(51.686932 254.356563)scale(0.1 -0.1)\">\r\n       <use xlink:href=\"#DejaVuSans-48\"/>\r\n      </g>\r\n     </g>\r\n    </g>\r\n    <g id=\"xtick_2\">\r\n     <g id=\"line2d_2\">\r\n      <g>\r\n       <use style=\"stroke:#000000;stroke-width:0.8;\" x=\"92.961253\" xlink:href=\"#m45c2c0c222\" y=\"239.758125\"/>\r\n      </g>\r\n     </g>\r\n     <g id=\"text_2\">\r\n      <!-- 200 -->\r\n      <defs>\r\n       <path d=\"M 19.1875 8.296875 \r\nL 53.609375 8.296875 \r\nL 53.609375 0 \r\nL 7.328125 0 \r\nL 7.328125 8.296875 \r\nQ 12.9375 14.109375 22.625 23.890625 \r\nQ 32.328125 33.6875 34.8125 36.53125 \r\nQ 39.546875 41.84375 41.421875 45.53125 \r\nQ 43.3125 49.21875 43.3125 52.78125 \r\nQ 43.3125 58.59375 39.234375 62.25 \r\nQ 35.15625 65.921875 28.609375 65.921875 \r\nQ 23.96875 65.921875 18.8125 64.3125 \r\nQ 13.671875 62.703125 7.8125 59.421875 \r\nL 7.8125 69.390625 \r\nQ 13.765625 71.78125 18.9375 73 \r\nQ 24.125 74.21875 28.421875 74.21875 \r\nQ 39.75 74.21875 46.484375 68.546875 \r\nQ 53.21875 62.890625 53.21875 53.421875 \r\nQ 53.21875 48.921875 51.53125 44.890625 \r\nQ 49.859375 40.875 45.40625 35.40625 \r\nQ 44.1875 33.984375 37.640625 27.21875 \r\nQ 31.109375 20.453125 19.1875 8.296875 \r\nz\r\n\" id=\"DejaVuSans-50\"/>\r\n      </defs>\r\n      <g transform=\"translate(83.417503 254.356563)scale(0.1 -0.1)\">\r\n       <use xlink:href=\"#DejaVuSans-50\"/>\r\n       <use x=\"63.623047\" xlink:href=\"#DejaVuSans-48\"/>\r\n       <use x=\"127.246094\" xlink:href=\"#DejaVuSans-48\"/>\r\n      </g>\r\n     </g>\r\n    </g>\r\n    <g id=\"xtick_3\">\r\n     <g id=\"line2d_3\">\r\n      <g>\r\n       <use style=\"stroke:#000000;stroke-width:0.8;\" x=\"131.054324\" xlink:href=\"#m45c2c0c222\" y=\"239.758125\"/>\r\n      </g>\r\n     </g>\r\n     <g id=\"text_3\">\r\n      <!-- 400 -->\r\n      <defs>\r\n       <path d=\"M 37.796875 64.3125 \r\nL 12.890625 25.390625 \r\nL 37.796875 25.390625 \r\nz\r\nM 35.203125 72.90625 \r\nL 47.609375 72.90625 \r\nL 47.609375 25.390625 \r\nL 58.015625 25.390625 \r\nL 58.015625 17.1875 \r\nL 47.609375 17.1875 \r\nL 47.609375 0 \r\nL 37.796875 0 \r\nL 37.796875 17.1875 \r\nL 4.890625 17.1875 \r\nL 4.890625 26.703125 \r\nz\r\n\" id=\"DejaVuSans-52\"/>\r\n      </defs>\r\n      <g transform=\"translate(121.510574 254.356563)scale(0.1 -0.1)\">\r\n       <use xlink:href=\"#DejaVuSans-52\"/>\r\n       <use x=\"63.623047\" xlink:href=\"#DejaVuSans-48\"/>\r\n       <use x=\"127.246094\" xlink:href=\"#DejaVuSans-48\"/>\r\n      </g>\r\n     </g>\r\n    </g>\r\n    <g id=\"xtick_4\">\r\n     <g id=\"line2d_4\">\r\n      <g>\r\n       <use style=\"stroke:#000000;stroke-width:0.8;\" x=\"169.147394\" xlink:href=\"#m45c2c0c222\" y=\"239.758125\"/>\r\n      </g>\r\n     </g>\r\n     <g id=\"text_4\">\r\n      <!-- 600 -->\r\n      <defs>\r\n       <path d=\"M 33.015625 40.375 \r\nQ 26.375 40.375 22.484375 35.828125 \r\nQ 18.609375 31.296875 18.609375 23.390625 \r\nQ 18.609375 15.53125 22.484375 10.953125 \r\nQ 26.375 6.390625 33.015625 6.390625 \r\nQ 39.65625 6.390625 43.53125 10.953125 \r\nQ 47.40625 15.53125 47.40625 23.390625 \r\nQ 47.40625 31.296875 43.53125 35.828125 \r\nQ 39.65625 40.375 33.015625 40.375 \r\nz\r\nM 52.59375 71.296875 \r\nL 52.59375 62.3125 \r\nQ 48.875 64.0625 45.09375 64.984375 \r\nQ 41.3125 65.921875 37.59375 65.921875 \r\nQ 27.828125 65.921875 22.671875 59.328125 \r\nQ 17.53125 52.734375 16.796875 39.40625 \r\nQ 19.671875 43.65625 24.015625 45.921875 \r\nQ 28.375 48.1875 33.59375 48.1875 \r\nQ 44.578125 48.1875 50.953125 41.515625 \r\nQ 57.328125 34.859375 57.328125 23.390625 \r\nQ 57.328125 12.15625 50.6875 5.359375 \r\nQ 44.046875 -1.421875 33.015625 -1.421875 \r\nQ 20.359375 -1.421875 13.671875 8.265625 \r\nQ 6.984375 17.96875 6.984375 36.375 \r\nQ 6.984375 53.65625 15.1875 63.9375 \r\nQ 23.390625 74.21875 37.203125 74.21875 \r\nQ 40.921875 74.21875 44.703125 73.484375 \r\nQ 48.484375 72.75 52.59375 71.296875 \r\nz\r\n\" id=\"DejaVuSans-54\"/>\r\n      </defs>\r\n      <g transform=\"translate(159.603644 254.356563)scale(0.1 -0.1)\">\r\n       <use xlink:href=\"#DejaVuSans-54\"/>\r\n       <use x=\"63.623047\" xlink:href=\"#DejaVuSans-48\"/>\r\n       <use x=\"127.246094\" xlink:href=\"#DejaVuSans-48\"/>\r\n      </g>\r\n     </g>\r\n    </g>\r\n    <g id=\"xtick_5\">\r\n     <g id=\"line2d_5\">\r\n      <g>\r\n       <use style=\"stroke:#000000;stroke-width:0.8;\" x=\"207.240465\" xlink:href=\"#m45c2c0c222\" y=\"239.758125\"/>\r\n      </g>\r\n     </g>\r\n     <g id=\"text_5\">\r\n      <!-- 800 -->\r\n      <defs>\r\n       <path d=\"M 31.78125 34.625 \r\nQ 24.75 34.625 20.71875 30.859375 \r\nQ 16.703125 27.09375 16.703125 20.515625 \r\nQ 16.703125 13.921875 20.71875 10.15625 \r\nQ 24.75 6.390625 31.78125 6.390625 \r\nQ 38.8125 6.390625 42.859375 10.171875 \r\nQ 46.921875 13.96875 46.921875 20.515625 \r\nQ 46.921875 27.09375 42.890625 30.859375 \r\nQ 38.875 34.625 31.78125 34.625 \r\nz\r\nM 21.921875 38.8125 \r\nQ 15.578125 40.375 12.03125 44.71875 \r\nQ 8.5 49.078125 8.5 55.328125 \r\nQ 8.5 64.0625 14.71875 69.140625 \r\nQ 20.953125 74.21875 31.78125 74.21875 \r\nQ 42.671875 74.21875 48.875 69.140625 \r\nQ 55.078125 64.0625 55.078125 55.328125 \r\nQ 55.078125 49.078125 51.53125 44.71875 \r\nQ 48 40.375 41.703125 38.8125 \r\nQ 48.828125 37.15625 52.796875 32.3125 \r\nQ 56.78125 27.484375 56.78125 20.515625 \r\nQ 56.78125 9.90625 50.3125 4.234375 \r\nQ 43.84375 -1.421875 31.78125 -1.421875 \r\nQ 19.734375 -1.421875 13.25 4.234375 \r\nQ 6.78125 9.90625 6.78125 20.515625 \r\nQ 6.78125 27.484375 10.78125 32.3125 \r\nQ 14.796875 37.15625 21.921875 38.8125 \r\nz\r\nM 18.3125 54.390625 \r\nQ 18.3125 48.734375 21.84375 45.5625 \r\nQ 25.390625 42.390625 31.78125 42.390625 \r\nQ 38.140625 42.390625 41.71875 45.5625 \r\nQ 45.3125 48.734375 45.3125 54.390625 \r\nQ 45.3125 60.0625 41.71875 63.234375 \r\nQ 38.140625 66.40625 31.78125 66.40625 \r\nQ 25.390625 66.40625 21.84375 63.234375 \r\nQ 18.3125 60.0625 18.3125 54.390625 \r\nz\r\n\" id=\"DejaVuSans-56\"/>\r\n      </defs>\r\n      <g transform=\"translate(197.696715 254.356563)scale(0.1 -0.1)\">\r\n       <use xlink:href=\"#DejaVuSans-56\"/>\r\n       <use x=\"63.623047\" xlink:href=\"#DejaVuSans-48\"/>\r\n       <use x=\"127.246094\" xlink:href=\"#DejaVuSans-48\"/>\r\n      </g>\r\n     </g>\r\n    </g>\r\n    <g id=\"xtick_6\">\r\n     <g id=\"line2d_6\">\r\n      <g>\r\n       <use style=\"stroke:#000000;stroke-width:0.8;\" x=\"245.333536\" xlink:href=\"#m45c2c0c222\" y=\"239.758125\"/>\r\n      </g>\r\n     </g>\r\n     <g id=\"text_6\">\r\n      <!-- 1000 -->\r\n      <defs>\r\n       <path d=\"M 12.40625 8.296875 \r\nL 28.515625 8.296875 \r\nL 28.515625 63.921875 \r\nL 10.984375 60.40625 \r\nL 10.984375 69.390625 \r\nL 28.421875 72.90625 \r\nL 38.28125 72.90625 \r\nL 38.28125 8.296875 \r\nL 54.390625 8.296875 \r\nL 54.390625 0 \r\nL 12.40625 0 \r\nz\r\n\" id=\"DejaVuSans-49\"/>\r\n      </defs>\r\n      <g transform=\"translate(232.608536 254.356563)scale(0.1 -0.1)\">\r\n       <use xlink:href=\"#DejaVuSans-49\"/>\r\n       <use x=\"63.623047\" xlink:href=\"#DejaVuSans-48\"/>\r\n       <use x=\"127.246094\" xlink:href=\"#DejaVuSans-48\"/>\r\n       <use x=\"190.869141\" xlink:href=\"#DejaVuSans-48\"/>\r\n      </g>\r\n     </g>\r\n    </g>\r\n    <g id=\"xtick_7\">\r\n     <g id=\"line2d_7\">\r\n      <g>\r\n       <use style=\"stroke:#000000;stroke-width:0.8;\" x=\"283.426607\" xlink:href=\"#m45c2c0c222\" y=\"239.758125\"/>\r\n      </g>\r\n     </g>\r\n     <g id=\"text_7\">\r\n      <!-- 1200 -->\r\n      <g transform=\"translate(270.701607 254.356563)scale(0.1 -0.1)\">\r\n       <use xlink:href=\"#DejaVuSans-49\"/>\r\n       <use x=\"63.623047\" xlink:href=\"#DejaVuSans-50\"/>\r\n       <use x=\"127.246094\" xlink:href=\"#DejaVuSans-48\"/>\r\n       <use x=\"190.869141\" xlink:href=\"#DejaVuSans-48\"/>\r\n      </g>\r\n     </g>\r\n    </g>\r\n    <g id=\"xtick_8\">\r\n     <g id=\"line2d_8\">\r\n      <g>\r\n       <use style=\"stroke:#000000;stroke-width:0.8;\" x=\"321.519678\" xlink:href=\"#m45c2c0c222\" y=\"239.758125\"/>\r\n      </g>\r\n     </g>\r\n     <g id=\"text_8\">\r\n      <!-- 1400 -->\r\n      <g transform=\"translate(308.794678 254.356563)scale(0.1 -0.1)\">\r\n       <use xlink:href=\"#DejaVuSans-49\"/>\r\n       <use x=\"63.623047\" xlink:href=\"#DejaVuSans-52\"/>\r\n       <use x=\"127.246094\" xlink:href=\"#DejaVuSans-48\"/>\r\n       <use x=\"190.869141\" xlink:href=\"#DejaVuSans-48\"/>\r\n      </g>\r\n     </g>\r\n    </g>\r\n    <g id=\"xtick_9\">\r\n     <g id=\"line2d_9\">\r\n      <g>\r\n       <use style=\"stroke:#000000;stroke-width:0.8;\" x=\"359.612749\" xlink:href=\"#m45c2c0c222\" y=\"239.758125\"/>\r\n      </g>\r\n     </g>\r\n     <g id=\"text_9\">\r\n      <!-- 1600 -->\r\n      <g transform=\"translate(346.887749 254.356563)scale(0.1 -0.1)\">\r\n       <use xlink:href=\"#DejaVuSans-49\"/>\r\n       <use x=\"63.623047\" xlink:href=\"#DejaVuSans-54\"/>\r\n       <use x=\"127.246094\" xlink:href=\"#DejaVuSans-48\"/>\r\n       <use x=\"190.869141\" xlink:href=\"#DejaVuSans-48\"/>\r\n      </g>\r\n     </g>\r\n    </g>\r\n   </g>\r\n   <g id=\"matplotlib.axis_2\">\r\n    <g id=\"ytick_1\">\r\n     <g id=\"line2d_10\">\r\n      <defs>\r\n       <path d=\"M 0 0 \r\nL -3.5 0 \r\n\" id=\"m4b65df0e9f\" style=\"stroke:#000000;stroke-width:0.8;\"/>\r\n      </defs>\r\n      <g>\r\n       <use style=\"stroke:#000000;stroke-width:0.8;\" x=\"39.65\" xlink:href=\"#m4b65df0e9f\" y=\"229.879185\"/>\r\n      </g>\r\n     </g>\r\n     <g id=\"text_10\">\r\n      <!-- 0 -->\r\n      <g transform=\"translate(26.2875 233.678404)scale(0.1 -0.1)\">\r\n       <use xlink:href=\"#DejaVuSans-48\"/>\r\n      </g>\r\n     </g>\r\n    </g>\r\n    <g id=\"ytick_2\">\r\n     <g id=\"line2d_11\">\r\n      <g>\r\n       <use style=\"stroke:#000000;stroke-width:0.8;\" x=\"39.65\" xlink:href=\"#m4b65df0e9f\" y=\"205.196143\"/>\r\n      </g>\r\n     </g>\r\n     <g id=\"text_11\">\r\n      <!-- 1000 -->\r\n      <g transform=\"translate(7.2 208.995362)scale(0.1 -0.1)\">\r\n       <use xlink:href=\"#DejaVuSans-49\"/>\r\n       <use x=\"63.623047\" xlink:href=\"#DejaVuSans-48\"/>\r\n       <use x=\"127.246094\" xlink:href=\"#DejaVuSans-48\"/>\r\n       <use x=\"190.869141\" xlink:href=\"#DejaVuSans-48\"/>\r\n      </g>\r\n     </g>\r\n    </g>\r\n    <g id=\"ytick_3\">\r\n     <g id=\"line2d_12\">\r\n      <g>\r\n       <use style=\"stroke:#000000;stroke-width:0.8;\" x=\"39.65\" xlink:href=\"#m4b65df0e9f\" y=\"180.513102\"/>\r\n      </g>\r\n     </g>\r\n     <g id=\"text_12\">\r\n      <!-- 2000 -->\r\n      <g transform=\"translate(7.2 184.31232)scale(0.1 -0.1)\">\r\n       <use xlink:href=\"#DejaVuSans-50\"/>\r\n       <use x=\"63.623047\" xlink:href=\"#DejaVuSans-48\"/>\r\n       <use x=\"127.246094\" xlink:href=\"#DejaVuSans-48\"/>\r\n       <use x=\"190.869141\" xlink:href=\"#DejaVuSans-48\"/>\r\n      </g>\r\n     </g>\r\n    </g>\r\n    <g id=\"ytick_4\">\r\n     <g id=\"line2d_13\">\r\n      <g>\r\n       <use style=\"stroke:#000000;stroke-width:0.8;\" x=\"39.65\" xlink:href=\"#m4b65df0e9f\" y=\"155.83006\"/>\r\n      </g>\r\n     </g>\r\n     <g id=\"text_13\">\r\n      <!-- 3000 -->\r\n      <defs>\r\n       <path d=\"M 40.578125 39.3125 \r\nQ 47.65625 37.796875 51.625 33 \r\nQ 55.609375 28.21875 55.609375 21.1875 \r\nQ 55.609375 10.40625 48.1875 4.484375 \r\nQ 40.765625 -1.421875 27.09375 -1.421875 \r\nQ 22.515625 -1.421875 17.65625 -0.515625 \r\nQ 12.796875 0.390625 7.625 2.203125 \r\nL 7.625 11.71875 \r\nQ 11.71875 9.328125 16.59375 8.109375 \r\nQ 21.484375 6.890625 26.8125 6.890625 \r\nQ 36.078125 6.890625 40.9375 10.546875 \r\nQ 45.796875 14.203125 45.796875 21.1875 \r\nQ 45.796875 27.640625 41.28125 31.265625 \r\nQ 36.765625 34.90625 28.71875 34.90625 \r\nL 20.21875 34.90625 \r\nL 20.21875 43.015625 \r\nL 29.109375 43.015625 \r\nQ 36.375 43.015625 40.234375 45.921875 \r\nQ 44.09375 48.828125 44.09375 54.296875 \r\nQ 44.09375 59.90625 40.109375 62.90625 \r\nQ 36.140625 65.921875 28.71875 65.921875 \r\nQ 24.65625 65.921875 20.015625 65.03125 \r\nQ 15.375 64.15625 9.8125 62.3125 \r\nL 9.8125 71.09375 \r\nQ 15.4375 72.65625 20.34375 73.4375 \r\nQ 25.25 74.21875 29.59375 74.21875 \r\nQ 40.828125 74.21875 47.359375 69.109375 \r\nQ 53.90625 64.015625 53.90625 55.328125 \r\nQ 53.90625 49.265625 50.4375 45.09375 \r\nQ 46.96875 40.921875 40.578125 39.3125 \r\nz\r\n\" id=\"DejaVuSans-51\"/>\r\n      </defs>\r\n      <g transform=\"translate(7.2 159.629278)scale(0.1 -0.1)\">\r\n       <use xlink:href=\"#DejaVuSans-51\"/>\r\n       <use x=\"63.623047\" xlink:href=\"#DejaVuSans-48\"/>\r\n       <use x=\"127.246094\" xlink:href=\"#DejaVuSans-48\"/>\r\n       <use x=\"190.869141\" xlink:href=\"#DejaVuSans-48\"/>\r\n      </g>\r\n     </g>\r\n    </g>\r\n    <g id=\"ytick_5\">\r\n     <g id=\"line2d_14\">\r\n      <g>\r\n       <use style=\"stroke:#000000;stroke-width:0.8;\" x=\"39.65\" xlink:href=\"#m4b65df0e9f\" y=\"131.147018\"/>\r\n      </g>\r\n     </g>\r\n     <g id=\"text_14\">\r\n      <!-- 4000 -->\r\n      <g transform=\"translate(7.2 134.946237)scale(0.1 -0.1)\">\r\n       <use xlink:href=\"#DejaVuSans-52\"/>\r\n       <use x=\"63.623047\" xlink:href=\"#DejaVuSans-48\"/>\r\n       <use x=\"127.246094\" xlink:href=\"#DejaVuSans-48\"/>\r\n       <use x=\"190.869141\" xlink:href=\"#DejaVuSans-48\"/>\r\n      </g>\r\n     </g>\r\n    </g>\r\n    <g id=\"ytick_6\">\r\n     <g id=\"line2d_15\">\r\n      <g>\r\n       <use style=\"stroke:#000000;stroke-width:0.8;\" x=\"39.65\" xlink:href=\"#m4b65df0e9f\" y=\"106.463976\"/>\r\n      </g>\r\n     </g>\r\n     <g id=\"text_15\">\r\n      <!-- 5000 -->\r\n      <defs>\r\n       <path d=\"M 10.796875 72.90625 \r\nL 49.515625 72.90625 \r\nL 49.515625 64.59375 \r\nL 19.828125 64.59375 \r\nL 19.828125 46.734375 \r\nQ 21.96875 47.46875 24.109375 47.828125 \r\nQ 26.265625 48.1875 28.421875 48.1875 \r\nQ 40.625 48.1875 47.75 41.5 \r\nQ 54.890625 34.8125 54.890625 23.390625 \r\nQ 54.890625 11.625 47.5625 5.09375 \r\nQ 40.234375 -1.421875 26.90625 -1.421875 \r\nQ 22.3125 -1.421875 17.546875 -0.640625 \r\nQ 12.796875 0.140625 7.71875 1.703125 \r\nL 7.71875 11.625 \r\nQ 12.109375 9.234375 16.796875 8.0625 \r\nQ 21.484375 6.890625 26.703125 6.890625 \r\nQ 35.15625 6.890625 40.078125 11.328125 \r\nQ 45.015625 15.765625 45.015625 23.390625 \r\nQ 45.015625 31 40.078125 35.4375 \r\nQ 35.15625 39.890625 26.703125 39.890625 \r\nQ 22.75 39.890625 18.8125 39.015625 \r\nQ 14.890625 38.140625 10.796875 36.28125 \r\nz\r\n\" id=\"DejaVuSans-53\"/>\r\n      </defs>\r\n      <g transform=\"translate(7.2 110.263195)scale(0.1 -0.1)\">\r\n       <use xlink:href=\"#DejaVuSans-53\"/>\r\n       <use x=\"63.623047\" xlink:href=\"#DejaVuSans-48\"/>\r\n       <use x=\"127.246094\" xlink:href=\"#DejaVuSans-48\"/>\r\n       <use x=\"190.869141\" xlink:href=\"#DejaVuSans-48\"/>\r\n      </g>\r\n     </g>\r\n    </g>\r\n    <g id=\"ytick_7\">\r\n     <g id=\"line2d_16\">\r\n      <g>\r\n       <use style=\"stroke:#000000;stroke-width:0.8;\" x=\"39.65\" xlink:href=\"#m4b65df0e9f\" y=\"81.780934\"/>\r\n      </g>\r\n     </g>\r\n     <g id=\"text_16\">\r\n      <!-- 6000 -->\r\n      <g transform=\"translate(7.2 85.580153)scale(0.1 -0.1)\">\r\n       <use xlink:href=\"#DejaVuSans-54\"/>\r\n       <use x=\"63.623047\" xlink:href=\"#DejaVuSans-48\"/>\r\n       <use x=\"127.246094\" xlink:href=\"#DejaVuSans-48\"/>\r\n       <use x=\"190.869141\" xlink:href=\"#DejaVuSans-48\"/>\r\n      </g>\r\n     </g>\r\n    </g>\r\n    <g id=\"ytick_8\">\r\n     <g id=\"line2d_17\">\r\n      <g>\r\n       <use style=\"stroke:#000000;stroke-width:0.8;\" x=\"39.65\" xlink:href=\"#m4b65df0e9f\" y=\"57.097892\"/>\r\n      </g>\r\n     </g>\r\n     <g id=\"text_17\">\r\n      <!-- 7000 -->\r\n      <defs>\r\n       <path d=\"M 8.203125 72.90625 \r\nL 55.078125 72.90625 \r\nL 55.078125 68.703125 \r\nL 28.609375 0 \r\nL 18.3125 0 \r\nL 43.21875 64.59375 \r\nL 8.203125 64.59375 \r\nz\r\n\" id=\"DejaVuSans-55\"/>\r\n      </defs>\r\n      <g transform=\"translate(7.2 60.897111)scale(0.1 -0.1)\">\r\n       <use xlink:href=\"#DejaVuSans-55\"/>\r\n       <use x=\"63.623047\" xlink:href=\"#DejaVuSans-48\"/>\r\n       <use x=\"127.246094\" xlink:href=\"#DejaVuSans-48\"/>\r\n       <use x=\"190.869141\" xlink:href=\"#DejaVuSans-48\"/>\r\n      </g>\r\n     </g>\r\n    </g>\r\n    <g id=\"ytick_9\">\r\n     <g id=\"line2d_18\">\r\n      <g>\r\n       <use style=\"stroke:#000000;stroke-width:0.8;\" x=\"39.65\" xlink:href=\"#m4b65df0e9f\" y=\"32.41485\"/>\r\n      </g>\r\n     </g>\r\n     <g id=\"text_18\">\r\n      <!-- 8000 -->\r\n      <g transform=\"translate(7.2 36.214069)scale(0.1 -0.1)\">\r\n       <use xlink:href=\"#DejaVuSans-56\"/>\r\n       <use x=\"63.623047\" xlink:href=\"#DejaVuSans-48\"/>\r\n       <use x=\"127.246094\" xlink:href=\"#DejaVuSans-48\"/>\r\n       <use x=\"190.869141\" xlink:href=\"#DejaVuSans-48\"/>\r\n      </g>\r\n     </g>\r\n    </g>\r\n   </g>\r\n   <g id=\"line2d_19\">\r\n    <path clip-path=\"url(#p5f21ba15e6)\" d=\"M 54.868182 229.75577 \r\nL 55.058647 117.750805 \r\nL 55.249113 197.548185 \r\nL 55.439578 181.515289 \r\nL 55.630043 95.503224 \r\nL 56.010974 221.216182 \r\nL 56.391905 200.127557 \r\nL 56.58237 200.05942 \r\nL 56.772835 173.469537 \r\nL 56.963301 221.948716 \r\nL 57.153766 215.982433 \r\nL 57.534697 32.201761 \r\nL 57.725162 116.475539 \r\nL 58.296558 210.797872 \r\nL 58.487024 105.506228 \r\nL 58.867954 134.630919 \r\nL 59.05842 212.282516 \r\nL 59.248885 223.883972 \r\nL 59.43935 194.269317 \r\nL 59.629816 203.921185 \r\nL 59.820281 199.672623 \r\nL 60.010746 225.532669 \r\nL 60.201212 228.714652 \r\nL 60.391677 219.769486 \r\nL 60.582142 194.140068 \r\nL 60.772608 206.667251 \r\nL 60.963073 196.347735 \r\nL 61.153539 212.018437 \r\nL 61.344004 192.197285 \r\nL 61.534469 195.121809 \r\nL 61.9154 223.839252 \r\nL 62.105865 162.126328 \r\nL 62.296331 208.982661 \r\nL 62.486796 218.383298 \r\nL 62.677261 214.491487 \r\nL 63.058192 202.025515 \r\nL 63.248657 210.724679 \r\nL 63.439123 194.22485 \r\nL 63.629588 224.212417 \r\nL 63.820053 181.351197 \r\nL 64.010519 223.289406 \r\nL 64.200984 208.128617 \r\nL 64.39145 218.902712 \r\nL 64.581915 220.358937 \r\nL 64.77238 224.43233 \r\nL 64.962846 219.717943 \r\nL 65.153311 173.084712 \r\nL 65.343776 229.480766 \r\nL 65.534242 215.226626 \r\nL 65.724707 213.786307 \r\nL 65.915172 201.956034 \r\nL 66.105638 198.920758 \r\nL 66.296103 158.124311 \r\nL 66.486568 218.149267 \r\nL 66.677034 208.971817 \r\nL 66.867499 227.050327 \r\nL 67.057965 201.958365 \r\nL 67.24843 208.523321 \r\nL 67.438895 201.195921 \r\nL 67.629361 222.2419 \r\nL 67.819826 227.483367 \r\nL 68.010291 220.697352 \r\nL 68.200757 225.736851 \r\nL 68.391222 227.592699 \r\nL 68.581687 224.19994 \r\nL 68.962618 191.385459 \r\nL 69.153083 152.333914 \r\nL 69.343549 156.380848 \r\nL 69.534014 210.247947 \r\nL 69.724479 223.803814 \r\nL 69.914945 224.61722 \r\nL 70.10541 214.315749 \r\nL 70.295876 164.059118 \r\nL 70.486341 209.792728 \r\nL 70.676806 214.3771 \r\nL 70.867272 226.716051 \r\nL 71.057737 228.37737 \r\nL 71.248202 184.763793 \r\nL 71.438668 210.3287 \r\nL 71.629133 215.846039 \r\nL 71.819598 181.616942 \r\nL 72.010064 210.973455 \r\nL 72.200529 209.675826 \r\nL 72.390994 217.080633 \r\nL 72.58146 212.410245 \r\nL 72.771925 222.388654 \r\nL 72.96239 219.49529 \r\nL 73.152856 226.346769 \r\nL 73.343321 221.384505 \r\nL 73.533787 222.201192 \r\nL 73.724252 211.93798 \r\nL 73.914717 208.436954 \r\nL 74.105183 215.327876 \r\nL 74.295648 212.924043 \r\nL 74.486113 218.947499 \r\nL 74.676579 228.514705 \r\nL 74.867044 219.112579 \r\nL 75.057509 220.780006 \r\nL 75.43844 200.479913 \r\nL 75.628905 218.303418 \r\nL 75.819371 215.951929 \r\nL 76.009836 223.634084 \r\nL 76.200302 225.19289 \r\nL 76.390767 187.126062 \r\nL 76.581232 219.330126 \r\nL 76.962163 203.447452 \r\nL 77.533559 225.501304 \r\nL 77.724024 226.213208 \r\nL 77.91449 216.021591 \r\nL 78.104955 193.020598 \r\nL 78.485886 212.364659 \r\nL 78.676351 214.543054 \r\nL 78.866816 227.88017 \r\nL 79.247747 218.927511 \r\nL 79.438213 224.72124 \r\nL 79.628678 226.916461 \r\nL 79.819143 211.526887 \r\nL 80.009609 217.311352 \r\nL 80.200074 217.617169 \r\nL 80.390539 194.001082 \r\nL 80.581005 220.92495 \r\nL 80.77147 229.810707 \r\nL 80.961935 199.687688 \r\nL 81.152401 214.704323 \r\nL 81.533331 220.637025 \r\nL 81.723797 229.396711 \r\nL 81.914262 195.196804 \r\nL 82.104728 219.725461 \r\nL 82.295193 205.018934 \r\nL 82.485658 217.536878 \r\nL 82.676124 221.596148 \r\nL 82.866589 216.848174 \r\nL 83.057054 229.263713 \r\nL 83.24752 195.431232 \r\nL 83.437985 213.089372 \r\nL 83.62845 188.974586 \r\nL 83.818916 225.754505 \r\nL 84.009381 227.567587 \r\nL 84.199846 208.45768 \r\nL 84.771242 219.379464 \r\nL 84.961708 213.838664 \r\nL 85.152173 194.006015 \r\nL 85.342639 202.243427 \r\nL 85.533104 228.426425 \r\nL 85.723569 229.003021 \r\nL 85.914035 225.905238 \r\nL 86.1045 228.778459 \r\nL 86.294965 217.360537 \r\nL 86.866361 229.406968 \r\nL 87.056827 220.423321 \r\nL 87.247292 223.556118 \r\nL 87.437757 220.443802 \r\nL 87.818688 221.904953 \r\nL 88.009153 227.254246 \r\nL 88.199619 226.377835 \r\nL 88.390084 227.957159 \r\nL 88.58055 201.887698 \r\nL 88.96148 226.056153 \r\nL 89.151946 226.671784 \r\nL 89.342411 218.525224 \r\nL 89.532876 216.310112 \r\nL 89.723342 200.581655 \r\nL 89.913807 205.462021 \r\nL 90.104272 223.837024 \r\nL 90.294738 223.133945 \r\nL 90.485203 221.322492 \r\nL 90.866134 227.651517 \r\nL 91.056599 224.523266 \r\nL 91.247065 207.014682 \r\nL 91.43753 225.116646 \r\nL 91.627995 221.254734 \r\nL 91.818461 221.75179 \r\nL 92.008926 224.587755 \r\nL 92.199391 222.051381 \r\nL 92.389857 211.494316 \r\nL 92.580322 209.73845 \r\nL 92.961253 225.724245 \r\nL 93.151718 219.547294 \r\nL 93.342183 229.38659 \r\nL 93.532649 221.254331 \r\nL 93.723114 222.560281 \r\nL 93.913579 200.635317 \r\nL 94.104045 204.060845 \r\nL 94.29451 227.550472 \r\nL 94.484976 227.054456 \r\nL 94.675441 206.925709 \r\nL 95.056372 224.083735 \r\nL 95.437302 217.870318 \r\nL 95.627768 229.082754 \r\nL 95.818233 223.142817 \r\nL 96.008698 210.614604 \r\nL 96.199164 222.55629 \r\nL 96.389629 225.73169 \r\nL 96.580094 219.089123 \r\nL 96.77056 229.218122 \r\nL 96.961025 207.324103 \r\nL 97.15149 229.070873 \r\nL 97.341956 224.379074 \r\nL 97.532421 228.63395 \r\nL 97.913352 226.483896 \r\nL 98.103817 209.654221 \r\nL 98.294283 227.855593 \r\nL 98.484748 228.979234 \r\nL 98.865679 217.67356 \r\nL 99.056144 208.595314 \r\nL 99.246609 229.063315 \r\nL 99.437075 228.622445 \r\nL 99.62754 221.265072 \r\nL 99.818005 222.12865 \r\nL 100.008471 223.876416 \r\nL 100.198936 223.807113 \r\nL 100.389402 227.080167 \r\nL 100.579867 227.617221 \r\nL 101.151263 187.415923 \r\nL 101.341728 191.867903 \r\nL 101.532194 182.473245 \r\nL 101.722659 225.039074 \r\nL 101.913124 221.610234 \r\nL 102.10359 228.837111 \r\nL 102.294055 185.403028 \r\nL 102.48452 215.152882 \r\nL 102.674986 212.893687 \r\nL 102.865451 229.060216 \r\nL 103.246382 214.335752 \r\nL 103.436847 219.044525 \r\nL 103.627313 228.879504 \r\nL 103.817778 212.305278 \r\nL 104.008243 217.604128 \r\nL 104.198709 202.992966 \r\nL 104.389174 228.798372 \r\nL 104.96057 227.846756 \r\nL 105.151035 218.197521 \r\nL 105.341501 226.811996 \r\nL 105.531966 179.502865 \r\nL 105.722431 223.137482 \r\nL 105.912897 184.334265 \r\nL 106.293828 224.919249 \r\nL 106.484293 205.388864 \r\nL 106.865224 226.644243 \r\nL 107.055689 213.908752 \r\nL 107.246154 225.63641 \r\nL 107.43662 188.142115 \r\nL 107.627085 209.492386 \r\nL 108.008016 217.592982 \r\nL 108.198481 228.482426 \r\nL 108.388946 216.518467 \r\nL 108.579412 223.839355 \r\nL 108.769877 217.326556 \r\nL 108.960342 202.82608 \r\nL 109.150808 204.086749 \r\nL 109.341273 222.855981 \r\nL 109.531739 226.613501 \r\nL 109.912669 202.056134 \r\nL 110.103135 217.642386 \r\nL 110.2936 205.668252 \r\nL 110.674531 228.766318 \r\nL 110.864996 218.751309 \r\nL 111.055461 219.794121 \r\nL 111.245927 227.604456 \r\nL 111.436392 192.719471 \r\nL 111.626857 190.16049 \r\nL 111.817323 195.761456 \r\nL 112.007788 227.594707 \r\nL 112.198253 224.361453 \r\nL 112.388719 207.648525 \r\nL 112.579184 226.356113 \r\nL 112.76965 228.481367 \r\nL 112.960115 224.21452 \r\nL 113.531511 229.627379 \r\nL 114.102907 220.222255 \r\nL 114.293372 210.375109 \r\nL 114.483838 210.47771 \r\nL 114.674303 224.742866 \r\nL 114.864768 227.598576 \r\nL 115.055234 213.860025 \r\nL 115.245699 217.432077 \r\nL 115.436165 215.99544 \r\nL 115.62663 218.66519 \r\nL 115.817095 217.003027 \r\nL 116.198026 227.411211 \r\nL 116.388491 221.802498 \r\nL 116.578957 211.500386 \r\nL 116.769422 217.088468 \r\nL 116.959887 214.492087 \r\nL 117.150353 228.493149 \r\nL 117.340818 213.240144 \r\nL 117.531283 229.649247 \r\nL 117.721749 227.461846 \r\nL 117.912214 228.785866 \r\nL 118.102679 228.319912 \r\nL 118.293145 215.229537 \r\nL 118.48361 229.239066 \r\nL 118.674076 226.902205 \r\nL 118.864541 227.638929 \r\nL 119.055006 225.162127 \r\nL 119.245472 212.028006 \r\nL 119.626402 226.719432 \r\nL 119.816868 226.348414 \r\nL 120.007333 219.994653 \r\nL 120.197798 220.872901 \r\nL 120.388264 229.760102 \r\nL 120.578729 208.315297 \r\nL 120.769194 217.554375 \r\nL 120.95966 220.235699 \r\nL 121.150125 218.905308 \r\nL 121.340591 218.693946 \r\nL 121.531056 220.998577 \r\nL 121.721521 221.871469 \r\nL 121.911987 223.565883 \r\nL 122.102452 220.90332 \r\nL 122.292917 228.849114 \r\nL 122.483383 219.932941 \r\nL 122.673848 224.788091 \r\nL 122.864313 224.044827 \r\nL 123.054779 224.665939 \r\nL 123.245244 221.697868 \r\nL 123.435709 227.57552 \r\nL 124.007105 217.071647 \r\nL 124.388036 228.237289 \r\nL 124.578502 228.100141 \r\nL 124.768967 225.392749 \r\nL 124.959432 219.907985 \r\nL 125.149898 223.548715 \r\nL 125.340363 221.708024 \r\nL 125.530828 229.350992 \r\nL 125.721294 228.263278 \r\nL 125.911759 212.932674 \r\nL 126.102224 218.84367 \r\nL 126.29269 213.161338 \r\nL 126.67362 223.16967 \r\nL 126.864086 219.936576 \r\nL 127.054551 229.644605 \r\nL 127.435482 220.714885 \r\nL 127.625947 223.407171 \r\nL 127.816413 223.998259 \r\nL 128.006878 225.559212 \r\nL 128.197343 224.194921 \r\nL 128.387809 227.468346 \r\nL 128.578274 228.40791 \r\nL 128.768739 224.090269 \r\nL 128.959205 229.268411 \r\nL 129.14967 218.371326 \r\nL 129.340135 221.005886 \r\nL 129.530601 228.917914 \r\nL 129.721066 226.734706 \r\nL 129.911531 228.507851 \r\nL 130.101997 218.51375 \r\nL 130.292462 214.829074 \r\nL 130.482928 226.274431 \r\nL 130.673393 227.110298 \r\nL 130.863858 216.465967 \r\nL 131.435254 227.555275 \r\nL 131.62572 228.979579 \r\nL 131.816185 221.407123 \r\nL 132.00665 226.738097 \r\nL 132.197116 228.269436 \r\nL 132.387581 228.388166 \r\nL 132.958977 216.749385 \r\nL 133.149442 217.382341 \r\nL 133.339908 228.448692 \r\nL 133.720839 220.093047 \r\nL 134.101769 227.999377 \r\nL 134.292235 217.143836 \r\nL 134.4827 220.987494 \r\nL 134.673165 220.061682 \r\nL 135.054096 229.657707 \r\nL 135.435027 227.664719 \r\nL 135.625492 229.704399 \r\nL 135.815957 229.53379 \r\nL 136.006423 226.042523 \r\nL 136.387354 229.308659 \r\nL 136.577819 226.665999 \r\nL 136.768284 229.78098 \r\nL 137.149215 218.514443 \r\nL 137.33968 222.628676 \r\nL 137.530146 223.517461 \r\nL 137.720611 223.475167 \r\nL 137.911076 216.853016 \r\nL 138.101542 226.701007 \r\nL 138.292007 224.330109 \r\nL 138.482472 213.782691 \r\nL 138.863403 229.307675 \r\nL 139.053868 219.893817 \r\nL 139.244334 227.849062 \r\nL 139.434799 224.934194 \r\nL 139.625265 228.296057 \r\nL 139.81573 226.082111 \r\nL 140.006195 227.97773 \r\nL 140.196661 225.962642 \r\nL 140.577591 229.724427 \r\nL 140.768057 217.713561 \r\nL 140.958522 229.323609 \r\nL 141.148987 222.435509 \r\nL 141.339453 220.134457 \r\nL 141.529918 229.696102 \r\nL 141.720383 223.683389 \r\nL 141.910849 229.391208 \r\nL 142.291779 218.317262 \r\nL 142.482245 227.932878 \r\nL 142.67271 225.687424 \r\nL 142.863176 227.905483 \r\nL 143.053641 221.434661 \r\nL 143.244106 224.025457 \r\nL 143.434572 212.410772 \r\nL 143.625037 227.133137 \r\nL 143.815502 227.130652 \r\nL 144.005968 225.213961 \r\nL 144.196433 217.768031 \r\nL 144.386898 224.981671 \r\nL 144.577364 224.341484 \r\nL 144.767829 222.908565 \r\nL 144.958294 229.69836 \r\nL 145.14876 229.095726 \r\nL 145.339225 225.57209 \r\nL 145.529691 228.218117 \r\nL 145.720156 228.632978 \r\nL 145.910621 225.995315 \r\nL 146.101087 228.834946 \r\nL 146.291552 215.16972 \r\nL 146.482017 222.289731 \r\nL 146.862948 224.305346 \r\nL 147.053413 224.492571 \r\nL 147.243879 227.938241 \r\nL 147.434344 228.507464 \r\nL 147.624809 229.704728 \r\nL 147.815275 220.079968 \r\nL 148.196205 229.592382 \r\nL 148.577136 227.505636 \r\nL 148.767602 219.264912 \r\nL 148.958067 226.229611 \r\nL 149.148532 227.806639 \r\nL 149.338998 226.726819 \r\nL 149.529463 224.134795 \r\nL 149.719928 228.653161 \r\nL 149.910394 219.058194 \r\nL 150.100859 227.058231 \r\nL 150.291324 221.442888 \r\nL 150.672255 226.088016 \r\nL 150.86272 225.497224 \r\nL 151.053186 226.627857 \r\nL 151.243651 224.890723 \r\nL 151.434117 229.385308 \r\nL 151.624582 229.004793 \r\nL 151.815047 225.3896 \r\nL 152.005513 229.304097 \r\nL 152.195978 228.565316 \r\nL 152.386443 225.999424 \r\nL 152.576909 225.016944 \r\nL 152.767374 225.85925 \r\nL 152.957839 222.214515 \r\nL 153.148305 216.321313 \r\nL 153.33877 228.991278 \r\nL 153.529235 222.719625 \r\nL 153.719701 227.197403 \r\nL 153.910166 222.445819 \r\nL 154.100631 227.88555 \r\nL 154.291097 227.678727 \r\nL 154.481562 224.590095 \r\nL 154.672028 224.252613 \r\nL 154.862493 229.344043 \r\nL 155.052958 225.550336 \r\nL 155.243424 226.106218 \r\nL 155.433889 221.292173 \r\nL 155.624354 226.613255 \r\nL 155.81482 219.457 \r\nL 156.005285 222.983277 \r\nL 156.386216 224.960331 \r\nL 156.576681 226.298248 \r\nL 156.767146 221.089682 \r\nL 157.148077 228.966515 \r\nL 157.338542 219.05514 \r\nL 157.529008 229.214227 \r\nL 157.719473 228.19189 \r\nL 157.909939 224.384918 \r\nL 158.100404 224.606963 \r\nL 158.290869 229.79874 \r\nL 158.481335 223.023655 \r\nL 158.6718 221.122782 \r\nL 158.862265 229.511994 \r\nL 159.243196 225.732501 \r\nL 159.433661 229.483771 \r\nL 159.624127 226.435676 \r\nL 159.814592 228.071478 \r\nL 160.005057 225.249771 \r\nL 160.195523 220.731437 \r\nL 160.576454 227.003094 \r\nL 160.766919 222.370725 \r\nL 160.957384 227.952292 \r\nL 161.338315 214.664687 \r\nL 161.52878 226.327816 \r\nL 161.719246 225.302433 \r\nL 161.909711 218.954715 \r\nL 162.100176 224.434203 \r\nL 162.290642 217.442787 \r\nL 162.481107 228.444251 \r\nL 162.671572 228.579495 \r\nL 162.862038 229.632468 \r\nL 163.052503 229.828349 \r\nL 163.242968 222.822631 \r\nL 163.433434 226.874041 \r\nL 163.623899 223.13017 \r\nL 163.814365 224.271361 \r\nL 164.195295 228.908579 \r\nL 164.576226 225.381629 \r\nL 164.766691 221.836124 \r\nL 164.957157 222.727131 \r\nL 165.338087 228.986066 \r\nL 165.528553 229.76322 \r\nL 165.719018 229.307793 \r\nL 165.909483 223.044652 \r\nL 166.099949 227.811359 \r\nL 166.290414 225.594169 \r\nL 166.48088 225.52744 \r\nL 166.671345 227.007935 \r\nL 166.86181 220.563198 \r\nL 167.052276 221.459923 \r\nL 167.242741 225.771565 \r\nL 167.433206 226.544146 \r\nL 167.623672 226.153517 \r\nL 167.814137 229.061035 \r\nL 168.195068 229.482688 \r\nL 168.575998 229.29975 \r\nL 168.766464 229.51261 \r\nL 168.956929 227.713992 \r\nL 169.147394 227.350397 \r\nL 169.33786 223.50973 \r\nL 169.528325 228.313282 \r\nL 169.718791 224.699247 \r\nL 170.099721 228.978649 \r\nL 170.290187 228.10415 \r\nL 170.480652 226.365012 \r\nL 170.671117 226.413714 \r\nL 170.861583 225.833022 \r\nL 171.052048 229.720577 \r\nL 171.242513 228.930372 \r\nL 171.623444 226.627669 \r\nL 171.813909 223.310381 \r\nL 172.004375 224.714745 \r\nL 172.385305 225.49232 \r\nL 172.575771 229.331194 \r\nL 172.766236 229.09122 \r\nL 172.956702 223.387109 \r\nL 173.147167 224.047082 \r\nL 173.337632 228.331798 \r\nL 173.528098 229.419594 \r\nL 173.718563 226.710098 \r\nL 174.099494 227.998518 \r\nL 174.289959 228.386627 \r\nL 174.480424 229.393473 \r\nL 174.67089 228.044914 \r\nL 174.861355 229.520754 \r\nL 175.05182 229.395272 \r\nL 175.242286 227.772136 \r\nL 175.432751 217.492413 \r\nL 175.623217 226.580343 \r\nL 175.813682 229.508501 \r\nL 176.004147 220.88166 \r\nL 176.194613 222.678547 \r\nL 176.385078 229.754816 \r\nL 176.575543 223.609819 \r\nL 176.766009 228.191167 \r\nL 176.956474 225.87989 \r\nL 177.146939 228.751359 \r\nL 177.337405 226.49452 \r\nL 177.52787 229.309809 \r\nL 177.718335 228.024246 \r\nL 177.908801 228.433184 \r\nL 178.099266 227.857823 \r\nL 178.289731 228.253571 \r\nL 178.480197 227.772735 \r\nL 178.670662 221.464734 \r\nL 178.861128 222.221672 \r\nL 179.051593 220.021219 \r\nL 179.242058 222.614712 \r\nL 179.432524 220.440517 \r\nL 179.622989 224.327294 \r\nL 180.00392 221.963143 \r\nL 180.194385 229.370568 \r\nL 180.38485 228.721708 \r\nL 180.575316 229.796442 \r\nL 180.765781 226.271718 \r\nL 180.956246 229.122131 \r\nL 181.146712 226.373585 \r\nL 181.337177 229.804521 \r\nL 181.527643 225.856162 \r\nL 181.718108 226.647581 \r\nL 181.908573 228.105232 \r\nL 182.099039 226.495978 \r\nL 182.289504 229.216365 \r\nL 182.479969 220.195668 \r\nL 182.670435 227.577117 \r\nL 182.8609 228.559987 \r\nL 183.051365 228.033268 \r\nL 183.241831 227.837949 \r\nL 183.432296 229.298364 \r\nL 184.003692 226.380579 \r\nL 184.194157 228.259047 \r\nL 184.384623 225.362502 \r\nL 184.575088 226.475635 \r\nL 184.765554 225.179906 \r\nL 184.956019 229.329705 \r\nL 185.146484 225.626073 \r\nL 185.33695 229.750231 \r\nL 185.527415 229.238932 \r\nL 185.71788 228.309387 \r\nL 185.908346 225.215763 \r\nL 186.098811 227.620712 \r\nL 186.479742 222.147701 \r\nL 186.670207 227.155779 \r\nL 186.860672 224.018658 \r\nL 187.051138 225.227462 \r\nL 187.241603 220.20454 \r\nL 187.432068 228.440301 \r\nL 187.622534 228.772903 \r\nL 187.812999 229.49414 \r\nL 188.003465 224.964436 \r\nL 188.19393 224.583918 \r\nL 188.384395 229.04746 \r\nL 188.574861 229.564329 \r\nL 188.765326 226.386997 \r\nL 188.955791 227.093907 \r\nL 189.146257 225.505738 \r\nL 189.336722 228.200136 \r\nL 189.527187 227.488874 \r\nL 189.717653 229.006771 \r\nL 189.908118 229.056095 \r\nL 190.289049 224.293876 \r\nL 190.479514 229.151635 \r\nL 190.66998 229.764627 \r\nL 190.860445 226.860611 \r\nL 191.05091 225.96686 \r\nL 191.241376 229.709006 \r\nL 191.431841 228.636139 \r\nL 191.622306 229.386228 \r\nL 191.812772 228.564988 \r\nL 192.003237 229.816307 \r\nL 192.193702 225.965462 \r\nL 192.384168 228.711946 \r\nL 192.574633 218.837441 \r\nL 192.765098 229.858002 \r\nL 192.955564 229.409427 \r\nL 193.146029 227.564412 \r\nL 193.336494 228.584273 \r\nL 193.52696 228.994468 \r\nL 193.717425 226.946333 \r\nL 193.907891 227.032172 \r\nL 194.098356 229.732646 \r\nL 194.288821 228.66957 \r\nL 194.479287 228.817356 \r\nL 194.669752 228.584489 \r\nL 194.860217 226.778559 \r\nL 195.050683 227.303555 \r\nL 195.241148 227.133484 \r\nL 195.431613 229.228262 \r\nL 195.622079 228.455052 \r\nL 195.812544 227.205009 \r\nL 196.003009 224.504204 \r\nL 196.193475 228.828777 \r\nL 196.38394 228.973411 \r\nL 196.574406 228.96809 \r\nL 196.764871 229.309242 \r\nL 196.955336 229.271262 \r\nL 197.145802 229.675321 \r\nL 197.336267 229.390141 \r\nL 197.526732 229.707375 \r\nL 197.717198 228.255251 \r\nL 197.907663 228.412585 \r\nL 198.098128 228.895379 \r\nL 198.288594 228.674263 \r\nL 198.479059 225.514669 \r\nL 198.85999 229.267744 \r\nL 199.050455 228.793464 \r\nL 199.24092 229.188486 \r\nL 199.431386 227.53626 \r\nL 199.621851 223.34082 \r\nL 199.812317 226.625523 \r\nL 200.193247 227.071619 \r\nL 200.383713 228.39385 \r\nL 200.764643 228.127817 \r\nL 200.955109 229.201832 \r\nL 201.145574 226.635084 \r\nL 201.336039 227.388518 \r\nL 201.526505 227.224122 \r\nL 201.71697 224.093437 \r\nL 201.907435 223.516662 \r\nL 202.097901 223.530126 \r\nL 202.288366 224.11534 \r\nL 202.478831 228.193284 \r\nL 202.669297 225.362083 \r\nL 203.050228 229.779194 \r\nL 203.240693 227.564948 \r\nL 203.431158 228.396308 \r\nL 203.621624 227.85807 \r\nL 203.812089 228.983175 \r\nL 204.002554 228.256125 \r\nL 204.19302 228.603351 \r\nL 204.383485 226.816192 \r\nL 204.57395 227.088151 \r\nL 204.764416 228.812053 \r\nL 204.954881 229.012277 \r\nL 205.145346 229.040963 \r\nL 205.335812 227.869342 \r\nL 205.907208 229.497108 \r\nL 206.097673 223.328368 \r\nL 206.288139 224.38009 \r\nL 206.478604 227.334955 \r\nL 206.669069 227.26224 \r\nL 206.859535 228.719489 \r\nL 207.05 228.966235 \r\nL 207.240465 227.538538 \r\nL 207.430931 228.905896 \r\nL 207.621396 224.979178 \r\nL 207.811861 229.000956 \r\nL 208.002327 229.036429 \r\nL 208.192792 224.910994 \r\nL 208.573723 226.192937 \r\nL 208.764188 229.339929 \r\nL 208.954654 225.689426 \r\nL 209.145119 229.524787 \r\nL 209.335584 225.100327 \r\nL 209.716515 228.494395 \r\nL 209.90698 224.628073 \r\nL 210.097446 226.904135 \r\nL 210.287911 227.632208 \r\nL 210.478376 223.701258 \r\nL 210.859307 228.811003 \r\nL 211.049772 229.753889 \r\nL 211.240238 225.963616 \r\nL 211.430703 228.85908 \r\nL 211.621169 229.141965 \r\nL 211.811634 224.779224 \r\nL 212.002099 228.474093 \r\nL 212.192565 229.333048 \r\nL 212.38303 228.502851 \r\nL 212.763961 229.860938 \r\nL 212.954426 229.112201 \r\nL 213.144891 229.624605 \r\nL 213.335357 229.367355 \r\nL 213.525822 227.152369 \r\nL 213.716287 229.321345 \r\nL 213.906753 229.148736 \r\nL 214.097218 227.514245 \r\nL 214.287683 228.751951 \r\nL 214.478149 226.292312 \r\nL 214.668614 228.854079 \r\nL 214.85908 227.110871 \r\nL 215.049545 229.153373 \r\nL 215.24001 228.74189 \r\nL 215.430476 228.820721 \r\nL 215.620941 228.061517 \r\nL 216.192337 229.180829 \r\nL 216.382802 228.716356 \r\nL 216.573268 229.467027 \r\nL 216.763733 229.289093 \r\nL 216.954198 229.465036 \r\nL 217.144664 228.258018 \r\nL 217.335129 228.314141 \r\nL 217.525594 228.750127 \r\nL 217.71606 226.532131 \r\nL 217.906525 229.257307 \r\nL 218.096991 228.520489 \r\nL 218.287456 227.306278 \r\nL 218.477921 228.634374 \r\nL 218.668387 224.390573 \r\nL 218.858852 227.095116 \r\nL 219.049317 226.423691 \r\nL 219.239783 225.112723 \r\nL 219.430248 224.831866 \r\nL 219.620713 225.584559 \r\nL 219.811179 229.779464 \r\nL 220.001644 229.79296 \r\nL 220.57304 227.848734 \r\nL 220.763506 229.732843 \r\nL 220.953971 228.605514 \r\nL 221.144436 228.198517 \r\nL 221.334902 229.757538 \r\nL 221.525367 229.066373 \r\nL 221.715832 227.223869 \r\nL 221.906298 228.683746 \r\nL 222.287228 225.404103 \r\nL 222.668159 229.349308 \r\nL 222.858624 228.408225 \r\nL 223.04909 225.314818 \r\nL 223.43002 229.234963 \r\nL 223.810951 229.298175 \r\nL 224.001417 229.695664 \r\nL 224.191882 226.826256 \r\nL 224.382347 228.603706 \r\nL 224.572813 225.016844 \r\nL 224.763278 227.195427 \r\nL 224.953743 225.251767 \r\nL 225.144209 225.530887 \r\nL 225.334674 229.382562 \r\nL 225.525139 229.390985 \r\nL 225.90607 229.730363 \r\nL 226.287001 227.438793 \r\nL 226.477466 229.196051 \r\nL 226.667932 229.411041 \r\nL 226.858397 227.470084 \r\nL 227.048862 227.914379 \r\nL 227.239328 224.025259 \r\nL 227.429793 229.171492 \r\nL 227.620258 228.161984 \r\nL 227.810724 229.597485 \r\nL 228.001189 227.982047 \r\nL 228.191654 229.055889 \r\nL 228.38212 226.180069 \r\nL 228.572585 228.983294 \r\nL 228.76305 229.869014 \r\nL 228.953516 228.609012 \r\nL 229.143981 229.511822 \r\nL 229.524912 224.349075 \r\nL 229.715377 228.878647 \r\nL 229.905843 228.649936 \r\nL 230.096308 229.561751 \r\nL 230.286773 229.21836 \r\nL 230.477239 229.126574 \r\nL 230.667704 225.181883 \r\nL 230.858169 229.014433 \r\nL 231.048635 229.379387 \r\nL 231.2391 229.137427 \r\nL 231.429565 228.556488 \r\nL 231.620031 229.281336 \r\nL 231.810496 228.254632 \r\nL 232.000961 229.07088 \r\nL 232.191427 229.391608 \r\nL 232.381892 228.850617 \r\nL 232.572357 229.530243 \r\nL 232.762823 229.779233 \r\nL 232.953288 226.092546 \r\nL 233.143754 226.329687 \r\nL 233.334219 228.409031 \r\nL 233.524684 227.836496 \r\nL 233.71515 229.303291 \r\nL 234.09608 227.385843 \r\nL 234.477011 229.223993 \r\nL 234.667476 228.516035 \r\nL 235.048407 228.958518 \r\nL 235.238872 229.016326 \r\nL 235.429338 227.950409 \r\nL 235.810269 228.825363 \r\nL 236.191199 228.07047 \r\nL 236.381665 228.315451 \r\nL 236.57213 227.788861 \r\nL 236.953061 229.672898 \r\nL 237.143526 228.328389 \r\nL 237.524457 229.301696 \r\nL 237.905387 227.953429 \r\nL 238.095853 229.644905 \r\nL 238.286318 228.405009 \r\nL 238.667249 229.570365 \r\nL 238.857714 227.935879 \r\nL 239.238645 229.629793 \r\nL 239.42911 229.132679 \r\nL 239.619576 227.856138 \r\nL 239.810041 228.230162 \r\nL 240.000506 229.226196 \r\nL 240.190972 228.74251 \r\nL 240.381437 229.843363 \r\nL 240.571902 227.618405 \r\nL 240.762368 227.910606 \r\nL 240.952833 229.492245 \r\nL 241.143298 229.481362 \r\nL 241.333764 227.767034 \r\nL 241.524229 227.67945 \r\nL 241.714695 228.374275 \r\nL 241.90516 227.137146 \r\nL 242.286091 228.082354 \r\nL 242.667021 228.700055 \r\nL 242.857487 228.441439 \r\nL 243.238417 229.259655 \r\nL 243.428883 229.097576 \r\nL 243.619348 229.821845 \r\nL 243.809813 229.478903 \r\nL 244.000279 229.873618 \r\nL 244.190744 229.809264 \r\nL 244.381209 229.514026 \r\nL 244.571675 227.021398 \r\nL 244.76214 227.885132 \r\nL 244.952606 226.082213 \r\nL 245.333536 228.520775 \r\nL 245.524002 229.588477 \r\nL 245.904932 228.228361 \r\nL 246.095398 228.847445 \r\nL 246.476328 228.748897 \r\nL 246.857259 229.684523 \r\nL 247.047724 229.744661 \r\nL 247.23819 229.434903 \r\nL 247.428655 229.770099 \r\nL 247.61912 227.834142 \r\nL 247.809586 229.531689 \r\nL 248.000051 229.282667 \r\nL 248.190517 228.607558 \r\nL 248.380982 228.884816 \r\nL 248.571447 224.747506 \r\nL 248.761913 226.282876 \r\nL 248.952378 229.650142 \r\nL 249.142843 229.757634 \r\nL 249.333309 229.447604 \r\nL 249.714239 227.641369 \r\nL 250.09517 229.590414 \r\nL 250.285635 228.260802 \r\nL 250.666566 229.676898 \r\nL 250.857032 229.430995 \r\nL 251.047497 229.459999 \r\nL 251.237962 229.847607 \r\nL 251.428428 229.433569 \r\nL 251.618893 229.493027 \r\nL 251.809358 229.670864 \r\nL 251.999824 229.033476 \r\nL 252.190289 227.353854 \r\nL 252.57122 229.514496 \r\nL 252.761685 229.700677 \r\nL 252.95215 229.482382 \r\nL 253.142616 228.794479 \r\nL 253.333081 229.769995 \r\nL 253.523546 228.028791 \r\nL 253.714012 229.42405 \r\nL 253.904477 229.524478 \r\nL 254.094943 228.792016 \r\nL 254.285408 229.352089 \r\nL 254.475873 227.659995 \r\nL 254.666339 227.975778 \r\nL 254.856804 229.644585 \r\nL 255.047269 228.860576 \r\nL 255.4282 228.972775 \r\nL 255.618665 229.718794 \r\nL 255.809131 229.828942 \r\nL 255.999596 227.034873 \r\nL 256.190061 229.421137 \r\nL 256.380527 226.374268 \r\nL 256.570992 227.342738 \r\nL 256.761458 229.786178 \r\nL 256.951923 227.780344 \r\nL 257.142388 227.391786 \r\nL 257.332854 229.611369 \r\nL 257.523319 228.763412 \r\nL 257.713784 228.512954 \r\nL 257.90425 229.508001 \r\nL 258.094715 229.195213 \r\nL 258.28518 229.71367 \r\nL 258.475646 226.997159 \r\nL 258.666111 228.770047 \r\nL 259.047042 229.777891 \r\nL 259.237507 226.87678 \r\nL 259.427972 229.449823 \r\nL 259.618438 229.158012 \r\nL 259.808903 228.482599 \r\nL 259.999369 226.007115 \r\nL 260.189834 226.598482 \r\nL 260.380299 217.288933 \r\nL 260.570765 229.096082 \r\nL 260.76123 219.917017 \r\nL 260.951695 228.424931 \r\nL 261.142161 227.338626 \r\nL 261.332626 228.686434 \r\nL 261.523091 227.221033 \r\nL 261.904022 229.485597 \r\nL 262.284953 229.72567 \r\nL 262.475418 228.815371 \r\nL 262.665883 228.93245 \r\nL 262.856349 229.355859 \r\nL 263.23728 228.816385 \r\nL 263.427745 227.576679 \r\nL 263.61821 229.171251 \r\nL 263.808676 228.610949 \r\nL 263.999141 229.201142 \r\nL 264.189606 228.736183 \r\nL 264.380072 227.10828 \r\nL 264.570537 229.580378 \r\nL 264.951468 229.60537 \r\nL 265.141933 229.724734 \r\nL 265.332398 228.162026 \r\nL 265.522864 229.1899 \r\nL 265.713329 229.593406 \r\nL 265.903795 229.091543 \r\nL 266.09426 229.179577 \r\nL 266.284725 228.368489 \r\nL 266.475191 229.594676 \r\nL 266.665656 229.45501 \r\nL 266.856121 228.211534 \r\nL 267.046587 229.699993 \r\nL 267.237052 228.789842 \r\nL 267.617983 229.09847 \r\nL 267.808448 227.827951 \r\nL 267.998913 228.192584 \r\nL 268.189379 229.454716 \r\nL 268.570309 228.104093 \r\nL 268.760775 229.399799 \r\nL 268.95124 228.375727 \r\nL 269.141706 229.296966 \r\nL 269.332171 228.212557 \r\nL 269.522636 228.204132 \r\nL 269.713102 228.383555 \r\nL 269.903567 227.733216 \r\nL 270.094032 229.298025 \r\nL 270.284498 229.381886 \r\nL 270.474963 227.834463 \r\nL 270.855894 229.476346 \r\nL 271.046359 229.689419 \r\nL 271.236824 228.878426 \r\nL 271.42729 229.093752 \r\nL 271.617755 228.305799 \r\nL 271.808221 229.414606 \r\nL 271.998686 227.690537 \r\nL 272.189151 228.818061 \r\nL 272.379617 229.12287 \r\nL 272.570082 228.871326 \r\nL 272.760547 229.80429 \r\nL 272.951013 229.47018 \r\nL 273.331943 227.23886 \r\nL 273.522409 229.180967 \r\nL 273.712874 228.889669 \r\nL 273.903339 229.789529 \r\nL 274.093805 229.653673 \r\nL 274.28427 229.82627 \r\nL 274.474735 228.945635 \r\nL 274.665201 229.650292 \r\nL 274.855666 229.682705 \r\nL 275.046132 229.085326 \r\nL 275.236597 228.99814 \r\nL 275.427062 226.882754 \r\nL 275.617528 229.407773 \r\nL 275.807993 229.772072 \r\nL 275.998458 228.94983 \r\nL 276.188924 229.300526 \r\nL 276.379389 228.903509 \r\nL 276.569854 229.030413 \r\nL 276.76032 229.802051 \r\nL 276.950785 229.853088 \r\nL 277.14125 228.745792 \r\nL 277.522181 229.823733 \r\nL 277.903112 229.18288 \r\nL 278.093577 229.620002 \r\nL 278.284043 229.501121 \r\nL 278.664973 229.685765 \r\nL 278.855439 228.466874 \r\nL 279.045904 228.725865 \r\nL 279.236369 228.268788 \r\nL 279.426835 229.577509 \r\nL 279.6173 229.667781 \r\nL 279.807765 227.585528 \r\nL 280.188696 229.083694 \r\nL 280.379161 229.279999 \r\nL 280.569627 228.717023 \r\nL 280.760092 229.818299 \r\nL 280.950558 228.880147 \r\nL 281.141023 229.65324 \r\nL 281.331488 228.745361 \r\nL 281.521954 229.189556 \r\nL 281.712419 228.992579 \r\nL 281.902884 228.561292 \r\nL 282.09335 229.705542 \r\nL 282.283815 228.253831 \r\nL 282.664746 229.507218 \r\nL 282.855211 228.895958 \r\nL 283.045676 229.735741 \r\nL 283.236142 229.671636 \r\nL 283.426607 229.10307 \r\nL 283.617072 229.521526 \r\nL 283.807538 229.512531 \r\nL 283.998003 227.871433 \r\nL 284.569399 228.468873 \r\nL 284.759865 229.832259 \r\nL 284.95033 228.706745 \r\nL 285.140795 228.250151 \r\nL 285.521726 229.674756 \r\nL 285.712191 229.176381 \r\nL 285.902657 229.793246 \r\nL 286.093122 228.524013 \r\nL 286.283587 228.138253 \r\nL 286.474053 229.723521 \r\nL 286.664518 229.501169 \r\nL 286.854984 229.507779 \r\nL 287.045449 229.227559 \r\nL 287.235914 227.380149 \r\nL 287.42638 227.637665 \r\nL 287.616845 229.820461 \r\nL 287.80731 229.181317 \r\nL 287.997776 229.220007 \r\nL 288.188241 228.996028 \r\nL 288.378706 229.472042 \r\nL 288.569172 229.56655 \r\nL 288.759637 226.585949 \r\nL 288.950102 229.460352 \r\nL 289.140568 228.49427 \r\nL 289.331033 229.591513 \r\nL 289.521498 229.515889 \r\nL 289.711964 225.246832 \r\nL 289.902429 229.003307 \r\nL 290.092895 225.890052 \r\nL 290.28336 229.283772 \r\nL 290.664291 229.817511 \r\nL 290.854756 228.644935 \r\nL 291.045221 229.308297 \r\nL 291.235687 228.507834 \r\nL 291.426152 229.637116 \r\nL 291.616617 228.861371 \r\nL 291.807083 227.33657 \r\nL 291.997548 229.649978 \r\nL 292.188013 229.428166 \r\nL 292.378479 229.71143 \r\nL 292.568944 228.846272 \r\nL 292.949875 229.339329 \r\nL 293.14034 229.494967 \r\nL 293.330806 228.446342 \r\nL 293.521271 226.61031 \r\nL 293.711736 229.290777 \r\nL 293.902202 228.962448 \r\nL 294.092667 229.12999 \r\nL 294.283132 228.155739 \r\nL 294.473598 229.655831 \r\nL 294.664063 229.836945 \r\nL 294.854528 227.371171 \r\nL 295.044994 228.97002 \r\nL 295.235459 229.040731 \r\nL 295.425924 229.680817 \r\nL 295.61639 228.406591 \r\nL 295.806855 229.187861 \r\nL 295.997321 229.268323 \r\nL 296.187786 229.515454 \r\nL 296.568717 229.473019 \r\nL 296.759182 229.806129 \r\nL 297.330578 229.219507 \r\nL 297.521043 229.642677 \r\nL 297.711509 229.550602 \r\nL 297.901974 229.070765 \r\nL 298.282905 229.721029 \r\nL 298.47337 228.361163 \r\nL 298.663835 229.128118 \r\nL 298.854301 229.218909 \r\nL 299.044766 228.915303 \r\nL 299.235232 229.837973 \r\nL 299.425697 229.826313 \r\nL 299.616162 227.67166 \r\nL 299.997093 229.664845 \r\nL 300.187558 225.321035 \r\nL 300.378024 225.858023 \r\nL 300.568489 229.671984 \r\nL 300.758954 229.25653 \r\nL 300.94942 229.57131 \r\nL 301.139885 229.278405 \r\nL 301.33035 229.376234 \r\nL 301.520816 229.846562 \r\nL 301.711281 229.298234 \r\nL 302.092212 229.735931 \r\nL 302.473143 229.640385 \r\nL 302.663608 229.657746 \r\nL 302.854073 229.195826 \r\nL 303.044539 229.690916 \r\nL 303.235004 229.869547 \r\nL 303.425469 229.86722 \r\nL 303.615935 228.94936 \r\nL 303.8064 229.534118 \r\nL 303.996865 229.030523 \r\nL 304.187331 229.671593 \r\nL 304.377796 229.729645 \r\nL 304.568261 229.30202 \r\nL 304.758727 229.698807 \r\nL 304.949192 228.483188 \r\nL 305.139658 228.616466 \r\nL 305.330123 229.744454 \r\nL 305.520588 224.375854 \r\nL 305.711054 228.735009 \r\nL 305.901519 229.795389 \r\nL 306.091984 229.549874 \r\nL 306.28245 228.895712 \r\nL 306.472915 225.417091 \r\nL 306.66338 228.861582 \r\nL 306.853846 229.569331 \r\nL 307.044311 229.379673 \r\nL 307.615707 229.656058 \r\nL 307.806172 228.866761 \r\nL 307.996638 229.6141 \r\nL 308.377569 229.713242 \r\nL 308.568034 228.759259 \r\nL 308.758499 229.609306 \r\nL 308.948965 228.054893 \r\nL 309.13943 229.507925 \r\nL 309.329895 228.577269 \r\nL 309.710826 229.108821 \r\nL 309.901291 228.544525 \r\nL 310.282222 228.760401 \r\nL 310.472687 229.275668 \r\nL 310.663153 228.969811 \r\nL 311.044084 229.562555 \r\nL 311.234549 229.088699 \r\nL 311.425014 229.706362 \r\nL 311.61548 229.815136 \r\nL 311.99641 228.65805 \r\nL 312.186876 228.444737 \r\nL 312.377341 229.643681 \r\nL 312.567806 229.760518 \r\nL 312.758272 229.122073 \r\nL 312.948737 228.961945 \r\nL 313.139202 229.08187 \r\nL 313.520133 229.800108 \r\nL 313.710598 227.06157 \r\nL 313.901064 229.756609 \r\nL 314.091529 229.558451 \r\nL 314.281995 227.205863 \r\nL 314.47246 229.40604 \r\nL 314.662925 229.234214 \r\nL 314.853391 229.545593 \r\nL 315.043856 229.579767 \r\nL 315.234321 227.473219 \r\nL 315.424787 229.211342 \r\nL 315.615252 229.220191 \r\nL 315.996183 227.257599 \r\nL 316.186648 229.514257 \r\nL 316.377113 229.429507 \r\nL 316.758044 229.755563 \r\nL 316.94851 229.44361 \r\nL 317.138975 227.809624 \r\nL 317.32944 229.300757 \r\nL 317.519906 228.78251 \r\nL 317.710371 228.868149 \r\nL 317.900836 229.581795 \r\nL 318.091302 228.729901 \r\nL 318.281767 228.891278 \r\nL 318.472232 228.380574 \r\nL 318.853163 229.791911 \r\nL 319.043628 229.850024 \r\nL 319.234094 228.915172 \r\nL 319.424559 229.070995 \r\nL 319.615024 228.672149 \r\nL 319.80549 229.753128 \r\nL 320.757817 229.59551 \r\nL 320.948282 229.355839 \r\nL 321.329213 229.778982 \r\nL 321.519678 228.96173 \r\nL 321.710143 229.336166 \r\nL 321.900609 228.211161 \r\nL 322.091074 228.441794 \r\nL 322.281539 227.762415 \r\nL 322.472005 229.310262 \r\nL 322.66247 229.677259 \r\nL 322.852935 229.758709 \r\nL 323.043401 228.513398 \r\nL 323.424332 229.672589 \r\nL 323.614797 228.687056 \r\nL 323.805262 229.611615 \r\nL 323.995728 228.296974 \r\nL 324.186193 228.612382 \r\nL 324.376658 229.284617 \r\nL 324.757589 228.442673 \r\nL 325.13852 229.724334 \r\nL 325.328985 229.489357 \r\nL 325.51945 229.755973 \r\nL 325.709916 228.44597 \r\nL 326.090847 229.366615 \r\nL 326.281312 229.509914 \r\nL 326.471777 228.211827 \r\nL 326.662243 229.147945 \r\nL 326.852708 228.520781 \r\nL 327.043173 229.617658 \r\nL 327.233639 229.593599 \r\nL 327.424104 229.852861 \r\nL 327.614569 229.685717 \r\nL 327.805035 229.214934 \r\nL 327.9955 228.137619 \r\nL 328.185965 228.194151 \r\nL 328.376431 229.859552 \r\nL 328.566896 229.391348 \r\nL 328.757361 229.75244 \r\nL 328.947827 228.705795 \r\nL 329.138292 228.585084 \r\nL 329.328758 228.247203 \r\nL 329.709688 229.2724 \r\nL 330.090619 228.666519 \r\nL 330.662015 229.063186 \r\nL 330.85248 228.397167 \r\nL 331.042946 228.456502 \r\nL 331.233411 227.917257 \r\nL 331.423876 229.765611 \r\nL 331.614342 229.682183 \r\nL 331.804807 228.826398 \r\nL 331.995272 229.874489 \r\nL 332.185738 229.474423 \r\nL 332.376203 229.698409 \r\nL 332.566669 228.711047 \r\nL 332.757134 229.265246 \r\nL 332.947599 227.75582 \r\nL 333.138065 229.593819 \r\nL 333.32853 229.510743 \r\nL 333.899926 229.81737 \r\nL 334.090391 227.305293 \r\nL 334.280857 228.301964 \r\nL 334.471322 227.388289 \r\nL 334.852253 228.912394 \r\nL 335.042718 228.802591 \r\nL 335.233184 227.575512 \r\nL 335.423649 229.537206 \r\nL 335.614114 227.911342 \r\nL 335.80458 228.62536 \r\nL 335.995045 229.776737 \r\nL 336.18551 229.83579 \r\nL 336.375976 229.770739 \r\nL 336.566441 227.739854 \r\nL 336.756906 228.792041 \r\nL 336.947372 227.959358 \r\nL 337.137837 226.245457 \r\nL 337.328302 229.701761 \r\nL 337.518768 229.285698 \r\nL 337.709233 229.703937 \r\nL 337.899698 229.168459 \r\nL 338.090164 229.547493 \r\nL 338.280629 228.775861 \r\nL 338.471095 229.69297 \r\nL 338.66156 228.42796 \r\nL 338.852025 228.743044 \r\nL 339.042491 229.757741 \r\nL 339.423421 229.147242 \r\nL 339.613887 229.622149 \r\nL 339.804352 229.783542 \r\nL 339.994817 229.249496 \r\nL 340.375748 229.702288 \r\nL 340.566213 229.197068 \r\nL 340.756679 229.700449 \r\nL 340.947144 229.624209 \r\nL 341.328075 227.279596 \r\nL 341.709006 229.749333 \r\nL 342.089936 226.10406 \r\nL 342.280402 229.257628 \r\nL 342.661332 229.430313 \r\nL 342.851798 229.82915 \r\nL 343.232728 228.991174 \r\nL 343.423194 229.260331 \r\nL 343.613659 228.003083 \r\nL 343.804124 229.579389 \r\nL 343.99459 227.871714 \r\nL 344.375521 229.746907 \r\nL 344.756451 228.473078 \r\nL 345.327847 229.64318 \r\nL 345.518313 229.676543 \r\nL 345.899243 228.681691 \r\nL 346.089709 229.453655 \r\nL 346.470639 229.461361 \r\nL 346.661105 228.759412 \r\nL 346.85157 228.575 \r\nL 347.042035 229.731945 \r\nL 347.232501 229.759879 \r\nL 347.422966 228.853089 \r\nL 347.613432 229.277411 \r\nL 347.803897 228.997631 \r\nL 347.994362 229.529876 \r\nL 348.184828 229.706099 \r\nL 348.375293 229.554008 \r\nL 348.565758 228.426231 \r\nL 348.756224 228.276144 \r\nL 348.946689 228.807919 \r\nL 349.137154 228.701141 \r\nL 349.32762 229.808456 \r\nL 349.518085 228.820285 \r\nL 349.70855 229.820159 \r\nL 349.899016 229.083661 \r\nL 350.089481 229.013983 \r\nL 350.470412 229.664286 \r\nL 350.851343 229.526459 \r\nL 351.041808 229.256426 \r\nL 351.232273 229.441595 \r\nL 351.422739 229.434796 \r\nL 351.613204 228.148274 \r\nL 351.803669 229.441312 \r\nL 352.1846 229.783932 \r\nL 352.375065 229.142097 \r\nL 352.755996 229.337137 \r\nL 352.946461 229.291024 \r\nL 353.136927 228.005131 \r\nL 353.327392 229.313885 \r\nL 353.517858 229.702389 \r\nL 353.708323 229.556939 \r\nL 353.898788 227.48597 \r\nL 354.089254 229.729697 \r\nL 354.279719 229.860884 \r\nL 354.470184 229.334225 \r\nL 354.66065 226.965364 \r\nL 354.851115 228.16591 \r\nL 355.04158 228.473677 \r\nL 355.232046 229.400231 \r\nL 355.422511 229.014948 \r\nL 355.612976 228.105775 \r\nL 355.803442 229.590879 \r\nL 355.993907 228.244371 \r\nL 356.184373 228.496163 \r\nL 356.374838 229.044621 \r\nL 356.565303 228.384735 \r\nL 356.755769 229.347704 \r\nL 356.946234 229.075294 \r\nL 357.136699 229.576193 \r\nL 357.327165 228.778605 \r\nL 357.51763 229.551026 \r\nL 357.708095 229.501441 \r\nL 357.898561 229.61805 \r\nL 358.089026 228.987796 \r\nL 358.469957 229.849287 \r\nL 358.660422 229.705878 \r\nL 358.850887 229.068095 \r\nL 359.041353 229.295547 \r\nL 359.231818 228.70384 \r\nL 359.231818 228.70384 \r\n\" style=\"fill:none;stroke:#1f77b4;stroke-linecap:square;stroke-width:1.5;\"/>\r\n   </g>\r\n   <g id=\"patch_3\">\r\n    <path d=\"M 39.65 239.758125 \r\nL 39.65 22.318125 \r\n\" style=\"fill:none;stroke:#000000;stroke-linecap:square;stroke-linejoin:miter;stroke-width:0.8;\"/>\r\n   </g>\r\n   <g id=\"patch_4\">\r\n    <path d=\"M 374.45 239.758125 \r\nL 374.45 22.318125 \r\n\" style=\"fill:none;stroke:#000000;stroke-linecap:square;stroke-linejoin:miter;stroke-width:0.8;\"/>\r\n   </g>\r\n   <g id=\"patch_5\">\r\n    <path d=\"M 39.65 239.758125 \r\nL 374.45 239.758125 \r\n\" style=\"fill:none;stroke:#000000;stroke-linecap:square;stroke-linejoin:miter;stroke-width:0.8;\"/>\r\n   </g>\r\n   <g id=\"patch_6\">\r\n    <path d=\"M 39.65 22.318125 \r\nL 374.45 22.318125 \r\n\" style=\"fill:none;stroke:#000000;stroke-linecap:square;stroke-linejoin:miter;stroke-width:0.8;\"/>\r\n   </g>\r\n   <g id=\"text_19\">\r\n    <!-- Losses with abs error SGD -->\r\n    <defs>\r\n     <path d=\"M 9.8125 72.90625 \r\nL 19.671875 72.90625 \r\nL 19.671875 8.296875 \r\nL 55.171875 8.296875 \r\nL 55.171875 0 \r\nL 9.8125 0 \r\nz\r\n\" id=\"DejaVuSans-76\"/>\r\n     <path d=\"M 30.609375 48.390625 \r\nQ 23.390625 48.390625 19.1875 42.75 \r\nQ 14.984375 37.109375 14.984375 27.296875 \r\nQ 14.984375 17.484375 19.15625 11.84375 \r\nQ 23.34375 6.203125 30.609375 6.203125 \r\nQ 37.796875 6.203125 41.984375 11.859375 \r\nQ 46.1875 17.53125 46.1875 27.296875 \r\nQ 46.1875 37.015625 41.984375 42.703125 \r\nQ 37.796875 48.390625 30.609375 48.390625 \r\nz\r\nM 30.609375 56 \r\nQ 42.328125 56 49.015625 48.375 \r\nQ 55.71875 40.765625 55.71875 27.296875 \r\nQ 55.71875 13.875 49.015625 6.21875 \r\nQ 42.328125 -1.421875 30.609375 -1.421875 \r\nQ 18.84375 -1.421875 12.171875 6.21875 \r\nQ 5.515625 13.875 5.515625 27.296875 \r\nQ 5.515625 40.765625 12.171875 48.375 \r\nQ 18.84375 56 30.609375 56 \r\nz\r\n\" id=\"DejaVuSans-111\"/>\r\n     <path d=\"M 44.28125 53.078125 \r\nL 44.28125 44.578125 \r\nQ 40.484375 46.53125 36.375 47.5 \r\nQ 32.28125 48.484375 27.875 48.484375 \r\nQ 21.1875 48.484375 17.84375 46.4375 \r\nQ 14.5 44.390625 14.5 40.28125 \r\nQ 14.5 37.15625 16.890625 35.375 \r\nQ 19.28125 33.59375 26.515625 31.984375 \r\nL 29.59375 31.296875 \r\nQ 39.15625 29.25 43.1875 25.515625 \r\nQ 47.21875 21.78125 47.21875 15.09375 \r\nQ 47.21875 7.46875 41.1875 3.015625 \r\nQ 35.15625 -1.421875 24.609375 -1.421875 \r\nQ 20.21875 -1.421875 15.453125 -0.5625 \r\nQ 10.6875 0.296875 5.421875 2 \r\nL 5.421875 11.28125 \r\nQ 10.40625 8.6875 15.234375 7.390625 \r\nQ 20.0625 6.109375 24.8125 6.109375 \r\nQ 31.15625 6.109375 34.5625 8.28125 \r\nQ 37.984375 10.453125 37.984375 14.40625 \r\nQ 37.984375 18.0625 35.515625 20.015625 \r\nQ 33.0625 21.96875 24.703125 23.78125 \r\nL 21.578125 24.515625 \r\nQ 13.234375 26.265625 9.515625 29.90625 \r\nQ 5.8125 33.546875 5.8125 39.890625 \r\nQ 5.8125 47.609375 11.28125 51.796875 \r\nQ 16.75 56 26.8125 56 \r\nQ 31.78125 56 36.171875 55.265625 \r\nQ 40.578125 54.546875 44.28125 53.078125 \r\nz\r\n\" id=\"DejaVuSans-115\"/>\r\n     <path d=\"M 56.203125 29.59375 \r\nL 56.203125 25.203125 \r\nL 14.890625 25.203125 \r\nQ 15.484375 15.921875 20.484375 11.0625 \r\nQ 25.484375 6.203125 34.421875 6.203125 \r\nQ 39.59375 6.203125 44.453125 7.46875 \r\nQ 49.3125 8.734375 54.109375 11.28125 \r\nL 54.109375 2.78125 \r\nQ 49.265625 0.734375 44.1875 -0.34375 \r\nQ 39.109375 -1.421875 33.890625 -1.421875 \r\nQ 20.796875 -1.421875 13.15625 6.1875 \r\nQ 5.515625 13.8125 5.515625 26.8125 \r\nQ 5.515625 40.234375 12.765625 48.109375 \r\nQ 20.015625 56 32.328125 56 \r\nQ 43.359375 56 49.78125 48.890625 \r\nQ 56.203125 41.796875 56.203125 29.59375 \r\nz\r\nM 47.21875 32.234375 \r\nQ 47.125 39.59375 43.09375 43.984375 \r\nQ 39.0625 48.390625 32.421875 48.390625 \r\nQ 24.90625 48.390625 20.390625 44.140625 \r\nQ 15.875 39.890625 15.1875 32.171875 \r\nz\r\n\" id=\"DejaVuSans-101\"/>\r\n     <path id=\"DejaVuSans-32\"/>\r\n     <path d=\"M 4.203125 54.6875 \r\nL 13.1875 54.6875 \r\nL 24.421875 12.015625 \r\nL 35.59375 54.6875 \r\nL 46.1875 54.6875 \r\nL 57.421875 12.015625 \r\nL 68.609375 54.6875 \r\nL 77.59375 54.6875 \r\nL 63.28125 0 \r\nL 52.6875 0 \r\nL 40.921875 44.828125 \r\nL 29.109375 0 \r\nL 18.5 0 \r\nz\r\n\" id=\"DejaVuSans-119\"/>\r\n     <path d=\"M 9.421875 54.6875 \r\nL 18.40625 54.6875 \r\nL 18.40625 0 \r\nL 9.421875 0 \r\nz\r\nM 9.421875 75.984375 \r\nL 18.40625 75.984375 \r\nL 18.40625 64.59375 \r\nL 9.421875 64.59375 \r\nz\r\n\" id=\"DejaVuSans-105\"/>\r\n     <path d=\"M 18.3125 70.21875 \r\nL 18.3125 54.6875 \r\nL 36.8125 54.6875 \r\nL 36.8125 47.703125 \r\nL 18.3125 47.703125 \r\nL 18.3125 18.015625 \r\nQ 18.3125 11.328125 20.140625 9.421875 \r\nQ 21.96875 7.515625 27.59375 7.515625 \r\nL 36.8125 7.515625 \r\nL 36.8125 0 \r\nL 27.59375 0 \r\nQ 17.1875 0 13.234375 3.875 \r\nQ 9.28125 7.765625 9.28125 18.015625 \r\nL 9.28125 47.703125 \r\nL 2.6875 47.703125 \r\nL 2.6875 54.6875 \r\nL 9.28125 54.6875 \r\nL 9.28125 70.21875 \r\nz\r\n\" id=\"DejaVuSans-116\"/>\r\n     <path d=\"M 54.890625 33.015625 \r\nL 54.890625 0 \r\nL 45.90625 0 \r\nL 45.90625 32.71875 \r\nQ 45.90625 40.484375 42.875 44.328125 \r\nQ 39.84375 48.1875 33.796875 48.1875 \r\nQ 26.515625 48.1875 22.3125 43.546875 \r\nQ 18.109375 38.921875 18.109375 30.90625 \r\nL 18.109375 0 \r\nL 9.078125 0 \r\nL 9.078125 75.984375 \r\nL 18.109375 75.984375 \r\nL 18.109375 46.1875 \r\nQ 21.34375 51.125 25.703125 53.5625 \r\nQ 30.078125 56 35.796875 56 \r\nQ 45.21875 56 50.046875 50.171875 \r\nQ 54.890625 44.34375 54.890625 33.015625 \r\nz\r\n\" id=\"DejaVuSans-104\"/>\r\n     <path d=\"M 34.28125 27.484375 \r\nQ 23.390625 27.484375 19.1875 25 \r\nQ 14.984375 22.515625 14.984375 16.5 \r\nQ 14.984375 11.71875 18.140625 8.90625 \r\nQ 21.296875 6.109375 26.703125 6.109375 \r\nQ 34.1875 6.109375 38.703125 11.40625 \r\nQ 43.21875 16.703125 43.21875 25.484375 \r\nL 43.21875 27.484375 \r\nz\r\nM 52.203125 31.203125 \r\nL 52.203125 0 \r\nL 43.21875 0 \r\nL 43.21875 8.296875 \r\nQ 40.140625 3.328125 35.546875 0.953125 \r\nQ 30.953125 -1.421875 24.3125 -1.421875 \r\nQ 15.921875 -1.421875 10.953125 3.296875 \r\nQ 6 8.015625 6 15.921875 \r\nQ 6 25.140625 12.171875 29.828125 \r\nQ 18.359375 34.515625 30.609375 34.515625 \r\nL 43.21875 34.515625 \r\nL 43.21875 35.40625 \r\nQ 43.21875 41.609375 39.140625 45 \r\nQ 35.0625 48.390625 27.6875 48.390625 \r\nQ 23 48.390625 18.546875 47.265625 \r\nQ 14.109375 46.140625 10.015625 43.890625 \r\nL 10.015625 52.203125 \r\nQ 14.9375 54.109375 19.578125 55.046875 \r\nQ 24.21875 56 28.609375 56 \r\nQ 40.484375 56 46.34375 49.84375 \r\nQ 52.203125 43.703125 52.203125 31.203125 \r\nz\r\n\" id=\"DejaVuSans-97\"/>\r\n     <path d=\"M 48.6875 27.296875 \r\nQ 48.6875 37.203125 44.609375 42.84375 \r\nQ 40.53125 48.484375 33.40625 48.484375 \r\nQ 26.265625 48.484375 22.1875 42.84375 \r\nQ 18.109375 37.203125 18.109375 27.296875 \r\nQ 18.109375 17.390625 22.1875 11.75 \r\nQ 26.265625 6.109375 33.40625 6.109375 \r\nQ 40.53125 6.109375 44.609375 11.75 \r\nQ 48.6875 17.390625 48.6875 27.296875 \r\nz\r\nM 18.109375 46.390625 \r\nQ 20.953125 51.265625 25.265625 53.625 \r\nQ 29.59375 56 35.59375 56 \r\nQ 45.5625 56 51.78125 48.09375 \r\nQ 58.015625 40.1875 58.015625 27.296875 \r\nQ 58.015625 14.40625 51.78125 6.484375 \r\nQ 45.5625 -1.421875 35.59375 -1.421875 \r\nQ 29.59375 -1.421875 25.265625 0.953125 \r\nQ 20.953125 3.328125 18.109375 8.203125 \r\nL 18.109375 0 \r\nL 9.078125 0 \r\nL 9.078125 75.984375 \r\nL 18.109375 75.984375 \r\nz\r\n\" id=\"DejaVuSans-98\"/>\r\n     <path d=\"M 41.109375 46.296875 \r\nQ 39.59375 47.171875 37.8125 47.578125 \r\nQ 36.03125 48 33.890625 48 \r\nQ 26.265625 48 22.1875 43.046875 \r\nQ 18.109375 38.09375 18.109375 28.8125 \r\nL 18.109375 0 \r\nL 9.078125 0 \r\nL 9.078125 54.6875 \r\nL 18.109375 54.6875 \r\nL 18.109375 46.1875 \r\nQ 20.953125 51.171875 25.484375 53.578125 \r\nQ 30.03125 56 36.53125 56 \r\nQ 37.453125 56 38.578125 55.875 \r\nQ 39.703125 55.765625 41.0625 55.515625 \r\nz\r\n\" id=\"DejaVuSans-114\"/>\r\n     <path d=\"M 53.515625 70.515625 \r\nL 53.515625 60.890625 \r\nQ 47.90625 63.578125 42.921875 64.890625 \r\nQ 37.9375 66.21875 33.296875 66.21875 \r\nQ 25.25 66.21875 20.875 63.09375 \r\nQ 16.5 59.96875 16.5 54.203125 \r\nQ 16.5 49.359375 19.40625 46.890625 \r\nQ 22.3125 44.4375 30.421875 42.921875 \r\nL 36.375 41.703125 \r\nQ 47.40625 39.59375 52.65625 34.296875 \r\nQ 57.90625 29 57.90625 20.125 \r\nQ 57.90625 9.515625 50.796875 4.046875 \r\nQ 43.703125 -1.421875 29.984375 -1.421875 \r\nQ 24.8125 -1.421875 18.96875 -0.25 \r\nQ 13.140625 0.921875 6.890625 3.21875 \r\nL 6.890625 13.375 \r\nQ 12.890625 10.015625 18.65625 8.296875 \r\nQ 24.421875 6.59375 29.984375 6.59375 \r\nQ 38.421875 6.59375 43.015625 9.90625 \r\nQ 47.609375 13.234375 47.609375 19.390625 \r\nQ 47.609375 24.75 44.3125 27.78125 \r\nQ 41.015625 30.8125 33.5 32.328125 \r\nL 27.484375 33.5 \r\nQ 16.453125 35.6875 11.515625 40.375 \r\nQ 6.59375 45.0625 6.59375 53.421875 \r\nQ 6.59375 63.09375 13.40625 68.65625 \r\nQ 20.21875 74.21875 32.171875 74.21875 \r\nQ 37.3125 74.21875 42.625 73.28125 \r\nQ 47.953125 72.359375 53.515625 70.515625 \r\nz\r\n\" id=\"DejaVuSans-83\"/>\r\n     <path d=\"M 59.515625 10.40625 \r\nL 59.515625 29.984375 \r\nL 43.40625 29.984375 \r\nL 43.40625 38.09375 \r\nL 69.28125 38.09375 \r\nL 69.28125 6.78125 \r\nQ 63.578125 2.734375 56.6875 0.65625 \r\nQ 49.8125 -1.421875 42 -1.421875 \r\nQ 24.90625 -1.421875 15.25 8.5625 \r\nQ 5.609375 18.5625 5.609375 36.375 \r\nQ 5.609375 54.25 15.25 64.234375 \r\nQ 24.90625 74.21875 42 74.21875 \r\nQ 49.125 74.21875 55.546875 72.453125 \r\nQ 61.96875 70.703125 67.390625 67.28125 \r\nL 67.390625 56.78125 \r\nQ 61.921875 61.421875 55.765625 63.765625 \r\nQ 49.609375 66.109375 42.828125 66.109375 \r\nQ 29.4375 66.109375 22.71875 58.640625 \r\nQ 16.015625 51.171875 16.015625 36.375 \r\nQ 16.015625 21.625 22.71875 14.15625 \r\nQ 29.4375 6.6875 42.828125 6.6875 \r\nQ 48.046875 6.6875 52.140625 7.59375 \r\nQ 56.25 8.5 59.515625 10.40625 \r\nz\r\n\" id=\"DejaVuSans-71\"/>\r\n     <path d=\"M 19.671875 64.796875 \r\nL 19.671875 8.109375 \r\nL 31.59375 8.109375 \r\nQ 46.6875 8.109375 53.6875 14.9375 \r\nQ 60.6875 21.78125 60.6875 36.53125 \r\nQ 60.6875 51.171875 53.6875 57.984375 \r\nQ 46.6875 64.796875 31.59375 64.796875 \r\nz\r\nM 9.8125 72.90625 \r\nL 30.078125 72.90625 \r\nQ 51.265625 72.90625 61.171875 64.09375 \r\nQ 71.09375 55.28125 71.09375 36.53125 \r\nQ 71.09375 17.671875 61.125 8.828125 \r\nQ 51.171875 0 30.078125 0 \r\nL 9.8125 0 \r\nz\r\n\" id=\"DejaVuSans-68\"/>\r\n    </defs>\r\n    <g transform=\"translate(128.162188 16.318125)scale(0.12 -0.12)\">\r\n     <use xlink:href=\"#DejaVuSans-76\"/>\r\n     <use x=\"55.697266\" xlink:href=\"#DejaVuSans-111\"/>\r\n     <use x=\"116.878906\" xlink:href=\"#DejaVuSans-115\"/>\r\n     <use x=\"168.978516\" xlink:href=\"#DejaVuSans-115\"/>\r\n     <use x=\"221.078125\" xlink:href=\"#DejaVuSans-101\"/>\r\n     <use x=\"282.601562\" xlink:href=\"#DejaVuSans-115\"/>\r\n     <use x=\"334.701172\" xlink:href=\"#DejaVuSans-32\"/>\r\n     <use x=\"366.488281\" xlink:href=\"#DejaVuSans-119\"/>\r\n     <use x=\"448.275391\" xlink:href=\"#DejaVuSans-105\"/>\r\n     <use x=\"476.058594\" xlink:href=\"#DejaVuSans-116\"/>\r\n     <use x=\"515.267578\" xlink:href=\"#DejaVuSans-104\"/>\r\n     <use x=\"578.646484\" xlink:href=\"#DejaVuSans-32\"/>\r\n     <use x=\"610.433594\" xlink:href=\"#DejaVuSans-97\"/>\r\n     <use x=\"671.712891\" xlink:href=\"#DejaVuSans-98\"/>\r\n     <use x=\"735.189453\" xlink:href=\"#DejaVuSans-115\"/>\r\n     <use x=\"787.289062\" xlink:href=\"#DejaVuSans-32\"/>\r\n     <use x=\"819.076172\" xlink:href=\"#DejaVuSans-101\"/>\r\n     <use x=\"880.599609\" xlink:href=\"#DejaVuSans-114\"/>\r\n     <use x=\"921.697266\" xlink:href=\"#DejaVuSans-114\"/>\r\n     <use x=\"962.779297\" xlink:href=\"#DejaVuSans-111\"/>\r\n     <use x=\"1023.960938\" xlink:href=\"#DejaVuSans-114\"/>\r\n     <use x=\"1065.074219\" xlink:href=\"#DejaVuSans-32\"/>\r\n     <use x=\"1096.861328\" xlink:href=\"#DejaVuSans-83\"/>\r\n     <use x=\"1160.337891\" xlink:href=\"#DejaVuSans-71\"/>\r\n     <use x=\"1237.828125\" xlink:href=\"#DejaVuSans-68\"/>\r\n    </g>\r\n   </g>\r\n  </g>\r\n </g>\r\n <defs>\r\n  <clipPath id=\"p5f21ba15e6\">\r\n   <rect height=\"217.44\" width=\"334.8\" x=\"39.65\" y=\"22.318125\"/>\r\n  </clipPath>\r\n </defs>\r\n</svg>\r\n",
      "image/png": "[encoded data removed]"
     },
     "metadata": {
      "needs_background": "light"
     }
    }
   ],
   "source": [
    "plt.plot(losses)\n",
    "_ = plt.title('Losses with abs error SGD')"
   ]
  },
  {
   "cell_type": "markdown",
   "metadata": {
    "slideshow": {
     "slide_type": "slide"
    }
   },
   "source": [
    "### Exercise 8.2\n",
    "\n",
    "Look at `LROnline.py` and determine what the decay argument is doing.  Play with the arguments and see when you achieve convergence and when you do not."
   ]
  },
  {
   "cell_type": "markdown",
   "metadata": {
    "slideshow": {
     "slide_type": "slide"
    }
   },
   "source": [
    "### SGD on Support Vector Machines\n",
    "\n",
    "Recall SVM for $y_i \\in \\{-1,1\\}$,\n",
    "$$\n",
    "\\min_\\theta \\frac 1n \\sum_i (1 - y_i x_i^\\top \\theta)_+ + \\lambda \\| \\theta \\|^2.\n",
    "$$\n",
    "\n",
    "Then subdifferential of $(1 - y x^\\top\\theta)_+$ (Hinge Loss) is\n",
    "\n",
    "$\\{- y x\\}$ if $1 - y x^\\top \\theta > 0$\n",
    "\n",
    "$[0,-yx]$ if $1 - y x^\\top \\theta = 0$  (These are the support Vectors)\n",
    "\n",
    "$\\{0\\}$ if $1 - y x^\\top \\theta < 0$\n",
    "\n",
    "Choose subgradient $0$ when we can."
   ]
  },
  {
   "cell_type": "markdown",
   "metadata": {
    "slideshow": {
     "slide_type": "slide"
    }
   },
   "source": [
    "### Perceptron\n",
    "\n",
    "Our subgradient of $\\ell(\\theta; x, y) = (1 - y x^\\top\\theta)_+ + \\lambda \\| \\theta \\|^2$ is \n",
    "\n",
    "$-yx + \\lambda \\theta$ if $1 - y x^\\top \\theta > 0$\n",
    "\n",
    "$\\lambda \\theta$ otherwise\n",
    "\n",
    "SGD makes update\n",
    "$$\n",
    "\\theta \\gets (1 - \\lambda \\eta) \\theta + \\eta y_t x_t  1\\{1 - y x^\\top \\theta > 0\\}\n",
    "$$"
   ]
  },
  {
   "cell_type": "markdown",
   "metadata": {
    "slideshow": {
     "slide_type": "slide"
    }
   },
   "source": [
    "### Perceptron\n",
    "\n",
    "Recall that as $\\lambda \\rightarrow 0$ the margin is more narrow, equivalent to reducing 1 in $1 - y x^\\top \\theta < 0$.\n",
    "In the limit as $\\lambda \\rightarrow 0$ and with $\\eta = 1$, \n",
    "$$\n",
    "\\theta \\gets \\theta + y_t x_t  1\\{y x^\\top \\theta \\le 0\\}\n",
    "$$\n",
    "which is Rosenblatt's perceptron.\n",
    "\n",
    "The update for the intercept is simpler\n",
    "$$\n",
    "\\theta_0 \\gets \\theta_0 + y_t 1\\{y x^\\top \\theta \\le 0\\}\n",
    "$$"
   ]
  },
  {
   "cell_type": "code",
   "execution_count": 26,
   "metadata": {
    "slideshow": {
     "slide_type": "slide"
    }
   },
   "outputs": [],
   "source": [
    " class Perceptron:\n",
    "    \"\"\"\n",
    "    Rosenblatt's perceptron, online learner\n",
    "\n",
    "    Attributes:\n",
    "        eta: learning rate\n",
    "        beta: coefficient vector\n",
    "        p: dimension of X\n",
    "        beta_zero: intercept\n",
    "    \"\"\"\n",
    "\n",
    "    def __init__(self,eta,dim,\n",
    "                 beta_init=None,beta_zero_init=None):\n",
    "        \"\"\"initialize and set beta\"\"\"\n",
    "        self.eta = eta\n",
    "        self.p = dim\n",
    "        if beta_init:\n",
    "            self.beta = beta_init\n",
    "        else:\n",
    "            self.beta = np.zeros(dim)\n",
    "        if beta_zero_init:\n",
    "            self.beta_zero = beta_zero_init\n",
    "        else:\n",
    "            self.beta_zero = 0.\n",
    "    ..."
   ]
  },
  {
   "cell_type": "code",
   "execution_count": 27,
   "metadata": {
    "slideshow": {
     "slide_type": "slide"
    }
   },
   "outputs": [],
   "source": [
    " class Perceptron:\n",
    "    ...\n",
    "\n",
    "    def predict(self,x):\n",
    "        \"\"\"predict y with x\"\"\"\n",
    "        s = x @ self.beta + self.beta_zero\n",
    "        yhat = 2*(s > 0) - 1\n",
    "        return yhat\n",
    "\n",
    "    def update_beta(self,x,y):\n",
    "        \"\"\"single step update output 0/1 loss\"\"\"\n",
    "        yhat = self.predict(x)\n",
    "        if yhat != y:\n",
    "            self.beta += self.eta * y * x\n",
    "            self.beta_zero += self.eta * y \n",
    "        return yhat != y"
   ]
  },
  {
   "cell_type": "code",
   "execution_count": null,
   "metadata": {},
   "outputs": [],
   "source": [
    "loss = []\n",
    "t_iter = 40\n",
    "for t,(x,y) in enumerate(zip(X,Y)):\n",
    "    loss.append(perc.update_beta(x,y))"
   ]
  },
  {
   "cell_type": "markdown",
   "metadata": {},
   "source": [
    "The lines are where $yx^\\top \\theta=0$."
   ]
  },
  {
   "cell_type": "markdown",
   "metadata": {
    "slideshow": {
     "slide_type": "slide"
    }
   },
   "source": [
    "After 40 iterations\n",
    "![](perc_0.png)"
   ]
  },
  {
   "cell_type": "markdown",
   "metadata": {
    "slideshow": {
     "slide_type": "slide"
    }
   },
   "source": [
    "After 80 iterations\n",
    "![](perc_1.png)"
   ]
  },
  {
   "cell_type": "markdown",
   "metadata": {
    "slideshow": {
     "slide_type": "slide"
    }
   },
   "source": [
    "After 120 iterations\n",
    "![](perc_2.png)"
   ]
  },
  {
   "cell_type": "markdown",
   "metadata": {
    "slideshow": {
     "slide_type": "slide"
    }
   },
   "source": [
    "After 160 iterations\n",
    "![](perc_3.png)"
   ]
  },
  {
   "cell_type": "markdown",
   "metadata": {
    "slideshow": {
     "slide_type": "slide"
    }
   },
   "source": [
    "After 200 iterations\n",
    "![](perc_4.png)"
   ]
  },
  {
   "cell_type": "markdown",
   "metadata": {
    "slideshow": {
     "slide_type": "slide"
    }
   },
   "source": [
    "### Exercise 8.3\n",
    "\n",
    "Look at `Perceptron.py` and go through each line in the main code section after `if __name__==\"__main__\":`.  Look up at the main class and the helper functions to get a good understanding of what is happening there."
   ]
  }
 ],
 "metadata": {
  "celltoolbar": "Slideshow",
  "kernelspec": {
   "display_name": "Python 3",
   "language": "python",
   "name": "python3"
  },
  "language_info": {
   "codemirror_mode": {
    "name": "ipython",
    "version": 3
   },
   "file_extension": ".py",
   "mimetype": "text/x-python",
   "name": "python",
   "nbconvert_exporter": "python",
   "pygments_lexer": "ipython3",
   "version": "3.7.1-final"
  }
 },
 "nbformat": 4,
 "nbformat_minor": 2
}