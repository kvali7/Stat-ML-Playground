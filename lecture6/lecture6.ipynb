{
 "cells": [
  {
   "cell_type": "markdown",
   "metadata": {
    "slideshow": {
     "slide_type": "slide"
    }
   },
   "source": [
    "# Classification 1: Generative methods\n",
    "\n",
    "## StatML: Lecture 6\n",
    "\n",
    "## Prof. James Sharpnack\n",
    "\n",
    "- Some content and images are from \"The Elements of Statistical Learning\" by Hastie, Tibshirani, Friedman\n",
    "- Reading ESL Chapter 4"
   ]
  },
  {
   "cell_type": "markdown",
   "metadata": {
    "slideshow": {
     "slide_type": "slide"
    }
   },
   "source": [
    "### Bayes rule in classification\n",
    "\n",
    "Recall from homework that Bayes rule is \n",
    "$$\n",
    "g(x) = \\left\\{ \\begin{array}{ll} 1, &\\mathbb P \\{Y = 1 | X = x \\} > \\mathbb P \\{Y = 0 | X = x \\} \\\\\n",
    "0, &{\\rm otherwise}\\end{array}\\right.\n",
    "$$\n",
    "Another way to write this event is (for $f_X(x) > 0$)\n",
    "$$\n",
    "f_{Y,X}(1, x) = \\mathbb P \\{Y = 1 | X = x \\} f_X(x) > \\mathbb P \\{Y = 0 | X = x \\} f_X(x) = f_{Y,X} (0, x)\n",
    "$$\n",
    "Let $\\pi = \\mathbb P \\{ Y = 1\\}$ then this is also\n",
    "$$\n",
    "\\pi f_{X|Y}(x | 1) > (1 - \\pi) f_{X|Y} (x|0)\n",
    "$$\n",
    "which is \n",
    "$$\n",
    "\\frac{f_{X|Y}(x | 1)}{f_{X|Y} (x|0)} > \\tau = \\frac{1-\\pi}{\\pi}\n",
    "$$"
   ]
  },
  {
   "cell_type": "markdown",
   "metadata": {
    "slideshow": {
     "slide_type": "slide"
    }
   },
   "source": [
    "### Bayes rule in classification\n",
    "\n",
    "$$\n",
    "\\frac{f_{X|Y}(x | 1)}{f_{X|Y} (x|0)} > \\tau = \\frac{1-\\pi}{\\pi}\n",
    "$$\n",
    "\n",
    "> the Bayes rule is performing a likelihood ratio test\n",
    "\n",
    "![](LRT.PNG)"
   ]
  },
  {
   "cell_type": "markdown",
   "metadata": {
    "slideshow": {
     "slide_type": "slide"
    }
   },
   "source": [
    "### Generative methods\n",
    "\n",
    "A *generative method* does the following\n",
    "1. treats $Y=1$ and $Y=0$ as different datasets and tries to estimate the densities $\\hat f_{X | Y}$.\n",
    "2. then plug these in to the formula for the Bayes rule\n",
    "\n",
    "\n",
    "\n",
    "- *Naive Bayes* methods assume that each component of $X$ is independent of one another, but does non-parametric density estimation for the densities $\\hat f_{X_j|Y}$\n",
    "- *Parametric methods* fit a parametric density to $X|Y$ "
   ]
  },
  {
   "cell_type": "markdown",
   "metadata": {
    "slideshow": {
     "slide_type": "slide"
    }
   },
   "source": [
    "### Density estimation\n",
    "\n",
    "1. Parametric maximum likelihood estimation\n",
    "2. Nonparametric: Kernel density estimation (KDE), nearest neighbor methods, \n",
    "\n",
    "Reasonable heuristic for estimating a density $\\hat f_X$, based on data $x_1,\\ldots,x_n$ is\n",
    "1. Let $N(x,\\epsilon)$ be the number of data points within $\\epsilon$ of $x$\n",
    "2. $\\hat f(x) = N(x,\\epsilon) / n$Vol$(B(\\epsilon))$ divide by the volume of the ball of radius $\\epsilon$\n",
    "\n",
    "$$\\mathbb E \\left( \\frac{N(x,\\epsilon)}{n} \\right)= \\mathbb P\\{X \\in B(x,\\epsilon) \\} \\approx f_x(x) \\textrm{Vol}(B(\\epsilon))$$ "
   ]
  },
  {
   "cell_type": "markdown",
   "metadata": {
    "slideshow": {
     "slide_type": "slide"
    }
   },
   "source": [
    "### Kernel density estimation\n",
    "\n",
    "Let the Boxcar kernel function be\n",
    "$$\n",
    "k(\\|x_0-x_1\\|) = \\frac{1\\{ \\| x_0 - x_1 \\| \\le 1 \\}}{{\\rm Vol}(B(1))}\n",
    "$$\n",
    "then the number of pts within $\\epsilon$ is\n",
    "$$\n",
    "N(x,\\epsilon) = {\\rm Vol}(B(1)) \\sum_i k\\left( \\frac{\\| x - x_i \\|}{\\epsilon} \\right)\n",
    "$$\n",
    "and the density estimate is \n",
    "$$\n",
    "\\hat f(x) = \\frac 1n \\sum_i \\frac{{\\rm Vol}(B(1))}{{\\rm Vol}(B(\\epsilon))} \\cdot k\\left( \\frac{\\| x - x_i \\|}{\\epsilon} \\right)\n",
    "$$\n",
    "this is equal to \n",
    "$$\n",
    "\\hat f(x) = \\frac 1n \\sum_i \\frac{1}{\\epsilon^p} \\cdot k\\left( \\frac{\\| x - x_i \\|}{\\epsilon} \\right)\n",
    "$$"
   ]
  },
  {
   "cell_type": "markdown",
   "metadata": {
    "slideshow": {
     "slide_type": "slide"
    }
   },
   "source": [
    "### Kernel density estimation\n",
    "\n",
    "General kernel density estimate is based on a *kernel* such that \n",
    "$$\n",
    "\\int k(\\|x-x_0\\|) dx = 1.\n",
    "$$\n",
    "\n",
    "Then KDE is \n",
    "$$\n",
    "\\hat f(x') = \\frac 1n \\sum_i \\frac{1}{\\epsilon^p} \\cdot k\\left( \\frac{\\| x' - x_i \\|}{\\epsilon} \\right)\n",
    "$$\n",
    "where $p$ is the dimensionality of the X space.\n",
    "$\\epsilon$ is a bandwidth parameter."
   ]
  },
  {
   "cell_type": "markdown",
   "metadata": {
    "slideshow": {
     "slide_type": "slide"
    }
   },
   "source": [
    "![](kde.png)\n",
    "from wikipedia"
   ]
  },
  {
   "cell_type": "markdown",
   "metadata": {
    "slideshow": {
     "slide_type": "slide"
    }
   },
   "source": [
    "### Naive Bayes\n",
    "\n",
    "\n",
    "For each $y = 0,1$ let $x_1,\\ldots,x_{n_y}$ be the predictor data with $Y = y$\n",
    " - For each dimension j \n",
    "   - Let $\\hat f_{y,j}$ be the KDE of $x_{1,j},\\ldots,x_{n_y,j}$\n",
    " - Let $\\hat f_y = \\prod_j \\hat f_{y,j}$\n",
    " \n",
    "Let $\\pi$ be the proportion of $Y = 1$ then let $\\tau = (1 - \\pi) / \\pi$.\n",
    "\n",
    "Predict $\\hat y = 1$ for a new $x'$ if \n",
    "$$\n",
    "\\frac{\\hat f_{1}(x')}{\\hat f_{0} (x')} > \\tau\n",
    "$$\n",
    "and $\\hat y=0$ otherwise."
   ]
  },
  {
   "cell_type": "markdown",
   "metadata": {
    "slideshow": {
     "slide_type": "slide"
    }
   },
   "source": [
    "![](naive_bayes.png)\n",
    "from mathworks.org"
   ]
  },
  {
   "cell_type": "markdown",
   "metadata": {
    "slideshow": {
     "slide_type": "slide"
    }
   },
   "source": [
    "### Exercise 6.1\n",
    "\n",
    "Let $x_0,x_1 \\in \\mathbb R^p$ and\n",
    "$$k(\\|x_0 - x_1\\|) = \\frac{1}{(2\\pi)^{k/2}} \\exp \\left(- \\frac 12 \\|x_0 - x_1\\|_2^2 \\right).$$\n",
    "How do we know that this is a valid kernel for multivariate density estimation?\n",
    "\n",
    "Suppose that you used this kernel to obtain a multivariate density estimate, $\\hat f: \\mathbb R^p \\rightarrow \\mathbb R$, and also used the subroutine in Naive Bayes to estimate $\\hat f_N(x') = \\prod_j \\hat f_j(x_j')$.  Will these return the same results?  Think about the boxcar kernel with bandwidth of 1, what are the main differences between these methods?"
   ]
  },
  {
   "cell_type": "markdown",
   "metadata": {
    "slideshow": {
     "slide_type": "slide"
    }
   },
   "source": [
    "# STOP"
   ]
  },
  {
   "cell_type": "markdown",
   "metadata": {
    "slideshow": {
     "slide_type": "slide"
    }
   },
   "source": [
    "### Answer to 6.1\n",
    "\n",
    "1. This is a Gaussian pdf with mean $x_1$ and variance $I$ so it integrates to 1.\n",
    "2. They are not the same because\n",
    "$$\n",
    "\\frac 1n \\sum_i \\exp\\left(-\\frac 12 \\sum_j (x_{ij} - x_j')^2\\right) \\ne \\prod_j \\left( \\frac 1n \\sum_i \\exp(-\\frac 12 (x_{ij} - x_j')^2)\\right)\n",
    "$$\n",
    "For the boxcar kernel in p dimensions, $k(\\| x' - x_i\\|) \\ne 0$ if $\\| x' - x_i \\| \\le 1$ while $k(|x_j' - x_{ij}|) \\ne 0$ if $|x_j' - x_{ij}| \\le 1$.  So $\\hat f_N(x') \\ne 0$ if $|x_j' - x_{ij}| \\le 1$ for all j."
   ]
  },
  {
   "cell_type": "markdown",
   "metadata": {
    "slideshow": {
     "slide_type": "slide"
    }
   },
   "source": [
    "### Gaussian Generative Models\n",
    "\n",
    "- Fit parametric model for each class using likelihood based approach.\n",
    "- Assume a Gaussian distribution\n",
    "$$\n",
    "X | Y = k \\sim \\mathcal N(\\mu_k, \\Sigma_k)\n",
    "$$\n",
    "for mean and variance parameters $\\mu_k, \\Sigma_k$."
   ]
  },
  {
   "cell_type": "markdown",
   "metadata": {
    "slideshow": {
     "slide_type": "slide"
    }
   },
   "source": [
    "![](gaussian.PNG)"
   ]
  },
  {
   "cell_type": "markdown",
   "metadata": {
    "slideshow": {
     "slide_type": "slide"
    }
   },
   "source": [
    "![](lda_math.PNG)"
   ]
  },
  {
   "cell_type": "markdown",
   "metadata": {
    "slideshow": {
     "slide_type": "slide"
    }
   },
   "source": [
    "![](LDA.PNG)"
   ]
  },
  {
   "cell_type": "markdown",
   "metadata": {
    "slideshow": {
     "slide_type": "slide"
    }
   },
   "source": [
    "![](lda_fit.PNG)"
   ]
  },
  {
   "cell_type": "markdown",
   "metadata": {
    "slideshow": {
     "slide_type": "slide"
    }
   },
   "source": [
    "![](qda_pred.PNG)"
   ]
  },
  {
   "cell_type": "markdown",
   "metadata": {
    "slideshow": {
     "slide_type": "slide"
    }
   },
   "source": [
    "![](QDA.PNG)"
   ]
  },
  {
   "cell_type": "markdown",
   "metadata": {
    "slideshow": {
     "slide_type": "slide"
    }
   },
   "source": [
    "![](qda_fit.PNG)"
   ]
  },
  {
   "cell_type": "code",
   "execution_count": 1,
   "metadata": {
    "slideshow": {
     "slide_type": "skip"
    }
   },
   "outputs": [],
   "source": [
    "import pandas as pd\n",
    "import numpy as np\n",
    "import matplotlib as mpl\n",
    "import plotnine as p9\n",
    "import matplotlib.pyplot as plt\n",
    "import itertools\n",
    "\n",
    "import warnings\n",
    "warnings.simplefilter(\"ignore\")\n",
    "\n",
    "from sklearn import neighbors, preprocessing, impute, metrics, model_selection, linear_model, svm, feature_selection"
   ]
  },
  {
   "cell_type": "code",
   "execution_count": 2,
   "metadata": {
    "slideshow": {
     "slide_type": "skip"
    }
   },
   "outputs": [],
   "source": [
    "from matplotlib.pyplot import rcParams\n",
    "rcParams['figure.figsize'] = 6,6"
   ]
  },
  {
   "cell_type": "code",
   "execution_count": 35,
   "metadata": {
    "slideshow": {
     "slide_type": "skip"
    }
   },
   "outputs": [],
   "source": [
    "def train_bank_to_xy(bank):\n",
    "    \"\"\"standardize and impute training\"\"\"\n",
    "    bank_sel = bank[['age','balance','duration','y']].values\n",
    "    X,y = bank_sel[:,:-1], bank_sel[:,-1]\n",
    "    scaler = preprocessing.StandardScaler().fit(X)\n",
    "    imputer = impute.SimpleImputer(fill_value=0).fit(X)\n",
    "    trans_prep = lambda Z: imputer.transform(scaler.transform(Z)) \n",
    "    X = trans_prep(X)\n",
    "    y = (y == 'yes')*1\n",
    "    return (X, y), trans_prep\n",
    "\n",
    "def test_bank_to_xy(bank, trans_prep):\n",
    "    \"\"\"standardize and impute test\"\"\"\n",
    "    bank_sel = bank[['age','balance','duration','y']].values\n",
    "    X,y = bank_sel[:,:-1], bank_sel[:,-1]\n",
    "    X = trans_prep(X)\n",
    "    y = (y == 'yes')*1\n",
    "    return (X, y)"
   ]
  },
  {
   "cell_type": "code",
   "execution_count": 36,
   "metadata": {
    "slideshow": {
     "slide_type": "slide"
    }
   },
   "outputs": [
    {
     "name": "stdout",
     "output_type": "stream",
     "text": [
      "<class 'pandas.core.frame.DataFrame'>\n",
      "RangeIndex: 4521 entries, 0 to 4520\n",
      "Data columns (total 17 columns):\n",
      "age          4521 non-null int64\n",
      "job          4483 non-null object\n",
      "marital      4521 non-null object\n",
      "education    4334 non-null object\n",
      "default      4521 non-null object\n",
      "balance      4519 non-null float64\n",
      "housing      4521 non-null object\n",
      "loan         4521 non-null object\n",
      "contact      3197 non-null object\n",
      "day          4521 non-null int64\n",
      "month        4521 non-null object\n",
      "duration     4521 non-null int64\n",
      "campaign     4521 non-null int64\n",
      "pdays        4521 non-null int64\n",
      "previous     4521 non-null int64\n",
      "poutcome     816 non-null object\n",
      "y            4521 non-null object\n",
      "dtypes: float64(1), int64(6), object(10)\n",
      "memory usage: 600.6+ KB\n"
     ]
    }
   ],
   "source": [
    "bank = pd.read_csv('../../data/bank.csv',sep=';',na_values=['unknown',999,'nonexistent'])\n",
    "bank.info()"
   ]
  },
  {
   "cell_type": "code",
   "execution_count": 37,
   "metadata": {
    "slideshow": {
     "slide_type": "slide"
    }
   },
   "outputs": [],
   "source": [
    "bank_tr, bank_te = model_selection.train_test_split(bank,test_size=.33)"
   ]
  },
  {
   "cell_type": "code",
   "execution_count": 38,
   "metadata": {
    "slideshow": {
     "slide_type": "fragment"
    }
   },
   "outputs": [
    {
     "data": {
      "image/png": "[encoded data removed]",
      "text/plain": [
       "<Figure size 640x480 with 1 Axes>"
      ]
     },
     "metadata": {},
     "output_type": "display_data"
    },
    {
     "data": {
      "text/plain": [
       "<ggplot: (8769840697913)>"
      ]
     },
     "execution_count": 38,
     "metadata": {},
     "output_type": "execute_result"
    }
   ],
   "source": [
    "p9.ggplot(bank_tr, p9.aes(x = 'age',fill = 'y')) + p9.geom_density(alpha=.2)"
   ]
  },
  {
   "cell_type": "code",
   "execution_count": 39,
   "metadata": {
    "slideshow": {
     "slide_type": "slide"
    }
   },
   "outputs": [],
   "source": [
    "(X_tr, y_tr), trans_prep  = train_bank_to_xy(bank_tr)\n",
    "X_te, y_te = test_bank_to_xy(bank_te, trans_prep)"
   ]
  },
  {
   "cell_type": "code",
   "execution_count": 62,
   "metadata": {
    "slideshow": {
     "slide_type": "skip"
    }
   },
   "outputs": [],
   "source": [
    "def plot_conf_score(y_te,score,tau):\n",
    "    y_classes = (1,0)\n",
    "    cf_inds = [\"Pred {}\".format(c) for c in y_classes]\n",
    "    cf_cols = [\"True {}\".format(c) for c in y_classes]\n",
    "    y_pred = score_dur > tau\n",
    "    return pd.DataFrame(metrics.confusion_matrix(y_pred,y_te,labels=y_classes),index=cf_inds,columns=cf_cols)"
   ]
  },
  {
   "cell_type": "markdown",
   "metadata": {
    "slideshow": {
     "slide_type": "slide"
    }
   },
   "source": [
    "### Evaluating a classifier \n",
    "\n",
    "Most classifiers are \"soft\" because they can output a score, higher means more likely to be $Y=1$\n",
    "- Logistic regression: output probability\n",
    "- SVM: distance from margin\n",
    "- kNN: percent of neighbors with $Y=1$\n",
    "- LDA/QDA/Naive bayes: estimated likelihood ratio\n",
    "\n",
    "\n",
    "1. If we order from largest to smallest then this gives us the points to predict as 1 first.\n",
    "2. Choose a cut-off to say all above this value are 1 and below are 0 can see different errors"
   ]
  },
  {
   "cell_type": "markdown",
   "metadata": {
    "slideshow": {
     "slide_type": "slide"
    }
   },
   "source": [
    "### Confusion matrix and classification metrics\n",
    "\n",
    "<table style='font-family:\"Courier New\", Courier, monospace; font-size:120%'>\n",
    "    <tr><td></td><td>True 1</td><td>True 0</td></tr>\n",
    "    <tr><td>Pred 1</td><td>True Pos</td><td>False Pos</td></tr>\n",
    "    <tr><td>Pred 0</td><td>False Neg</td><td>True Neg</td></tr>\n",
    "</table>\n",
    "\n",
    "$$\n",
    "\\textrm{FPR} = \\frac{FP}{FP+TN}\n",
    "$$\n",
    "$$\n",
    "\\textrm{TPR, Recall} = \\frac{TP}{TP + FN}\n",
    "$$\n",
    "$$\n",
    "\\textrm{Precision} = \\frac{TP}{TP + FP}\n",
    "$$"
   ]
  },
  {
   "cell_type": "code",
   "execution_count": 41,
   "metadata": {
    "slideshow": {
     "slide_type": "slide"
    }
   },
   "outputs": [],
   "source": [
    "score_dur = X_te[:,2]"
   ]
  },
  {
   "cell_type": "code",
   "execution_count": 42,
   "metadata": {
    "slideshow": {
     "slide_type": "fragment"
    }
   },
   "outputs": [
    {
     "data": {
      "image/png": "[encoded data removed]",
      "text/plain": [
       "<Figure size 640x480 with 1 Axes>"
      ]
     },
     "metadata": {},
     "output_type": "display_data"
    },
    {
     "data": {
      "text/plain": [
       "<ggplot: (8769840727609)>"
      ]
     },
     "execution_count": 42,
     "metadata": {},
     "output_type": "execute_result"
    }
   ],
   "source": [
    "p9.ggplot(bank_tr[['duration','y']].dropna(axis=0)) + p9.aes(x = 'duration',fill = 'y')\\\n",
    "+ p9.geom_density(alpha=.5)"
   ]
  },
  {
   "cell_type": "code",
   "execution_count": 43,
   "metadata": {},
   "outputs": [
    {
     "data": {
      "text/plain": [
       "array([0, 0, 0, ..., 0, 0, 0])"
      ]
     },
     "execution_count": 43,
     "metadata": {},
     "output_type": "execute_result"
    }
   ],
   "source": [
    "y_te"
   ]
  },
  {
   "cell_type": "code",
   "execution_count": 64,
   "metadata": {
    "slideshow": {
     "slide_type": "slide"
    }
   },
   "outputs": [
    {
     "data": {
      "text/html": [
       "<div>\n",
       "<style scoped>\n",
       "    .dataframe tbody tr th:only-of-type {\n",
       "        vertical-align: middle;\n",
       "    }\n",
       "\n",
       "    .dataframe tbody tr th {\n",
       "        vertical-align: top;\n",
       "    }\n",
       "\n",
       "    .dataframe thead th {\n",
       "        text-align: right;\n",
       "    }\n",
       "</style>\n",
       "<table border=\"1\" class=\"dataframe\">\n",
       "  <thead>\n",
       "    <tr style=\"text-align: right;\">\n",
       "      <th></th>\n",
       "      <th>True 1</th>\n",
       "      <th>True 0</th>\n",
       "    </tr>\n",
       "  </thead>\n",
       "  <tbody>\n",
       "    <tr>\n",
       "      <td>Pred 1</td>\n",
       "      <td>73</td>\n",
       "      <td>108</td>\n",
       "    </tr>\n",
       "    <tr>\n",
       "      <td>Pred 0</td>\n",
       "      <td>86</td>\n",
       "      <td>1225</td>\n",
       "    </tr>\n",
       "  </tbody>\n",
       "</table>\n",
       "</div>"
      ],
      "text/plain": [
       "        True 1  True 0\n",
       "Pred 1      73     108\n",
       "Pred 0      86    1225"
      ]
     },
     "execution_count": 64,
     "metadata": {},
     "output_type": "execute_result"
    }
   ],
   "source": [
    "plot_conf_score(y_te,score_dur,1.)"
   ]
  },
  {
   "cell_type": "code",
   "execution_count": 65,
   "metadata": {
    "slideshow": {
     "slide_type": "slide"
    }
   },
   "outputs": [
    {
     "data": {
      "text/html": [
       "<div>\n",
       "<style scoped>\n",
       "    .dataframe tbody tr th:only-of-type {\n",
       "        vertical-align: middle;\n",
       "    }\n",
       "\n",
       "    .dataframe tbody tr th {\n",
       "        vertical-align: top;\n",
       "    }\n",
       "\n",
       "    .dataframe thead th {\n",
       "        text-align: right;\n",
       "    }\n",
       "</style>\n",
       "<table border=\"1\" class=\"dataframe\">\n",
       "  <thead>\n",
       "    <tr style=\"text-align: right;\">\n",
       "      <th></th>\n",
       "      <th>True 1</th>\n",
       "      <th>True 0</th>\n",
       "    </tr>\n",
       "  </thead>\n",
       "  <tbody>\n",
       "    <tr>\n",
       "      <td>Pred 1</td>\n",
       "      <td>36</td>\n",
       "      <td>27</td>\n",
       "    </tr>\n",
       "    <tr>\n",
       "      <td>Pred 0</td>\n",
       "      <td>123</td>\n",
       "      <td>1306</td>\n",
       "    </tr>\n",
       "  </tbody>\n",
       "</table>\n",
       "</div>"
      ],
      "text/plain": [
       "        True 1  True 0\n",
       "Pred 1      36      27\n",
       "Pred 0     123    1306"
      ]
     },
     "execution_count": 65,
     "metadata": {},
     "output_type": "execute_result"
    }
   ],
   "source": [
    "plot_conf_score(y_te,score_dur,2.)"
   ]
  },
  {
   "cell_type": "code",
   "execution_count": 67,
   "metadata": {
    "slideshow": {
     "slide_type": "slide"
    }
   },
   "outputs": [
    {
     "data": {
      "text/plain": [
       "(array([1047,  967, 2665, 2117, 1387,  963,  714, 2709, 2074,  102]), 0.0, 0)"
      ]
     },
     "execution_count": 67,
     "metadata": {},
     "output_type": "execute_result"
    }
   ],
   "source": [
    "## Fit and find NNs\n",
    "nn = neighbors.NearestNeighbors(n_neighbors=10,metric=\"l2\")\n",
    "nn.fit(X_tr)\n",
    "dists, NNs = nn.kneighbors(X_te)\n",
    "NNs[1], y_tr[NNs[1]].mean(), y_te[1]"
   ]
  },
  {
   "cell_type": "code",
   "execution_count": 68,
   "metadata": {
    "slideshow": {
     "slide_type": "slide"
    }
   },
   "outputs": [
    {
     "data": {
      "text/html": [
       "<div>\n",
       "<style scoped>\n",
       "    .dataframe tbody tr th:only-of-type {\n",
       "        vertical-align: middle;\n",
       "    }\n",
       "\n",
       "    .dataframe tbody tr th {\n",
       "        vertical-align: top;\n",
       "    }\n",
       "\n",
       "    .dataframe thead th {\n",
       "        text-align: right;\n",
       "    }\n",
       "</style>\n",
       "<table border=\"1\" class=\"dataframe\">\n",
       "  <thead>\n",
       "    <tr style=\"text-align: right;\">\n",
       "      <th></th>\n",
       "      <th>True 1</th>\n",
       "      <th>True 0</th>\n",
       "    </tr>\n",
       "  </thead>\n",
       "  <tbody>\n",
       "    <tr>\n",
       "      <td>Pred 1</td>\n",
       "      <td>110</td>\n",
       "      <td>268</td>\n",
       "    </tr>\n",
       "    <tr>\n",
       "      <td>Pred 0</td>\n",
       "      <td>49</td>\n",
       "      <td>1065</td>\n",
       "    </tr>\n",
       "  </tbody>\n",
       "</table>\n",
       "</div>"
      ],
      "text/plain": [
       "        True 1  True 0\n",
       "Pred 1     110     268\n",
       "Pred 0      49    1065"
      ]
     },
     "execution_count": 68,
     "metadata": {},
     "output_type": "execute_result"
    }
   ],
   "source": [
    "score_nn = np.array([(y_tr[knns] == 1).mean() for knns in NNs])\n",
    "plot_conf_score(y_te,score_nn,.2)"
   ]
  },
  {
   "cell_type": "code",
   "execution_count": 69,
   "metadata": {
    "slideshow": {
     "slide_type": "slide"
    }
   },
   "outputs": [
    {
     "data": {
      "text/html": [
       "<div>\n",
       "<style scoped>\n",
       "    .dataframe tbody tr th:only-of-type {\n",
       "        vertical-align: middle;\n",
       "    }\n",
       "\n",
       "    .dataframe tbody tr th {\n",
       "        vertical-align: top;\n",
       "    }\n",
       "\n",
       "    .dataframe thead th {\n",
       "        text-align: right;\n",
       "    }\n",
       "</style>\n",
       "<table border=\"1\" class=\"dataframe\">\n",
       "  <thead>\n",
       "    <tr style=\"text-align: right;\">\n",
       "      <th></th>\n",
       "      <th>True 1</th>\n",
       "      <th>True 0</th>\n",
       "    </tr>\n",
       "  </thead>\n",
       "  <tbody>\n",
       "    <tr>\n",
       "      <td>Pred 1</td>\n",
       "      <td>110</td>\n",
       "      <td>268</td>\n",
       "    </tr>\n",
       "    <tr>\n",
       "      <td>Pred 0</td>\n",
       "      <td>49</td>\n",
       "      <td>1065</td>\n",
       "    </tr>\n",
       "  </tbody>\n",
       "</table>\n",
       "</div>"
      ],
      "text/plain": [
       "        True 1  True 0\n",
       "Pred 1     110     268\n",
       "Pred 0      49    1065"
      ]
     },
     "execution_count": 69,
     "metadata": {},
     "output_type": "execute_result"
    }
   ],
   "source": [
    "nn = neighbors.KNeighborsClassifier(n_neighbors=10)\n",
    "nn.fit(X_tr, y_tr)\n",
    "score_nn = nn.predict_proba(X_te)[:,1]\n",
    "plot_conf_score(y_te,score_nn,.2)"
   ]
  },
  {
   "cell_type": "code",
   "execution_count": 70,
   "metadata": {
    "slideshow": {
     "slide_type": "skip"
    }
   },
   "outputs": [],
   "source": [
    "def print_top_k(score_dur,y_te,k_top):\n",
    "    ordering = np.argsort(score_dur)[::-1]\n",
    "    print(\"k: score, y\")\n",
    "    for k, (yv,s) in enumerate(zip(y_te[ordering],score_dur[ordering])):\n",
    "        print(\"{}: {}, {}\".format(k,s,yv))\n",
    "        if k >= k_top - 1:\n",
    "            break"
   ]
  },
  {
   "cell_type": "code",
   "execution_count": 71,
   "metadata": {
    "slideshow": {
     "slide_type": "slide"
    }
   },
   "outputs": [
    {
     "name": "stdout",
     "output_type": "stream",
     "text": [
      "k: score, y\n",
      "0: 10.73632820860862, 0\n",
      "1: 8.523111971642173, 1\n",
      "2: 6.862227379050481, 1\n",
      "3: 6.726089297690506, 0\n",
      "4: 6.636627129939665, 1\n",
      "5: 5.738115792963831, 0\n",
      "6: 5.111880618707947, 1\n",
      "7: 4.699576715160595, 0\n",
      "8: 4.676238758356028, 1\n",
      "9: 4.6023352284748995, 1\n"
     ]
    }
   ],
   "source": [
    "print_top_k(score_dur,y_te,10)"
   ]
  },
  {
   "cell_type": "markdown",
   "metadata": {
    "slideshow": {
     "slide_type": "slide"
    }
   },
   "source": [
    "### Confusion matrix and classification metrics\n",
    "\n",
    "<table style='font-family:\"Courier New\", Courier, monospace; font-size:120%'>\n",
    "    <tr><td></td><td>True 1</td><td>True 0</td></tr>\n",
    "    <tr><td>Pred 1</td><td>True Pos</td><td>False Pos</td></tr>\n",
    "    <tr><td>Pred 0</td><td>False Neg</td><td>True Neg</td></tr>\n",
    "</table>\n",
    "\n",
    "$$\n",
    "\\textrm{FPR} = \\frac{FP}{FP+TN}\n",
    "$$\n",
    "$$\n",
    "\\textrm{TPR, Recall} = \\frac{TP}{TP + FN}\n",
    "$$\n",
    "$$\n",
    "\\textrm{Precision} = \\frac{TP}{TP + FP}\n",
    "$$"
   ]
  },
  {
   "cell_type": "code",
   "execution_count": 72,
   "metadata": {
    "slideshow": {
     "slide_type": "skip"
    }
   },
   "outputs": [],
   "source": [
    "plt.style.use('ggplot')"
   ]
  },
  {
   "cell_type": "code",
   "execution_count": 73,
   "metadata": {
    "slideshow": {
     "slide_type": "slide"
    }
   },
   "outputs": [
    {
     "data": {
      "text/plain": [
       "Text(0.5, 1.0, \"ROC for 'duration'\")"
      ]
     },
     "execution_count": 73,
     "metadata": {},
     "output_type": "execute_result"
    },
    {
     "data": {
      "image/png": "[encoded data removed]",
      "text/plain": [
       "<Figure size 432x432 with 1 Axes>"
      ]
     },
     "metadata": {},
     "output_type": "display_data"
    }
   ],
   "source": [
    "fpr_dur, tpr_dur, threshs = metrics.roc_curve(y_te,score_dur)\n",
    "plt.figure(figsize=(6,6))\n",
    "plt.plot(fpr_dur,tpr_dur)\n",
    "plt.xlabel('FPR')\n",
    "plt.ylabel('TPR')\n",
    "plt.title(\"ROC for 'duration'\")"
   ]
  },
  {
   "cell_type": "code",
   "execution_count": 76,
   "metadata": {
    "slideshow": {
     "slide_type": "skip"
    }
   },
   "outputs": [],
   "source": [
    "def plot_temp():\n",
    "    plt.figure(figsize=(6,6))\n",
    "    plt.plot(fpr_dur,tpr_dur,label='duration')\n",
    "    plt.plot(fpr_nn,tpr_nn,label='knn')\n",
    "    plt.xlabel('FPR')\n",
    "    plt.ylabel('TPR')\n",
    "    plt.legend()\n",
    "    plt.title(\"ROC\")"
   ]
  },
  {
   "cell_type": "code",
   "execution_count": 77,
   "metadata": {
    "slideshow": {
     "slide_type": "slide"
    }
   },
   "outputs": [
    {
     "data": {
      "image/png": "[encoded data removed]",
      "text/plain": [
       "<Figure size 432x432 with 1 Axes>"
      ]
     },
     "metadata": {},
     "output_type": "display_data"
    }
   ],
   "source": [
    "fpr_nn, tpr_nn, threshs = metrics.roc_curve(y_te,score_nn)\n",
    "plot_temp()"
   ]
  },
  {
   "cell_type": "code",
   "execution_count": 78,
   "metadata": {
    "slideshow": {
     "slide_type": "skip"
    }
   },
   "outputs": [],
   "source": [
    "def plot_temp():\n",
    "    plt.figure(figsize=(6,6))\n",
    "    plt.plot(rec_dur,prec_dur,label='duration')\n",
    "    plt.plot(rec_nn,prec_nn,label='knn')\n",
    "    plt.xlabel('recall')\n",
    "    plt.ylabel('precision')\n",
    "    plt.legend()\n",
    "    plt.title(\"PR curve\")"
   ]
  },
  {
   "cell_type": "code",
   "execution_count": 79,
   "metadata": {
    "slideshow": {
     "slide_type": "slide"
    }
   },
   "outputs": [
    {
     "data": {
      "image/png": "[encoded data removed]",
      "text/plain": [
       "<Figure size 432x432 with 1 Axes>"
      ]
     },
     "metadata": {},
     "output_type": "display_data"
    }
   ],
   "source": [
    "prec_dur, rec_dur, threshs = metrics.precision_recall_curve(y_te,score_dur)\n",
    "prec_nn, rec_nn, threshs = metrics.precision_recall_curve(y_te,score_nn)\n",
    "plot_temp()"
   ]
  },
  {
   "cell_type": "markdown",
   "metadata": {
    "slideshow": {
     "slide_type": "slide"
    }
   },
   "source": [
    "### Comments\n",
    "\n",
    "- \"Good\" ROC should be in top left\n",
    "- \"Good\" PR should be large for all recall values\n",
    "- PR is better for large class imbalance\n",
    "- ROC treats each type of error equally"
   ]
  },
  {
   "cell_type": "markdown",
   "metadata": {
    "slideshow": {
     "slide_type": "slide"
    }
   },
   "source": [
    "### Exercise 6.2\n",
    "\n",
    "Apply LDA and QDA to the above dataset and compare the PR curves to the previous two methods.  To calculate the \"score\" you can use the `predict_log_proba` method. "
   ]
  },
  {
   "cell_type": "code",
   "execution_count": 91,
   "metadata": {
    "slideshow": {
     "slide_type": "slide"
    }
   },
   "outputs": [],
   "source": [
    "from sklearn import discriminant_analysis\n",
    "\n",
    "## Init previous predictors list\n",
    "preds = [(\"Duration\",score_dur), (\"NN\", score_nn)]\n",
    "\n",
    "## Fit and predict with LDA\n",
    "lda = discriminant_analysis.LinearDiscriminantAnalysis()\n",
    "lda.fit(X_tr,y_tr)\n",
    "score_pred = lda.predict_log_proba(X_te)[:,1]\n",
    "preds += [(\"LDA\",score_pred)]\n",
    "\n",
    "## Fit and predict with QDA\n",
    "qda = discriminant_analysis.QuadraticDiscriminantAnalysis()\n",
    "qda.fit(X_tr,y_tr)\n",
    "score_pred = qda.predict_log_proba(X_te)[:,1]\n",
    "preds += [(\"QDA\",score_pred)]"
   ]
  },
  {
   "cell_type": "code",
   "execution_count": 92,
   "metadata": {
    "slideshow": {
     "slide_type": "slide"
    }
   },
   "outputs": [],
   "source": [
    "def plot_pr_models(X_te, y_te, preds):\n",
    "    plt.figure(figsize=(6,6))\n",
    "    for name, score_preds in preds:\n",
    "        prec, rec, threshs = metrics.precision_recall_curve(y_te,score_preds)\n",
    "        plt.plot(rec,prec,label=name)\n",
    "    plt.xlabel('recall')\n",
    "    plt.ylabel('precision')\n",
    "    plt.legend()\n",
    "    plt.title(\"PR curve\")"
   ]
  },
  {
   "cell_type": "code",
   "execution_count": 93,
   "metadata": {
    "slideshow": {
     "slide_type": "slide"
    }
   },
   "outputs": [
    {
     "data": {
      "image/png": "[encoded data removed]",
      "text/plain": [
       "<Figure size 432x432 with 1 Axes>"
      ]
     },
     "metadata": {},
     "output_type": "display_data"
    }
   ],
   "source": [
    "plot_pr_models(X_te, y_te, preds)"
   ]
  }
 ],
 "metadata": {
  "celltoolbar": "Slideshow",
  "kernelspec": {
   "display_name": "Python 3",
   "language": "python",
   "name": "python3"
  },
  "language_info": {
   "codemirror_mode": {
    "name": "ipython",
    "version": 3
   },
   "file_extension": ".py",
   "mimetype": "text/x-python",
   "name": "python",
   "nbconvert_exporter": "python",
   "pygments_lexer": "ipython3",
   "version": "3.7.4"
  }
 },
 "nbformat": 4,
 "nbformat_minor": 2
}
