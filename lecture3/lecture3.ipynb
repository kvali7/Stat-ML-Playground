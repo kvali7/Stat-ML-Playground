{
 "cells": [
  {
   "cell_type": "markdown",
   "metadata": {
    "slideshow": {
     "slide_type": "slide"
    }
   },
   "source": [
    "# Linear Regression and Subset Selection\n",
    "\n",
    "## StatML: Lecture 3\n",
    "\n",
    "### Prof. James Sharpnack\n",
    "\n",
    "### Reading: \"The Elements of Statistical Learning,\" Hastie, Tibshirani, Friedman, Ch. 3 (ESL)"
   ]
  },
  {
   "cell_type": "code",
   "execution_count": 15,
   "metadata": {
    "slideshow": {
     "slide_type": "skip"
    }
   },
   "outputs": [],
   "source": [
    "import numpy as np\n",
    "import matplotlib.pyplot as plt\n",
    "from sklearn import linear_model\n",
    "import scipy as sc"
   ]
  },
  {
   "cell_type": "markdown",
   "metadata": {
    "slideshow": {
     "slide_type": "slide"
    }
   },
   "source": [
    "### Recall LinearRegression.fit\n",
    "\n",
    "*Throughout let $p < n$*\n",
    "\n",
    "Fit in OLS solves the following, on training set\n",
    "$$\n",
    "\\hat \\beta = (X^\\top X)^{-1} X^\\top y\n",
    "$$\n",
    "where $X,y$ are $n \\times p$ and $n$ arrays.\n",
    "\n",
    "#### Linear solve:\n",
    "$$\n",
    "(X^\\top X) \\hat \\beta = X^\\top y\n",
    "$$"
   ]
  },
  {
   "cell_type": "markdown",
   "metadata": {
    "slideshow": {
     "slide_type": "slide"
    }
   },
   "source": [
    "### Recall LinearRegression.predict\n",
    "\n",
    "Apply predict to training set then\n",
    "$$\n",
    "\\hat y = X \\hat \\beta = X (X^\\top X)^{-1} X^\\top y\n",
    "$$\n",
    "is a projection of $y$ onto the column space of $X$.  Projection in $n$-D space.\n",
    "\n",
    "Projections are idempotent,\n",
    "$$\n",
    "P := X (X^\\top X)^{-1} X^\\top\n",
    "$$\n",
    "has\n",
    "$$\n",
    "P P = X (X^\\top X)^{-1} X^\\top X (X^\\top X)^{-1} X^\\top = X (X^\\top X)^{-1} X^\\top.\n",
    "$$"
   ]
  },
  {
   "cell_type": "markdown",
   "metadata": {
    "slideshow": {
     "slide_type": "slide"
    }
   },
   "source": [
    "<img src=\"projection.png\" width=70%>\n",
    "Image from wikipedia."
   ]
  },
  {
   "cell_type": "markdown",
   "metadata": {
    "slideshow": {
     "slide_type": "slide"
    }
   },
   "source": [
    "### Exercise 3.1\n",
    "\n",
    "Suppose that we have a perfectly reasonable $n \\times p$ design matrix $X$, and $n$ response vector $y$ such that $X^\\top X$ is invertible.  Suppose that we duplicate the columns of $X$ to make an $n \\times (2p)$ matrix.  Suppose that we want to run OLS with the new data by finding solutions to the normal equation.\n",
    "1. From the projection intuition above, what is the impact on $\\hat y$?\n",
    "2. Show that a valid solution to the new normal equations is $\\tilde \\beta = \\frac 12 [\\hat \\beta; \\hat \\beta]$?  \n",
    "3. What form do other valid solutions take?"
   ]
  },
  {
   "cell_type": "markdown",
   "metadata": {
    "slideshow": {
     "slide_type": "slide"
    }
   },
   "source": [
    "### Answer to 3.1\n",
    "\n",
    "1. No impact on $\\hat y$, because there is no change in the column space of $X$.\n",
    "2. Let $\\tilde X = (X,X)$ then \n",
    "$$\\tilde X^\\top \\tilde X = [X^\\top X, X^\\top X; X^\\top X, X^\\top X]$$\n",
    "This is not invertible!  But normal equations are...\n",
    "$$ \\tilde X^\\top \\tilde X \\tilde \\beta = \\tilde X^\\top y = [X^\\top y; X^\\top y] $$\n",
    "Which gives,\n",
    "$$\n",
    "[X^\\top X, X^\\top X; X^\\top X, X^\\top X] \\frac{[\\hat \\beta ; \\hat \\beta]}{2} = \\frac 12 [X^\\top X \\hat \\beta + X^\\top X \\hat \\beta; X^\\top X \\hat \\beta + X^\\top X \\hat \\beta] = [X^\\top X \\hat \\beta;X^\\top X \\hat \\beta]\n",
    "$$\n",
    "but because $\\hat \\beta$ solves the original normal equations this is equal to \n",
    "$$ = [X^\\top y; X^\\top y] = \\tilde X^\\top y.$$\n",
    "3. There was nothing special about $1/2$ and we could repeat the arguments above with $[\\theta \\hat \\beta; (1-\\theta) \\hat \\beta]$"
   ]
  },
  {
   "cell_type": "markdown",
   "metadata": {
    "slideshow": {
     "slide_type": "slide"
    }
   },
   "source": [
    "### Regression by Successive Orthogonalization\n",
    "#### ESL pg. 54\n",
    "\n",
    "0. Input $x_0=1, x_1, \\ldots, x_p$ columns of design matrix.\n",
    "1. Init $z_0 = x_0 = 1$\n",
    "2. For $j = 1,\\ldots,p$\n",
    " - Regress $x_j$ on $z_0,\\ldots,z_{j-1}$ giving $$\\hat \\gamma_{j,l} = \\frac{z_l^\\top x_j}{z_l^\\top z_l},$$ $l = 0, \\ldots, j-1$ and $z_j = x_j - \\sum_{k=0}^{j-1} \\hat \\gamma_{j,k} z_k$\n",
    "3. Regress $y$ on the residual $z_p$ to give $\\hat \\beta_p$\n",
    "\n",
    "Basically we use Gram-Schmidt Orthogonalization of Xs to make the regression easier"
   ]
  },
  {
   "cell_type": "markdown",
   "metadata": {
    "slideshow": {
     "slide_type": "slide"
    }
   },
   "source": [
    "### Regression by Successive Orthogonalization\n",
    "\n",
    "What does \"regress onto\" mean? ($\\hat \\gamma_j$ is the coefficient vector)\n",
    "\n",
    "Solving the normal equation \n",
    "$$\n",
    "Z^\\top Z \\hat \\gamma_j = Z^\\top x_j\n",
    "$$\n",
    "\n",
    "where $Z$ has columns $z_0, \\ldots z_{j-1}$."
   ]
  },
  {
   "cell_type": "markdown",
   "metadata": {
    "slideshow": {
     "slide_type": "fragment"
    }
   },
   "source": [
    "Why is this any easier? \n",
    "\n",
    "\n",
    "$Z$ is **orthogonal**, i.e. the columns are orthogonal, \n",
    "$$\n",
    "z_j^\\top z_k = 0, j\\ne k\n",
    "$$\n",
    "which means $Z^\\top Z$ is diagonal (easy to invert).\n",
    "\n",
    "\n",
    "**Exercise. 3.2.1** Show that Successive Orthogonalization is equivalent to the Gram-Schmidt procedure for finding an orthogonal basis of column space of $X$. "
   ]
  },
  {
   "cell_type": "markdown",
   "metadata": {
    "slideshow": {
     "slide_type": "slide"
    }
   },
   "source": [
    "### Regression by Successive Orthogonalization\n",
    "\n",
    "Regress $y$ on the residual $z_p$ to give $\\hat \\beta_p$?\n",
    "\n",
    "We know that $z_p$ is the only basis element that contains $x_p$ and that regressing $y$ onto $Z$ is equivalent to regressing $y$ onto $X$."
   ]
  },
  {
   "cell_type": "markdown",
   "metadata": {
    "slideshow": {
     "slide_type": "fragment"
    }
   },
   "source": [
    "Why?\n",
    "\n",
    "We can write these matrices as \n",
    "$$\n",
    "X = Z \\Gamma\n",
    "$$\n",
    "where $Z$ is orthogonal and $\\Gamma$ is upper triangular.\n",
    "Let $D$ be the diagonal matrix with $\\| z_j\\|$ on diagonal.\n",
    "Then \n",
    "$$\n",
    "X = Z D^{-1} D \\Gamma = Q R\n",
    "$$\n",
    "for $Q = Z D^{-1}$ is $n \\times p$, $R = D \\Gamma$ is $p \\times p$.\n",
    "\n",
    "$Q$ is orthonormal ($Q^\\top Q = I$) and $R$ is upper triangular.\n",
    "This is the &QR& decomposition and the Gram Schmidt method can give us the $QR$ decomposition."
   ]
  },
  {
   "cell_type": "markdown",
   "metadata": {
    "slideshow": {
     "slide_type": "slide"
    }
   },
   "source": [
    "### Regression by Successive Orthogonalization\n",
    "\n",
    "\n",
    "- Normal eqn is\n",
    "$$\n",
    "X^\\top X \\hat \\beta = X^\\top y \\equiv R^\\top R \\hat \\beta = R^\\top (Q^\\top y)\n",
    "$$\n",
    "- Upper triangular matrices are easy to invert!\n",
    "```\n",
    "[1, 2] [a] = [4]\n",
    "[0, 3] [b]   [5]\n",
    "```\n",
    "- One of many decompositions that can make linear regression easy (after the decomposition is made)."
   ]
  },
  {
   "cell_type": "markdown",
   "metadata": {
    "slideshow": {
     "slide_type": "slide"
    }
   },
   "source": [
    "### Regression by Successive Orthogonalization\n",
    "\n",
    "0. Input $x_0=1, x_1, \\ldots, x_p$ columns of design matrix.\n",
    "1. Init $z_0 = x_0 = 1$\n",
    "2. For $j = 1,\\ldots,p$\n",
    " - Regress $x_j$ on $z_0,\\ldots,z_{j-1}$ giving $$\\hat \\gamma_{j,l} = \\frac{z_l^\\top x_j}{z_l^\\top z_l},$$ $l = 0, \\ldots, j-1$ and $z_j = x_j - \\sum_{k=0}^{j-1} \\hat \\gamma_{j,k} z_k$\n",
    "3. Regress $y$ on the residual $z_p$ to give $\\hat \\beta_p$\n",
    "\n",
    "- Only gives us $\\hat \\beta_p$! Not a great algorithm in its current form.\n",
    "- Algorithm exposes the effect of correlated input $x_j$."
   ]
  },
  {
   "cell_type": "markdown",
   "metadata": {
    "slideshow": {
     "slide_type": "slide"
    }
   },
   "source": [
    "Suppose that $y$ follows the linear model \n",
    "$$\n",
    "y = X \\beta + \\epsilon\n",
    "$$\n",
    "where $\\epsilon_i$ is iid normal$(0,\\sigma^2)$.\n",
    "Then \n",
    "\n",
    "3. Regress $y$ on the residual $z_p$ to give $\\hat \\beta_p$\n",
    "\n",
    "Means $$\n",
    "\\hat \\beta_p = \\frac{y^\\top z_p}{z_p^\\top z_p}\n",
    "$$\n",
    "If $\\|z_p\\|$ is small then this is instable (high variance), when does this happen?\n",
    "$$\n",
    "z_j = x_j - \\sum_{k=0}^{j-1} \\hat \\gamma_{j,k} z_k\n",
    "$$\n",
    "> If $x_p$ is correlated with $x_0,\\ldots,x_{p-1}$ (small residual when regressed onto) then $\\hat \\beta_p$ is instable. "
   ]
  },
  {
   "cell_type": "markdown",
   "metadata": {
    "slideshow": {
     "slide_type": "slide"
    }
   },
   "source": [
    "### Exercise 3.2.2\n",
    "\n",
    "Below is some code for generating a design matrix with correlated X variables, and the response vector.  The rho parameter is the correlation of the X variables, so that $rho = 1$ means that they are perfectly correlated.  Use the code below to generate the true beta once (also a parameter of `sim_corr_lm`) and set `sigma=1`.  Choose a sequence of rho's: `Rhos = [0,.2,.4,.6,.8,.9,.95,.99]` and for each one run 100 trials of the following: simulate from the linear model, fit OLS, and save the first coefficient beta_1.  For each rho in the list, calculate the variance of beta_1 and plot the variance as a function of rho."
   ]
  },
  {
   "cell_type": "code",
   "execution_count": 16,
   "metadata": {
    "slideshow": {
     "slide_type": "slide"
    }
   },
   "outputs": [],
   "source": [
    "def sim_corr_lm(n,p,rho,beta,sigma):\n",
    "    \"\"\"\n",
    "    Simulate a design matrix with all columns having marginal correlation rho\n",
    "    \"\"\"\n",
    "    assert p < n and rho < 1 and rho >= 0, \"p must be less than n and rho in [0,1)\"\n",
    "    Sigma = (1 - rho)*np.eye(p) + rho*np.ones((p,p))\n",
    "    X = np.random.multivariate_normal(np.zeros(p),Sigma,n)\n",
    "    y = X @ beta + np.random.normal(0,sigma,n)\n",
    "    return X,y"
   ]
  },
  {
   "cell_type": "code",
   "execution_count": 17,
   "metadata": {
    "slideshow": {
     "slide_type": "slide"
    }
   },
   "outputs": [
    {
     "output_type": "execute_result",
     "data": {
      "text/plain": "[<matplotlib.lines.Line2D at 0x1a1fc9f650>]"
     },
     "metadata": {},
     "execution_count": 17
    },
    {
     "output_type": "display_data",
     "data": {
      "text/plain": "<Figure size 432x288 with 1 Axes>",
      "image/svg+xml": "<?xml version=\"1.0\" encoding=\"utf-8\" standalone=\"no\"?>\n<!DOCTYPE svg PUBLIC \"-//W3C//DTD SVG 1.1//EN\"\n  \"http://www.w3.org/Graphics/SVG/1.1/DTD/svg11.dtd\">\n<!-- Created with matplotlib (https://matplotlib.org/) -->\n<svg height=\"248.518125pt\" version=\"1.1\" viewBox=\"0 0 370.942187 248.518125\" width=\"370.942187pt\" xmlns=\"http://www.w3.org/2000/svg\" xmlns:xlink=\"http://www.w3.org/1999/xlink\">\n <defs>\n  <style type=\"text/css\">\n*{stroke-linecap:butt;stroke-linejoin:round;}\n  </style>\n </defs>\n <g id=\"figure_1\">\n  <g id=\"patch_1\">\n   <path d=\"M 0 248.518125 \nL 370.942187 248.518125 \nL 370.942187 0 \nL 0 0 \nz\n\" style=\"fill:none;\"/>\n  </g>\n  <g id=\"axes_1\">\n   <g id=\"patch_2\">\n    <path d=\"M 28.942188 224.64 \nL 363.742188 224.64 \nL 363.742188 7.2 \nL 28.942188 7.2 \nz\n\" style=\"fill:#ffffff;\"/>\n   </g>\n   <g id=\"matplotlib.axis_1\">\n    <g id=\"xtick_1\">\n     <g id=\"line2d_1\">\n      <defs>\n       <path d=\"M 0 0 \nL 0 3.5 \n\" id=\"m07b411cc07\" style=\"stroke:#000000;stroke-width:0.8;\"/>\n      </defs>\n      <g>\n       <use style=\"stroke:#000000;stroke-width:0.8;\" x=\"73.332266\" xlink:href=\"#m07b411cc07\" y=\"224.64\"/>\n      </g>\n     </g>\n     <g id=\"text_1\">\n      <!-- −2 -->\n      <defs>\n       <path d=\"M 10.59375 35.5 \nL 73.1875 35.5 \nL 73.1875 27.203125 \nL 10.59375 27.203125 \nz\n\" id=\"DejaVuSans-8722\"/>\n       <path d=\"M 19.1875 8.296875 \nL 53.609375 8.296875 \nL 53.609375 0 \nL 7.328125 0 \nL 7.328125 8.296875 \nQ 12.9375 14.109375 22.625 23.890625 \nQ 32.328125 33.6875 34.8125 36.53125 \nQ 39.546875 41.84375 41.421875 45.53125 \nQ 43.3125 49.21875 43.3125 52.78125 \nQ 43.3125 58.59375 39.234375 62.25 \nQ 35.15625 65.921875 28.609375 65.921875 \nQ 23.96875 65.921875 18.8125 64.3125 \nQ 13.671875 62.703125 7.8125 59.421875 \nL 7.8125 69.390625 \nQ 13.765625 71.78125 18.9375 73 \nQ 24.125 74.21875 28.421875 74.21875 \nQ 39.75 74.21875 46.484375 68.546875 \nQ 53.21875 62.890625 53.21875 53.421875 \nQ 53.21875 48.921875 51.53125 44.890625 \nQ 49.859375 40.875 45.40625 35.40625 \nQ 44.1875 33.984375 37.640625 27.21875 \nQ 31.109375 20.453125 19.1875 8.296875 \nz\n\" id=\"DejaVuSans-50\"/>\n      </defs>\n      <g transform=\"translate(65.961172 239.238438)scale(0.1 -0.1)\">\n       <use xlink:href=\"#DejaVuSans-8722\"/>\n       <use x=\"83.789062\" xlink:href=\"#DejaVuSans-50\"/>\n      </g>\n     </g>\n    </g>\n    <g id=\"xtick_2\">\n     <g id=\"line2d_2\">\n      <g>\n       <use style=\"stroke:#000000;stroke-width:0.8;\" x=\"141.544435\" xlink:href=\"#m07b411cc07\" y=\"224.64\"/>\n      </g>\n     </g>\n     <g id=\"text_2\">\n      <!-- −1 -->\n      <defs>\n       <path d=\"M 12.40625 8.296875 \nL 28.515625 8.296875 \nL 28.515625 63.921875 \nL 10.984375 60.40625 \nL 10.984375 69.390625 \nL 28.421875 72.90625 \nL 38.28125 72.90625 \nL 38.28125 8.296875 \nL 54.390625 8.296875 \nL 54.390625 0 \nL 12.40625 0 \nz\n\" id=\"DejaVuSans-49\"/>\n      </defs>\n      <g transform=\"translate(134.173341 239.238438)scale(0.1 -0.1)\">\n       <use xlink:href=\"#DejaVuSans-8722\"/>\n       <use x=\"83.789062\" xlink:href=\"#DejaVuSans-49\"/>\n      </g>\n     </g>\n    </g>\n    <g id=\"xtick_3\">\n     <g id=\"line2d_3\">\n      <g>\n       <use style=\"stroke:#000000;stroke-width:0.8;\" x=\"209.756604\" xlink:href=\"#m07b411cc07\" y=\"224.64\"/>\n      </g>\n     </g>\n     <g id=\"text_3\">\n      <!-- 0 -->\n      <defs>\n       <path d=\"M 31.78125 66.40625 \nQ 24.171875 66.40625 20.328125 58.90625 \nQ 16.5 51.421875 16.5 36.375 \nQ 16.5 21.390625 20.328125 13.890625 \nQ 24.171875 6.390625 31.78125 6.390625 \nQ 39.453125 6.390625 43.28125 13.890625 \nQ 47.125 21.390625 47.125 36.375 \nQ 47.125 51.421875 43.28125 58.90625 \nQ 39.453125 66.40625 31.78125 66.40625 \nz\nM 31.78125 74.21875 \nQ 44.046875 74.21875 50.515625 64.515625 \nQ 56.984375 54.828125 56.984375 36.375 \nQ 56.984375 17.96875 50.515625 8.265625 \nQ 44.046875 -1.421875 31.78125 -1.421875 \nQ 19.53125 -1.421875 13.0625 8.265625 \nQ 6.59375 17.96875 6.59375 36.375 \nQ 6.59375 54.828125 13.0625 64.515625 \nQ 19.53125 74.21875 31.78125 74.21875 \nz\n\" id=\"DejaVuSans-48\"/>\n      </defs>\n      <g transform=\"translate(206.575354 239.238438)scale(0.1 -0.1)\">\n       <use xlink:href=\"#DejaVuSans-48\"/>\n      </g>\n     </g>\n    </g>\n    <g id=\"xtick_4\">\n     <g id=\"line2d_4\">\n      <g>\n       <use style=\"stroke:#000000;stroke-width:0.8;\" x=\"277.968773\" xlink:href=\"#m07b411cc07\" y=\"224.64\"/>\n      </g>\n     </g>\n     <g id=\"text_4\">\n      <!-- 1 -->\n      <g transform=\"translate(274.787523 239.238438)scale(0.1 -0.1)\">\n       <use xlink:href=\"#DejaVuSans-49\"/>\n      </g>\n     </g>\n    </g>\n    <g id=\"xtick_5\">\n     <g id=\"line2d_5\">\n      <g>\n       <use style=\"stroke:#000000;stroke-width:0.8;\" x=\"346.180942\" xlink:href=\"#m07b411cc07\" y=\"224.64\"/>\n      </g>\n     </g>\n     <g id=\"text_5\">\n      <!-- 2 -->\n      <g transform=\"translate(342.999692 239.238438)scale(0.1 -0.1)\">\n       <use xlink:href=\"#DejaVuSans-50\"/>\n      </g>\n     </g>\n    </g>\n   </g>\n   <g id=\"matplotlib.axis_2\">\n    <g id=\"ytick_1\">\n     <g id=\"line2d_6\">\n      <defs>\n       <path d=\"M 0 0 \nL -3.5 0 \n\" id=\"m1551a0bd1d\" style=\"stroke:#000000;stroke-width:0.8;\"/>\n      </defs>\n      <g>\n       <use style=\"stroke:#000000;stroke-width:0.8;\" x=\"28.942188\" xlink:href=\"#m1551a0bd1d\" y=\"184.896796\"/>\n      </g>\n     </g>\n     <g id=\"text_6\">\n      <!-- −2 -->\n      <g transform=\"translate(7.2 188.696015)scale(0.1 -0.1)\">\n       <use xlink:href=\"#DejaVuSans-8722\"/>\n       <use x=\"83.789062\" xlink:href=\"#DejaVuSans-50\"/>\n      </g>\n     </g>\n    </g>\n    <g id=\"ytick_2\">\n     <g id=\"line2d_7\">\n      <g>\n       <use style=\"stroke:#000000;stroke-width:0.8;\" x=\"28.942188\" xlink:href=\"#m1551a0bd1d\" y=\"144.829064\"/>\n      </g>\n     </g>\n     <g id=\"text_7\">\n      <!-- −1 -->\n      <g transform=\"translate(7.2 148.628282)scale(0.1 -0.1)\">\n       <use xlink:href=\"#DejaVuSans-8722\"/>\n       <use x=\"83.789062\" xlink:href=\"#DejaVuSans-49\"/>\n      </g>\n     </g>\n    </g>\n    <g id=\"ytick_3\">\n     <g id=\"line2d_8\">\n      <g>\n       <use style=\"stroke:#000000;stroke-width:0.8;\" x=\"28.942188\" xlink:href=\"#m1551a0bd1d\" y=\"104.761331\"/>\n      </g>\n     </g>\n     <g id=\"text_8\">\n      <!-- 0 -->\n      <g transform=\"translate(15.579688 108.56055)scale(0.1 -0.1)\">\n       <use xlink:href=\"#DejaVuSans-48\"/>\n      </g>\n     </g>\n    </g>\n    <g id=\"ytick_4\">\n     <g id=\"line2d_9\">\n      <g>\n       <use style=\"stroke:#000000;stroke-width:0.8;\" x=\"28.942188\" xlink:href=\"#m1551a0bd1d\" y=\"64.693598\"/>\n      </g>\n     </g>\n     <g id=\"text_9\">\n      <!-- 1 -->\n      <g transform=\"translate(15.579688 68.492817)scale(0.1 -0.1)\">\n       <use xlink:href=\"#DejaVuSans-49\"/>\n      </g>\n     </g>\n    </g>\n    <g id=\"ytick_5\">\n     <g id=\"line2d_10\">\n      <g>\n       <use style=\"stroke:#000000;stroke-width:0.8;\" x=\"28.942188\" xlink:href=\"#m1551a0bd1d\" y=\"24.625866\"/>\n      </g>\n     </g>\n     <g id=\"text_10\">\n      <!-- 2 -->\n      <g transform=\"translate(15.579688 28.425085)scale(0.1 -0.1)\">\n       <use xlink:href=\"#DejaVuSans-50\"/>\n      </g>\n     </g>\n    </g>\n   </g>\n   <g id=\"line2d_11\">\n    <defs>\n     <path d=\"M 0 1.5 \nC 0.397805 1.5 0.77937 1.341951 1.06066 1.06066 \nC 1.341951 0.77937 1.5 0.397805 1.5 0 \nC 1.5 -0.397805 1.341951 -0.77937 1.06066 -1.06066 \nC 0.77937 -1.341951 0.397805 -1.5 0 -1.5 \nC -0.397805 -1.5 -0.77937 -1.341951 -1.06066 -1.06066 \nC -1.341951 -0.77937 -1.5 -0.397805 -1.5 0 \nC -1.5 0.397805 -1.341951 0.77937 -1.06066 1.06066 \nC -0.77937 1.341951 -0.397805 1.5 0 1.5 \nz\n\" id=\"m5b6aad0512\" style=\"stroke:#1f77b4;\"/>\n    </defs>\n    <g clip-path=\"url(#p88a2138fa2)\">\n     <use style=\"fill:#1f77b4;stroke:#1f77b4;\" x=\"167.662249\" xlink:href=\"#m5b6aad0512\" y=\"114.520618\"/>\n     <use style=\"fill:#1f77b4;stroke:#1f77b4;\" x=\"262.321895\" xlink:href=\"#m5b6aad0512\" y=\"96.677391\"/>\n     <use style=\"fill:#1f77b4;stroke:#1f77b4;\" x=\"313.765573\" xlink:href=\"#m5b6aad0512\" y=\"60.953529\"/>\n     <use style=\"fill:#1f77b4;stroke:#1f77b4;\" x=\"136.577063\" xlink:href=\"#m5b6aad0512\" y=\"135.579357\"/>\n     <use style=\"fill:#1f77b4;stroke:#1f77b4;\" x=\"203.144009\" xlink:href=\"#m5b6aad0512\" y=\"142.304521\"/>\n     <use style=\"fill:#1f77b4;stroke:#1f77b4;\" x=\"256.976634\" xlink:href=\"#m5b6aad0512\" y=\"148.171653\"/>\n     <use style=\"fill:#1f77b4;stroke:#1f77b4;\" x=\"284.785923\" xlink:href=\"#m5b6aad0512\" y=\"59.30233\"/>\n     <use style=\"fill:#1f77b4;stroke:#1f77b4;\" x=\"309.347939\" xlink:href=\"#m5b6aad0512\" y=\"77.781092\"/>\n     <use style=\"fill:#1f77b4;stroke:#1f77b4;\" x=\"279.645322\" xlink:href=\"#m5b6aad0512\" y=\"84.973837\"/>\n     <use style=\"fill:#1f77b4;stroke:#1f77b4;\" x=\"293.51933\" xlink:href=\"#m5b6aad0512\" y=\"59.556839\"/>\n     <use style=\"fill:#1f77b4;stroke:#1f77b4;\" x=\"133.200089\" xlink:href=\"#m5b6aad0512\" y=\"127.265207\"/>\n     <use style=\"fill:#1f77b4;stroke:#1f77b4;\" x=\"169.779687\" xlink:href=\"#m5b6aad0512\" y=\"125.321622\"/>\n     <use style=\"fill:#1f77b4;stroke:#1f77b4;\" x=\"263.608193\" xlink:href=\"#m5b6aad0512\" y=\"94.602122\"/>\n     <use style=\"fill:#1f77b4;stroke:#1f77b4;\" x=\"194.178138\" xlink:href=\"#m5b6aad0512\" y=\"132.799761\"/>\n     <use style=\"fill:#1f77b4;stroke:#1f77b4;\" x=\"235.043189\" xlink:href=\"#m5b6aad0512\" y=\"87.566539\"/>\n     <use style=\"fill:#1f77b4;stroke:#1f77b4;\" x=\"296.414499\" xlink:href=\"#m5b6aad0512\" y=\"45.179636\"/>\n     <use style=\"fill:#1f77b4;stroke:#1f77b4;\" x=\"286.97603\" xlink:href=\"#m5b6aad0512\" y=\"116.124448\"/>\n     <use style=\"fill:#1f77b4;stroke:#1f77b4;\" x=\"175.271464\" xlink:href=\"#m5b6aad0512\" y=\"103.463458\"/>\n     <use style=\"fill:#1f77b4;stroke:#1f77b4;\" x=\"244.53355\" xlink:href=\"#m5b6aad0512\" y=\"59.542274\"/>\n     <use style=\"fill:#1f77b4;stroke:#1f77b4;\" x=\"196.983837\" xlink:href=\"#m5b6aad0512\" y=\"88.421763\"/>\n     <use style=\"fill:#1f77b4;stroke:#1f77b4;\" x=\"281.528989\" xlink:href=\"#m5b6aad0512\" y=\"76.979978\"/>\n     <use style=\"fill:#1f77b4;stroke:#1f77b4;\" x=\"212.467364\" xlink:href=\"#m5b6aad0512\" y=\"92.616367\"/>\n     <use style=\"fill:#1f77b4;stroke:#1f77b4;\" x=\"217.155412\" xlink:href=\"#m5b6aad0512\" y=\"92.491377\"/>\n     <use style=\"fill:#1f77b4;stroke:#1f77b4;\" x=\"180.965073\" xlink:href=\"#m5b6aad0512\" y=\"118.639963\"/>\n     <use style=\"fill:#1f77b4;stroke:#1f77b4;\" x=\"184.522035\" xlink:href=\"#m5b6aad0512\" y=\"113.306876\"/>\n     <use style=\"fill:#1f77b4;stroke:#1f77b4;\" x=\"176.44944\" xlink:href=\"#m5b6aad0512\" y=\"149.424284\"/>\n     <use style=\"fill:#1f77b4;stroke:#1f77b4;\" x=\"104.210983\" xlink:href=\"#m5b6aad0512\" y=\"159.778545\"/>\n     <use style=\"fill:#1f77b4;stroke:#1f77b4;\" x=\"155.699063\" xlink:href=\"#m5b6aad0512\" y=\"157.566879\"/>\n     <use style=\"fill:#1f77b4;stroke:#1f77b4;\" x=\"198.092817\" xlink:href=\"#m5b6aad0512\" y=\"104.98138\"/>\n     <use style=\"fill:#1f77b4;stroke:#1f77b4;\" x=\"270.098199\" xlink:href=\"#m5b6aad0512\" y=\"61.485367\"/>\n     <use style=\"fill:#1f77b4;stroke:#1f77b4;\" x=\"185.9274\" xlink:href=\"#m5b6aad0512\" y=\"99.412825\"/>\n     <use style=\"fill:#1f77b4;stroke:#1f77b4;\" x=\"65.802003\" xlink:href=\"#m5b6aad0512\" y=\"143.566407\"/>\n     <use style=\"fill:#1f77b4;stroke:#1f77b4;\" x=\"348.524006\" xlink:href=\"#m5b6aad0512\" y=\"17.083636\"/>\n     <use style=\"fill:#1f77b4;stroke:#1f77b4;\" x=\"97.053778\" xlink:href=\"#m5b6aad0512\" y=\"214.756364\"/>\n     <use style=\"fill:#1f77b4;stroke:#1f77b4;\" x=\"143.255945\" xlink:href=\"#m5b6aad0512\" y=\"139.477304\"/>\n     <use style=\"fill:#1f77b4;stroke:#1f77b4;\" x=\"199.701021\" xlink:href=\"#m5b6aad0512\" y=\"115.784998\"/>\n     <use style=\"fill:#1f77b4;stroke:#1f77b4;\" x=\"151.367512\" xlink:href=\"#m5b6aad0512\" y=\"114.951906\"/>\n     <use style=\"fill:#1f77b4;stroke:#1f77b4;\" x=\"234.651003\" xlink:href=\"#m5b6aad0512\" y=\"127.768237\"/>\n     <use style=\"fill:#1f77b4;stroke:#1f77b4;\" x=\"253.729307\" xlink:href=\"#m5b6aad0512\" y=\"124.752527\"/>\n     <use style=\"fill:#1f77b4;stroke:#1f77b4;\" x=\"189.361777\" xlink:href=\"#m5b6aad0512\" y=\"127.81023\"/>\n     <use style=\"fill:#1f77b4;stroke:#1f77b4;\" x=\"142.506369\" xlink:href=\"#m5b6aad0512\" y=\"122.107083\"/>\n     <use style=\"fill:#1f77b4;stroke:#1f77b4;\" x=\"290.403077\" xlink:href=\"#m5b6aad0512\" y=\"92.66163\"/>\n     <use style=\"fill:#1f77b4;stroke:#1f77b4;\" x=\"167.85734\" xlink:href=\"#m5b6aad0512\" y=\"127.92066\"/>\n     <use style=\"fill:#1f77b4;stroke:#1f77b4;\" x=\"211.711506\" xlink:href=\"#m5b6aad0512\" y=\"98.482443\"/>\n     <use style=\"fill:#1f77b4;stroke:#1f77b4;\" x=\"86.419598\" xlink:href=\"#m5b6aad0512\" y=\"170.233641\"/>\n     <use style=\"fill:#1f77b4;stroke:#1f77b4;\" x=\"308.317892\" xlink:href=\"#m5b6aad0512\" y=\"51.19427\"/>\n     <use style=\"fill:#1f77b4;stroke:#1f77b4;\" x=\"237.211626\" xlink:href=\"#m5b6aad0512\" y=\"79.723917\"/>\n     <use style=\"fill:#1f77b4;stroke:#1f77b4;\" x=\"187.012481\" xlink:href=\"#m5b6aad0512\" y=\"130.75408\"/>\n     <use style=\"fill:#1f77b4;stroke:#1f77b4;\" x=\"124.07818\" xlink:href=\"#m5b6aad0512\" y=\"114.451792\"/>\n     <use style=\"fill:#1f77b4;stroke:#1f77b4;\" x=\"145.282228\" xlink:href=\"#m5b6aad0512\" y=\"117.87783\"/>\n     <use style=\"fill:#1f77b4;stroke:#1f77b4;\" x=\"200.653887\" xlink:href=\"#m5b6aad0512\" y=\"92.147823\"/>\n     <use style=\"fill:#1f77b4;stroke:#1f77b4;\" x=\"272.527487\" xlink:href=\"#m5b6aad0512\" y=\"98.514189\"/>\n     <use style=\"fill:#1f77b4;stroke:#1f77b4;\" x=\"322.225654\" xlink:href=\"#m5b6aad0512\" y=\"26.495235\"/>\n     <use style=\"fill:#1f77b4;stroke:#1f77b4;\" x=\"318.752858\" xlink:href=\"#m5b6aad0512\" y=\"51.107875\"/>\n     <use style=\"fill:#1f77b4;stroke:#1f77b4;\" x=\"321.366878\" xlink:href=\"#m5b6aad0512\" y=\"49.677556\"/>\n     <use style=\"fill:#1f77b4;stroke:#1f77b4;\" x=\"169.787852\" xlink:href=\"#m5b6aad0512\" y=\"49.090997\"/>\n     <use style=\"fill:#1f77b4;stroke:#1f77b4;\" x=\"157.640067\" xlink:href=\"#m5b6aad0512\" y=\"124.12803\"/>\n     <use style=\"fill:#1f77b4;stroke:#1f77b4;\" x=\"154.821055\" xlink:href=\"#m5b6aad0512\" y=\"133.020258\"/>\n     <use style=\"fill:#1f77b4;stroke:#1f77b4;\" x=\"259.7722\" xlink:href=\"#m5b6aad0512\" y=\"106.188424\"/>\n     <use style=\"fill:#1f77b4;stroke:#1f77b4;\" x=\"124.865674\" xlink:href=\"#m5b6aad0512\" y=\"137.195864\"/>\n     <use style=\"fill:#1f77b4;stroke:#1f77b4;\" x=\"298.454874\" xlink:href=\"#m5b6aad0512\" y=\"65.988806\"/>\n     <use style=\"fill:#1f77b4;stroke:#1f77b4;\" x=\"135.450471\" xlink:href=\"#m5b6aad0512\" y=\"178.497667\"/>\n     <use style=\"fill:#1f77b4;stroke:#1f77b4;\" x=\"202.501787\" xlink:href=\"#m5b6aad0512\" y=\"103.192212\"/>\n     <use style=\"fill:#1f77b4;stroke:#1f77b4;\" x=\"119.138661\" xlink:href=\"#m5b6aad0512\" y=\"104.090906\"/>\n     <use style=\"fill:#1f77b4;stroke:#1f77b4;\" x=\"284.641721\" xlink:href=\"#m5b6aad0512\" y=\"57.0155\"/>\n     <use style=\"fill:#1f77b4;stroke:#1f77b4;\" x=\"117.60256\" xlink:href=\"#m5b6aad0512\" y=\"152.413728\"/>\n     <use style=\"fill:#1f77b4;stroke:#1f77b4;\" x=\"311.657393\" xlink:href=\"#m5b6aad0512\" y=\"61.235197\"/>\n     <use style=\"fill:#1f77b4;stroke:#1f77b4;\" x=\"94.947428\" xlink:href=\"#m5b6aad0512\" y=\"147.458253\"/>\n     <use style=\"fill:#1f77b4;stroke:#1f77b4;\" x=\"157.464192\" xlink:href=\"#m5b6aad0512\" y=\"116.828947\"/>\n     <use style=\"fill:#1f77b4;stroke:#1f77b4;\" x=\"201.856586\" xlink:href=\"#m5b6aad0512\" y=\"86.900556\"/>\n     <use style=\"fill:#1f77b4;stroke:#1f77b4;\" x=\"279.49992\" xlink:href=\"#m5b6aad0512\" y=\"115.059677\"/>\n     <use style=\"fill:#1f77b4;stroke:#1f77b4;\" x=\"167.016842\" xlink:href=\"#m5b6aad0512\" y=\"161.599035\"/>\n     <use style=\"fill:#1f77b4;stroke:#1f77b4;\" x=\"149.637751\" xlink:href=\"#m5b6aad0512\" y=\"119.149703\"/>\n     <use style=\"fill:#1f77b4;stroke:#1f77b4;\" x=\"151.565625\" xlink:href=\"#m5b6aad0512\" y=\"134.069817\"/>\n     <use style=\"fill:#1f77b4;stroke:#1f77b4;\" x=\"201.923157\" xlink:href=\"#m5b6aad0512\" y=\"121.074875\"/>\n     <use style=\"fill:#1f77b4;stroke:#1f77b4;\" x=\"186.116678\" xlink:href=\"#m5b6aad0512\" y=\"131.914527\"/>\n     <use style=\"fill:#1f77b4;stroke:#1f77b4;\" x=\"251.932611\" xlink:href=\"#m5b6aad0512\" y=\"64.782011\"/>\n     <use style=\"fill:#1f77b4;stroke:#1f77b4;\" x=\"209.70018\" xlink:href=\"#m5b6aad0512\" y=\"141.676169\"/>\n     <use style=\"fill:#1f77b4;stroke:#1f77b4;\" x=\"106.768831\" xlink:href=\"#m5b6aad0512\" y=\"170.198817\"/>\n     <use style=\"fill:#1f77b4;stroke:#1f77b4;\" x=\"260.431115\" xlink:href=\"#m5b6aad0512\" y=\"94.324818\"/>\n     <use style=\"fill:#1f77b4;stroke:#1f77b4;\" x=\"102.497402\" xlink:href=\"#m5b6aad0512\" y=\"138.126592\"/>\n     <use style=\"fill:#1f77b4;stroke:#1f77b4;\" x=\"64.653122\" xlink:href=\"#m5b6aad0512\" y=\"155.631961\"/>\n     <use style=\"fill:#1f77b4;stroke:#1f77b4;\" x=\"211.703703\" xlink:href=\"#m5b6aad0512\" y=\"124.954186\"/>\n     <use style=\"fill:#1f77b4;stroke:#1f77b4;\" x=\"93.326997\" xlink:href=\"#m5b6aad0512\" y=\"181.643315\"/>\n     <use style=\"fill:#1f77b4;stroke:#1f77b4;\" x=\"210.546374\" xlink:href=\"#m5b6aad0512\" y=\"144.325138\"/>\n     <use style=\"fill:#1f77b4;stroke:#1f77b4;\" x=\"58.577925\" xlink:href=\"#m5b6aad0512\" y=\"167.150764\"/>\n     <use style=\"fill:#1f77b4;stroke:#1f77b4;\" x=\"44.160369\" xlink:href=\"#m5b6aad0512\" y=\"178.222791\"/>\n     <use style=\"fill:#1f77b4;stroke:#1f77b4;\" x=\"254.901821\" xlink:href=\"#m5b6aad0512\" y=\"55.998601\"/>\n     <use style=\"fill:#1f77b4;stroke:#1f77b4;\" x=\"151.459723\" xlink:href=\"#m5b6aad0512\" y=\"174.829967\"/>\n     <use style=\"fill:#1f77b4;stroke:#1f77b4;\" x=\"313.406485\" xlink:href=\"#m5b6aad0512\" y=\"38.601781\"/>\n     <use style=\"fill:#1f77b4;stroke:#1f77b4;\" x=\"214.972118\" xlink:href=\"#m5b6aad0512\" y=\"74.747936\"/>\n     <use style=\"fill:#1f77b4;stroke:#1f77b4;\" x=\"305.225407\" xlink:href=\"#m5b6aad0512\" y=\"62.03777\"/>\n     <use style=\"fill:#1f77b4;stroke:#1f77b4;\" x=\"294.593554\" xlink:href=\"#m5b6aad0512\" y=\"99.907174\"/>\n     <use style=\"fill:#1f77b4;stroke:#1f77b4;\" x=\"310.636183\" xlink:href=\"#m5b6aad0512\" y=\"68.528022\"/>\n     <use style=\"fill:#1f77b4;stroke:#1f77b4;\" x=\"143.393326\" xlink:href=\"#m5b6aad0512\" y=\"89.08992\"/>\n     <use style=\"fill:#1f77b4;stroke:#1f77b4;\" x=\"163.539609\" xlink:href=\"#m5b6aad0512\" y=\"104.401396\"/>\n     <use style=\"fill:#1f77b4;stroke:#1f77b4;\" x=\"229.90913\" xlink:href=\"#m5b6aad0512\" y=\"105.098297\"/>\n     <use style=\"fill:#1f77b4;stroke:#1f77b4;\" x=\"242.164747\" xlink:href=\"#m5b6aad0512\" y=\"97.826615\"/>\n     <use style=\"fill:#1f77b4;stroke:#1f77b4;\" x=\"149.892126\" xlink:href=\"#m5b6aad0512\" y=\"141.532057\"/>\n     <use style=\"fill:#1f77b4;stroke:#1f77b4;\" x=\"241.021356\" xlink:href=\"#m5b6aad0512\" y=\"86.285664\"/>\n    </g>\n   </g>\n   <g id=\"patch_3\">\n    <path d=\"M 28.942188 224.64 \nL 28.942188 7.2 \n\" style=\"fill:none;stroke:#000000;stroke-linecap:square;stroke-linejoin:miter;stroke-width:0.8;\"/>\n   </g>\n   <g id=\"patch_4\">\n    <path d=\"M 363.742188 224.64 \nL 363.742188 7.2 \n\" style=\"fill:none;stroke:#000000;stroke-linecap:square;stroke-linejoin:miter;stroke-width:0.8;\"/>\n   </g>\n   <g id=\"patch_5\">\n    <path d=\"M 28.942188 224.64 \nL 363.742188 224.64 \n\" style=\"fill:none;stroke:#000000;stroke-linecap:square;stroke-linejoin:miter;stroke-width:0.8;\"/>\n   </g>\n   <g id=\"patch_6\">\n    <path d=\"M 28.942188 7.2 \nL 363.742188 7.2 \n\" style=\"fill:none;stroke:#000000;stroke-linecap:square;stroke-linejoin:miter;stroke-width:0.8;\"/>\n   </g>\n  </g>\n </g>\n <defs>\n  <clipPath id=\"p88a2138fa2\">\n   <rect height=\"217.44\" width=\"334.8\" x=\"28.942188\" y=\"7.2\"/>\n  </clipPath>\n </defs>\n</svg>\n",
      "image/png": "[encoded data removed]"
     },
     "metadata": {
      "needs_background": "light"
     }
    }
   ],
   "source": [
    "n, p, rho = 100, 2, .8\n",
    "beta = np.random.normal(0,1,p)\n",
    "sigma = 1.\n",
    "X, y = sim_corr_lm(n,p,rho,beta,sigma)\n",
    "plt.plot(X[:,0],X[:,1],'.')"
   ]
  },
  {
   "cell_type": "code",
   "execution_count": 38,
   "metadata": {},
   "outputs": [
    {
     "output_type": "stream",
     "name": "stdout",
     "text": "[0.010957652569088363, 0.010887397466130133, 0.009928400658670183, 0.013935398682826622, 0.03083919237817355, 0.04581657790580071, 0.09284363715480197, 0.6469747709880391]\n"
    }
   ],
   "source": [
    "# my solution to Exercise 3.2.2\n",
    "import numpy as np\n",
    "from sklearn.linear_model import LinearRegression\n",
    "\n",
    "Rhos = [0,.2,.4,.6,.8,.9,.95,.99]\n",
    "\n",
    "# num_rhos = len(Rhos)\n",
    "# num_trials = 100\n",
    "# betas = np.zeros((num_rhos, num_trials))\n",
    "# for r in range (0,num_rhos):\n",
    "#     rho = Rhos[r]\n",
    "#     for t in range (0, num_trials):\n",
    "#         X, y = sim_corr_lm(n,p,rho,beta,sigma)\n",
    "#         LinReg = LinearRegression(fit_intercept = False)\n",
    "#         LinReg.fit(X,y)\n",
    "#         betas[r, t] = LinReg.coef_[0]\n",
    "#     betaVars[r] = np.var(betas[r,:])\n",
    "\n",
    "\n",
    "#better:\n",
    "def calcVars(rho, num_trials, n=n, p=p, beta=beta, sigma=sigma):\n",
    "    betas = np.zeros((num_trials,))\n",
    "    for t in range (0, num_trials):\n",
    "        X, y = sim_corr_lm(n,p,rho,beta,sigma)\n",
    "        LinReg = LinearRegression(fit_intercept = False)\n",
    "        LinReg.fit(X,y)\n",
    "        betas[t] = LinReg.coef_[0]\n",
    "    return np.var(betas)\n",
    "\n",
    "betaVars = [calcVars(rho, 100, n, p, beta, sigma) for rho in Rhos]\n",
    "print(betaVars)"
   ]
  },
  {
   "cell_type": "code",
   "execution_count": 40,
   "metadata": {},
   "outputs": [
    {
     "output_type": "execute_result",
     "data": {
      "text/plain": "[<matplotlib.lines.Line2D at 0x1a2251f110>]"
     },
     "metadata": {},
     "execution_count": 40
    },
    {
     "output_type": "display_data",
     "data": {
      "text/plain": "<Figure size 432x288 with 1 Axes>",
      "image/svg+xml": "<?xml version=\"1.0\" encoding=\"utf-8\" standalone=\"no\"?>\n<!DOCTYPE svg PUBLIC \"-//W3C//DTD SVG 1.1//EN\"\n  \"http://www.w3.org/Graphics/SVG/1.1/DTD/svg11.dtd\">\n<!-- Created with matplotlib (https://matplotlib.org/) -->\n<svg height=\"248.518125pt\" version=\"1.1\" viewBox=\"0 0 372.103125 248.518125\" width=\"372.103125pt\" xmlns=\"http://www.w3.org/2000/svg\" xmlns:xlink=\"http://www.w3.org/1999/xlink\">\n <defs>\n  <style type=\"text/css\">\n*{stroke-linecap:butt;stroke-linejoin:round;}\n  </style>\n </defs>\n <g id=\"figure_1\">\n  <g id=\"patch_1\">\n   <path d=\"M 0 248.518125 \nL 372.103125 248.518125 \nL 372.103125 0 \nL 0 0 \nz\n\" style=\"fill:none;\"/>\n  </g>\n  <g id=\"axes_1\">\n   <g id=\"patch_2\">\n    <path d=\"M 30.103125 224.64 \nL 364.903125 224.64 \nL 364.903125 7.2 \nL 30.103125 7.2 \nz\n\" style=\"fill:#ffffff;\"/>\n   </g>\n   <g id=\"matplotlib.axis_1\">\n    <g id=\"xtick_1\">\n     <g id=\"line2d_1\">\n      <defs>\n       <path d=\"M 0 0 \nL 0 3.5 \n\" id=\"m60be6c27cd\" style=\"stroke:#000000;stroke-width:0.8;\"/>\n      </defs>\n      <g>\n       <use style=\"stroke:#000000;stroke-width:0.8;\" x=\"45.321307\" xlink:href=\"#m60be6c27cd\" y=\"224.64\"/>\n      </g>\n     </g>\n     <g id=\"text_1\">\n      <!-- 0.0 -->\n      <defs>\n       <path d=\"M 31.78125 66.40625 \nQ 24.171875 66.40625 20.328125 58.90625 \nQ 16.5 51.421875 16.5 36.375 \nQ 16.5 21.390625 20.328125 13.890625 \nQ 24.171875 6.390625 31.78125 6.390625 \nQ 39.453125 6.390625 43.28125 13.890625 \nQ 47.125 21.390625 47.125 36.375 \nQ 47.125 51.421875 43.28125 58.90625 \nQ 39.453125 66.40625 31.78125 66.40625 \nz\nM 31.78125 74.21875 \nQ 44.046875 74.21875 50.515625 64.515625 \nQ 56.984375 54.828125 56.984375 36.375 \nQ 56.984375 17.96875 50.515625 8.265625 \nQ 44.046875 -1.421875 31.78125 -1.421875 \nQ 19.53125 -1.421875 13.0625 8.265625 \nQ 6.59375 17.96875 6.59375 36.375 \nQ 6.59375 54.828125 13.0625 64.515625 \nQ 19.53125 74.21875 31.78125 74.21875 \nz\n\" id=\"DejaVuSans-48\"/>\n       <path d=\"M 10.6875 12.40625 \nL 21 12.40625 \nL 21 0 \nL 10.6875 0 \nz\n\" id=\"DejaVuSans-46\"/>\n      </defs>\n      <g transform=\"translate(37.369744 239.238437)scale(0.1 -0.1)\">\n       <use xlink:href=\"#DejaVuSans-48\"/>\n       <use x=\"63.623047\" xlink:href=\"#DejaVuSans-46\"/>\n       <use x=\"95.410156\" xlink:href=\"#DejaVuSans-48\"/>\n      </g>\n     </g>\n    </g>\n    <g id=\"xtick_2\">\n     <g id=\"line2d_2\">\n      <g>\n       <use style=\"stroke:#000000;stroke-width:0.8;\" x=\"106.80891\" xlink:href=\"#m60be6c27cd\" y=\"224.64\"/>\n      </g>\n     </g>\n     <g id=\"text_2\">\n      <!-- 0.2 -->\n      <defs>\n       <path d=\"M 19.1875 8.296875 \nL 53.609375 8.296875 \nL 53.609375 0 \nL 7.328125 0 \nL 7.328125 8.296875 \nQ 12.9375 14.109375 22.625 23.890625 \nQ 32.328125 33.6875 34.8125 36.53125 \nQ 39.546875 41.84375 41.421875 45.53125 \nQ 43.3125 49.21875 43.3125 52.78125 \nQ 43.3125 58.59375 39.234375 62.25 \nQ 35.15625 65.921875 28.609375 65.921875 \nQ 23.96875 65.921875 18.8125 64.3125 \nQ 13.671875 62.703125 7.8125 59.421875 \nL 7.8125 69.390625 \nQ 13.765625 71.78125 18.9375 73 \nQ 24.125 74.21875 28.421875 74.21875 \nQ 39.75 74.21875 46.484375 68.546875 \nQ 53.21875 62.890625 53.21875 53.421875 \nQ 53.21875 48.921875 51.53125 44.890625 \nQ 49.859375 40.875 45.40625 35.40625 \nQ 44.1875 33.984375 37.640625 27.21875 \nQ 31.109375 20.453125 19.1875 8.296875 \nz\n\" id=\"DejaVuSans-50\"/>\n      </defs>\n      <g transform=\"translate(98.857348 239.238437)scale(0.1 -0.1)\">\n       <use xlink:href=\"#DejaVuSans-48\"/>\n       <use x=\"63.623047\" xlink:href=\"#DejaVuSans-46\"/>\n       <use x=\"95.410156\" xlink:href=\"#DejaVuSans-50\"/>\n      </g>\n     </g>\n    </g>\n    <g id=\"xtick_3\">\n     <g id=\"line2d_3\">\n      <g>\n       <use style=\"stroke:#000000;stroke-width:0.8;\" x=\"168.296513\" xlink:href=\"#m60be6c27cd\" y=\"224.64\"/>\n      </g>\n     </g>\n     <g id=\"text_3\">\n      <!-- 0.4 -->\n      <defs>\n       <path d=\"M 37.796875 64.3125 \nL 12.890625 25.390625 \nL 37.796875 25.390625 \nz\nM 35.203125 72.90625 \nL 47.609375 72.90625 \nL 47.609375 25.390625 \nL 58.015625 25.390625 \nL 58.015625 17.1875 \nL 47.609375 17.1875 \nL 47.609375 0 \nL 37.796875 0 \nL 37.796875 17.1875 \nL 4.890625 17.1875 \nL 4.890625 26.703125 \nz\n\" id=\"DejaVuSans-52\"/>\n      </defs>\n      <g transform=\"translate(160.344951 239.238437)scale(0.1 -0.1)\">\n       <use xlink:href=\"#DejaVuSans-48\"/>\n       <use x=\"63.623047\" xlink:href=\"#DejaVuSans-46\"/>\n       <use x=\"95.410156\" xlink:href=\"#DejaVuSans-52\"/>\n      </g>\n     </g>\n    </g>\n    <g id=\"xtick_4\">\n     <g id=\"line2d_4\">\n      <g>\n       <use style=\"stroke:#000000;stroke-width:0.8;\" x=\"229.784117\" xlink:href=\"#m60be6c27cd\" y=\"224.64\"/>\n      </g>\n     </g>\n     <g id=\"text_4\">\n      <!-- 0.6 -->\n      <defs>\n       <path d=\"M 33.015625 40.375 \nQ 26.375 40.375 22.484375 35.828125 \nQ 18.609375 31.296875 18.609375 23.390625 \nQ 18.609375 15.53125 22.484375 10.953125 \nQ 26.375 6.390625 33.015625 6.390625 \nQ 39.65625 6.390625 43.53125 10.953125 \nQ 47.40625 15.53125 47.40625 23.390625 \nQ 47.40625 31.296875 43.53125 35.828125 \nQ 39.65625 40.375 33.015625 40.375 \nz\nM 52.59375 71.296875 \nL 52.59375 62.3125 \nQ 48.875 64.0625 45.09375 64.984375 \nQ 41.3125 65.921875 37.59375 65.921875 \nQ 27.828125 65.921875 22.671875 59.328125 \nQ 17.53125 52.734375 16.796875 39.40625 \nQ 19.671875 43.65625 24.015625 45.921875 \nQ 28.375 48.1875 33.59375 48.1875 \nQ 44.578125 48.1875 50.953125 41.515625 \nQ 57.328125 34.859375 57.328125 23.390625 \nQ 57.328125 12.15625 50.6875 5.359375 \nQ 44.046875 -1.421875 33.015625 -1.421875 \nQ 20.359375 -1.421875 13.671875 8.265625 \nQ 6.984375 17.96875 6.984375 36.375 \nQ 6.984375 53.65625 15.1875 63.9375 \nQ 23.390625 74.21875 37.203125 74.21875 \nQ 40.921875 74.21875 44.703125 73.484375 \nQ 48.484375 72.75 52.59375 71.296875 \nz\n\" id=\"DejaVuSans-54\"/>\n      </defs>\n      <g transform=\"translate(221.832554 239.238437)scale(0.1 -0.1)\">\n       <use xlink:href=\"#DejaVuSans-48\"/>\n       <use x=\"63.623047\" xlink:href=\"#DejaVuSans-46\"/>\n       <use x=\"95.410156\" xlink:href=\"#DejaVuSans-54\"/>\n      </g>\n     </g>\n    </g>\n    <g id=\"xtick_5\">\n     <g id=\"line2d_5\">\n      <g>\n       <use style=\"stroke:#000000;stroke-width:0.8;\" x=\"291.27172\" xlink:href=\"#m60be6c27cd\" y=\"224.64\"/>\n      </g>\n     </g>\n     <g id=\"text_5\">\n      <!-- 0.8 -->\n      <defs>\n       <path d=\"M 31.78125 34.625 \nQ 24.75 34.625 20.71875 30.859375 \nQ 16.703125 27.09375 16.703125 20.515625 \nQ 16.703125 13.921875 20.71875 10.15625 \nQ 24.75 6.390625 31.78125 6.390625 \nQ 38.8125 6.390625 42.859375 10.171875 \nQ 46.921875 13.96875 46.921875 20.515625 \nQ 46.921875 27.09375 42.890625 30.859375 \nQ 38.875 34.625 31.78125 34.625 \nz\nM 21.921875 38.8125 \nQ 15.578125 40.375 12.03125 44.71875 \nQ 8.5 49.078125 8.5 55.328125 \nQ 8.5 64.0625 14.71875 69.140625 \nQ 20.953125 74.21875 31.78125 74.21875 \nQ 42.671875 74.21875 48.875 69.140625 \nQ 55.078125 64.0625 55.078125 55.328125 \nQ 55.078125 49.078125 51.53125 44.71875 \nQ 48 40.375 41.703125 38.8125 \nQ 48.828125 37.15625 52.796875 32.3125 \nQ 56.78125 27.484375 56.78125 20.515625 \nQ 56.78125 9.90625 50.3125 4.234375 \nQ 43.84375 -1.421875 31.78125 -1.421875 \nQ 19.734375 -1.421875 13.25 4.234375 \nQ 6.78125 9.90625 6.78125 20.515625 \nQ 6.78125 27.484375 10.78125 32.3125 \nQ 14.796875 37.15625 21.921875 38.8125 \nz\nM 18.3125 54.390625 \nQ 18.3125 48.734375 21.84375 45.5625 \nQ 25.390625 42.390625 31.78125 42.390625 \nQ 38.140625 42.390625 41.71875 45.5625 \nQ 45.3125 48.734375 45.3125 54.390625 \nQ 45.3125 60.0625 41.71875 63.234375 \nQ 38.140625 66.40625 31.78125 66.40625 \nQ 25.390625 66.40625 21.84375 63.234375 \nQ 18.3125 60.0625 18.3125 54.390625 \nz\n\" id=\"DejaVuSans-56\"/>\n      </defs>\n      <g transform=\"translate(283.320158 239.238437)scale(0.1 -0.1)\">\n       <use xlink:href=\"#DejaVuSans-48\"/>\n       <use x=\"63.623047\" xlink:href=\"#DejaVuSans-46\"/>\n       <use x=\"95.410156\" xlink:href=\"#DejaVuSans-56\"/>\n      </g>\n     </g>\n    </g>\n    <g id=\"xtick_6\">\n     <g id=\"line2d_6\">\n      <g>\n       <use style=\"stroke:#000000;stroke-width:0.8;\" x=\"352.759323\" xlink:href=\"#m60be6c27cd\" y=\"224.64\"/>\n      </g>\n     </g>\n     <g id=\"text_6\">\n      <!-- 1.0 -->\n      <defs>\n       <path d=\"M 12.40625 8.296875 \nL 28.515625 8.296875 \nL 28.515625 63.921875 \nL 10.984375 60.40625 \nL 10.984375 69.390625 \nL 28.421875 72.90625 \nL 38.28125 72.90625 \nL 38.28125 8.296875 \nL 54.390625 8.296875 \nL 54.390625 0 \nL 12.40625 0 \nz\n\" id=\"DejaVuSans-49\"/>\n      </defs>\n      <g transform=\"translate(344.807761 239.238437)scale(0.1 -0.1)\">\n       <use xlink:href=\"#DejaVuSans-49\"/>\n       <use x=\"63.623047\" xlink:href=\"#DejaVuSans-46\"/>\n       <use x=\"95.410156\" xlink:href=\"#DejaVuSans-48\"/>\n      </g>\n     </g>\n    </g>\n   </g>\n   <g id=\"matplotlib.axis_2\">\n    <g id=\"ytick_1\">\n     <g id=\"line2d_7\">\n      <defs>\n       <path d=\"M 0 0 \nL -3.5 0 \n\" id=\"m2ac80335f3\" style=\"stroke:#000000;stroke-width:0.8;\"/>\n      </defs>\n      <g>\n       <use style=\"stroke:#000000;stroke-width:0.8;\" x=\"30.103125\" xlink:href=\"#m2ac80335f3\" y=\"217.837103\"/>\n      </g>\n     </g>\n     <g id=\"text_7\">\n      <!-- 0.0 -->\n      <g transform=\"translate(7.2 221.636322)scale(0.1 -0.1)\">\n       <use xlink:href=\"#DejaVuSans-48\"/>\n       <use x=\"63.623047\" xlink:href=\"#DejaVuSans-46\"/>\n       <use x=\"95.410156\" xlink:href=\"#DejaVuSans-48\"/>\n      </g>\n     </g>\n    </g>\n    <g id=\"ytick_2\">\n     <g id=\"line2d_8\">\n      <g>\n       <use style=\"stroke:#000000;stroke-width:0.8;\" x=\"30.103125\" xlink:href=\"#m2ac80335f3\" y=\"186.807537\"/>\n      </g>\n     </g>\n     <g id=\"text_8\">\n      <!-- 0.1 -->\n      <g transform=\"translate(7.2 190.606756)scale(0.1 -0.1)\">\n       <use xlink:href=\"#DejaVuSans-48\"/>\n       <use x=\"63.623047\" xlink:href=\"#DejaVuSans-46\"/>\n       <use x=\"95.410156\" xlink:href=\"#DejaVuSans-49\"/>\n      </g>\n     </g>\n    </g>\n    <g id=\"ytick_3\">\n     <g id=\"line2d_9\">\n      <g>\n       <use style=\"stroke:#000000;stroke-width:0.8;\" x=\"30.103125\" xlink:href=\"#m2ac80335f3\" y=\"155.77797\"/>\n      </g>\n     </g>\n     <g id=\"text_9\">\n      <!-- 0.2 -->\n      <g transform=\"translate(7.2 159.577189)scale(0.1 -0.1)\">\n       <use xlink:href=\"#DejaVuSans-48\"/>\n       <use x=\"63.623047\" xlink:href=\"#DejaVuSans-46\"/>\n       <use x=\"95.410156\" xlink:href=\"#DejaVuSans-50\"/>\n      </g>\n     </g>\n    </g>\n    <g id=\"ytick_4\">\n     <g id=\"line2d_10\">\n      <g>\n       <use style=\"stroke:#000000;stroke-width:0.8;\" x=\"30.103125\" xlink:href=\"#m2ac80335f3\" y=\"124.748404\"/>\n      </g>\n     </g>\n     <g id=\"text_10\">\n      <!-- 0.3 -->\n      <defs>\n       <path d=\"M 40.578125 39.3125 \nQ 47.65625 37.796875 51.625 33 \nQ 55.609375 28.21875 55.609375 21.1875 \nQ 55.609375 10.40625 48.1875 4.484375 \nQ 40.765625 -1.421875 27.09375 -1.421875 \nQ 22.515625 -1.421875 17.65625 -0.515625 \nQ 12.796875 0.390625 7.625 2.203125 \nL 7.625 11.71875 \nQ 11.71875 9.328125 16.59375 8.109375 \nQ 21.484375 6.890625 26.8125 6.890625 \nQ 36.078125 6.890625 40.9375 10.546875 \nQ 45.796875 14.203125 45.796875 21.1875 \nQ 45.796875 27.640625 41.28125 31.265625 \nQ 36.765625 34.90625 28.71875 34.90625 \nL 20.21875 34.90625 \nL 20.21875 43.015625 \nL 29.109375 43.015625 \nQ 36.375 43.015625 40.234375 45.921875 \nQ 44.09375 48.828125 44.09375 54.296875 \nQ 44.09375 59.90625 40.109375 62.90625 \nQ 36.140625 65.921875 28.71875 65.921875 \nQ 24.65625 65.921875 20.015625 65.03125 \nQ 15.375 64.15625 9.8125 62.3125 \nL 9.8125 71.09375 \nQ 15.4375 72.65625 20.34375 73.4375 \nQ 25.25 74.21875 29.59375 74.21875 \nQ 40.828125 74.21875 47.359375 69.109375 \nQ 53.90625 64.015625 53.90625 55.328125 \nQ 53.90625 49.265625 50.4375 45.09375 \nQ 46.96875 40.921875 40.578125 39.3125 \nz\n\" id=\"DejaVuSans-51\"/>\n      </defs>\n      <g transform=\"translate(7.2 128.547623)scale(0.1 -0.1)\">\n       <use xlink:href=\"#DejaVuSans-48\"/>\n       <use x=\"63.623047\" xlink:href=\"#DejaVuSans-46\"/>\n       <use x=\"95.410156\" xlink:href=\"#DejaVuSans-51\"/>\n      </g>\n     </g>\n    </g>\n    <g id=\"ytick_5\">\n     <g id=\"line2d_11\">\n      <g>\n       <use style=\"stroke:#000000;stroke-width:0.8;\" x=\"30.103125\" xlink:href=\"#m2ac80335f3\" y=\"93.718837\"/>\n      </g>\n     </g>\n     <g id=\"text_11\">\n      <!-- 0.4 -->\n      <g transform=\"translate(7.2 97.518056)scale(0.1 -0.1)\">\n       <use xlink:href=\"#DejaVuSans-48\"/>\n       <use x=\"63.623047\" xlink:href=\"#DejaVuSans-46\"/>\n       <use x=\"95.410156\" xlink:href=\"#DejaVuSans-52\"/>\n      </g>\n     </g>\n    </g>\n    <g id=\"ytick_6\">\n     <g id=\"line2d_12\">\n      <g>\n       <use style=\"stroke:#000000;stroke-width:0.8;\" x=\"30.103125\" xlink:href=\"#m2ac80335f3\" y=\"62.689271\"/>\n      </g>\n     </g>\n     <g id=\"text_12\">\n      <!-- 0.5 -->\n      <defs>\n       <path d=\"M 10.796875 72.90625 \nL 49.515625 72.90625 \nL 49.515625 64.59375 \nL 19.828125 64.59375 \nL 19.828125 46.734375 \nQ 21.96875 47.46875 24.109375 47.828125 \nQ 26.265625 48.1875 28.421875 48.1875 \nQ 40.625 48.1875 47.75 41.5 \nQ 54.890625 34.8125 54.890625 23.390625 \nQ 54.890625 11.625 47.5625 5.09375 \nQ 40.234375 -1.421875 26.90625 -1.421875 \nQ 22.3125 -1.421875 17.546875 -0.640625 \nQ 12.796875 0.140625 7.71875 1.703125 \nL 7.71875 11.625 \nQ 12.109375 9.234375 16.796875 8.0625 \nQ 21.484375 6.890625 26.703125 6.890625 \nQ 35.15625 6.890625 40.078125 11.328125 \nQ 45.015625 15.765625 45.015625 23.390625 \nQ 45.015625 31 40.078125 35.4375 \nQ 35.15625 39.890625 26.703125 39.890625 \nQ 22.75 39.890625 18.8125 39.015625 \nQ 14.890625 38.140625 10.796875 36.28125 \nz\n\" id=\"DejaVuSans-53\"/>\n      </defs>\n      <g transform=\"translate(7.2 66.488489)scale(0.1 -0.1)\">\n       <use xlink:href=\"#DejaVuSans-48\"/>\n       <use x=\"63.623047\" xlink:href=\"#DejaVuSans-46\"/>\n       <use x=\"95.410156\" xlink:href=\"#DejaVuSans-53\"/>\n      </g>\n     </g>\n    </g>\n    <g id=\"ytick_7\">\n     <g id=\"line2d_13\">\n      <g>\n       <use style=\"stroke:#000000;stroke-width:0.8;\" x=\"30.103125\" xlink:href=\"#m2ac80335f3\" y=\"31.659704\"/>\n      </g>\n     </g>\n     <g id=\"text_13\">\n      <!-- 0.6 -->\n      <g transform=\"translate(7.2 35.458923)scale(0.1 -0.1)\">\n       <use xlink:href=\"#DejaVuSans-48\"/>\n       <use x=\"63.623047\" xlink:href=\"#DejaVuSans-46\"/>\n       <use x=\"95.410156\" xlink:href=\"#DejaVuSans-54\"/>\n      </g>\n     </g>\n    </g>\n   </g>\n   <g id=\"line2d_14\">\n    <path clip-path=\"url(#p41b262c995)\" d=\"M 45.321307 214.436991 \nL 106.80891 214.458791 \nL 168.296513 214.756364 \nL 229.784117 213.51301 \nL 291.27172 208.267836 \nL 322.015522 203.620418 \nL 337.387423 189.028125 \nL 349.684943 17.083636 \n\" style=\"fill:none;stroke:#1f77b4;stroke-linecap:square;stroke-width:1.5;\"/>\n   </g>\n   <g id=\"patch_3\">\n    <path d=\"M 30.103125 224.64 \nL 30.103125 7.2 \n\" style=\"fill:none;stroke:#000000;stroke-linecap:square;stroke-linejoin:miter;stroke-width:0.8;\"/>\n   </g>\n   <g id=\"patch_4\">\n    <path d=\"M 364.903125 224.64 \nL 364.903125 7.2 \n\" style=\"fill:none;stroke:#000000;stroke-linecap:square;stroke-linejoin:miter;stroke-width:0.8;\"/>\n   </g>\n   <g id=\"patch_5\">\n    <path d=\"M 30.103125 224.64 \nL 364.903125 224.64 \n\" style=\"fill:none;stroke:#000000;stroke-linecap:square;stroke-linejoin:miter;stroke-width:0.8;\"/>\n   </g>\n   <g id=\"patch_6\">\n    <path d=\"M 30.103125 7.2 \nL 364.903125 7.2 \n\" style=\"fill:none;stroke:#000000;stroke-linecap:square;stroke-linejoin:miter;stroke-width:0.8;\"/>\n   </g>\n  </g>\n </g>\n <defs>\n  <clipPath id=\"p41b262c995\">\n   <rect height=\"217.44\" width=\"334.8\" x=\"30.103125\" y=\"7.2\"/>\n  </clipPath>\n </defs>\n</svg>\n",
      "image/png": "[encoded data removed]"
     },
     "metadata": {
      "needs_background": "light"
     }
    }
   ],
   "source": [
    "import matplotlib.pyplot as plt\n",
    "plt.plot(Rhos,betaVars)\n",
    ""
   ]
  },
  {
   "cell_type": "code",
   "execution_count": 52,
   "metadata": {
    "slideshow": {
     "slide_type": "slide"
    }
   },
   "outputs": [],
   "source": [
    "## Solution to 3.2.2\n",
    "def sample_coef_corr_lm(trials,**kwargs):\n",
    "    \"\"\"\n",
    "    Sample the OLS coefficients for rho correlated input\n",
    "    \"\"\"\n",
    "    beta_sim = []\n",
    "    for t in range(trials):\n",
    "        X,y = sim_corr_lm(**kwargs)\n",
    "        beta_sim += [linear_model.LinearRegression(fit_intercept=False).fit(X,y).coef_]\n",
    "    return np.array(beta_sim)"
   ]
  },
  {
   "cell_type": "code",
   "execution_count": 62,
   "metadata": {
    "slideshow": {
     "slide_type": "slide"
    }
   },
   "outputs": [
    {
     "data": {
      "text/plain": [
       "Text(0, 0.5, 'beta variance')"
      ]
     },
     "execution_count": 62,
     "metadata": {},
     "output_type": "execute_result"
    },
    {
     "data": {
      "image/png": "[encoded data removed]",
      "text/plain": [
       "<Figure size 432x288 with 1 Axes>"
      ]
     },
     "metadata": {
      "needs_background": "light"
     },
     "output_type": "display_data"
    }
   ],
   "source": [
    "## Sample coefficients with different rho and plot variance of beta_1 as rho increases\n",
    "Rhos = [0,.2,.4,.6,.8,.9,.95,.99]\n",
    "coef_vars = [sample_coef_corr_lm(100,n=n,p=p,rho=rho,beta=beta,sigma=sigma)[:,0].var(axis=0) for rho in Rhos]\n",
    "plt.plot(Rhos,coef_vars)\n",
    "plt.xlabel('X correlation')\n",
    "plt.ylabel('beta variance')"
   ]
  },
  {
   "cell_type": "markdown",
   "metadata": {
    "slideshow": {
     "slide_type": "slide"
    }
   },
   "source": [
    "### Solution to Exercise 3.2.1\n",
    "\n",
    "In Gram-Schmidt the projection operator is $$\\frac{\\langle x, z\\rangle}{\\langle z, z \\rangle} z,$$ and so the projection of $x_j$ onto the space spanned by $z_k$ is \n",
    "$$ \\frac{x_j^\\top z_k}{z_k^\\top z_k} z_k = \\hat \\gamma_{j,k} z_k.$$\n",
    "\n",
    "The result is immediate from algorithm:\n",
    "$$z_j = x_j - \\sum_{k=0}^{j-1} \\hat \\gamma_{j,k} z_k$$"
   ]
  },
  {
   "cell_type": "markdown",
   "metadata": {
    "slideshow": {
     "slide_type": "slide"
    }
   },
   "source": [
    "### Singular value decomposition\n",
    "\n",
    "- Recall that QR decomposition was computed to make LinearRegression.fit easier.\n",
    "- There are other decompositions that can also be used: Cholesky and Singular Value.\n",
    "\n",
    "**Singular Value Decomposition** (for $n > p$ and $X^\\top X$ invertible)\n",
    "\n",
    "$$\n",
    "X = U D V^\\top,\n",
    "$$\n",
    "- U is orthonormal ($U^\\top U = I$) $n \\times p$\n",
    "- V is orthonormal $p \\times p$\n",
    "- D is diagonal\n",
    "\n",
    "\n",
    "1. If X is singular, there is a non-zero vector $z$ such that $Xz = 0$, then an eigenvalue is $0$.  This is equivalent to a residual in Succ. Ortho. being zero.\n",
    "2. Computing SVD is more expensive then QR in general."
   ]
  },
  {
   "cell_type": "markdown",
   "metadata": {
    "slideshow": {
     "slide_type": "slide"
    }
   },
   "source": [
    "### Singular Value Decomposition\n",
    "\n",
    "Suppose that we precomputed the SVD,\n",
    "$$\n",
    "X = UDV^\\top.\n",
    "$$\n",
    "Then the Gram matrix is \n",
    "$$\n",
    "X^\\top X = V D U^\\top U D V^\\top = V D^2 V^\\top,\n",
    "$$\n",
    "the Spectral decomposition. $D^{2}$ is the eigen values of X\n",
    "\n",
    "You should derive that \n",
    "$$\n",
    "\\hat \\beta = V D^{-1} U^\\top y.\n",
    "$$"
   ]
  },
  {
   "cell_type": "markdown",
   "metadata": {
    "slideshow": {
     "slide_type": "slide"
    }
   },
   "source": [
    "### Singular Value Decomposition\n",
    "\n",
    "The coefficient formula\n",
    "$$\n",
    "\\hat \\beta = V D^{-1} U^\\top y\n",
    "$$\n",
    "means that \n",
    "$$\n",
    "\\hat \\beta = \\sum_{j=0}^p d_j^{-1} (u_j^\\top y) v_j \n",
    "$$\n",
    "which means that \n",
    "\n",
    "> $\\hat \\beta$ is instable (high variance in some direction) if the eigenvalues are very small."
   ]
  },
  {
   "cell_type": "markdown",
   "metadata": {
    "slideshow": {
     "slide_type": "slide"
    }
   },
   "source": [
    "### Exercise 3.3\n",
    "\n",
    "Below you can see some code for computing the SVD of $X^\\top X$.  Using the same selection of `Rhos` for each `rho` compute the singular values and plot them in order from largest to smallest.  You should get one line for each rho.  What does this say about the stability of $\\hat \\beta$ as rho approaches 1."
   ]
  },
  {
   "cell_type": "code",
   "execution_count": 44,
   "metadata": {
    "slideshow": {
     "slide_type": "slide"
    }
   },
   "outputs": [
    {
     "output_type": "stream",
     "name": "stdout",
     "text": "8\n(100, 100) (8, 8) (8,)\n"
    },
    {
     "output_type": "execute_result",
     "data": {
      "text/plain": "4.159459235375529e-13"
     },
     "metadata": {},
     "execution_count": 44
    }
   ],
   "source": [
    "## Simulate again\n",
    "n, p, rho = 100, 8, .8\n",
    "beta = np.random.normal(0,1,p)\n",
    "sigma = 1.\n",
    "X, y = sim_corr_lm(n,p,rho,beta,sigma)\n",
    "\n",
    "## SVD\n",
    "U,d,Vt = sc.linalg.svd(X)\n",
    "print (len(d))\n",
    "## Check to make sure that we understand\n",
    "print(U.shape, Vt.shape, d.shape)\n",
    "np.abs(X - U[:,:p] @ np.diag(d) @ Vt).sum()"
   ]
  },
  {
   "cell_type": "code",
   "execution_count": 74,
   "metadata": {},
   "outputs": [
    {
     "output_type": "execute_result",
     "data": {
      "text/plain": "<matplotlib.legend.Legend at 0x1a23ffb450>"
     },
     "metadata": {},
     "execution_count": 74
    },
    {
     "output_type": "display_data",
     "data": {
      "text/plain": "<Figure size 432x288 with 1 Axes>",
      "image/svg+xml": "<?xml version=\"1.0\" encoding=\"utf-8\" standalone=\"no\"?>\n<!DOCTYPE svg PUBLIC \"-//W3C//DTD SVG 1.1//EN\"\n  \"http://www.w3.org/Graphics/SVG/1.1/DTD/svg11.dtd\">\n<!-- Created with matplotlib (https://matplotlib.org/) -->\n<svg height=\"248.518125pt\" version=\"1.1\" viewBox=\"0 0 368.925 248.518125\" width=\"368.925pt\" xmlns=\"http://www.w3.org/2000/svg\" xmlns:xlink=\"http://www.w3.org/1999/xlink\">\n <defs>\n  <style type=\"text/css\">\n*{stroke-linecap:butt;stroke-linejoin:round;}\n  </style>\n </defs>\n <g id=\"figure_1\">\n  <g id=\"patch_1\">\n   <path d=\"M -0 248.518125 \nL 368.925 248.518125 \nL 368.925 0 \nL -0 0 \nz\n\" style=\"fill:none;\"/>\n  </g>\n  <g id=\"axes_1\">\n   <g id=\"patch_2\">\n    <path d=\"M 26.925 224.64 \nL 361.725 224.64 \nL 361.725 7.2 \nL 26.925 7.2 \nz\n\" style=\"fill:#ffffff;\"/>\n   </g>\n   <g id=\"matplotlib.axis_1\">\n    <g id=\"xtick_1\">\n     <g id=\"line2d_1\">\n      <defs>\n       <path d=\"M 0 0 \nL 0 3.5 \n\" id=\"mcacf4355ac\" style=\"stroke:#000000;stroke-width:0.8;\"/>\n      </defs>\n      <g>\n       <use style=\"stroke:#000000;stroke-width:0.8;\" x=\"42.143182\" xlink:href=\"#mcacf4355ac\" y=\"224.64\"/>\n      </g>\n     </g>\n     <g id=\"text_1\">\n      <!-- 0 -->\n      <defs>\n       <path d=\"M 31.78125 66.40625 \nQ 24.171875 66.40625 20.328125 58.90625 \nQ 16.5 51.421875 16.5 36.375 \nQ 16.5 21.390625 20.328125 13.890625 \nQ 24.171875 6.390625 31.78125 6.390625 \nQ 39.453125 6.390625 43.28125 13.890625 \nQ 47.125 21.390625 47.125 36.375 \nQ 47.125 51.421875 43.28125 58.90625 \nQ 39.453125 66.40625 31.78125 66.40625 \nz\nM 31.78125 74.21875 \nQ 44.046875 74.21875 50.515625 64.515625 \nQ 56.984375 54.828125 56.984375 36.375 \nQ 56.984375 17.96875 50.515625 8.265625 \nQ 44.046875 -1.421875 31.78125 -1.421875 \nQ 19.53125 -1.421875 13.0625 8.265625 \nQ 6.59375 17.96875 6.59375 36.375 \nQ 6.59375 54.828125 13.0625 64.515625 \nQ 19.53125 74.21875 31.78125 74.21875 \nz\n\" id=\"DejaVuSans-48\"/>\n      </defs>\n      <g transform=\"translate(38.961932 239.238438)scale(0.1 -0.1)\">\n       <use xlink:href=\"#DejaVuSans-48\"/>\n      </g>\n     </g>\n    </g>\n    <g id=\"xtick_2\">\n     <g id=\"line2d_2\">\n      <g>\n       <use style=\"stroke:#000000;stroke-width:0.8;\" x=\"85.623701\" xlink:href=\"#mcacf4355ac\" y=\"224.64\"/>\n      </g>\n     </g>\n     <g id=\"text_2\">\n      <!-- 1 -->\n      <defs>\n       <path d=\"M 12.40625 8.296875 \nL 28.515625 8.296875 \nL 28.515625 63.921875 \nL 10.984375 60.40625 \nL 10.984375 69.390625 \nL 28.421875 72.90625 \nL 38.28125 72.90625 \nL 38.28125 8.296875 \nL 54.390625 8.296875 \nL 54.390625 0 \nL 12.40625 0 \nz\n\" id=\"DejaVuSans-49\"/>\n      </defs>\n      <g transform=\"translate(82.442451 239.238438)scale(0.1 -0.1)\">\n       <use xlink:href=\"#DejaVuSans-49\"/>\n      </g>\n     </g>\n    </g>\n    <g id=\"xtick_3\">\n     <g id=\"line2d_3\">\n      <g>\n       <use style=\"stroke:#000000;stroke-width:0.8;\" x=\"129.104221\" xlink:href=\"#mcacf4355ac\" y=\"224.64\"/>\n      </g>\n     </g>\n     <g id=\"text_3\">\n      <!-- 2 -->\n      <defs>\n       <path d=\"M 19.1875 8.296875 \nL 53.609375 8.296875 \nL 53.609375 0 \nL 7.328125 0 \nL 7.328125 8.296875 \nQ 12.9375 14.109375 22.625 23.890625 \nQ 32.328125 33.6875 34.8125 36.53125 \nQ 39.546875 41.84375 41.421875 45.53125 \nQ 43.3125 49.21875 43.3125 52.78125 \nQ 43.3125 58.59375 39.234375 62.25 \nQ 35.15625 65.921875 28.609375 65.921875 \nQ 23.96875 65.921875 18.8125 64.3125 \nQ 13.671875 62.703125 7.8125 59.421875 \nL 7.8125 69.390625 \nQ 13.765625 71.78125 18.9375 73 \nQ 24.125 74.21875 28.421875 74.21875 \nQ 39.75 74.21875 46.484375 68.546875 \nQ 53.21875 62.890625 53.21875 53.421875 \nQ 53.21875 48.921875 51.53125 44.890625 \nQ 49.859375 40.875 45.40625 35.40625 \nQ 44.1875 33.984375 37.640625 27.21875 \nQ 31.109375 20.453125 19.1875 8.296875 \nz\n\" id=\"DejaVuSans-50\"/>\n      </defs>\n      <g transform=\"translate(125.922971 239.238438)scale(0.1 -0.1)\">\n       <use xlink:href=\"#DejaVuSans-50\"/>\n      </g>\n     </g>\n    </g>\n    <g id=\"xtick_4\">\n     <g id=\"line2d_4\">\n      <g>\n       <use style=\"stroke:#000000;stroke-width:0.8;\" x=\"172.58474\" xlink:href=\"#mcacf4355ac\" y=\"224.64\"/>\n      </g>\n     </g>\n     <g id=\"text_4\">\n      <!-- 3 -->\n      <defs>\n       <path d=\"M 40.578125 39.3125 \nQ 47.65625 37.796875 51.625 33 \nQ 55.609375 28.21875 55.609375 21.1875 \nQ 55.609375 10.40625 48.1875 4.484375 \nQ 40.765625 -1.421875 27.09375 -1.421875 \nQ 22.515625 -1.421875 17.65625 -0.515625 \nQ 12.796875 0.390625 7.625 2.203125 \nL 7.625 11.71875 \nQ 11.71875 9.328125 16.59375 8.109375 \nQ 21.484375 6.890625 26.8125 6.890625 \nQ 36.078125 6.890625 40.9375 10.546875 \nQ 45.796875 14.203125 45.796875 21.1875 \nQ 45.796875 27.640625 41.28125 31.265625 \nQ 36.765625 34.90625 28.71875 34.90625 \nL 20.21875 34.90625 \nL 20.21875 43.015625 \nL 29.109375 43.015625 \nQ 36.375 43.015625 40.234375 45.921875 \nQ 44.09375 48.828125 44.09375 54.296875 \nQ 44.09375 59.90625 40.109375 62.90625 \nQ 36.140625 65.921875 28.71875 65.921875 \nQ 24.65625 65.921875 20.015625 65.03125 \nQ 15.375 64.15625 9.8125 62.3125 \nL 9.8125 71.09375 \nQ 15.4375 72.65625 20.34375 73.4375 \nQ 25.25 74.21875 29.59375 74.21875 \nQ 40.828125 74.21875 47.359375 69.109375 \nQ 53.90625 64.015625 53.90625 55.328125 \nQ 53.90625 49.265625 50.4375 45.09375 \nQ 46.96875 40.921875 40.578125 39.3125 \nz\n\" id=\"DejaVuSans-51\"/>\n      </defs>\n      <g transform=\"translate(169.40349 239.238438)scale(0.1 -0.1)\">\n       <use xlink:href=\"#DejaVuSans-51\"/>\n      </g>\n     </g>\n    </g>\n    <g id=\"xtick_5\">\n     <g id=\"line2d_5\">\n      <g>\n       <use style=\"stroke:#000000;stroke-width:0.8;\" x=\"216.06526\" xlink:href=\"#mcacf4355ac\" y=\"224.64\"/>\n      </g>\n     </g>\n     <g id=\"text_5\">\n      <!-- 4 -->\n      <defs>\n       <path d=\"M 37.796875 64.3125 \nL 12.890625 25.390625 \nL 37.796875 25.390625 \nz\nM 35.203125 72.90625 \nL 47.609375 72.90625 \nL 47.609375 25.390625 \nL 58.015625 25.390625 \nL 58.015625 17.1875 \nL 47.609375 17.1875 \nL 47.609375 0 \nL 37.796875 0 \nL 37.796875 17.1875 \nL 4.890625 17.1875 \nL 4.890625 26.703125 \nz\n\" id=\"DejaVuSans-52\"/>\n      </defs>\n      <g transform=\"translate(212.88401 239.238438)scale(0.1 -0.1)\">\n       <use xlink:href=\"#DejaVuSans-52\"/>\n      </g>\n     </g>\n    </g>\n    <g id=\"xtick_6\">\n     <g id=\"line2d_6\">\n      <g>\n       <use style=\"stroke:#000000;stroke-width:0.8;\" x=\"259.545779\" xlink:href=\"#mcacf4355ac\" y=\"224.64\"/>\n      </g>\n     </g>\n     <g id=\"text_6\">\n      <!-- 5 -->\n      <defs>\n       <path d=\"M 10.796875 72.90625 \nL 49.515625 72.90625 \nL 49.515625 64.59375 \nL 19.828125 64.59375 \nL 19.828125 46.734375 \nQ 21.96875 47.46875 24.109375 47.828125 \nQ 26.265625 48.1875 28.421875 48.1875 \nQ 40.625 48.1875 47.75 41.5 \nQ 54.890625 34.8125 54.890625 23.390625 \nQ 54.890625 11.625 47.5625 5.09375 \nQ 40.234375 -1.421875 26.90625 -1.421875 \nQ 22.3125 -1.421875 17.546875 -0.640625 \nQ 12.796875 0.140625 7.71875 1.703125 \nL 7.71875 11.625 \nQ 12.109375 9.234375 16.796875 8.0625 \nQ 21.484375 6.890625 26.703125 6.890625 \nQ 35.15625 6.890625 40.078125 11.328125 \nQ 45.015625 15.765625 45.015625 23.390625 \nQ 45.015625 31 40.078125 35.4375 \nQ 35.15625 39.890625 26.703125 39.890625 \nQ 22.75 39.890625 18.8125 39.015625 \nQ 14.890625 38.140625 10.796875 36.28125 \nz\n\" id=\"DejaVuSans-53\"/>\n      </defs>\n      <g transform=\"translate(256.364529 239.238438)scale(0.1 -0.1)\">\n       <use xlink:href=\"#DejaVuSans-53\"/>\n      </g>\n     </g>\n    </g>\n    <g id=\"xtick_7\">\n     <g id=\"line2d_7\">\n      <g>\n       <use style=\"stroke:#000000;stroke-width:0.8;\" x=\"303.026299\" xlink:href=\"#mcacf4355ac\" y=\"224.64\"/>\n      </g>\n     </g>\n     <g id=\"text_7\">\n      <!-- 6 -->\n      <defs>\n       <path d=\"M 33.015625 40.375 \nQ 26.375 40.375 22.484375 35.828125 \nQ 18.609375 31.296875 18.609375 23.390625 \nQ 18.609375 15.53125 22.484375 10.953125 \nQ 26.375 6.390625 33.015625 6.390625 \nQ 39.65625 6.390625 43.53125 10.953125 \nQ 47.40625 15.53125 47.40625 23.390625 \nQ 47.40625 31.296875 43.53125 35.828125 \nQ 39.65625 40.375 33.015625 40.375 \nz\nM 52.59375 71.296875 \nL 52.59375 62.3125 \nQ 48.875 64.0625 45.09375 64.984375 \nQ 41.3125 65.921875 37.59375 65.921875 \nQ 27.828125 65.921875 22.671875 59.328125 \nQ 17.53125 52.734375 16.796875 39.40625 \nQ 19.671875 43.65625 24.015625 45.921875 \nQ 28.375 48.1875 33.59375 48.1875 \nQ 44.578125 48.1875 50.953125 41.515625 \nQ 57.328125 34.859375 57.328125 23.390625 \nQ 57.328125 12.15625 50.6875 5.359375 \nQ 44.046875 -1.421875 33.015625 -1.421875 \nQ 20.359375 -1.421875 13.671875 8.265625 \nQ 6.984375 17.96875 6.984375 36.375 \nQ 6.984375 53.65625 15.1875 63.9375 \nQ 23.390625 74.21875 37.203125 74.21875 \nQ 40.921875 74.21875 44.703125 73.484375 \nQ 48.484375 72.75 52.59375 71.296875 \nz\n\" id=\"DejaVuSans-54\"/>\n      </defs>\n      <g transform=\"translate(299.845049 239.238438)scale(0.1 -0.1)\">\n       <use xlink:href=\"#DejaVuSans-54\"/>\n      </g>\n     </g>\n    </g>\n    <g id=\"xtick_8\">\n     <g id=\"line2d_8\">\n      <g>\n       <use style=\"stroke:#000000;stroke-width:0.8;\" x=\"346.506818\" xlink:href=\"#mcacf4355ac\" y=\"224.64\"/>\n      </g>\n     </g>\n     <g id=\"text_8\">\n      <!-- 7 -->\n      <defs>\n       <path d=\"M 8.203125 72.90625 \nL 55.078125 72.90625 \nL 55.078125 68.703125 \nL 28.609375 0 \nL 18.3125 0 \nL 43.21875 64.59375 \nL 8.203125 64.59375 \nz\n\" id=\"DejaVuSans-55\"/>\n      </defs>\n      <g transform=\"translate(343.325568 239.238438)scale(0.1 -0.1)\">\n       <use xlink:href=\"#DejaVuSans-55\"/>\n      </g>\n     </g>\n    </g>\n   </g>\n   <g id=\"matplotlib.axis_2\">\n    <g id=\"ytick_1\">\n     <g id=\"line2d_9\">\n      <defs>\n       <path d=\"M 0 0 \nL -3.5 0 \n\" id=\"m808bd0da50\" style=\"stroke:#000000;stroke-width:0.8;\"/>\n      </defs>\n      <g>\n       <use style=\"stroke:#000000;stroke-width:0.8;\" x=\"26.925\" xlink:href=\"#m808bd0da50\" y=\"219.992825\"/>\n      </g>\n     </g>\n     <g id=\"text_9\">\n      <!-- 0 -->\n      <g transform=\"translate(13.5625 223.792044)scale(0.1 -0.1)\">\n       <use xlink:href=\"#DejaVuSans-48\"/>\n      </g>\n     </g>\n    </g>\n    <g id=\"ytick_2\">\n     <g id=\"line2d_10\">\n      <g>\n       <use style=\"stroke:#000000;stroke-width:0.8;\" x=\"26.925\" xlink:href=\"#m808bd0da50\" y=\"184.469674\"/>\n      </g>\n     </g>\n     <g id=\"text_10\">\n      <!-- 5 -->\n      <g transform=\"translate(13.5625 188.268893)scale(0.1 -0.1)\">\n       <use xlink:href=\"#DejaVuSans-53\"/>\n      </g>\n     </g>\n    </g>\n    <g id=\"ytick_3\">\n     <g id=\"line2d_11\">\n      <g>\n       <use style=\"stroke:#000000;stroke-width:0.8;\" x=\"26.925\" xlink:href=\"#m808bd0da50\" y=\"148.946523\"/>\n      </g>\n     </g>\n     <g id=\"text_11\">\n      <!-- 10 -->\n      <g transform=\"translate(7.2 152.745742)scale(0.1 -0.1)\">\n       <use xlink:href=\"#DejaVuSans-49\"/>\n       <use x=\"63.623047\" xlink:href=\"#DejaVuSans-48\"/>\n      </g>\n     </g>\n    </g>\n    <g id=\"ytick_4\">\n     <g id=\"line2d_12\">\n      <g>\n       <use style=\"stroke:#000000;stroke-width:0.8;\" x=\"26.925\" xlink:href=\"#m808bd0da50\" y=\"113.423372\"/>\n      </g>\n     </g>\n     <g id=\"text_12\">\n      <!-- 15 -->\n      <g transform=\"translate(7.2 117.22259)scale(0.1 -0.1)\">\n       <use xlink:href=\"#DejaVuSans-49\"/>\n       <use x=\"63.623047\" xlink:href=\"#DejaVuSans-53\"/>\n      </g>\n     </g>\n    </g>\n    <g id=\"ytick_5\">\n     <g id=\"line2d_13\">\n      <g>\n       <use style=\"stroke:#000000;stroke-width:0.8;\" x=\"26.925\" xlink:href=\"#m808bd0da50\" y=\"77.90022\"/>\n      </g>\n     </g>\n     <g id=\"text_13\">\n      <!-- 20 -->\n      <g transform=\"translate(7.2 81.699439)scale(0.1 -0.1)\">\n       <use xlink:href=\"#DejaVuSans-50\"/>\n       <use x=\"63.623047\" xlink:href=\"#DejaVuSans-48\"/>\n      </g>\n     </g>\n    </g>\n    <g id=\"ytick_6\">\n     <g id=\"line2d_14\">\n      <g>\n       <use style=\"stroke:#000000;stroke-width:0.8;\" x=\"26.925\" xlink:href=\"#m808bd0da50\" y=\"42.377069\"/>\n      </g>\n     </g>\n     <g id=\"text_14\">\n      <!-- 25 -->\n      <g transform=\"translate(7.2 46.176288)scale(0.1 -0.1)\">\n       <use xlink:href=\"#DejaVuSans-50\"/>\n       <use x=\"63.623047\" xlink:href=\"#DejaVuSans-53\"/>\n      </g>\n     </g>\n    </g>\n   </g>\n   <g id=\"line2d_15\">\n    <path clip-path=\"url(#p834861a95d)\" d=\"M 42.143182 131.347215 \nL 85.623701 134.176121 \nL 129.104221 141.237292 \nL 172.58474 146.022692 \nL 216.06526 154.194766 \nL 259.545779 155.621322 \nL 303.026299 160.136665 \nL 346.506818 165.479692 \n\" style=\"fill:none;stroke:#1f77b4;stroke-linecap:square;stroke-width:1.5;\"/>\n   </g>\n   <g id=\"line2d_16\">\n    <path clip-path=\"url(#p834861a95d)\" d=\"M 42.143182 113.426016 \nL 85.623701 143.374179 \nL 129.104221 150.41321 \nL 172.58474 152.872723 \nL 216.06526 155.820924 \nL 259.545779 158.055015 \nL 303.026299 166.335068 \nL 346.506818 167.989464 \n\" style=\"fill:none;stroke:#ff7f0e;stroke-linecap:square;stroke-width:1.5;\"/>\n   </g>\n   <g id=\"line2d_17\">\n    <path clip-path=\"url(#p834861a95d)\" d=\"M 42.143182 93.597607 \nL 85.623701 156.58334 \nL 129.104221 157.490527 \nL 172.58474 161.624885 \nL 216.06526 163.404204 \nL 259.545779 168.502445 \nL 303.026299 173.756384 \nL 346.506818 178.001065 \n\" style=\"fill:none;stroke:#2ca02c;stroke-linecap:square;stroke-width:1.5;\"/>\n   </g>\n   <g id=\"line2d_18\">\n    <path clip-path=\"url(#p834861a95d)\" d=\"M 42.143182 46.7356 \nL 85.623701 169.328068 \nL 129.104221 170.712933 \nL 172.58474 174.711678 \nL 216.06526 175.937377 \nL 259.545779 177.502088 \nL 303.026299 181.837379 \nL 346.506818 183.66565 \n\" style=\"fill:none;stroke:#d62728;stroke-linecap:square;stroke-width:1.5;\"/>\n   </g>\n   <g id=\"line2d_19\">\n    <path clip-path=\"url(#p834861a95d)\" d=\"M 42.143182 63.508162 \nL 85.623701 182.720801 \nL 129.104221 183.508355 \nL 172.58474 185.434117 \nL 216.06526 188.034386 \nL 259.545779 191.047059 \nL 303.026299 192.119172 \nL 346.506818 195.173605 \n\" style=\"fill:none;stroke:#9467bd;stroke-linecap:square;stroke-width:1.5;\"/>\n   </g>\n   <g id=\"line2d_20\">\n    <path clip-path=\"url(#p834861a95d)\" d=\"M 42.143182 44.462786 \nL 85.623701 191.20637 \nL 129.104221 193.29913 \nL 172.58474 195.126109 \nL 216.06526 196.787303 \nL 259.545779 199.362137 \nL 303.026299 201.720456 \nL 346.506818 203.206407 \n\" style=\"fill:none;stroke:#8c564b;stroke-linecap:square;stroke-width:1.5;\"/>\n   </g>\n   <g id=\"line2d_21\">\n    <path clip-path=\"url(#p834861a95d)\" d=\"M 42.143182 41.455617 \nL 85.623701 201.375008 \nL 129.104221 201.421871 \nL 172.58474 203.321722 \nL 216.06526 204.147132 \nL 259.545779 205.019094 \nL 303.026299 206.11942 \nL 346.506818 206.8607 \n\" style=\"fill:none;stroke:#e377c2;stroke-linecap:square;stroke-width:1.5;\"/>\n   </g>\n   <g id=\"line2d_22\">\n    <path clip-path=\"url(#p834861a95d)\" d=\"M 42.143182 17.083636 \nL 85.623701 211.198306 \nL 129.104221 212.124406 \nL 172.58474 212.763654 \nL 216.06526 212.807992 \nL 259.545779 213.283852 \nL 303.026299 213.907069 \nL 346.506818 214.756364 \n\" style=\"fill:none;stroke:#7f7f7f;stroke-linecap:square;stroke-width:1.5;\"/>\n   </g>\n   <g id=\"patch_3\">\n    <path d=\"M 26.925 224.64 \nL 26.925 7.2 \n\" style=\"fill:none;stroke:#000000;stroke-linecap:square;stroke-linejoin:miter;stroke-width:0.8;\"/>\n   </g>\n   <g id=\"patch_4\">\n    <path d=\"M 361.725 224.64 \nL 361.725 7.2 \n\" style=\"fill:none;stroke:#000000;stroke-linecap:square;stroke-linejoin:miter;stroke-width:0.8;\"/>\n   </g>\n   <g id=\"patch_5\">\n    <path d=\"M 26.925 224.64 \nL 361.725 224.64 \n\" style=\"fill:none;stroke:#000000;stroke-linecap:square;stroke-linejoin:miter;stroke-width:0.8;\"/>\n   </g>\n   <g id=\"patch_6\">\n    <path d=\"M 26.925 7.2 \nL 361.725 7.2 \n\" style=\"fill:none;stroke:#000000;stroke-linecap:square;stroke-linejoin:miter;stroke-width:0.8;\"/>\n   </g>\n   <g id=\"legend_1\">\n    <g id=\"patch_7\">\n     <path d=\"M 300.459375 132.625 \nL 354.725 132.625 \nQ 356.725 132.625 356.725 130.625 \nL 356.725 14.2 \nQ 356.725 12.2 354.725 12.2 \nL 300.459375 12.2 \nQ 298.459375 12.2 298.459375 14.2 \nL 298.459375 130.625 \nQ 298.459375 132.625 300.459375 132.625 \nz\n\" style=\"fill:#ffffff;opacity:0.8;stroke:#cccccc;stroke-linejoin:miter;\"/>\n    </g>\n    <g id=\"line2d_23\">\n     <path d=\"M 302.459375 20.298437 \nL 322.459375 20.298437 \n\" style=\"fill:none;stroke:#1f77b4;stroke-linecap:square;stroke-width:1.5;\"/>\n    </g>\n    <g id=\"line2d_24\"/>\n    <g id=\"text_15\">\n     <!-- 0 -->\n     <g transform=\"translate(330.459375 23.798437)scale(0.1 -0.1)\">\n      <use xlink:href=\"#DejaVuSans-48\"/>\n     </g>\n    </g>\n    <g id=\"line2d_25\">\n     <path d=\"M 302.459375 34.976562 \nL 322.459375 34.976562 \n\" style=\"fill:none;stroke:#ff7f0e;stroke-linecap:square;stroke-width:1.5;\"/>\n    </g>\n    <g id=\"line2d_26\"/>\n    <g id=\"text_16\">\n     <!-- 0.2 -->\n     <defs>\n      <path d=\"M 10.6875 12.40625 \nL 21 12.40625 \nL 21 0 \nL 10.6875 0 \nz\n\" id=\"DejaVuSans-46\"/>\n     </defs>\n     <g transform=\"translate(330.459375 38.476562)scale(0.1 -0.1)\">\n      <use xlink:href=\"#DejaVuSans-48\"/>\n      <use x=\"63.623047\" xlink:href=\"#DejaVuSans-46\"/>\n      <use x=\"95.410156\" xlink:href=\"#DejaVuSans-50\"/>\n     </g>\n    </g>\n    <g id=\"line2d_27\">\n     <path d=\"M 302.459375 49.654687 \nL 322.459375 49.654687 \n\" style=\"fill:none;stroke:#2ca02c;stroke-linecap:square;stroke-width:1.5;\"/>\n    </g>\n    <g id=\"line2d_28\"/>\n    <g id=\"text_17\">\n     <!-- 0.4 -->\n     <g transform=\"translate(330.459375 53.154687)scale(0.1 -0.1)\">\n      <use xlink:href=\"#DejaVuSans-48\"/>\n      <use x=\"63.623047\" xlink:href=\"#DejaVuSans-46\"/>\n      <use x=\"95.410156\" xlink:href=\"#DejaVuSans-52\"/>\n     </g>\n    </g>\n    <g id=\"line2d_29\">\n     <path d=\"M 302.459375 64.332812 \nL 322.459375 64.332812 \n\" style=\"fill:none;stroke:#d62728;stroke-linecap:square;stroke-width:1.5;\"/>\n    </g>\n    <g id=\"line2d_30\"/>\n    <g id=\"text_18\">\n     <!-- 0.6 -->\n     <g transform=\"translate(330.459375 67.832812)scale(0.1 -0.1)\">\n      <use xlink:href=\"#DejaVuSans-48\"/>\n      <use x=\"63.623047\" xlink:href=\"#DejaVuSans-46\"/>\n      <use x=\"95.410156\" xlink:href=\"#DejaVuSans-54\"/>\n     </g>\n    </g>\n    <g id=\"line2d_31\">\n     <path d=\"M 302.459375 79.010937 \nL 322.459375 79.010937 \n\" style=\"fill:none;stroke:#9467bd;stroke-linecap:square;stroke-width:1.5;\"/>\n    </g>\n    <g id=\"line2d_32\"/>\n    <g id=\"text_19\">\n     <!-- 0.8 -->\n     <defs>\n      <path d=\"M 31.78125 34.625 \nQ 24.75 34.625 20.71875 30.859375 \nQ 16.703125 27.09375 16.703125 20.515625 \nQ 16.703125 13.921875 20.71875 10.15625 \nQ 24.75 6.390625 31.78125 6.390625 \nQ 38.8125 6.390625 42.859375 10.171875 \nQ 46.921875 13.96875 46.921875 20.515625 \nQ 46.921875 27.09375 42.890625 30.859375 \nQ 38.875 34.625 31.78125 34.625 \nz\nM 21.921875 38.8125 \nQ 15.578125 40.375 12.03125 44.71875 \nQ 8.5 49.078125 8.5 55.328125 \nQ 8.5 64.0625 14.71875 69.140625 \nQ 20.953125 74.21875 31.78125 74.21875 \nQ 42.671875 74.21875 48.875 69.140625 \nQ 55.078125 64.0625 55.078125 55.328125 \nQ 55.078125 49.078125 51.53125 44.71875 \nQ 48 40.375 41.703125 38.8125 \nQ 48.828125 37.15625 52.796875 32.3125 \nQ 56.78125 27.484375 56.78125 20.515625 \nQ 56.78125 9.90625 50.3125 4.234375 \nQ 43.84375 -1.421875 31.78125 -1.421875 \nQ 19.734375 -1.421875 13.25 4.234375 \nQ 6.78125 9.90625 6.78125 20.515625 \nQ 6.78125 27.484375 10.78125 32.3125 \nQ 14.796875 37.15625 21.921875 38.8125 \nz\nM 18.3125 54.390625 \nQ 18.3125 48.734375 21.84375 45.5625 \nQ 25.390625 42.390625 31.78125 42.390625 \nQ 38.140625 42.390625 41.71875 45.5625 \nQ 45.3125 48.734375 45.3125 54.390625 \nQ 45.3125 60.0625 41.71875 63.234375 \nQ 38.140625 66.40625 31.78125 66.40625 \nQ 25.390625 66.40625 21.84375 63.234375 \nQ 18.3125 60.0625 18.3125 54.390625 \nz\n\" id=\"DejaVuSans-56\"/>\n     </defs>\n     <g transform=\"translate(330.459375 82.510937)scale(0.1 -0.1)\">\n      <use xlink:href=\"#DejaVuSans-48\"/>\n      <use x=\"63.623047\" xlink:href=\"#DejaVuSans-46\"/>\n      <use x=\"95.410156\" xlink:href=\"#DejaVuSans-56\"/>\n     </g>\n    </g>\n    <g id=\"line2d_33\">\n     <path d=\"M 302.459375 93.689062 \nL 322.459375 93.689062 \n\" style=\"fill:none;stroke:#8c564b;stroke-linecap:square;stroke-width:1.5;\"/>\n    </g>\n    <g id=\"line2d_34\"/>\n    <g id=\"text_20\">\n     <!-- 0.9 -->\n     <defs>\n      <path d=\"M 10.984375 1.515625 \nL 10.984375 10.5 \nQ 14.703125 8.734375 18.5 7.8125 \nQ 22.3125 6.890625 25.984375 6.890625 \nQ 35.75 6.890625 40.890625 13.453125 \nQ 46.046875 20.015625 46.78125 33.40625 \nQ 43.953125 29.203125 39.59375 26.953125 \nQ 35.25 24.703125 29.984375 24.703125 \nQ 19.046875 24.703125 12.671875 31.3125 \nQ 6.296875 37.9375 6.296875 49.421875 \nQ 6.296875 60.640625 12.9375 67.421875 \nQ 19.578125 74.21875 30.609375 74.21875 \nQ 43.265625 74.21875 49.921875 64.515625 \nQ 56.59375 54.828125 56.59375 36.375 \nQ 56.59375 19.140625 48.40625 8.859375 \nQ 40.234375 -1.421875 26.421875 -1.421875 \nQ 22.703125 -1.421875 18.890625 -0.6875 \nQ 15.09375 0.046875 10.984375 1.515625 \nz\nM 30.609375 32.421875 \nQ 37.25 32.421875 41.125 36.953125 \nQ 45.015625 41.5 45.015625 49.421875 \nQ 45.015625 57.28125 41.125 61.84375 \nQ 37.25 66.40625 30.609375 66.40625 \nQ 23.96875 66.40625 20.09375 61.84375 \nQ 16.21875 57.28125 16.21875 49.421875 \nQ 16.21875 41.5 20.09375 36.953125 \nQ 23.96875 32.421875 30.609375 32.421875 \nz\n\" id=\"DejaVuSans-57\"/>\n     </defs>\n     <g transform=\"translate(330.459375 97.189062)scale(0.1 -0.1)\">\n      <use xlink:href=\"#DejaVuSans-48\"/>\n      <use x=\"63.623047\" xlink:href=\"#DejaVuSans-46\"/>\n      <use x=\"95.410156\" xlink:href=\"#DejaVuSans-57\"/>\n     </g>\n    </g>\n    <g id=\"line2d_35\">\n     <path d=\"M 302.459375 108.367187 \nL 322.459375 108.367187 \n\" style=\"fill:none;stroke:#e377c2;stroke-linecap:square;stroke-width:1.5;\"/>\n    </g>\n    <g id=\"line2d_36\"/>\n    <g id=\"text_21\">\n     <!-- 0.95 -->\n     <g transform=\"translate(330.459375 111.867187)scale(0.1 -0.1)\">\n      <use xlink:href=\"#DejaVuSans-48\"/>\n      <use x=\"63.623047\" xlink:href=\"#DejaVuSans-46\"/>\n      <use x=\"95.410156\" xlink:href=\"#DejaVuSans-57\"/>\n      <use x=\"159.033203\" xlink:href=\"#DejaVuSans-53\"/>\n     </g>\n    </g>\n    <g id=\"line2d_37\">\n     <path d=\"M 302.459375 123.045312 \nL 322.459375 123.045312 \n\" style=\"fill:none;stroke:#7f7f7f;stroke-linecap:square;stroke-width:1.5;\"/>\n    </g>\n    <g id=\"line2d_38\"/>\n    <g id=\"text_22\">\n     <!-- 0.99 -->\n     <g transform=\"translate(330.459375 126.545312)scale(0.1 -0.1)\">\n      <use xlink:href=\"#DejaVuSans-48\"/>\n      <use x=\"63.623047\" xlink:href=\"#DejaVuSans-46\"/>\n      <use x=\"95.410156\" xlink:href=\"#DejaVuSans-57\"/>\n      <use x=\"159.033203\" xlink:href=\"#DejaVuSans-57\"/>\n     </g>\n    </g>\n   </g>\n  </g>\n </g>\n <defs>\n  <clipPath id=\"p834861a95d\">\n   <rect height=\"217.44\" width=\"334.8\" x=\"26.925\" y=\"7.2\"/>\n  </clipPath>\n </defs>\n</svg>\n",
      "image/png": "[encoded data removed]"
     },
     "metadata": {
      "needs_background": "light"
     }
    }
   ],
   "source": [
    "# my answer to exercise 3.3\n",
    "import scipy as sc\n",
    "Rhos = [0,.2,.4,.6,.8,.9,.95,.99]\n",
    "\n",
    "def singValcal(**kwargs):\n",
    "    X, _ = sim_corr_lm(**kwargs)\n",
    "    _,d,_ = sc.linalg.svd(X)\n",
    "    return d\n",
    "singValVar = [singValcal(n=n, p=p,rho=rho, beta=beta, sigma=sigma) for rho in Rhos]\n",
    "singValVar_arr = np.asarray(singValVar)\n",
    "lineObjects = plt.plot(singValVar_arr.transpose())\n",
    "plt.legend(iter(lineObjects), Rhos)\n",
    ""
   ]
  },
  {
   "cell_type": "code",
   "execution_count": 77,
   "metadata": {
    "slideshow": {
     "slide_type": "slide"
    }
   },
   "outputs": [],
   "source": [
    "## Sample coefficients with different rho and store singular values and beta variances\n",
    "Rhos = [0,.2,.4,.6,.8,.9,.95,.99]\n",
    "res_mat = []\n",
    "for rho in Rhos:\n",
    "    X, y = sim_corr_lm(n,p,rho,beta,sigma)\n",
    "    U,d,Vt = sc.linalg.svd(X)\n",
    "    res_mat += [d]\n",
    "\n",
    ""
   ]
  },
  {
   "cell_type": "code",
   "execution_count": 78,
   "metadata": {
    "slideshow": {
     "slide_type": "slide"
    }
   },
   "outputs": [
    {
     "output_type": "display_data",
     "data": {
      "text/plain": "<Figure size 432x288 with 1 Axes>",
      "image/svg+xml": "<?xml version=\"1.0\" encoding=\"utf-8\" standalone=\"no\"?>\n<!DOCTYPE svg PUBLIC \"-//W3C//DTD SVG 1.1//EN\"\n  \"http://www.w3.org/Graphics/SVG/1.1/DTD/svg11.dtd\">\n<!-- Created with matplotlib (https://matplotlib.org/) -->\n<svg height=\"262.19625pt\" version=\"1.1\" viewBox=\"0 0 368.925 262.19625\" width=\"368.925pt\" xmlns=\"http://www.w3.org/2000/svg\" xmlns:xlink=\"http://www.w3.org/1999/xlink\">\n <defs>\n  <style type=\"text/css\">\n*{stroke-linecap:butt;stroke-linejoin:round;}\n  </style>\n </defs>\n <g id=\"figure_1\">\n  <g id=\"patch_1\">\n   <path d=\"M -0 262.19625 \nL 368.925 262.19625 \nL 368.925 0 \nL -0 0 \nz\n\" style=\"fill:none;\"/>\n  </g>\n  <g id=\"axes_1\">\n   <g id=\"patch_2\">\n    <path d=\"M 26.925 224.64 \nL 361.725 224.64 \nL 361.725 7.2 \nL 26.925 7.2 \nz\n\" style=\"fill:#ffffff;\"/>\n   </g>\n   <g id=\"matplotlib.axis_1\">\n    <g id=\"xtick_1\">\n     <g id=\"line2d_1\">\n      <defs>\n       <path d=\"M 0 0 \nL 0 3.5 \n\" id=\"m6963214809\" style=\"stroke:#000000;stroke-width:0.8;\"/>\n      </defs>\n      <g>\n       <use style=\"stroke:#000000;stroke-width:0.8;\" x=\"42.143182\" xlink:href=\"#m6963214809\" y=\"224.64\"/>\n      </g>\n     </g>\n     <g id=\"text_1\">\n      <!-- 0 -->\n      <defs>\n       <path d=\"M 31.78125 66.40625 \nQ 24.171875 66.40625 20.328125 58.90625 \nQ 16.5 51.421875 16.5 36.375 \nQ 16.5 21.390625 20.328125 13.890625 \nQ 24.171875 6.390625 31.78125 6.390625 \nQ 39.453125 6.390625 43.28125 13.890625 \nQ 47.125 21.390625 47.125 36.375 \nQ 47.125 51.421875 43.28125 58.90625 \nQ 39.453125 66.40625 31.78125 66.40625 \nz\nM 31.78125 74.21875 \nQ 44.046875 74.21875 50.515625 64.515625 \nQ 56.984375 54.828125 56.984375 36.375 \nQ 56.984375 17.96875 50.515625 8.265625 \nQ 44.046875 -1.421875 31.78125 -1.421875 \nQ 19.53125 -1.421875 13.0625 8.265625 \nQ 6.59375 17.96875 6.59375 36.375 \nQ 6.59375 54.828125 13.0625 64.515625 \nQ 19.53125 74.21875 31.78125 74.21875 \nz\n\" id=\"DejaVuSans-48\"/>\n      </defs>\n      <g transform=\"translate(38.961932 239.238438)scale(0.1 -0.1)\">\n       <use xlink:href=\"#DejaVuSans-48\"/>\n      </g>\n     </g>\n    </g>\n    <g id=\"xtick_2\">\n     <g id=\"line2d_2\">\n      <g>\n       <use style=\"stroke:#000000;stroke-width:0.8;\" x=\"85.623701\" xlink:href=\"#m6963214809\" y=\"224.64\"/>\n      </g>\n     </g>\n     <g id=\"text_2\">\n      <!-- 1 -->\n      <defs>\n       <path d=\"M 12.40625 8.296875 \nL 28.515625 8.296875 \nL 28.515625 63.921875 \nL 10.984375 60.40625 \nL 10.984375 69.390625 \nL 28.421875 72.90625 \nL 38.28125 72.90625 \nL 38.28125 8.296875 \nL 54.390625 8.296875 \nL 54.390625 0 \nL 12.40625 0 \nz\n\" id=\"DejaVuSans-49\"/>\n      </defs>\n      <g transform=\"translate(82.442451 239.238438)scale(0.1 -0.1)\">\n       <use xlink:href=\"#DejaVuSans-49\"/>\n      </g>\n     </g>\n    </g>\n    <g id=\"xtick_3\">\n     <g id=\"line2d_3\">\n      <g>\n       <use style=\"stroke:#000000;stroke-width:0.8;\" x=\"129.104221\" xlink:href=\"#m6963214809\" y=\"224.64\"/>\n      </g>\n     </g>\n     <g id=\"text_3\">\n      <!-- 2 -->\n      <defs>\n       <path d=\"M 19.1875 8.296875 \nL 53.609375 8.296875 \nL 53.609375 0 \nL 7.328125 0 \nL 7.328125 8.296875 \nQ 12.9375 14.109375 22.625 23.890625 \nQ 32.328125 33.6875 34.8125 36.53125 \nQ 39.546875 41.84375 41.421875 45.53125 \nQ 43.3125 49.21875 43.3125 52.78125 \nQ 43.3125 58.59375 39.234375 62.25 \nQ 35.15625 65.921875 28.609375 65.921875 \nQ 23.96875 65.921875 18.8125 64.3125 \nQ 13.671875 62.703125 7.8125 59.421875 \nL 7.8125 69.390625 \nQ 13.765625 71.78125 18.9375 73 \nQ 24.125 74.21875 28.421875 74.21875 \nQ 39.75 74.21875 46.484375 68.546875 \nQ 53.21875 62.890625 53.21875 53.421875 \nQ 53.21875 48.921875 51.53125 44.890625 \nQ 49.859375 40.875 45.40625 35.40625 \nQ 44.1875 33.984375 37.640625 27.21875 \nQ 31.109375 20.453125 19.1875 8.296875 \nz\n\" id=\"DejaVuSans-50\"/>\n      </defs>\n      <g transform=\"translate(125.922971 239.238438)scale(0.1 -0.1)\">\n       <use xlink:href=\"#DejaVuSans-50\"/>\n      </g>\n     </g>\n    </g>\n    <g id=\"xtick_4\">\n     <g id=\"line2d_4\">\n      <g>\n       <use style=\"stroke:#000000;stroke-width:0.8;\" x=\"172.58474\" xlink:href=\"#m6963214809\" y=\"224.64\"/>\n      </g>\n     </g>\n     <g id=\"text_4\">\n      <!-- 3 -->\n      <defs>\n       <path d=\"M 40.578125 39.3125 \nQ 47.65625 37.796875 51.625 33 \nQ 55.609375 28.21875 55.609375 21.1875 \nQ 55.609375 10.40625 48.1875 4.484375 \nQ 40.765625 -1.421875 27.09375 -1.421875 \nQ 22.515625 -1.421875 17.65625 -0.515625 \nQ 12.796875 0.390625 7.625 2.203125 \nL 7.625 11.71875 \nQ 11.71875 9.328125 16.59375 8.109375 \nQ 21.484375 6.890625 26.8125 6.890625 \nQ 36.078125 6.890625 40.9375 10.546875 \nQ 45.796875 14.203125 45.796875 21.1875 \nQ 45.796875 27.640625 41.28125 31.265625 \nQ 36.765625 34.90625 28.71875 34.90625 \nL 20.21875 34.90625 \nL 20.21875 43.015625 \nL 29.109375 43.015625 \nQ 36.375 43.015625 40.234375 45.921875 \nQ 44.09375 48.828125 44.09375 54.296875 \nQ 44.09375 59.90625 40.109375 62.90625 \nQ 36.140625 65.921875 28.71875 65.921875 \nQ 24.65625 65.921875 20.015625 65.03125 \nQ 15.375 64.15625 9.8125 62.3125 \nL 9.8125 71.09375 \nQ 15.4375 72.65625 20.34375 73.4375 \nQ 25.25 74.21875 29.59375 74.21875 \nQ 40.828125 74.21875 47.359375 69.109375 \nQ 53.90625 64.015625 53.90625 55.328125 \nQ 53.90625 49.265625 50.4375 45.09375 \nQ 46.96875 40.921875 40.578125 39.3125 \nz\n\" id=\"DejaVuSans-51\"/>\n      </defs>\n      <g transform=\"translate(169.40349 239.238438)scale(0.1 -0.1)\">\n       <use xlink:href=\"#DejaVuSans-51\"/>\n      </g>\n     </g>\n    </g>\n    <g id=\"xtick_5\">\n     <g id=\"line2d_5\">\n      <g>\n       <use style=\"stroke:#000000;stroke-width:0.8;\" x=\"216.06526\" xlink:href=\"#m6963214809\" y=\"224.64\"/>\n      </g>\n     </g>\n     <g id=\"text_5\">\n      <!-- 4 -->\n      <defs>\n       <path d=\"M 37.796875 64.3125 \nL 12.890625 25.390625 \nL 37.796875 25.390625 \nz\nM 35.203125 72.90625 \nL 47.609375 72.90625 \nL 47.609375 25.390625 \nL 58.015625 25.390625 \nL 58.015625 17.1875 \nL 47.609375 17.1875 \nL 47.609375 0 \nL 37.796875 0 \nL 37.796875 17.1875 \nL 4.890625 17.1875 \nL 4.890625 26.703125 \nz\n\" id=\"DejaVuSans-52\"/>\n      </defs>\n      <g transform=\"translate(212.88401 239.238438)scale(0.1 -0.1)\">\n       <use xlink:href=\"#DejaVuSans-52\"/>\n      </g>\n     </g>\n    </g>\n    <g id=\"xtick_6\">\n     <g id=\"line2d_6\">\n      <g>\n       <use style=\"stroke:#000000;stroke-width:0.8;\" x=\"259.545779\" xlink:href=\"#m6963214809\" y=\"224.64\"/>\n      </g>\n     </g>\n     <g id=\"text_6\">\n      <!-- 5 -->\n      <defs>\n       <path d=\"M 10.796875 72.90625 \nL 49.515625 72.90625 \nL 49.515625 64.59375 \nL 19.828125 64.59375 \nL 19.828125 46.734375 \nQ 21.96875 47.46875 24.109375 47.828125 \nQ 26.265625 48.1875 28.421875 48.1875 \nQ 40.625 48.1875 47.75 41.5 \nQ 54.890625 34.8125 54.890625 23.390625 \nQ 54.890625 11.625 47.5625 5.09375 \nQ 40.234375 -1.421875 26.90625 -1.421875 \nQ 22.3125 -1.421875 17.546875 -0.640625 \nQ 12.796875 0.140625 7.71875 1.703125 \nL 7.71875 11.625 \nQ 12.109375 9.234375 16.796875 8.0625 \nQ 21.484375 6.890625 26.703125 6.890625 \nQ 35.15625 6.890625 40.078125 11.328125 \nQ 45.015625 15.765625 45.015625 23.390625 \nQ 45.015625 31 40.078125 35.4375 \nQ 35.15625 39.890625 26.703125 39.890625 \nQ 22.75 39.890625 18.8125 39.015625 \nQ 14.890625 38.140625 10.796875 36.28125 \nz\n\" id=\"DejaVuSans-53\"/>\n      </defs>\n      <g transform=\"translate(256.364529 239.238438)scale(0.1 -0.1)\">\n       <use xlink:href=\"#DejaVuSans-53\"/>\n      </g>\n     </g>\n    </g>\n    <g id=\"xtick_7\">\n     <g id=\"line2d_7\">\n      <g>\n       <use style=\"stroke:#000000;stroke-width:0.8;\" x=\"303.026299\" xlink:href=\"#m6963214809\" y=\"224.64\"/>\n      </g>\n     </g>\n     <g id=\"text_7\">\n      <!-- 6 -->\n      <defs>\n       <path d=\"M 33.015625 40.375 \nQ 26.375 40.375 22.484375 35.828125 \nQ 18.609375 31.296875 18.609375 23.390625 \nQ 18.609375 15.53125 22.484375 10.953125 \nQ 26.375 6.390625 33.015625 6.390625 \nQ 39.65625 6.390625 43.53125 10.953125 \nQ 47.40625 15.53125 47.40625 23.390625 \nQ 47.40625 31.296875 43.53125 35.828125 \nQ 39.65625 40.375 33.015625 40.375 \nz\nM 52.59375 71.296875 \nL 52.59375 62.3125 \nQ 48.875 64.0625 45.09375 64.984375 \nQ 41.3125 65.921875 37.59375 65.921875 \nQ 27.828125 65.921875 22.671875 59.328125 \nQ 17.53125 52.734375 16.796875 39.40625 \nQ 19.671875 43.65625 24.015625 45.921875 \nQ 28.375 48.1875 33.59375 48.1875 \nQ 44.578125 48.1875 50.953125 41.515625 \nQ 57.328125 34.859375 57.328125 23.390625 \nQ 57.328125 12.15625 50.6875 5.359375 \nQ 44.046875 -1.421875 33.015625 -1.421875 \nQ 20.359375 -1.421875 13.671875 8.265625 \nQ 6.984375 17.96875 6.984375 36.375 \nQ 6.984375 53.65625 15.1875 63.9375 \nQ 23.390625 74.21875 37.203125 74.21875 \nQ 40.921875 74.21875 44.703125 73.484375 \nQ 48.484375 72.75 52.59375 71.296875 \nz\n\" id=\"DejaVuSans-54\"/>\n      </defs>\n      <g transform=\"translate(299.845049 239.238438)scale(0.1 -0.1)\">\n       <use xlink:href=\"#DejaVuSans-54\"/>\n      </g>\n     </g>\n    </g>\n    <g id=\"xtick_8\">\n     <g id=\"line2d_8\">\n      <g>\n       <use style=\"stroke:#000000;stroke-width:0.8;\" x=\"346.506818\" xlink:href=\"#m6963214809\" y=\"224.64\"/>\n      </g>\n     </g>\n     <g id=\"text_8\">\n      <!-- 7 -->\n      <defs>\n       <path d=\"M 8.203125 72.90625 \nL 55.078125 72.90625 \nL 55.078125 68.703125 \nL 28.609375 0 \nL 18.3125 0 \nL 43.21875 64.59375 \nL 8.203125 64.59375 \nz\n\" id=\"DejaVuSans-55\"/>\n      </defs>\n      <g transform=\"translate(343.325568 239.238438)scale(0.1 -0.1)\">\n       <use xlink:href=\"#DejaVuSans-55\"/>\n      </g>\n     </g>\n    </g>\n    <g id=\"text_9\">\n     <!-- singular value index -->\n     <defs>\n      <path d=\"M 44.28125 53.078125 \nL 44.28125 44.578125 \nQ 40.484375 46.53125 36.375 47.5 \nQ 32.28125 48.484375 27.875 48.484375 \nQ 21.1875 48.484375 17.84375 46.4375 \nQ 14.5 44.390625 14.5 40.28125 \nQ 14.5 37.15625 16.890625 35.375 \nQ 19.28125 33.59375 26.515625 31.984375 \nL 29.59375 31.296875 \nQ 39.15625 29.25 43.1875 25.515625 \nQ 47.21875 21.78125 47.21875 15.09375 \nQ 47.21875 7.46875 41.1875 3.015625 \nQ 35.15625 -1.421875 24.609375 -1.421875 \nQ 20.21875 -1.421875 15.453125 -0.5625 \nQ 10.6875 0.296875 5.421875 2 \nL 5.421875 11.28125 \nQ 10.40625 8.6875 15.234375 7.390625 \nQ 20.0625 6.109375 24.8125 6.109375 \nQ 31.15625 6.109375 34.5625 8.28125 \nQ 37.984375 10.453125 37.984375 14.40625 \nQ 37.984375 18.0625 35.515625 20.015625 \nQ 33.0625 21.96875 24.703125 23.78125 \nL 21.578125 24.515625 \nQ 13.234375 26.265625 9.515625 29.90625 \nQ 5.8125 33.546875 5.8125 39.890625 \nQ 5.8125 47.609375 11.28125 51.796875 \nQ 16.75 56 26.8125 56 \nQ 31.78125 56 36.171875 55.265625 \nQ 40.578125 54.546875 44.28125 53.078125 \nz\n\" id=\"DejaVuSans-115\"/>\n      <path d=\"M 9.421875 54.6875 \nL 18.40625 54.6875 \nL 18.40625 0 \nL 9.421875 0 \nz\nM 9.421875 75.984375 \nL 18.40625 75.984375 \nL 18.40625 64.59375 \nL 9.421875 64.59375 \nz\n\" id=\"DejaVuSans-105\"/>\n      <path d=\"M 54.890625 33.015625 \nL 54.890625 0 \nL 45.90625 0 \nL 45.90625 32.71875 \nQ 45.90625 40.484375 42.875 44.328125 \nQ 39.84375 48.1875 33.796875 48.1875 \nQ 26.515625 48.1875 22.3125 43.546875 \nQ 18.109375 38.921875 18.109375 30.90625 \nL 18.109375 0 \nL 9.078125 0 \nL 9.078125 54.6875 \nL 18.109375 54.6875 \nL 18.109375 46.1875 \nQ 21.34375 51.125 25.703125 53.5625 \nQ 30.078125 56 35.796875 56 \nQ 45.21875 56 50.046875 50.171875 \nQ 54.890625 44.34375 54.890625 33.015625 \nz\n\" id=\"DejaVuSans-110\"/>\n      <path d=\"M 45.40625 27.984375 \nQ 45.40625 37.75 41.375 43.109375 \nQ 37.359375 48.484375 30.078125 48.484375 \nQ 22.859375 48.484375 18.828125 43.109375 \nQ 14.796875 37.75 14.796875 27.984375 \nQ 14.796875 18.265625 18.828125 12.890625 \nQ 22.859375 7.515625 30.078125 7.515625 \nQ 37.359375 7.515625 41.375 12.890625 \nQ 45.40625 18.265625 45.40625 27.984375 \nz\nM 54.390625 6.78125 \nQ 54.390625 -7.171875 48.1875 -13.984375 \nQ 42 -20.796875 29.203125 -20.796875 \nQ 24.46875 -20.796875 20.265625 -20.09375 \nQ 16.0625 -19.390625 12.109375 -17.921875 \nL 12.109375 -9.1875 \nQ 16.0625 -11.328125 19.921875 -12.34375 \nQ 23.78125 -13.375 27.78125 -13.375 \nQ 36.625 -13.375 41.015625 -8.765625 \nQ 45.40625 -4.15625 45.40625 5.171875 \nL 45.40625 9.625 \nQ 42.625 4.78125 38.28125 2.390625 \nQ 33.9375 0 27.875 0 \nQ 17.828125 0 11.671875 7.65625 \nQ 5.515625 15.328125 5.515625 27.984375 \nQ 5.515625 40.671875 11.671875 48.328125 \nQ 17.828125 56 27.875 56 \nQ 33.9375 56 38.28125 53.609375 \nQ 42.625 51.21875 45.40625 46.390625 \nL 45.40625 54.6875 \nL 54.390625 54.6875 \nz\n\" id=\"DejaVuSans-103\"/>\n      <path d=\"M 8.5 21.578125 \nL 8.5 54.6875 \nL 17.484375 54.6875 \nL 17.484375 21.921875 \nQ 17.484375 14.15625 20.5 10.265625 \nQ 23.53125 6.390625 29.59375 6.390625 \nQ 36.859375 6.390625 41.078125 11.03125 \nQ 45.3125 15.671875 45.3125 23.6875 \nL 45.3125 54.6875 \nL 54.296875 54.6875 \nL 54.296875 0 \nL 45.3125 0 \nL 45.3125 8.40625 \nQ 42.046875 3.421875 37.71875 1 \nQ 33.40625 -1.421875 27.6875 -1.421875 \nQ 18.265625 -1.421875 13.375 4.4375 \nQ 8.5 10.296875 8.5 21.578125 \nz\nM 31.109375 56 \nz\n\" id=\"DejaVuSans-117\"/>\n      <path d=\"M 9.421875 75.984375 \nL 18.40625 75.984375 \nL 18.40625 0 \nL 9.421875 0 \nz\n\" id=\"DejaVuSans-108\"/>\n      <path d=\"M 34.28125 27.484375 \nQ 23.390625 27.484375 19.1875 25 \nQ 14.984375 22.515625 14.984375 16.5 \nQ 14.984375 11.71875 18.140625 8.90625 \nQ 21.296875 6.109375 26.703125 6.109375 \nQ 34.1875 6.109375 38.703125 11.40625 \nQ 43.21875 16.703125 43.21875 25.484375 \nL 43.21875 27.484375 \nz\nM 52.203125 31.203125 \nL 52.203125 0 \nL 43.21875 0 \nL 43.21875 8.296875 \nQ 40.140625 3.328125 35.546875 0.953125 \nQ 30.953125 -1.421875 24.3125 -1.421875 \nQ 15.921875 -1.421875 10.953125 3.296875 \nQ 6 8.015625 6 15.921875 \nQ 6 25.140625 12.171875 29.828125 \nQ 18.359375 34.515625 30.609375 34.515625 \nL 43.21875 34.515625 \nL 43.21875 35.40625 \nQ 43.21875 41.609375 39.140625 45 \nQ 35.0625 48.390625 27.6875 48.390625 \nQ 23 48.390625 18.546875 47.265625 \nQ 14.109375 46.140625 10.015625 43.890625 \nL 10.015625 52.203125 \nQ 14.9375 54.109375 19.578125 55.046875 \nQ 24.21875 56 28.609375 56 \nQ 40.484375 56 46.34375 49.84375 \nQ 52.203125 43.703125 52.203125 31.203125 \nz\n\" id=\"DejaVuSans-97\"/>\n      <path d=\"M 41.109375 46.296875 \nQ 39.59375 47.171875 37.8125 47.578125 \nQ 36.03125 48 33.890625 48 \nQ 26.265625 48 22.1875 43.046875 \nQ 18.109375 38.09375 18.109375 28.8125 \nL 18.109375 0 \nL 9.078125 0 \nL 9.078125 54.6875 \nL 18.109375 54.6875 \nL 18.109375 46.1875 \nQ 20.953125 51.171875 25.484375 53.578125 \nQ 30.03125 56 36.53125 56 \nQ 37.453125 56 38.578125 55.875 \nQ 39.703125 55.765625 41.0625 55.515625 \nz\n\" id=\"DejaVuSans-114\"/>\n      <path id=\"DejaVuSans-32\"/>\n      <path d=\"M 2.984375 54.6875 \nL 12.5 54.6875 \nL 29.59375 8.796875 \nL 46.6875 54.6875 \nL 56.203125 54.6875 \nL 35.6875 0 \nL 23.484375 0 \nz\n\" id=\"DejaVuSans-118\"/>\n      <path d=\"M 56.203125 29.59375 \nL 56.203125 25.203125 \nL 14.890625 25.203125 \nQ 15.484375 15.921875 20.484375 11.0625 \nQ 25.484375 6.203125 34.421875 6.203125 \nQ 39.59375 6.203125 44.453125 7.46875 \nQ 49.3125 8.734375 54.109375 11.28125 \nL 54.109375 2.78125 \nQ 49.265625 0.734375 44.1875 -0.34375 \nQ 39.109375 -1.421875 33.890625 -1.421875 \nQ 20.796875 -1.421875 13.15625 6.1875 \nQ 5.515625 13.8125 5.515625 26.8125 \nQ 5.515625 40.234375 12.765625 48.109375 \nQ 20.015625 56 32.328125 56 \nQ 43.359375 56 49.78125 48.890625 \nQ 56.203125 41.796875 56.203125 29.59375 \nz\nM 47.21875 32.234375 \nQ 47.125 39.59375 43.09375 43.984375 \nQ 39.0625 48.390625 32.421875 48.390625 \nQ 24.90625 48.390625 20.390625 44.140625 \nQ 15.875 39.890625 15.1875 32.171875 \nz\n\" id=\"DejaVuSans-101\"/>\n      <path d=\"M 45.40625 46.390625 \nL 45.40625 75.984375 \nL 54.390625 75.984375 \nL 54.390625 0 \nL 45.40625 0 \nL 45.40625 8.203125 \nQ 42.578125 3.328125 38.25 0.953125 \nQ 33.9375 -1.421875 27.875 -1.421875 \nQ 17.96875 -1.421875 11.734375 6.484375 \nQ 5.515625 14.40625 5.515625 27.296875 \nQ 5.515625 40.1875 11.734375 48.09375 \nQ 17.96875 56 27.875 56 \nQ 33.9375 56 38.25 53.625 \nQ 42.578125 51.265625 45.40625 46.390625 \nz\nM 14.796875 27.296875 \nQ 14.796875 17.390625 18.875 11.75 \nQ 22.953125 6.109375 30.078125 6.109375 \nQ 37.203125 6.109375 41.296875 11.75 \nQ 45.40625 17.390625 45.40625 27.296875 \nQ 45.40625 37.203125 41.296875 42.84375 \nQ 37.203125 48.484375 30.078125 48.484375 \nQ 22.953125 48.484375 18.875 42.84375 \nQ 14.796875 37.203125 14.796875 27.296875 \nz\n\" id=\"DejaVuSans-100\"/>\n      <path d=\"M 54.890625 54.6875 \nL 35.109375 28.078125 \nL 55.90625 0 \nL 45.3125 0 \nL 29.390625 21.484375 \nL 13.484375 0 \nL 2.875 0 \nL 24.125 28.609375 \nL 4.6875 54.6875 \nL 15.28125 54.6875 \nL 29.78125 35.203125 \nL 44.28125 54.6875 \nz\n\" id=\"DejaVuSans-120\"/>\n     </defs>\n     <g transform=\"translate(143.707813 252.916563)scale(0.1 -0.1)\">\n      <use xlink:href=\"#DejaVuSans-115\"/>\n      <use x=\"52.099609\" xlink:href=\"#DejaVuSans-105\"/>\n      <use x=\"79.882812\" xlink:href=\"#DejaVuSans-110\"/>\n      <use x=\"143.261719\" xlink:href=\"#DejaVuSans-103\"/>\n      <use x=\"206.738281\" xlink:href=\"#DejaVuSans-117\"/>\n      <use x=\"270.117188\" xlink:href=\"#DejaVuSans-108\"/>\n      <use x=\"297.900391\" xlink:href=\"#DejaVuSans-97\"/>\n      <use x=\"359.179688\" xlink:href=\"#DejaVuSans-114\"/>\n      <use x=\"400.292969\" xlink:href=\"#DejaVuSans-32\"/>\n      <use x=\"432.080078\" xlink:href=\"#DejaVuSans-118\"/>\n      <use x=\"491.259766\" xlink:href=\"#DejaVuSans-97\"/>\n      <use x=\"552.539062\" xlink:href=\"#DejaVuSans-108\"/>\n      <use x=\"580.322266\" xlink:href=\"#DejaVuSans-117\"/>\n      <use x=\"643.701172\" xlink:href=\"#DejaVuSans-101\"/>\n      <use x=\"705.224609\" xlink:href=\"#DejaVuSans-32\"/>\n      <use x=\"737.011719\" xlink:href=\"#DejaVuSans-105\"/>\n      <use x=\"764.794922\" xlink:href=\"#DejaVuSans-110\"/>\n      <use x=\"828.173828\" xlink:href=\"#DejaVuSans-100\"/>\n      <use x=\"891.650391\" xlink:href=\"#DejaVuSans-101\"/>\n      <use x=\"953.158203\" xlink:href=\"#DejaVuSans-120\"/>\n     </g>\n    </g>\n   </g>\n   <g id=\"matplotlib.axis_2\">\n    <g id=\"ytick_1\">\n     <g id=\"line2d_9\">\n      <defs>\n       <path d=\"M 0 0 \nL -3.5 0 \n\" id=\"me8c61f0968\" style=\"stroke:#000000;stroke-width:0.8;\"/>\n      </defs>\n      <g>\n       <use style=\"stroke:#000000;stroke-width:0.8;\" x=\"26.925\" xlink:href=\"#me8c61f0968\" y=\"220.70917\"/>\n      </g>\n     </g>\n     <g id=\"text_10\">\n      <!-- 0 -->\n      <g transform=\"translate(13.5625 224.508389)scale(0.1 -0.1)\">\n       <use xlink:href=\"#DejaVuSans-48\"/>\n      </g>\n     </g>\n    </g>\n    <g id=\"ytick_2\">\n     <g id=\"line2d_10\">\n      <g>\n       <use style=\"stroke:#000000;stroke-width:0.8;\" x=\"26.925\" xlink:href=\"#me8c61f0968\" y=\"184.366689\"/>\n      </g>\n     </g>\n     <g id=\"text_11\">\n      <!-- 5 -->\n      <g transform=\"translate(13.5625 188.165908)scale(0.1 -0.1)\">\n       <use xlink:href=\"#DejaVuSans-53\"/>\n      </g>\n     </g>\n    </g>\n    <g id=\"ytick_3\">\n     <g id=\"line2d_11\">\n      <g>\n       <use style=\"stroke:#000000;stroke-width:0.8;\" x=\"26.925\" xlink:href=\"#me8c61f0968\" y=\"148.024209\"/>\n      </g>\n     </g>\n     <g id=\"text_12\">\n      <!-- 10 -->\n      <g transform=\"translate(7.2 151.823427)scale(0.1 -0.1)\">\n       <use xlink:href=\"#DejaVuSans-49\"/>\n       <use x=\"63.623047\" xlink:href=\"#DejaVuSans-48\"/>\n      </g>\n     </g>\n    </g>\n    <g id=\"ytick_4\">\n     <g id=\"line2d_12\">\n      <g>\n       <use style=\"stroke:#000000;stroke-width:0.8;\" x=\"26.925\" xlink:href=\"#me8c61f0968\" y=\"111.681728\"/>\n      </g>\n     </g>\n     <g id=\"text_13\">\n      <!-- 15 -->\n      <g transform=\"translate(7.2 115.480947)scale(0.1 -0.1)\">\n       <use xlink:href=\"#DejaVuSans-49\"/>\n       <use x=\"63.623047\" xlink:href=\"#DejaVuSans-53\"/>\n      </g>\n     </g>\n    </g>\n    <g id=\"ytick_5\">\n     <g id=\"line2d_13\">\n      <g>\n       <use style=\"stroke:#000000;stroke-width:0.8;\" x=\"26.925\" xlink:href=\"#me8c61f0968\" y=\"75.339247\"/>\n      </g>\n     </g>\n     <g id=\"text_14\">\n      <!-- 20 -->\n      <g transform=\"translate(7.2 79.138466)scale(0.1 -0.1)\">\n       <use xlink:href=\"#DejaVuSans-50\"/>\n       <use x=\"63.623047\" xlink:href=\"#DejaVuSans-48\"/>\n      </g>\n     </g>\n    </g>\n    <g id=\"ytick_6\">\n     <g id=\"line2d_14\">\n      <g>\n       <use style=\"stroke:#000000;stroke-width:0.8;\" x=\"26.925\" xlink:href=\"#me8c61f0968\" y=\"38.996766\"/>\n      </g>\n     </g>\n     <g id=\"text_15\">\n      <!-- 25 -->\n      <g transform=\"translate(7.2 42.795985)scale(0.1 -0.1)\">\n       <use xlink:href=\"#DejaVuSans-50\"/>\n       <use x=\"63.623047\" xlink:href=\"#DejaVuSans-53\"/>\n      </g>\n     </g>\n    </g>\n   </g>\n   <g id=\"line2d_15\">\n    <path clip-path=\"url(#p1a9a75610e)\" d=\"M 42.143182 133.660272 \nL 85.623701 137.754399 \nL 129.104221 142.971124 \nL 172.58474 147.310745 \nL 216.06526 153.306134 \nL 259.545779 154.902677 \nL 303.026299 164.121186 \nL 346.506818 170.503725 \n\" style=\"fill:none;stroke:#000080;stroke-linecap:square;stroke-width:1.5;\"/>\n   </g>\n   <g id=\"line2d_16\">\n    <path clip-path=\"url(#p1a9a75610e)\" d=\"M 42.143182 112.200473 \nL 85.623701 142.882074 \nL 129.104221 149.161864 \nL 172.58474 155.964034 \nL 216.06526 157.814336 \nL 259.545779 166.587903 \nL 303.026299 171.130781 \nL 346.506818 174.533115 \n\" style=\"fill:none;stroke:#0010ff;stroke-linecap:square;stroke-width:1.5;\"/>\n   </g>\n   <g id=\"line2d_17\">\n    <path clip-path=\"url(#p1a9a75610e)\" d=\"M 42.143182 78.444632 \nL 85.623701 151.576243 \nL 129.104221 156.24871 \nL 172.58474 162.068129 \nL 216.06526 166.603298 \nL 259.545779 173.106918 \nL 303.026299 177.764905 \nL 346.506818 178.715358 \n\" style=\"fill:none;stroke:#00a4ff;stroke-linecap:square;stroke-width:1.5;\"/>\n   </g>\n   <g id=\"line2d_18\">\n    <path clip-path=\"url(#p1a9a75610e)\" d=\"M 42.143182 56.479129 \nL 85.623701 170.390478 \nL 129.104221 171.078209 \nL 172.58474 175.454351 \nL 216.06526 178.290679 \nL 259.545779 179.675217 \nL 303.026299 180.568309 \nL 346.506818 189.432576 \n\" style=\"fill:none;stroke:#40ffb7;stroke-linecap:square;stroke-width:1.5;\"/>\n   </g>\n   <g id=\"line2d_19\">\n    <path clip-path=\"url(#p1a9a75610e)\" d=\"M 42.143182 34.550402 \nL 85.623701 181.676653 \nL 129.104221 184.171095 \nL 172.58474 186.25079 \nL 216.06526 187.974045 \nL 259.545779 192.49195 \nL 303.026299 193.096657 \nL 346.506818 195.396759 \n\" style=\"fill:none;stroke:#b7ff40;stroke-linecap:square;stroke-width:1.5;\"/>\n   </g>\n   <g id=\"line2d_20\">\n    <path clip-path=\"url(#p1a9a75610e)\" d=\"M 42.143182 17.083636 \nL 85.623701 190.521741 \nL 129.104221 194.964474 \nL 172.58474 197.810555 \nL 216.06526 199.223378 \nL 259.545779 199.567364 \nL 303.026299 200.459072 \nL 346.506818 202.364193 \n\" style=\"fill:none;stroke:#ffb900;stroke-linecap:square;stroke-width:1.5;\"/>\n   </g>\n   <g id=\"line2d_21\">\n    <path clip-path=\"url(#p1a9a75610e)\" d=\"M 42.143182 23.219331 \nL 85.623701 201.037195 \nL 129.104221 202.807113 \nL 172.58474 203.598121 \nL 216.06526 204.286182 \nL 259.545779 205.630872 \nL 303.026299 206.307017 \nL 346.506818 207.84168 \n\" style=\"fill:none;stroke:#ff3000;stroke-linecap:square;stroke-width:1.5;\"/>\n   </g>\n   <g id=\"line2d_22\">\n    <path clip-path=\"url(#p1a9a75610e)\" d=\"M 42.143182 19.191556 \nL 85.623701 212.482948 \nL 129.104221 212.658305 \nL 172.58474 213.338585 \nL 216.06526 213.695632 \nL 259.545779 213.810923 \nL 303.026299 214.127417 \nL 346.506818 214.756364 \n\" style=\"fill:none;stroke:#800000;stroke-linecap:square;stroke-width:1.5;\"/>\n   </g>\n   <g id=\"patch_3\">\n    <path d=\"M 26.925 224.64 \nL 26.925 7.2 \n\" style=\"fill:none;stroke:#000000;stroke-linecap:square;stroke-linejoin:miter;stroke-width:0.8;\"/>\n   </g>\n   <g id=\"patch_4\">\n    <path d=\"M 361.725 224.64 \nL 361.725 7.2 \n\" style=\"fill:none;stroke:#000000;stroke-linecap:square;stroke-linejoin:miter;stroke-width:0.8;\"/>\n   </g>\n   <g id=\"patch_5\">\n    <path d=\"M 26.925 224.64 \nL 361.725 224.64 \n\" style=\"fill:none;stroke:#000000;stroke-linecap:square;stroke-linejoin:miter;stroke-width:0.8;\"/>\n   </g>\n   <g id=\"patch_6\">\n    <path d=\"M 26.925 7.2 \nL 361.725 7.2 \n\" style=\"fill:none;stroke:#000000;stroke-linecap:square;stroke-linejoin:miter;stroke-width:0.8;\"/>\n   </g>\n   <g id=\"legend_1\">\n    <g id=\"patch_7\">\n     <path d=\"M 300.459375 132.625 \nL 354.725 132.625 \nQ 356.725 132.625 356.725 130.625 \nL 356.725 14.2 \nQ 356.725 12.2 354.725 12.2 \nL 300.459375 12.2 \nQ 298.459375 12.2 298.459375 14.2 \nL 298.459375 130.625 \nQ 298.459375 132.625 300.459375 132.625 \nz\n\" style=\"fill:#ffffff;opacity:0.8;stroke:#cccccc;stroke-linejoin:miter;\"/>\n    </g>\n    <g id=\"line2d_23\">\n     <path d=\"M 302.459375 20.298438 \nL 322.459375 20.298438 \n\" style=\"fill:none;stroke:#000080;stroke-linecap:square;stroke-width:1.5;\"/>\n    </g>\n    <g id=\"line2d_24\"/>\n    <g id=\"text_16\">\n     <!-- 0 -->\n     <g transform=\"translate(330.459375 23.798438)scale(0.1 -0.1)\">\n      <use xlink:href=\"#DejaVuSans-48\"/>\n     </g>\n    </g>\n    <g id=\"line2d_25\">\n     <path d=\"M 302.459375 34.976563 \nL 322.459375 34.976563 \n\" style=\"fill:none;stroke:#0010ff;stroke-linecap:square;stroke-width:1.5;\"/>\n    </g>\n    <g id=\"line2d_26\"/>\n    <g id=\"text_17\">\n     <!-- 0.2 -->\n     <defs>\n      <path d=\"M 10.6875 12.40625 \nL 21 12.40625 \nL 21 0 \nL 10.6875 0 \nz\n\" id=\"DejaVuSans-46\"/>\n     </defs>\n     <g transform=\"translate(330.459375 38.476563)scale(0.1 -0.1)\">\n      <use xlink:href=\"#DejaVuSans-48\"/>\n      <use x=\"63.623047\" xlink:href=\"#DejaVuSans-46\"/>\n      <use x=\"95.410156\" xlink:href=\"#DejaVuSans-50\"/>\n     </g>\n    </g>\n    <g id=\"line2d_27\">\n     <path d=\"M 302.459375 49.654688 \nL 322.459375 49.654688 \n\" style=\"fill:none;stroke:#00a4ff;stroke-linecap:square;stroke-width:1.5;\"/>\n    </g>\n    <g id=\"line2d_28\"/>\n    <g id=\"text_18\">\n     <!-- 0.4 -->\n     <g transform=\"translate(330.459375 53.154688)scale(0.1 -0.1)\">\n      <use xlink:href=\"#DejaVuSans-48\"/>\n      <use x=\"63.623047\" xlink:href=\"#DejaVuSans-46\"/>\n      <use x=\"95.410156\" xlink:href=\"#DejaVuSans-52\"/>\n     </g>\n    </g>\n    <g id=\"line2d_29\">\n     <path d=\"M 302.459375 64.332813 \nL 322.459375 64.332813 \n\" style=\"fill:none;stroke:#40ffb7;stroke-linecap:square;stroke-width:1.5;\"/>\n    </g>\n    <g id=\"line2d_30\"/>\n    <g id=\"text_19\">\n     <!-- 0.6 -->\n     <g transform=\"translate(330.459375 67.832813)scale(0.1 -0.1)\">\n      <use xlink:href=\"#DejaVuSans-48\"/>\n      <use x=\"63.623047\" xlink:href=\"#DejaVuSans-46\"/>\n      <use x=\"95.410156\" xlink:href=\"#DejaVuSans-54\"/>\n     </g>\n    </g>\n    <g id=\"line2d_31\">\n     <path d=\"M 302.459375 79.010938 \nL 322.459375 79.010938 \n\" style=\"fill:none;stroke:#b7ff40;stroke-linecap:square;stroke-width:1.5;\"/>\n    </g>\n    <g id=\"line2d_32\"/>\n    <g id=\"text_20\">\n     <!-- 0.8 -->\n     <defs>\n      <path d=\"M 31.78125 34.625 \nQ 24.75 34.625 20.71875 30.859375 \nQ 16.703125 27.09375 16.703125 20.515625 \nQ 16.703125 13.921875 20.71875 10.15625 \nQ 24.75 6.390625 31.78125 6.390625 \nQ 38.8125 6.390625 42.859375 10.171875 \nQ 46.921875 13.96875 46.921875 20.515625 \nQ 46.921875 27.09375 42.890625 30.859375 \nQ 38.875 34.625 31.78125 34.625 \nz\nM 21.921875 38.8125 \nQ 15.578125 40.375 12.03125 44.71875 \nQ 8.5 49.078125 8.5 55.328125 \nQ 8.5 64.0625 14.71875 69.140625 \nQ 20.953125 74.21875 31.78125 74.21875 \nQ 42.671875 74.21875 48.875 69.140625 \nQ 55.078125 64.0625 55.078125 55.328125 \nQ 55.078125 49.078125 51.53125 44.71875 \nQ 48 40.375 41.703125 38.8125 \nQ 48.828125 37.15625 52.796875 32.3125 \nQ 56.78125 27.484375 56.78125 20.515625 \nQ 56.78125 9.90625 50.3125 4.234375 \nQ 43.84375 -1.421875 31.78125 -1.421875 \nQ 19.734375 -1.421875 13.25 4.234375 \nQ 6.78125 9.90625 6.78125 20.515625 \nQ 6.78125 27.484375 10.78125 32.3125 \nQ 14.796875 37.15625 21.921875 38.8125 \nz\nM 18.3125 54.390625 \nQ 18.3125 48.734375 21.84375 45.5625 \nQ 25.390625 42.390625 31.78125 42.390625 \nQ 38.140625 42.390625 41.71875 45.5625 \nQ 45.3125 48.734375 45.3125 54.390625 \nQ 45.3125 60.0625 41.71875 63.234375 \nQ 38.140625 66.40625 31.78125 66.40625 \nQ 25.390625 66.40625 21.84375 63.234375 \nQ 18.3125 60.0625 18.3125 54.390625 \nz\n\" id=\"DejaVuSans-56\"/>\n     </defs>\n     <g transform=\"translate(330.459375 82.510938)scale(0.1 -0.1)\">\n      <use xlink:href=\"#DejaVuSans-48\"/>\n      <use x=\"63.623047\" xlink:href=\"#DejaVuSans-46\"/>\n      <use x=\"95.410156\" xlink:href=\"#DejaVuSans-56\"/>\n     </g>\n    </g>\n    <g id=\"line2d_33\">\n     <path d=\"M 302.459375 93.689063 \nL 322.459375 93.689063 \n\" style=\"fill:none;stroke:#ffb900;stroke-linecap:square;stroke-width:1.5;\"/>\n    </g>\n    <g id=\"line2d_34\"/>\n    <g id=\"text_21\">\n     <!-- 0.9 -->\n     <defs>\n      <path d=\"M 10.984375 1.515625 \nL 10.984375 10.5 \nQ 14.703125 8.734375 18.5 7.8125 \nQ 22.3125 6.890625 25.984375 6.890625 \nQ 35.75 6.890625 40.890625 13.453125 \nQ 46.046875 20.015625 46.78125 33.40625 \nQ 43.953125 29.203125 39.59375 26.953125 \nQ 35.25 24.703125 29.984375 24.703125 \nQ 19.046875 24.703125 12.671875 31.3125 \nQ 6.296875 37.9375 6.296875 49.421875 \nQ 6.296875 60.640625 12.9375 67.421875 \nQ 19.578125 74.21875 30.609375 74.21875 \nQ 43.265625 74.21875 49.921875 64.515625 \nQ 56.59375 54.828125 56.59375 36.375 \nQ 56.59375 19.140625 48.40625 8.859375 \nQ 40.234375 -1.421875 26.421875 -1.421875 \nQ 22.703125 -1.421875 18.890625 -0.6875 \nQ 15.09375 0.046875 10.984375 1.515625 \nz\nM 30.609375 32.421875 \nQ 37.25 32.421875 41.125 36.953125 \nQ 45.015625 41.5 45.015625 49.421875 \nQ 45.015625 57.28125 41.125 61.84375 \nQ 37.25 66.40625 30.609375 66.40625 \nQ 23.96875 66.40625 20.09375 61.84375 \nQ 16.21875 57.28125 16.21875 49.421875 \nQ 16.21875 41.5 20.09375 36.953125 \nQ 23.96875 32.421875 30.609375 32.421875 \nz\n\" id=\"DejaVuSans-57\"/>\n     </defs>\n     <g transform=\"translate(330.459375 97.189063)scale(0.1 -0.1)\">\n      <use xlink:href=\"#DejaVuSans-48\"/>\n      <use x=\"63.623047\" xlink:href=\"#DejaVuSans-46\"/>\n      <use x=\"95.410156\" xlink:href=\"#DejaVuSans-57\"/>\n     </g>\n    </g>\n    <g id=\"line2d_35\">\n     <path d=\"M 302.459375 108.367188 \nL 322.459375 108.367188 \n\" style=\"fill:none;stroke:#ff3000;stroke-linecap:square;stroke-width:1.5;\"/>\n    </g>\n    <g id=\"line2d_36\"/>\n    <g id=\"text_22\">\n     <!-- 0.95 -->\n     <g transform=\"translate(330.459375 111.867188)scale(0.1 -0.1)\">\n      <use xlink:href=\"#DejaVuSans-48\"/>\n      <use x=\"63.623047\" xlink:href=\"#DejaVuSans-46\"/>\n      <use x=\"95.410156\" xlink:href=\"#DejaVuSans-57\"/>\n      <use x=\"159.033203\" xlink:href=\"#DejaVuSans-53\"/>\n     </g>\n    </g>\n    <g id=\"line2d_37\">\n     <path d=\"M 302.459375 123.045313 \nL 322.459375 123.045313 \n\" style=\"fill:none;stroke:#800000;stroke-linecap:square;stroke-width:1.5;\"/>\n    </g>\n    <g id=\"line2d_38\"/>\n    <g id=\"text_23\">\n     <!-- 0.99 -->\n     <g transform=\"translate(330.459375 126.545313)scale(0.1 -0.1)\">\n      <use xlink:href=\"#DejaVuSans-48\"/>\n      <use x=\"63.623047\" xlink:href=\"#DejaVuSans-46\"/>\n      <use x=\"95.410156\" xlink:href=\"#DejaVuSans-57\"/>\n      <use x=\"159.033203\" xlink:href=\"#DejaVuSans-57\"/>\n     </g>\n    </g>\n   </g>\n  </g>\n </g>\n <defs>\n  <clipPath id=\"p1a9a75610e\">\n   <rect height=\"217.44\" width=\"334.8\" x=\"26.925\" y=\"7.2\"/>\n  </clipPath>\n </defs>\n</svg>\n",
      "image/png": "[encoded data removed]"
     },
     "metadata": {
      "needs_background": "light"
     }
    }
   ],
   "source": [
    "## plot the ordered singular values for each rho\n",
    "colors = plt.cm.jet(np.linspace(0,1,len(Rhos)))\n",
    "for col, rho, res_vec in zip(colors,Rhos,res_mat):\n",
    "    plt.plot(res_vec,label=str(rho),c=col)\n",
    "plt.legend()\n",
    "_ = plt.xlabel('singular value index')"
   ]
  },
  {
   "cell_type": "markdown",
   "metadata": {
    "slideshow": {
     "slide_type": "slide"
    }
   },
   "source": [
    "### Ridge regression\n",
    "\n",
    "Typically to avoid instability we regularize.\n",
    "We can summarize the above statements as\n",
    "> If X is nearly singular then $\\hat \\beta$ is instable"
   ]
  },
  {
   "cell_type": "markdown",
   "metadata": {
    "slideshow": {
     "slide_type": "fragment"
    }
   },
   "source": [
    "One solution is *Ridge regression*, $\\hat \\beta$ that solves\n",
    "$$\n",
    "\\min. \\sum_{i=1}^n (y_i - x_i^\\top \\beta)^2 + \\lambda \\sum_{j=1}^p \\beta_j^2.\n",
    "$$"
   ]
  },
  {
   "cell_type": "markdown",
   "metadata": {
    "slideshow": {
     "slide_type": "fragment"
    }
   },
   "source": [
    "- Ridge regularization will \"pull\" $\\beta$ towards 0.\n",
    "- $\\lambda$ is a tuning parameter and the second term is ridge penalty\n",
    "- centered $X$ ($x_{i,j} \\gets x_{i,j} - \\bar x_j$ for all but intercept) then $\\hat \\beta_0 = \\bar y$, can then remove the intercept from $y$ and perform ridge with $\\beta$ without intercept\n",
    "- normalize $X$ ($x_{i,j} \\gets x_{i,j} / \\| x_j \\|$) makes all penalty terms on same scale"
   ]
  },
  {
   "cell_type": "markdown",
   "metadata": {
    "slideshow": {
     "slide_type": "slide"
    }
   },
   "source": [
    "### Ridge regression\n",
    "\n",
    "Ridge objective (with no intercept)\n",
    "$$\n",
    "(y - X \\beta)^\\top (y - X \\beta) + \\lambda \\beta^\\top \\beta\n",
    "$$\n",
    "is proportional to \n",
    "$$- 2 y^\\top X \\beta + \\beta^\\top (X^\\top X) \\beta + \\lambda \\beta^\\top \\beta = -2 (X^\\top y)^\\top \\beta + \\beta^\\top (X^\\top X + \\lambda I) \\beta.$$\n",
    "\n",
    "The ridge solution satisfies some new normal equations,\n",
    "$$\n",
    "(X^\\top X + \\lambda I) \\hat \\beta = X^\\top y.\n",
    "$$\n",
    "\n",
    "> Ridge regularization always has a solution because $(X^\\top X + \\lambda I)^{-1}$ exists!  But it is biased!"
   ]
  },
  {
   "cell_type": "markdown",
   "metadata": {},
   "source": [
    "$y_{i} = X_i^\\top + \\epsilon_i$ is the model assuming that $\\mathbb{E}[\\epsilon_i|X_i]=0$.\n",
    "$$\n",
    "y = X \\beta + \\epsilon\n",
    "$$\n"
   ]
  },
  {
   "cell_type": "markdown",
   "metadata": {},
   "source": [
    "Now we look at the ridge regression solution for $\\hat \\beta$\n",
    "\\begin{align*}\n",
    "\n",
    "\\mathbb{E}[\\hat \\beta^{r} | X] &= \\mathbb{E}\\big[ (X^\\top X + \\lambda I)^{-1} X^\\top y|X \\big] \\\\\n",
    "    &= \\mathbb{E}\\big[ (X^\\top X + \\lambda I)^{-1} X^\\top X \\beta + (X^\\top X + \\lambda I)^{-1} X^\\top \\epsilon | X\\big]\\\\\n",
    "    &= (X^\\top X + \\lambda I)^{-1} X^\\top X \\beta\n",
    "\n",
    "\\end{align*}\n",
    "\n",
    "If $\\lambda = 0$ and assuming that $X^\\top X$ is non singular, we have \n",
    "$$\n",
    "\\hat \\beta^{r} = \\beta\n",
    "$$"
   ]
  },
  {
   "cell_type": "markdown",
   "metadata": {
    "slideshow": {
     "slide_type": "slide"
    }
   },
   "source": [
    "<img src=\"ridge_bias.PNG\" width=70%>"
   ]
  },
  {
   "cell_type": "markdown",
   "metadata": {
    "slideshow": {
     "slide_type": "slide"
    }
   },
   "source": [
    "### Exercise 3.4\n",
    "\n",
    "Recall that we can write the OLS solution as \n",
    "$$\n",
    "\\hat \\beta = V D^{-1} U^\\top y .\n",
    "$$\n",
    "\n",
    "Consider the solution to the ridge normal equation,  \n",
    "$$\n",
    "(X^\\top X + \\lambda I) \\hat \\beta = X^\\top y.\n",
    "$$\n",
    "Show that it can also be solved with a similar form but where the singular values $d_j$ are augmented."
   ]
  },
  {
   "cell_type": "markdown",
   "metadata": {
    "slideshow": {
     "slide_type": "slide"
    }
   },
   "source": [
    "### Solution to exercise 3.4\n",
    "\n",
    "If $X = U D V^\\top$ then \n",
    "$$\n",
    "X^\\top X + \\lambda I = V D^2 V^\\top + \\lambda I = V (D^2 + \\lambda I) V^\\top \n",
    "$$\n",
    "because when $p < n$ then $V V^\\top = I$.\n",
    "So Ridge solution can be shown to be (exercise)\n",
    "$$\n",
    "\\hat \\beta = V (D^2 + \\lambda I)^{-1} D U^\\top y \n",
    "$$\n",
    "compare to OLS\n",
    "$$\n",
    "\\hat \\beta = V D^{-1} U^\\top y \n",
    "$$\n",
    "modifies the eigenvalues to be \n",
    "$$\n",
    "d_j \\gets \\frac{d_j^2 + \\lambda}{d_j}.\n",
    "$$\n"
   ]
  },
  {
   "cell_type": "markdown",
   "metadata": {
    "slideshow": {
     "slide_type": "slide"
    }
   },
   "source": [
    "### Subset selection\n",
    "\n",
    "Two motivations for selecting variables\n",
    "1. Fewer variables can lead to lower risk\n",
    "2. We want to discover a subset of variables with large effects"
   ]
  },
  {
   "cell_type": "markdown",
   "metadata": {
    "slideshow": {
     "slide_type": "fragment"
    }
   },
   "source": [
    "A model for *sparsity*\n",
    "$$\n",
    "y_i = x_i^\\top \\beta + \\epsilon_i\n",
    "$$\n",
    "where for some of the $j = 1,\\ldots,p$, $\\beta_j = 0$.\n",
    "\n",
    "**Def** Support of $\\beta$ is \n",
    "$$\n",
    "\\textrm{supp}(\\beta) = \\{j = 1,\\ldots,p : \\beta_j \\ne 0 \\}.\n",
    "$$\n",
    "then goal is to find supp$(\\beta)$ or $\\beta$ such that $|$supp$(\\beta)| \\le s$."
   ]
  },
  {
   "cell_type": "markdown",
   "metadata": {
    "slideshow": {
     "slide_type": "slide"
    }
   },
   "source": [
    "### Computational challenges of subset selection\n",
    "\n",
    "*Combinatorial ($L_0$) subset selection:* Select $S \\subseteq \\{1,\\ldots, p\\}$ s.t. $|S| \\le s$ and minimizes\n",
    "$$\n",
    "\\sum_{i=1}^n \\left(y_i - \\sum_{j \\in S} x_{i,j} \\beta_j \\right)^2\n",
    "$$\n",
    "\n",
    "This optimization is NP hard in general!"
   ]
  },
  {
   "cell_type": "markdown",
   "metadata": {
    "slideshow": {
     "slide_type": "fragment"
    }
   },
   "source": [
    "**Def** $L_0$ norm (not a norm), is $\\|\\beta\\|_0 = |{\\rm supp}(\\beta)|$ which is the size of support of $\\beta$.\n",
    "\n",
    "Then subset selection is\n",
    "$$\n",
    "\\min \\| y - X \\beta \\|^2 \\textrm{ s.t. } \\beta \\in \\mathbb R^p, \\| \\beta \\|_0 \\le s\n",
    "$$"
   ]
  },
  {
   "cell_type": "markdown",
   "metadata": {
    "slideshow": {
     "slide_type": "slide"
    }
   },
   "source": [
    "### Greedy methods\n",
    "\n",
    "Basic idea: at each step, choose an action that improves empirical risk\n",
    "\n",
    "#### Forward Stepwise\n",
    "- Input X standardized, $x_0 = 1$, y\n",
    "- Let $S_0 = \\{0\\}$\n",
    "- For $s = 1,\\ldots, p$:\n",
    " - For $j \\notin S$:\n",
    "  $$ R_j = \\min \\| y - X \\beta \\|^2 \\textrm{ s.t. supp}(\\beta) = S_{s-1} \\cup \\{ j \\} $$\n",
    " - Add minimizer of $R_j$ to $S_{s-1}$ update $S_s$   \n",
    "\n",
    "- Intermediate OLS steps can be slow\n",
    "- Correlations can cause issues: add a variable early on only because it is correlated with significant vars, never lose it"
   ]
  }
 ],
 "metadata": {
  "celltoolbar": "Slideshow",
  "kernelspec": {
   "display_name": "Python 3",
   "language": "python",
   "name": "python3"
  },
  "language_info": {
   "codemirror_mode": {
    "name": "ipython",
    "version": 3
   },
   "file_extension": ".py",
   "mimetype": "text/x-python",
   "name": "python",
   "nbconvert_exporter": "python",
   "pygments_lexer": "ipython3",
   "version": "3.7.7-final"
  }
 },
 "nbformat": 4,
 "nbformat_minor": 2
}