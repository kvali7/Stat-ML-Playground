{
 "cells": [
  {
   "cell_type": "code",
   "execution_count": 2,
   "metadata": {
    "cellView": "form",
    "colab": {},
    "colab_type": "code",
    "id": "CPII1rGR2rF9",
    "slideshow": {
     "slide_type": "skip"
    }
   },
   "outputs": [],
   "source": [
    "# This was modified from Tensorflow tutorial: https://www.tensorflow.org/tutorials/customization/custom_training_walkthrough\n",
    "# All appropriate copywrites are retained, use of this material is guided by fair use for teaching\n",
    "# Some modifications made for course STA 208 by James Sharpnack jsharpna@gmail.com\n",
    "\n",
    "#@title Licensed under the Apache License, Version 2.0 (the \"License\");\n",
    "# you may not use this file except in compliance with the License.\n",
    "# You may obtain a copy of the License at\n",
    "#\n",
    "# https://www.apache.org/licenses/LICENSE-2.0\n",
    "#\n",
    "# Unless required by applicable law or agreed to in writing, software\n",
    "# distributed under the License is distributed on an \"AS IS\" BASIS,\n",
    "# WITHOUT WARRANTIES OR CONDITIONS OF ANY KIND, either express or implied.\n",
    "# See the License for the specific language governing permissions and\n",
    "# limitations under the License."
   ]
  },
  {
   "cell_type": "markdown",
   "metadata": {},
   "source": [
    "# Classification with Tensorflow\n",
    "\n",
    "## Davis SML: Lecture 9 Part 2\n",
    "\n",
    "## Prof. James Sharpnack"
   ]
  },
  {
   "cell_type": "markdown",
   "metadata": {
    "slideshow": {
     "slide_type": "slide"
    }
   },
   "source": [
    "### Importing and installing tensorflow\n",
    "\n",
    "- install tensorflow 2.0 with conda (you do not need to install tensorflow-gpu for the course)\n",
    "- tensorflow, build and execute computational graphs\n",
    "- tensorflow 1.0 and 2.0 differ mainly by making eager execution default, removing sessions\n",
    "\n",
    "Meaning that we can run the computational graph outside the session, in order sequentially."
   ]
  },
  {
   "cell_type": "code",
   "execution_count": null,
   "metadata": {},
   "outputs": [],
   "source": [
    "#conda install keras tensorflow"
   ]
  },
  {
   "cell_type": "code",
   "execution_count": 27,
   "metadata": {
    "colab": {},
    "colab_type": "code",
    "id": "jElLULrDhQZR",
    "slideshow": {
     "slide_type": "fragment"
    }
   },
   "outputs": [
    {
     "output_type": "stream",
     "name": "stdout",
     "text": "TensorFlow version: 2.0.0\nEager execution: True\nNum GPUs Available:  0\nNum CPUs Available:  1\nUsing TensorFlow backend.\n"
    }
   ],
   "source": [
    "import os\n",
    "import matplotlib.pyplot as plt\n",
    "import tensorflow as tf\n",
    "import pandas as pd\n",
    "from keras.utils.vis_utils import plot_model\n",
    "\n",
    "print(\"TensorFlow version: {}\".format(tf.__version__))\n",
    "print(\"Eager execution: {}\".format(tf.executing_eagerly()))\n",
    "print(\"Num GPUs Available: \", len(tf.config.experimental.list_physical_devices('GPU')))\n",
    "print(\"Num CPUs Available: \", len(tf.config.experimental.list_physical_devices('CPU')))"
   ]
  },
  {
   "cell_type": "markdown",
   "metadata": {
    "slideshow": {
     "slide_type": "slide"
    }
   },
   "source": [
    "### Loading data\n",
    "\n",
    "- tensorflow has many built in utilities for getting data\n",
    "- you could just as easily use requests/pandas"
   ]
  },
  {
   "cell_type": "code",
   "execution_count": 5,
   "metadata": {
    "colab": {},
    "colab_type": "code",
    "id": "J6c7uEU9rjRM",
    "slideshow": {
     "slide_type": "slide"
    }
   },
   "outputs": [
    {
     "output_type": "stream",
     "name": "stdout",
     "text": "Downloading data from https://storage.googleapis.com/download.tensorflow.org/data/iris_training.csv\n8192/2194 [================================================================================================================] - 0s 0us/step\nLocal copy of the dataset file: C:\\SPB_Data\\.keras\\datasets\\iris_training.csv\n"
    }
   ],
   "source": [
    "train_dataset_url = \"https://storage.googleapis.com/download.tensorflow.org/data/iris_training.csv\"\n",
    "\n",
    "train_dataset_fp = tf.keras.utils.get_file(fname=os.path.basename(train_dataset_url),\n",
    "                                           origin=train_dataset_url)\n",
    "\n",
    "print(\"Local copy of the dataset file: {}\".format(train_dataset_fp))"
   ]
  },
  {
   "cell_type": "code",
   "execution_count": 6,
   "metadata": {
    "slideshow": {
     "slide_type": "fragment"
    }
   },
   "outputs": [],
   "source": [
    "train_df = pd.read_csv(train_dataset_fp)\n",
    "train_dataset = tf.data.Dataset.from_tensor_slices((train_df.values[:,:-1],train_df.values[:,-1]))"
   ]
  },
  {
   "cell_type": "markdown",
   "metadata": {
    "slideshow": {
     "slide_type": "slide"
    }
   },
   "source": [
    "### Tensorflow datasets API\n",
    "\n",
    "- Datasets API loads and readies data for use in stochastic gradient descent type iteration\n",
    "- the batch size tells it how many samples for the mini-batch\n",
    "- Dataset has methods to shuffle the data and apply transformations "
   ]
  },
  {
   "cell_type": "code",
   "execution_count": 7,
   "metadata": {
    "colab": {},
    "colab_type": "code",
    "id": "WsxHnz1ebJ2S",
    "slideshow": {
     "slide_type": "fragment"
    }
   },
   "outputs": [],
   "source": [
    "batch_size = 32\n",
    "\n",
    "train_dataset = train_dataset.shuffle(1000)\n",
    "train_dataset = train_dataset.batch(batch_size)\n",
    "## sets batchsize and shuffles"
   ]
  },
  {
   "cell_type": "code",
   "execution_count": 8,
   "metadata": {
    "colab": {},
    "colab_type": "code",
    "id": "iDuG94H-C122",
    "slideshow": {
     "slide_type": "slide"
    }
   },
   "outputs": [
    {
     "output_type": "execute_result",
     "data": {
      "text/plain": "<tf.Tensor: id=18, shape=(32, 4), dtype=float64, numpy=\narray([[5.8, 2.7, 4.1, 1. ],\n       [5.7, 3. , 4.2, 1.2],\n       [5. , 3.4, 1.5, 0.2],\n       [5.9, 3.2, 4.8, 1.8],\n       [4.8, 3. , 1.4, 0.1],\n       [4.9, 3.1, 1.5, 0.1],\n       [5.1, 3.7, 1.5, 0.4],\n       [5. , 3.2, 1.2, 0.2],\n       [5.5, 3.5, 1.3, 0.2],\n       [7.6, 3. , 6.6, 2.1],\n       [4.6, 3.4, 1.4, 0.3],\n       [5.2, 2.7, 3.9, 1.4],\n       [7.7, 3.8, 6.7, 2.2],\n       [5.6, 2.9, 3.6, 1.3],\n       [7.7, 2.8, 6.7, 2. ],\n       [6.4, 2.7, 5.3, 1.9],\n       [4.8, 3.4, 1.6, 0.2],\n       [4.7, 3.2, 1.3, 0.2],\n       [5.6, 2.5, 3.9, 1.1],\n       [4.4, 3.2, 1.3, 0.2],\n       [5.7, 2.8, 4.1, 1.3],\n       [6.6, 2.9, 4.6, 1.3],\n       [6.3, 2.5, 5. , 1.9],\n       [5. , 2.3, 3.3, 1. ],\n       [4.9, 3. , 1.4, 0.2],\n       [5.8, 2.6, 4. , 1.2],\n       [6.2, 2.8, 4.8, 1.8],\n       [6.5, 3.2, 5.1, 2. ],\n       [4.4, 3. , 1.3, 0.2],\n       [7.3, 2.9, 6.3, 1.8],\n       [6.1, 2.8, 4. , 1.3],\n       [5.5, 2.6, 4.4, 1.2]])>"
     },
     "metadata": {},
     "execution_count": 8
    }
   ],
   "source": [
    "X,y = next(iter(train_dataset))\n",
    "X"
   ]
  },
  {
   "cell_type": "markdown",
   "metadata": {
    "slideshow": {
     "slide_type": "slide"
    }
   },
   "source": [
    "### Keras Model API\n",
    "\n",
    "- a model is a predictor which builds a computational graph, maintains losses, prepares for optimization\n",
    "- built from layers which are operations in computational graph\n",
    "- layers have trainable variables, input and output tensor shapes"
   ]
  },
  {
   "cell_type": "code",
   "execution_count": 9,
   "metadata": {
    "slideshow": {
     "slide_type": "slide"
    }
   },
   "outputs": [
    {
     "output_type": "execute_result",
     "data": {
      "text/plain": "(TensorSpec(shape=(None, 4), dtype=tf.float64, name=None),\n TensorSpec(shape=(None,), dtype=tf.float64, name=None))"
     },
     "metadata": {},
     "execution_count": 9
    }
   ],
   "source": [
    "train_dataset.element_spec"
   ]
  },
  {
   "cell_type": "code",
   "execution_count": 14,
   "metadata": {
    "slideshow": {
     "slide_type": "slide"
    }
   },
   "outputs": [
    {
     "output_type": "execute_result",
     "data": {
      "text/plain": "<tf.Tensor: id=150, shape=(32, 3), dtype=float64, numpy=\narray([[ 0.19715791, -2.65199814, -1.89507023],\n       [ 0.11810277, -3.07360605, -1.99518786],\n       [-1.36611156, -0.69997234, -1.99148885],\n       [ 0.27133565, -4.0130654 , -2.17399727],\n       [-1.21147563, -0.44321155, -1.81847692],\n       [-1.21158338, -0.52383741, -1.86001924],\n       [-1.53334467, -0.95393928, -2.14527836],\n       [-1.45407403, -0.37107966, -1.9620761 ],\n       [-1.59999474, -0.36751234, -2.14992359],\n       [ 1.08962067, -4.78793556, -2.38606975],\n       [-1.37471903, -0.87967459, -1.93511096],\n       [ 0.12377464, -3.07722957, -1.8710775 ],\n       [ 0.78177196, -5.28057684, -2.65313751],\n       [-0.18159187, -2.68179269, -2.02370875],\n       [ 1.22866186, -4.64750795, -2.31820406],\n       [ 0.67957201, -4.01662179, -2.1137351 ],\n       [-1.27793359, -0.86761332, -1.93781696],\n       [-1.35051682, -0.58363917, -1.88634261],\n       [ 0.18466848, -2.56857843, -1.83430551],\n       [-1.3043791 , -0.71839478, -1.82015777],\n       [ 0.13227435, -2.97815317, -1.9689977 ],\n       [ 0.23881066, -3.01064635, -2.14883826],\n       [ 0.60698878, -3.73264764, -2.06226074],\n       [ 0.0294279 , -2.19795325, -1.67884917],\n       [-1.2395598 , -0.47612502, -1.86285844],\n       [ 0.15647656, -2.68211775, -1.92022934],\n       [ 0.39378995, -3.68734783, -2.12406464],\n       [ 0.32590883, -4.13262989, -2.32236076],\n       [-1.2200831 , -0.6229138 , -1.76209904],\n       [ 1.0437627 , -4.40804296, -2.25254182],\n       [ 0.0133379 , -2.72067513, -2.0667928 ],\n       [ 0.43229225, -3.12808898, -1.81584986]])>"
     },
     "metadata": {},
     "execution_count": 14
    }
   ],
   "source": [
    "tf.keras.backend.set_floatx('float64')\n",
    "lin_layers = tf.keras.layers.Dense(3)\n",
    "lin_layers(X)\n",
    "## Builds and calls the layer\n",
    "# 3 is t he output shape (we have 3 classes)\n",
    "# so the dense layer has 32 inputs and 3 outputs\n",
    "# 2 total layers\n",
    "# first layer with 32 nodes and the second layer with 3 nodes.\n"
   ]
  },
  {
   "cell_type": "code",
   "execution_count": 15,
   "metadata": {
    "slideshow": {
     "slide_type": "slide"
    }
   },
   "outputs": [
    {
     "output_type": "execute_result",
     "data": {
      "text/plain": "[<tf.Variable 'dense_4/kernel:0' shape=(4, 3) dtype=float64, numpy=\n array([[-0.15379239,  0.44918537, -0.22061611],\n        [-0.42148004, -0.47740489, -0.29029364],\n        [ 0.57419492, -0.77803903,  0.09548661],\n        [-0.1270493 , -0.77832004, -0.22319903]])>,\n <tf.Variable 'dense_4/bias:0' shape=(3,) dtype=float64, numpy=array([0., 0., 0.])>]"
     },
     "metadata": {},
     "execution_count": 15
    }
   ],
   "source": [
    "lin_layers.trainable_variables"
   ]
  },
  {
   "cell_type": "code",
   "execution_count": 16,
   "metadata": {
    "colab": {},
    "colab_type": "code",
    "id": "2fZ6oL2ig3ZK",
    "slideshow": {
     "slide_type": "slide"
    }
   },
   "outputs": [],
   "source": [
    "## create a keras model\n",
    "model = tf.keras.Sequential([\n",
    "  tf.keras.layers.Dense(3)\n",
    "])"
   ]
  },
  {
   "cell_type": "code",
   "execution_count": 22,
   "metadata": {},
   "outputs": [
    {
     "output_type": "stream",
     "name": "stdout",
     "text": "Model: \"sequential\"\n_________________________________________________________________\nLayer (type)                 Output Shape              Param #   \n=================================================================\ndense_5 (Dense)              multiple                  15        \n=================================================================\nTotal params: 15\nTrainable params: 15\nNon-trainable params: 0\n_________________________________________________________________\nNone\n"
    }
   ],
   "source": [
    "print(model.summary())"
   ]
  },
  {
   "cell_type": "code",
   "execution_count": 17,
   "metadata": {
    "colab": {},
    "colab_type": "code",
    "id": "xe6SQ5NrpB-I",
    "slideshow": {
     "slide_type": "slide"
    }
   },
   "outputs": [
    {
     "output_type": "execute_result",
     "data": {
      "text/plain": "<tf.Tensor: id=182, shape=(5, 3), dtype=float64, numpy=\narray([[-6.85618146, -4.55284752,  6.55058938],\n       [-6.9468754 , -4.65034573,  6.47356689],\n       [-5.44786264, -5.87296937,  3.36803636],\n       [-7.27449514, -4.58619917,  7.25579513],\n       [-5.0959646 , -5.44975128,  3.30536745]])>"
     },
     "metadata": {},
     "execution_count": 17
    }
   ],
   "source": [
    "## model is callable outputs decision function\n",
    "logits = model(X)\n",
    "logits[:5]"
   ]
  },
  {
   "cell_type": "code",
   "execution_count": 18,
   "metadata": {
    "colab": {},
    "colab_type": "code",
    "id": "_tRwHZmTNTX2",
    "slideshow": {
     "slide_type": "slide"
    }
   },
   "outputs": [
    {
     "output_type": "execute_result",
     "data": {
      "text/plain": "<tf.Tensor: id=187, shape=(5, 3), dtype=float64, numpy=\narray([[1.50489503e-06, 1.50602239e-05, 9.99983435e-01],\n       [1.48446143e-06, 1.47549955e-05, 9.99983761e-01],\n       [1.48319132e-04, 9.69562183e-05, 9.99754725e-01],\n       [4.89296127e-07, 7.19587956e-06, 9.99992315e-01],\n       [2.24482187e-04, 1.57592041e-04, 9.99617926e-01]])>"
     },
     "metadata": {},
     "execution_count": 18
    }
   ],
   "source": [
    "## Apply softmax to logits to get predicted probabilities\n",
    "tf.nn.softmax(logits[:5])"
   ]
  },
  {
   "cell_type": "code",
   "execution_count": 19,
   "metadata": {
    "colab": {},
    "colab_type": "code",
    "id": "-Jzm_GoErz8B",
    "slideshow": {
     "slide_type": "fragment"
    }
   },
   "outputs": [],
   "source": [
    "y_pred = tf.argmax(logits, axis=1)"
   ]
  },
  {
   "cell_type": "code",
   "execution_count": 20,
   "metadata": {
    "colab": {},
    "colab_type": "code",
    "id": "QOsi6b-1CXIn",
    "slideshow": {
     "slide_type": "slide"
    }
   },
   "outputs": [
    {
     "output_type": "execute_result",
     "data": {
      "text/plain": "<tf.Tensor: id=213, shape=(), dtype=float64, numpy=7.322078704833984>"
     },
     "metadata": {},
     "execution_count": 20
    }
   ],
   "source": [
    "#similar to binary crossentropy for logistical regression\n",
    "#sparse means y= 0,1,2 and not one hot encoded\n",
    "## Create the losses\n",
    "logistic_loss = tf.keras.losses.SparseCategoricalCrossentropy(from_logits=True)\n",
    "\n",
    "logistic_loss(y,logits)"
   ]
  },
  {
   "cell_type": "code",
   "execution_count": 21,
   "metadata": {
    "colab": {},
    "colab_type": "code",
    "id": "tMAT4DcMPwI-",
    "slideshow": {
     "slide_type": "slide"
    }
   },
   "outputs": [
    {
     "output_type": "stream",
     "name": "stdout",
     "text": "Loss test: 7.322078704833984\n"
    }
   ],
   "source": [
    "def loss(model, x, y, training):\n",
    "  # training=training is needed only if there are layers with different\n",
    "  # behavior during training versus inference (e.g. Dropout).\n",
    "  logits = model(x, training=training)\n",
    "\n",
    "  return logistic_loss(y,logits)\n",
    "\n",
    "\n",
    "l = loss(model, X, y, training=False)\n",
    "print(\"Loss test: {}\".format(l))"
   ]
  },
  {
   "cell_type": "markdown",
   "metadata": {
    "slideshow": {
     "slide_type": "slide"
    }
   },
   "source": [
    "### Automatic differentiation\n",
    "\n",
    "- Tensorflow knows how to differentiate built in expressions (exp, matmul, log, etc.)\n",
    "- you can also use chain rule to \"backpropagate\" derivatives (more on this later)\n",
    "- as a simple case, consider linear classifier with loss $\\ell(y x^\\top \\beta)$ (eg logistic)"
   ]
  },
  {
   "cell_type": "markdown",
   "metadata": {
    "slideshow": {
     "slide_type": "fragment"
    }
   },
   "source": [
    "If tensorflow has $\\ell$ and $\\ell'$ saved then it can automatically perform the following op\n",
    "$$\\frac{\\partial}{\\partial \\beta} \\ell(y x^\\top \\beta) = \\ell'(y x^\\top \\beta) \\cdot y x$$\n",
    "this is the simplest example of automatic differentiation."
   ]
  },
  {
   "cell_type": "code",
   "execution_count": 34,
   "metadata": {
    "colab": {},
    "colab_type": "code",
    "id": "x57HcKWhKkei",
    "slideshow": {
     "slide_type": "slide"
    }
   },
   "outputs": [],
   "source": [
    "## Gradient tape lets TF know with respect to what to take gradients\n",
    "def grad(model, inputs, targets):\n",
    "  with tf.GradientTape() as tape:\n",
    "    loss_value = loss(model, inputs, targets, training=True)\n",
    "  return loss_value, tape.gradient(loss_value, model.trainable_variables)"
   ]
  },
  {
   "cell_type": "code",
   "execution_count": 35,
   "metadata": {
    "colab": {},
    "colab_type": "code",
    "id": "8xxi2NNGKwG_",
    "slideshow": {
     "slide_type": "slide"
    }
   },
   "outputs": [],
   "source": [
    "## Create optimizer (chooses learning schedule etc)\n",
    "optimizer = tf.keras.optimizers.SGD(learning_rate=0.01)"
   ]
  },
  {
   "cell_type": "code",
   "execution_count": 36,
   "metadata": {
    "colab": {},
    "colab_type": "code",
    "id": "rxRNTFVe56RG",
    "slideshow": {
     "slide_type": "slide"
    }
   },
   "outputs": [
    {
     "output_type": "stream",
     "name": "stdout",
     "text": "Step: 0, Initial Loss: 7.322078704833984\nStep: 1,         Loss: 6.928747177124023\n"
    }
   ],
   "source": [
    "loss_value, grads = grad(model, X, y)\n",
    "\n",
    "print(\"Step: {}, Initial Loss: {}\".format(optimizer.iterations.numpy(),\n",
    "                                          loss_value.numpy()))\n",
    "\n",
    "## Optimizer has apply_gradients step which will modify all training variables appropriately\n",
    "optimizer.apply_gradients(zip(grads, model.trainable_variables))\n",
    "\n",
    "print(\"Step: {},         Loss: {}\".format(optimizer.iterations.numpy(),\n",
    "                                          loss(model, X, y, training=True).numpy()))"
   ]
  },
  {
   "cell_type": "code",
   "execution_count": 37,
   "metadata": {
    "colab": {},
    "colab_type": "code",
    "id": "AIgulGRUhpto",
    "slideshow": {
     "slide_type": "slide"
    }
   },
   "outputs": [
    {
     "output_type": "stream",
     "name": "stdout",
     "text": "Epoch 000: Loss: 5.720, Accuracy: 35.000%\nEpoch 050: Loss: 0.519, Accuracy: 70.833%\nEpoch 100: Loss: 0.455, Accuracy: 83.333%\nEpoch 150: Loss: 0.403, Accuracy: 90.833%\nEpoch 200: Loss: 0.381, Accuracy: 96.667%\n"
    }
   ],
   "source": [
    "## Note: Rerunning this cell uses the same model variables\n",
    "\n",
    "# Keep results for plotting\n",
    "train_loss_results = []\n",
    "train_accuracy_results = []\n",
    "\n",
    "num_epochs = 201\n",
    "\n",
    "for epoch in range(num_epochs):\n",
    "  epoch_loss_avg = tf.keras.metrics.Mean()\n",
    "  epoch_accuracy = tf.keras.metrics.SparseCategoricalAccuracy()\n",
    "\n",
    "  # Training loop - using batches of 32\n",
    "  for x, y in train_dataset:\n",
    "    # Optimize the model\n",
    "    loss_value, grads = grad(model, x, y)\n",
    "    optimizer.apply_gradients(zip(grads, model.trainable_variables))\n",
    "\n",
    "    # Track progress\n",
    "    epoch_loss_avg.update_state(loss_value)  # Add current batch loss\n",
    "    epoch_accuracy.update_state(y, model(x, training=True))\n",
    "\n",
    "  # End epoch\n",
    "  train_loss_results.append(epoch_loss_avg.result())\n",
    "  train_accuracy_results.append(epoch_accuracy.result())\n",
    "\n",
    "  if epoch % 50 == 0:\n",
    "    print(\"Epoch {:03d}: Loss: {:.3f}, Accuracy: {:.3%}\".format(epoch,\n",
    "                                                                epoch_loss_avg.result(),\n",
    "                                                                epoch_accuracy.result()))"
   ]
  },
  {
   "cell_type": "code",
   "execution_count": 38,
   "metadata": {
    "colab": {},
    "colab_type": "code",
    "id": "agjvNd2iUGFn",
    "slideshow": {
     "slide_type": "slide"
    }
   },
   "outputs": [
    {
     "output_type": "display_data",
     "data": {
      "text/plain": "<Figure size 864x576 with 2 Axes>",
      "image/svg+xml": "<?xml version=\"1.0\" encoding=\"utf-8\" standalone=\"no\"?>\r\n<!DOCTYPE svg PUBLIC \"-//W3C//DTD SVG 1.1//EN\"\r\n  \"http://www.w3.org/Graphics/SVG/1.1/DTD/svg11.dtd\">\r\n<!-- Created with matplotlib (https://matplotlib.org/) -->\r\n<svg height=\"541.1075pt\" version=\"1.1\" viewBox=\"0 0 724.4525 541.1075\" width=\"724.4525pt\" xmlns=\"http://www.w3.org/2000/svg\" xmlns:xlink=\"http://www.w3.org/1999/xlink\">\r\n <defs>\r\n  <style type=\"text/css\">\r\n*{stroke-linecap:butt;stroke-linejoin:round;}\r\n  </style>\r\n </defs>\r\n <g id=\"figure_1\">\r\n  <g id=\"patch_1\">\r\n   <path d=\"M 0 541.1075 \r\nL 724.4525 541.1075 \r\nL 724.4525 0 \r\nL 0 0 \r\nz\r\n\" style=\"fill:none;\"/>\r\n  </g>\r\n  <g id=\"axes_1\">\r\n   <g id=\"patch_2\">\r\n    <path d=\"M 47.6525 262.472727 \r\nL 717.2525 262.472727 \r\nL 717.2525 64.8 \r\nL 47.6525 64.8 \r\nz\r\n\" style=\"fill:#ffffff;\"/>\r\n   </g>\r\n   <g id=\"matplotlib.axis_1\">\r\n    <g id=\"xtick_1\">\r\n     <g id=\"line2d_1\">\r\n      <defs>\r\n       <path d=\"M 0 0 \r\nL 0 3.5 \r\n\" id=\"m653dae055b\" style=\"stroke:#000000;stroke-width:0.8;\"/>\r\n      </defs>\r\n      <g>\r\n       <use style=\"stroke:#000000;stroke-width:0.8;\" x=\"78.088864\" xlink:href=\"#m653dae055b\" y=\"262.472727\"/>\r\n      </g>\r\n     </g>\r\n    </g>\r\n    <g id=\"xtick_2\">\r\n     <g id=\"line2d_2\">\r\n      <g>\r\n       <use style=\"stroke:#000000;stroke-width:0.8;\" x=\"154.179773\" xlink:href=\"#m653dae055b\" y=\"262.472727\"/>\r\n      </g>\r\n     </g>\r\n    </g>\r\n    <g id=\"xtick_3\">\r\n     <g id=\"line2d_3\">\r\n      <g>\r\n       <use style=\"stroke:#000000;stroke-width:0.8;\" x=\"230.270682\" xlink:href=\"#m653dae055b\" y=\"262.472727\"/>\r\n      </g>\r\n     </g>\r\n    </g>\r\n    <g id=\"xtick_4\">\r\n     <g id=\"line2d_4\">\r\n      <g>\r\n       <use style=\"stroke:#000000;stroke-width:0.8;\" x=\"306.361591\" xlink:href=\"#m653dae055b\" y=\"262.472727\"/>\r\n      </g>\r\n     </g>\r\n    </g>\r\n    <g id=\"xtick_5\">\r\n     <g id=\"line2d_5\">\r\n      <g>\r\n       <use style=\"stroke:#000000;stroke-width:0.8;\" x=\"382.4525\" xlink:href=\"#m653dae055b\" y=\"262.472727\"/>\r\n      </g>\r\n     </g>\r\n    </g>\r\n    <g id=\"xtick_6\">\r\n     <g id=\"line2d_6\">\r\n      <g>\r\n       <use style=\"stroke:#000000;stroke-width:0.8;\" x=\"458.543409\" xlink:href=\"#m653dae055b\" y=\"262.472727\"/>\r\n      </g>\r\n     </g>\r\n    </g>\r\n    <g id=\"xtick_7\">\r\n     <g id=\"line2d_7\">\r\n      <g>\r\n       <use style=\"stroke:#000000;stroke-width:0.8;\" x=\"534.634318\" xlink:href=\"#m653dae055b\" y=\"262.472727\"/>\r\n      </g>\r\n     </g>\r\n    </g>\r\n    <g id=\"xtick_8\">\r\n     <g id=\"line2d_8\">\r\n      <g>\r\n       <use style=\"stroke:#000000;stroke-width:0.8;\" x=\"610.725227\" xlink:href=\"#m653dae055b\" y=\"262.472727\"/>\r\n      </g>\r\n     </g>\r\n    </g>\r\n    <g id=\"xtick_9\">\r\n     <g id=\"line2d_9\">\r\n      <g>\r\n       <use style=\"stroke:#000000;stroke-width:0.8;\" x=\"686.816136\" xlink:href=\"#m653dae055b\" y=\"262.472727\"/>\r\n      </g>\r\n     </g>\r\n    </g>\r\n   </g>\r\n   <g id=\"matplotlib.axis_2\">\r\n    <g id=\"ytick_1\">\r\n     <g id=\"line2d_10\">\r\n      <defs>\r\n       <path d=\"M 0 0 \r\nL -3.5 0 \r\n\" id=\"m88bcfcea5b\" style=\"stroke:#000000;stroke-width:0.8;\"/>\r\n      </defs>\r\n      <g>\r\n       <use style=\"stroke:#000000;stroke-width:0.8;\" x=\"47.6525\" xlink:href=\"#m88bcfcea5b\" y=\"232.316959\"/>\r\n      </g>\r\n     </g>\r\n     <g id=\"text_1\">\r\n      <!-- 1 -->\r\n      <defs>\r\n       <path d=\"M 12.40625 8.296875 \r\nL 28.515625 8.296875 \r\nL 28.515625 63.921875 \r\nL 10.984375 60.40625 \r\nL 10.984375 69.390625 \r\nL 28.421875 72.90625 \r\nL 38.28125 72.90625 \r\nL 38.28125 8.296875 \r\nL 54.390625 8.296875 \r\nL 54.390625 0 \r\nL 12.40625 0 \r\nz\r\n\" id=\"DejaVuSans-49\"/>\r\n      </defs>\r\n      <g transform=\"translate(34.29 236.116178)scale(0.1 -0.1)\">\r\n       <use xlink:href=\"#DejaVuSans-49\"/>\r\n      </g>\r\n     </g>\r\n    </g>\r\n    <g id=\"ytick_2\">\r\n     <g id=\"line2d_11\">\r\n      <g>\r\n       <use style=\"stroke:#000000;stroke-width:0.8;\" x=\"47.6525\" xlink:href=\"#m88bcfcea5b\" y=\"198.729182\"/>\r\n      </g>\r\n     </g>\r\n     <g id=\"text_2\">\r\n      <!-- 2 -->\r\n      <defs>\r\n       <path d=\"M 19.1875 8.296875 \r\nL 53.609375 8.296875 \r\nL 53.609375 0 \r\nL 7.328125 0 \r\nL 7.328125 8.296875 \r\nQ 12.9375 14.109375 22.625 23.890625 \r\nQ 32.328125 33.6875 34.8125 36.53125 \r\nQ 39.546875 41.84375 41.421875 45.53125 \r\nQ 43.3125 49.21875 43.3125 52.78125 \r\nQ 43.3125 58.59375 39.234375 62.25 \r\nQ 35.15625 65.921875 28.609375 65.921875 \r\nQ 23.96875 65.921875 18.8125 64.3125 \r\nQ 13.671875 62.703125 7.8125 59.421875 \r\nL 7.8125 69.390625 \r\nQ 13.765625 71.78125 18.9375 73 \r\nQ 24.125 74.21875 28.421875 74.21875 \r\nQ 39.75 74.21875 46.484375 68.546875 \r\nQ 53.21875 62.890625 53.21875 53.421875 \r\nQ 53.21875 48.921875 51.53125 44.890625 \r\nQ 49.859375 40.875 45.40625 35.40625 \r\nQ 44.1875 33.984375 37.640625 27.21875 \r\nQ 31.109375 20.453125 19.1875 8.296875 \r\nz\r\n\" id=\"DejaVuSans-50\"/>\r\n      </defs>\r\n      <g transform=\"translate(34.29 202.528401)scale(0.1 -0.1)\">\r\n       <use xlink:href=\"#DejaVuSans-50\"/>\r\n      </g>\r\n     </g>\r\n    </g>\r\n    <g id=\"ytick_3\">\r\n     <g id=\"line2d_12\">\r\n      <g>\r\n       <use style=\"stroke:#000000;stroke-width:0.8;\" x=\"47.6525\" xlink:href=\"#m88bcfcea5b\" y=\"165.141405\"/>\r\n      </g>\r\n     </g>\r\n     <g id=\"text_3\">\r\n      <!-- 3 -->\r\n      <defs>\r\n       <path d=\"M 40.578125 39.3125 \r\nQ 47.65625 37.796875 51.625 33 \r\nQ 55.609375 28.21875 55.609375 21.1875 \r\nQ 55.609375 10.40625 48.1875 4.484375 \r\nQ 40.765625 -1.421875 27.09375 -1.421875 \r\nQ 22.515625 -1.421875 17.65625 -0.515625 \r\nQ 12.796875 0.390625 7.625 2.203125 \r\nL 7.625 11.71875 \r\nQ 11.71875 9.328125 16.59375 8.109375 \r\nQ 21.484375 6.890625 26.8125 6.890625 \r\nQ 36.078125 6.890625 40.9375 10.546875 \r\nQ 45.796875 14.203125 45.796875 21.1875 \r\nQ 45.796875 27.640625 41.28125 31.265625 \r\nQ 36.765625 34.90625 28.71875 34.90625 \r\nL 20.21875 34.90625 \r\nL 20.21875 43.015625 \r\nL 29.109375 43.015625 \r\nQ 36.375 43.015625 40.234375 45.921875 \r\nQ 44.09375 48.828125 44.09375 54.296875 \r\nQ 44.09375 59.90625 40.109375 62.90625 \r\nQ 36.140625 65.921875 28.71875 65.921875 \r\nQ 24.65625 65.921875 20.015625 65.03125 \r\nQ 15.375 64.15625 9.8125 62.3125 \r\nL 9.8125 71.09375 \r\nQ 15.4375 72.65625 20.34375 73.4375 \r\nQ 25.25 74.21875 29.59375 74.21875 \r\nQ 40.828125 74.21875 47.359375 69.109375 \r\nQ 53.90625 64.015625 53.90625 55.328125 \r\nQ 53.90625 49.265625 50.4375 45.09375 \r\nQ 46.96875 40.921875 40.578125 39.3125 \r\nz\r\n\" id=\"DejaVuSans-51\"/>\r\n      </defs>\r\n      <g transform=\"translate(34.29 168.940624)scale(0.1 -0.1)\">\r\n       <use xlink:href=\"#DejaVuSans-51\"/>\r\n      </g>\r\n     </g>\r\n    </g>\r\n    <g id=\"ytick_4\">\r\n     <g id=\"line2d_13\">\r\n      <g>\r\n       <use style=\"stroke:#000000;stroke-width:0.8;\" x=\"47.6525\" xlink:href=\"#m88bcfcea5b\" y=\"131.553627\"/>\r\n      </g>\r\n     </g>\r\n     <g id=\"text_4\">\r\n      <!-- 4 -->\r\n      <defs>\r\n       <path d=\"M 37.796875 64.3125 \r\nL 12.890625 25.390625 \r\nL 37.796875 25.390625 \r\nz\r\nM 35.203125 72.90625 \r\nL 47.609375 72.90625 \r\nL 47.609375 25.390625 \r\nL 58.015625 25.390625 \r\nL 58.015625 17.1875 \r\nL 47.609375 17.1875 \r\nL 47.609375 0 \r\nL 37.796875 0 \r\nL 37.796875 17.1875 \r\nL 4.890625 17.1875 \r\nL 4.890625 26.703125 \r\nz\r\n\" id=\"DejaVuSans-52\"/>\r\n      </defs>\r\n      <g transform=\"translate(34.29 135.352846)scale(0.1 -0.1)\">\r\n       <use xlink:href=\"#DejaVuSans-52\"/>\r\n      </g>\r\n     </g>\r\n    </g>\r\n    <g id=\"ytick_5\">\r\n     <g id=\"line2d_14\">\r\n      <g>\r\n       <use style=\"stroke:#000000;stroke-width:0.8;\" x=\"47.6525\" xlink:href=\"#m88bcfcea5b\" y=\"97.96585\"/>\r\n      </g>\r\n     </g>\r\n     <g id=\"text_5\">\r\n      <!-- 5 -->\r\n      <defs>\r\n       <path d=\"M 10.796875 72.90625 \r\nL 49.515625 72.90625 \r\nL 49.515625 64.59375 \r\nL 19.828125 64.59375 \r\nL 19.828125 46.734375 \r\nQ 21.96875 47.46875 24.109375 47.828125 \r\nQ 26.265625 48.1875 28.421875 48.1875 \r\nQ 40.625 48.1875 47.75 41.5 \r\nQ 54.890625 34.8125 54.890625 23.390625 \r\nQ 54.890625 11.625 47.5625 5.09375 \r\nQ 40.234375 -1.421875 26.90625 -1.421875 \r\nQ 22.3125 -1.421875 17.546875 -0.640625 \r\nQ 12.796875 0.140625 7.71875 1.703125 \r\nL 7.71875 11.625 \r\nQ 12.109375 9.234375 16.796875 8.0625 \r\nQ 21.484375 6.890625 26.703125 6.890625 \r\nQ 35.15625 6.890625 40.078125 11.328125 \r\nQ 45.015625 15.765625 45.015625 23.390625 \r\nQ 45.015625 31 40.078125 35.4375 \r\nQ 35.15625 39.890625 26.703125 39.890625 \r\nQ 22.75 39.890625 18.8125 39.015625 \r\nQ 14.890625 38.140625 10.796875 36.28125 \r\nz\r\n\" id=\"DejaVuSans-53\"/>\r\n      </defs>\r\n      <g transform=\"translate(34.29 101.765069)scale(0.1 -0.1)\">\r\n       <use xlink:href=\"#DejaVuSans-53\"/>\r\n      </g>\r\n     </g>\r\n    </g>\r\n    <g id=\"text_6\">\r\n     <!-- Loss -->\r\n     <defs>\r\n      <path d=\"M 9.8125 72.90625 \r\nL 19.671875 72.90625 \r\nL 19.671875 8.296875 \r\nL 55.171875 8.296875 \r\nL 55.171875 0 \r\nL 9.8125 0 \r\nz\r\n\" id=\"DejaVuSans-76\"/>\r\n      <path d=\"M 30.609375 48.390625 \r\nQ 23.390625 48.390625 19.1875 42.75 \r\nQ 14.984375 37.109375 14.984375 27.296875 \r\nQ 14.984375 17.484375 19.15625 11.84375 \r\nQ 23.34375 6.203125 30.609375 6.203125 \r\nQ 37.796875 6.203125 41.984375 11.859375 \r\nQ 46.1875 17.53125 46.1875 27.296875 \r\nQ 46.1875 37.015625 41.984375 42.703125 \r\nQ 37.796875 48.390625 30.609375 48.390625 \r\nz\r\nM 30.609375 56 \r\nQ 42.328125 56 49.015625 48.375 \r\nQ 55.71875 40.765625 55.71875 27.296875 \r\nQ 55.71875 13.875 49.015625 6.21875 \r\nQ 42.328125 -1.421875 30.609375 -1.421875 \r\nQ 18.84375 -1.421875 12.171875 6.21875 \r\nQ 5.515625 13.875 5.515625 27.296875 \r\nQ 5.515625 40.765625 12.171875 48.375 \r\nQ 18.84375 56 30.609375 56 \r\nz\r\n\" id=\"DejaVuSans-111\"/>\r\n      <path d=\"M 44.28125 53.078125 \r\nL 44.28125 44.578125 \r\nQ 40.484375 46.53125 36.375 47.5 \r\nQ 32.28125 48.484375 27.875 48.484375 \r\nQ 21.1875 48.484375 17.84375 46.4375 \r\nQ 14.5 44.390625 14.5 40.28125 \r\nQ 14.5 37.15625 16.890625 35.375 \r\nQ 19.28125 33.59375 26.515625 31.984375 \r\nL 29.59375 31.296875 \r\nQ 39.15625 29.25 43.1875 25.515625 \r\nQ 47.21875 21.78125 47.21875 15.09375 \r\nQ 47.21875 7.46875 41.1875 3.015625 \r\nQ 35.15625 -1.421875 24.609375 -1.421875 \r\nQ 20.21875 -1.421875 15.453125 -0.5625 \r\nQ 10.6875 0.296875 5.421875 2 \r\nL 5.421875 11.28125 \r\nQ 10.40625 8.6875 15.234375 7.390625 \r\nQ 20.0625 6.109375 24.8125 6.109375 \r\nQ 31.15625 6.109375 34.5625 8.28125 \r\nQ 37.984375 10.453125 37.984375 14.40625 \r\nQ 37.984375 18.0625 35.515625 20.015625 \r\nQ 33.0625 21.96875 24.703125 23.78125 \r\nL 21.578125 24.515625 \r\nQ 13.234375 26.265625 9.515625 29.90625 \r\nQ 5.8125 33.546875 5.8125 39.890625 \r\nQ 5.8125 47.609375 11.28125 51.796875 \r\nQ 16.75 56 26.8125 56 \r\nQ 31.78125 56 36.171875 55.265625 \r\nQ 40.578125 54.546875 44.28125 53.078125 \r\nz\r\n\" id=\"DejaVuSans-115\"/>\r\n     </defs>\r\n     <g transform=\"translate(27.378437 179.111832)rotate(-90)scale(0.14 -0.14)\">\r\n      <use xlink:href=\"#DejaVuSans-76\"/>\r\n      <use x=\"55.697266\" xlink:href=\"#DejaVuSans-111\"/>\r\n      <use x=\"116.878906\" xlink:href=\"#DejaVuSans-115\"/>\r\n      <use x=\"168.978516\" xlink:href=\"#DejaVuSans-115\"/>\r\n     </g>\r\n    </g>\r\n   </g>\r\n   <g id=\"line2d_15\">\r\n    <path clip-path=\"url(#p32edbb64b5)\" d=\"M 78.088864 73.785124 \r\nL 81.1325 117.090789 \r\nL 84.176136 157.09239 \r\nL 87.219773 195.364322 \r\nL 90.263409 224.455479 \r\nL 93.307045 236.556148 \r\nL 96.350682 240.49462 \r\nL 99.394318 242.149245 \r\nL 102.437955 243.088169 \r\nL 108.525227 244.178696 \r\nL 111.568864 244.198431 \r\nL 114.6125 244.863764 \r\nL 117.656136 244.974017 \r\nL 120.699773 244.944296 \r\nL 123.743409 245.172416 \r\nL 126.787045 245.579763 \r\nL 129.830682 245.521349 \r\nL 132.874318 245.748975 \r\nL 135.917955 245.718979 \r\nL 138.961591 245.986022 \r\nL 145.048864 245.940921 \r\nL 148.0925 246.198014 \r\nL 157.223409 246.395955 \r\nL 160.267045 246.790565 \r\nL 166.354318 246.480164 \r\nL 172.441591 247.230864 \r\nL 175.485227 247.167473 \r\nL 178.528864 246.876168 \r\nL 184.616136 247.223833 \r\nL 187.659773 247.417245 \r\nL 193.747045 247.62215 \r\nL 196.790682 247.803979 \r\nL 199.834318 247.729329 \r\nL 202.877955 247.868677 \r\nL 205.921591 247.77957 \r\nL 208.965227 247.876595 \r\nL 212.008864 247.802361 \r\nL 215.0525 248.188428 \r\nL 218.096136 248.017735 \r\nL 221.139773 248.234766 \r\nL 224.183409 248.162381 \r\nL 227.227045 248.440036 \r\nL 230.270682 248.468965 \r\nL 233.314318 248.269715 \r\nL 236.357955 248.630653 \r\nL 242.445227 248.710068 \r\nL 245.488864 248.434749 \r\nL 248.5325 248.91298 \r\nL 251.576136 248.889328 \r\nL 257.663409 249.157002 \r\nL 269.837955 249.095409 \r\nL 272.881591 249.238147 \r\nL 275.925227 249.232609 \r\nL 282.0125 249.448717 \r\nL 288.099773 249.431054 \r\nL 291.143409 249.574123 \r\nL 294.187045 249.542683 \r\nL 297.230682 249.345857 \r\nL 300.274318 249.728984 \r\nL 303.317955 249.768755 \r\nL 306.361591 249.688951 \r\nL 309.405227 249.995526 \r\nL 318.536136 250.049853 \r\nL 321.579773 250.154663 \r\nL 324.623409 250.104748 \r\nL 333.754318 250.445192 \r\nL 336.797955 250.287553 \r\nL 339.841591 250.313173 \r\nL 342.885227 249.985342 \r\nL 345.928864 250.272694 \r\nL 355.059773 250.58705 \r\nL 358.103409 250.389111 \r\nL 361.147045 250.641305 \r\nL 376.365227 250.932663 \r\nL 379.408864 250.702464 \r\nL 382.4525 250.605578 \r\nL 385.496136 250.780146 \r\nL 388.539773 250.812558 \r\nL 394.627045 251.179423 \r\nL 397.670682 251.081904 \r\nL 400.714318 251.144921 \r\nL 403.757955 250.998443 \r\nL 406.801591 251.062245 \r\nL 409.845227 250.979101 \r\nL 415.9325 251.2169 \r\nL 418.976136 251.053399 \r\nL 422.019773 251.045046 \r\nL 425.063409 251.206922 \r\nL 428.107045 251.169292 \r\nL 431.150682 251.47428 \r\nL 434.194318 251.560195 \r\nL 437.237955 251.250544 \r\nL 440.281591 251.459725 \r\nL 446.368864 251.46314 \r\nL 458.543409 251.638976 \r\nL 461.587045 251.426926 \r\nL 464.630682 251.626755 \r\nL 467.674318 251.602693 \r\nL 470.717955 251.761342 \r\nL 473.761591 251.660123 \r\nL 482.8925 251.860287 \r\nL 485.936136 251.730226 \r\nL 488.979773 252.139283 \r\nL 492.023409 251.981357 \r\nL 495.067045 252.08132 \r\nL 498.110682 252.035927 \r\nL 507.241591 252.203861 \r\nL 510.285227 252.203391 \r\nL 513.328864 251.94757 \r\nL 516.3725 252.236578 \r\nL 519.416136 252.165598 \r\nL 522.459773 252.500718 \r\nL 525.503409 252.377516 \r\nL 528.547045 252.426034 \r\nL 534.634318 252.358364 \r\nL 540.721591 252.374897 \r\nL 543.765227 252.466709 \r\nL 549.8525 252.40458 \r\nL 555.939773 252.587417 \r\nL 558.983409 252.354362 \r\nL 562.027045 252.666344 \r\nL 565.070682 252.775225 \r\nL 571.157955 252.721625 \r\nL 580.288864 252.769469 \r\nL 583.3325 252.657825 \r\nL 589.419773 252.681127 \r\nL 592.463409 252.997513 \r\nL 595.507045 252.858397 \r\nL 598.550682 252.933525 \r\nL 601.594318 252.780282 \r\nL 604.637955 252.928115 \r\nL 607.681591 252.895813 \r\nL 610.725227 253.024179 \r\nL 622.899773 252.965693 \r\nL 625.943409 252.984712 \r\nL 628.987045 252.745457 \r\nL 635.074318 253.175852 \r\nL 641.161591 252.920164 \r\nL 650.2925 253.299 \r\nL 653.336136 253.102415 \r\nL 656.379773 253.230889 \r\nL 659.423409 253.232336 \r\nL 662.467045 253.373709 \r\nL 665.510682 253.253715 \r\nL 671.597955 253.487603 \r\nL 674.641591 253.250525 \r\nL 677.685227 253.418477 \r\nL 680.728864 253.272432 \r\nL 683.7725 253.27677 \r\nL 686.816136 253.099248 \r\nL 686.816136 253.099248 \r\n\" style=\"fill:none;stroke:#1f77b4;stroke-linecap:square;stroke-width:1.5;\"/>\r\n   </g>\r\n   <g id=\"patch_3\">\r\n    <path d=\"M 47.6525 262.472727 \r\nL 47.6525 64.8 \r\n\" style=\"fill:none;stroke:#000000;stroke-linecap:square;stroke-linejoin:miter;stroke-width:0.8;\"/>\r\n   </g>\r\n   <g id=\"patch_4\">\r\n    <path d=\"M 717.2525 262.472727 \r\nL 717.2525 64.8 \r\n\" style=\"fill:none;stroke:#000000;stroke-linecap:square;stroke-linejoin:miter;stroke-width:0.8;\"/>\r\n   </g>\r\n   <g id=\"patch_5\">\r\n    <path d=\"M 47.6525 262.472727 \r\nL 717.2525 262.472727 \r\n\" style=\"fill:none;stroke:#000000;stroke-linecap:square;stroke-linejoin:miter;stroke-width:0.8;\"/>\r\n   </g>\r\n   <g id=\"patch_6\">\r\n    <path d=\"M 47.6525 64.8 \r\nL 717.2525 64.8 \r\n\" style=\"fill:none;stroke:#000000;stroke-linecap:square;stroke-linejoin:miter;stroke-width:0.8;\"/>\r\n   </g>\r\n  </g>\r\n  <g id=\"axes_2\">\r\n   <g id=\"patch_7\">\r\n    <path d=\"M 47.6525 499.68 \r\nL 717.2525 499.68 \r\nL 717.2525 302.007273 \r\nL 47.6525 302.007273 \r\nz\r\n\" style=\"fill:#ffffff;\"/>\r\n   </g>\r\n   <g id=\"matplotlib.axis_3\">\r\n    <g id=\"xtick_10\">\r\n     <g id=\"line2d_16\">\r\n      <g>\r\n       <use style=\"stroke:#000000;stroke-width:0.8;\" x=\"78.088864\" xlink:href=\"#m653dae055b\" y=\"499.68\"/>\r\n      </g>\r\n     </g>\r\n     <g id=\"text_7\">\r\n      <!-- 0 -->\r\n      <defs>\r\n       <path d=\"M 31.78125 66.40625 \r\nQ 24.171875 66.40625 20.328125 58.90625 \r\nQ 16.5 51.421875 16.5 36.375 \r\nQ 16.5 21.390625 20.328125 13.890625 \r\nQ 24.171875 6.390625 31.78125 6.390625 \r\nQ 39.453125 6.390625 43.28125 13.890625 \r\nQ 47.125 21.390625 47.125 36.375 \r\nQ 47.125 51.421875 43.28125 58.90625 \r\nQ 39.453125 66.40625 31.78125 66.40625 \r\nz\r\nM 31.78125 74.21875 \r\nQ 44.046875 74.21875 50.515625 64.515625 \r\nQ 56.984375 54.828125 56.984375 36.375 \r\nQ 56.984375 17.96875 50.515625 8.265625 \r\nQ 44.046875 -1.421875 31.78125 -1.421875 \r\nQ 19.53125 -1.421875 13.0625 8.265625 \r\nQ 6.59375 17.96875 6.59375 36.375 \r\nQ 6.59375 54.828125 13.0625 64.515625 \r\nQ 19.53125 74.21875 31.78125 74.21875 \r\nz\r\n\" id=\"DejaVuSans-48\"/>\r\n      </defs>\r\n      <g transform=\"translate(74.907614 514.278437)scale(0.1 -0.1)\">\r\n       <use xlink:href=\"#DejaVuSans-48\"/>\r\n      </g>\r\n     </g>\r\n    </g>\r\n    <g id=\"xtick_11\">\r\n     <g id=\"line2d_17\">\r\n      <g>\r\n       <use style=\"stroke:#000000;stroke-width:0.8;\" x=\"154.179773\" xlink:href=\"#m653dae055b\" y=\"499.68\"/>\r\n      </g>\r\n     </g>\r\n     <g id=\"text_8\">\r\n      <!-- 25 -->\r\n      <g transform=\"translate(147.817273 514.278437)scale(0.1 -0.1)\">\r\n       <use xlink:href=\"#DejaVuSans-50\"/>\r\n       <use x=\"63.623047\" xlink:href=\"#DejaVuSans-53\"/>\r\n      </g>\r\n     </g>\r\n    </g>\r\n    <g id=\"xtick_12\">\r\n     <g id=\"line2d_18\">\r\n      <g>\r\n       <use style=\"stroke:#000000;stroke-width:0.8;\" x=\"230.270682\" xlink:href=\"#m653dae055b\" y=\"499.68\"/>\r\n      </g>\r\n     </g>\r\n     <g id=\"text_9\">\r\n      <!-- 50 -->\r\n      <g transform=\"translate(223.908182 514.278437)scale(0.1 -0.1)\">\r\n       <use xlink:href=\"#DejaVuSans-53\"/>\r\n       <use x=\"63.623047\" xlink:href=\"#DejaVuSans-48\"/>\r\n      </g>\r\n     </g>\r\n    </g>\r\n    <g id=\"xtick_13\">\r\n     <g id=\"line2d_19\">\r\n      <g>\r\n       <use style=\"stroke:#000000;stroke-width:0.8;\" x=\"306.361591\" xlink:href=\"#m653dae055b\" y=\"499.68\"/>\r\n      </g>\r\n     </g>\r\n     <g id=\"text_10\">\r\n      <!-- 75 -->\r\n      <defs>\r\n       <path d=\"M 8.203125 72.90625 \r\nL 55.078125 72.90625 \r\nL 55.078125 68.703125 \r\nL 28.609375 0 \r\nL 18.3125 0 \r\nL 43.21875 64.59375 \r\nL 8.203125 64.59375 \r\nz\r\n\" id=\"DejaVuSans-55\"/>\r\n      </defs>\r\n      <g transform=\"translate(299.999091 514.278437)scale(0.1 -0.1)\">\r\n       <use xlink:href=\"#DejaVuSans-55\"/>\r\n       <use x=\"63.623047\" xlink:href=\"#DejaVuSans-53\"/>\r\n      </g>\r\n     </g>\r\n    </g>\r\n    <g id=\"xtick_14\">\r\n     <g id=\"line2d_20\">\r\n      <g>\r\n       <use style=\"stroke:#000000;stroke-width:0.8;\" x=\"382.4525\" xlink:href=\"#m653dae055b\" y=\"499.68\"/>\r\n      </g>\r\n     </g>\r\n     <g id=\"text_11\">\r\n      <!-- 100 -->\r\n      <g transform=\"translate(372.90875 514.278437)scale(0.1 -0.1)\">\r\n       <use xlink:href=\"#DejaVuSans-49\"/>\r\n       <use x=\"63.623047\" xlink:href=\"#DejaVuSans-48\"/>\r\n       <use x=\"127.246094\" xlink:href=\"#DejaVuSans-48\"/>\r\n      </g>\r\n     </g>\r\n    </g>\r\n    <g id=\"xtick_15\">\r\n     <g id=\"line2d_21\">\r\n      <g>\r\n       <use style=\"stroke:#000000;stroke-width:0.8;\" x=\"458.543409\" xlink:href=\"#m653dae055b\" y=\"499.68\"/>\r\n      </g>\r\n     </g>\r\n     <g id=\"text_12\">\r\n      <!-- 125 -->\r\n      <g transform=\"translate(448.999659 514.278437)scale(0.1 -0.1)\">\r\n       <use xlink:href=\"#DejaVuSans-49\"/>\r\n       <use x=\"63.623047\" xlink:href=\"#DejaVuSans-50\"/>\r\n       <use x=\"127.246094\" xlink:href=\"#DejaVuSans-53\"/>\r\n      </g>\r\n     </g>\r\n    </g>\r\n    <g id=\"xtick_16\">\r\n     <g id=\"line2d_22\">\r\n      <g>\r\n       <use style=\"stroke:#000000;stroke-width:0.8;\" x=\"534.634318\" xlink:href=\"#m653dae055b\" y=\"499.68\"/>\r\n      </g>\r\n     </g>\r\n     <g id=\"text_13\">\r\n      <!-- 150 -->\r\n      <g transform=\"translate(525.090568 514.278437)scale(0.1 -0.1)\">\r\n       <use xlink:href=\"#DejaVuSans-49\"/>\r\n       <use x=\"63.623047\" xlink:href=\"#DejaVuSans-53\"/>\r\n       <use x=\"127.246094\" xlink:href=\"#DejaVuSans-48\"/>\r\n      </g>\r\n     </g>\r\n    </g>\r\n    <g id=\"xtick_17\">\r\n     <g id=\"line2d_23\">\r\n      <g>\r\n       <use style=\"stroke:#000000;stroke-width:0.8;\" x=\"610.725227\" xlink:href=\"#m653dae055b\" y=\"499.68\"/>\r\n      </g>\r\n     </g>\r\n     <g id=\"text_14\">\r\n      <!-- 175 -->\r\n      <g transform=\"translate(601.181477 514.278437)scale(0.1 -0.1)\">\r\n       <use xlink:href=\"#DejaVuSans-49\"/>\r\n       <use x=\"63.623047\" xlink:href=\"#DejaVuSans-55\"/>\r\n       <use x=\"127.246094\" xlink:href=\"#DejaVuSans-53\"/>\r\n      </g>\r\n     </g>\r\n    </g>\r\n    <g id=\"xtick_18\">\r\n     <g id=\"line2d_24\">\r\n      <g>\r\n       <use style=\"stroke:#000000;stroke-width:0.8;\" x=\"686.816136\" xlink:href=\"#m653dae055b\" y=\"499.68\"/>\r\n      </g>\r\n     </g>\r\n     <g id=\"text_15\">\r\n      <!-- 200 -->\r\n      <g transform=\"translate(677.272386 514.278437)scale(0.1 -0.1)\">\r\n       <use xlink:href=\"#DejaVuSans-50\"/>\r\n       <use x=\"63.623047\" xlink:href=\"#DejaVuSans-48\"/>\r\n       <use x=\"127.246094\" xlink:href=\"#DejaVuSans-48\"/>\r\n      </g>\r\n     </g>\r\n    </g>\r\n    <g id=\"text_16\">\r\n     <!-- Epoch -->\r\n     <defs>\r\n      <path d=\"M 9.8125 72.90625 \r\nL 55.90625 72.90625 \r\nL 55.90625 64.59375 \r\nL 19.671875 64.59375 \r\nL 19.671875 43.015625 \r\nL 54.390625 43.015625 \r\nL 54.390625 34.71875 \r\nL 19.671875 34.71875 \r\nL 19.671875 8.296875 \r\nL 56.78125 8.296875 \r\nL 56.78125 0 \r\nL 9.8125 0 \r\nz\r\n\" id=\"DejaVuSans-69\"/>\r\n      <path d=\"M 18.109375 8.203125 \r\nL 18.109375 -20.796875 \r\nL 9.078125 -20.796875 \r\nL 9.078125 54.6875 \r\nL 18.109375 54.6875 \r\nL 18.109375 46.390625 \r\nQ 20.953125 51.265625 25.265625 53.625 \r\nQ 29.59375 56 35.59375 56 \r\nQ 45.5625 56 51.78125 48.09375 \r\nQ 58.015625 40.1875 58.015625 27.296875 \r\nQ 58.015625 14.40625 51.78125 6.484375 \r\nQ 45.5625 -1.421875 35.59375 -1.421875 \r\nQ 29.59375 -1.421875 25.265625 0.953125 \r\nQ 20.953125 3.328125 18.109375 8.203125 \r\nz\r\nM 48.6875 27.296875 \r\nQ 48.6875 37.203125 44.609375 42.84375 \r\nQ 40.53125 48.484375 33.40625 48.484375 \r\nQ 26.265625 48.484375 22.1875 42.84375 \r\nQ 18.109375 37.203125 18.109375 27.296875 \r\nQ 18.109375 17.390625 22.1875 11.75 \r\nQ 26.265625 6.109375 33.40625 6.109375 \r\nQ 40.53125 6.109375 44.609375 11.75 \r\nQ 48.6875 17.390625 48.6875 27.296875 \r\nz\r\n\" id=\"DejaVuSans-112\"/>\r\n      <path d=\"M 48.78125 52.59375 \r\nL 48.78125 44.1875 \r\nQ 44.96875 46.296875 41.140625 47.34375 \r\nQ 37.3125 48.390625 33.40625 48.390625 \r\nQ 24.65625 48.390625 19.8125 42.84375 \r\nQ 14.984375 37.3125 14.984375 27.296875 \r\nQ 14.984375 17.28125 19.8125 11.734375 \r\nQ 24.65625 6.203125 33.40625 6.203125 \r\nQ 37.3125 6.203125 41.140625 7.25 \r\nQ 44.96875 8.296875 48.78125 10.40625 \r\nL 48.78125 2.09375 \r\nQ 45.015625 0.34375 40.984375 -0.53125 \r\nQ 36.96875 -1.421875 32.421875 -1.421875 \r\nQ 20.0625 -1.421875 12.78125 6.34375 \r\nQ 5.515625 14.109375 5.515625 27.296875 \r\nQ 5.515625 40.671875 12.859375 48.328125 \r\nQ 20.21875 56 33.015625 56 \r\nQ 37.15625 56 41.109375 55.140625 \r\nQ 45.0625 54.296875 48.78125 52.59375 \r\nz\r\n\" id=\"DejaVuSans-99\"/>\r\n      <path d=\"M 54.890625 33.015625 \r\nL 54.890625 0 \r\nL 45.90625 0 \r\nL 45.90625 32.71875 \r\nQ 45.90625 40.484375 42.875 44.328125 \r\nQ 39.84375 48.1875 33.796875 48.1875 \r\nQ 26.515625 48.1875 22.3125 43.546875 \r\nQ 18.109375 38.921875 18.109375 30.90625 \r\nL 18.109375 0 \r\nL 9.078125 0 \r\nL 9.078125 75.984375 \r\nL 18.109375 75.984375 \r\nL 18.109375 46.1875 \r\nQ 21.34375 51.125 25.703125 53.5625 \r\nQ 30.078125 56 35.796875 56 \r\nQ 45.21875 56 50.046875 50.171875 \r\nQ 54.890625 44.34375 54.890625 33.015625 \r\nz\r\n\" id=\"DejaVuSans-104\"/>\r\n     </defs>\r\n     <g transform=\"translate(361.017187 530.995937)scale(0.14 -0.14)\">\r\n      <use xlink:href=\"#DejaVuSans-69\"/>\r\n      <use x=\"63.183594\" xlink:href=\"#DejaVuSans-112\"/>\r\n      <use x=\"126.660156\" xlink:href=\"#DejaVuSans-111\"/>\r\n      <use x=\"187.841797\" xlink:href=\"#DejaVuSans-99\"/>\r\n      <use x=\"242.822266\" xlink:href=\"#DejaVuSans-104\"/>\r\n     </g>\r\n    </g>\r\n   </g>\r\n   <g id=\"matplotlib.axis_4\">\r\n    <g id=\"ytick_6\">\r\n     <g id=\"line2d_25\">\r\n      <g>\r\n       <use style=\"stroke:#000000;stroke-width:0.8;\" x=\"47.6525\" xlink:href=\"#m88bcfcea5b\" y=\"476.124402\"/>\r\n      </g>\r\n     </g>\r\n     <g id=\"text_17\">\r\n      <!-- 0.4 -->\r\n      <defs>\r\n       <path d=\"M 10.6875 12.40625 \r\nL 21 12.40625 \r\nL 21 0 \r\nL 10.6875 0 \r\nz\r\n\" id=\"DejaVuSans-46\"/>\r\n      </defs>\r\n      <g transform=\"translate(24.749375 479.923621)scale(0.1 -0.1)\">\r\n       <use xlink:href=\"#DejaVuSans-48\"/>\r\n       <use x=\"63.623047\" xlink:href=\"#DejaVuSans-46\"/>\r\n       <use x=\"95.410156\" xlink:href=\"#DejaVuSans-52\"/>\r\n      </g>\r\n     </g>\r\n    </g>\r\n    <g id=\"ytick_7\">\r\n     <g id=\"line2d_26\">\r\n      <g>\r\n       <use style=\"stroke:#000000;stroke-width:0.8;\" x=\"47.6525\" xlink:href=\"#m88bcfcea5b\" y=\"446.983459\"/>\r\n      </g>\r\n     </g>\r\n     <g id=\"text_18\">\r\n      <!-- 0.5 -->\r\n      <g transform=\"translate(24.749375 450.782678)scale(0.1 -0.1)\">\r\n       <use xlink:href=\"#DejaVuSans-48\"/>\r\n       <use x=\"63.623047\" xlink:href=\"#DejaVuSans-46\"/>\r\n       <use x=\"95.410156\" xlink:href=\"#DejaVuSans-53\"/>\r\n      </g>\r\n     </g>\r\n    </g>\r\n    <g id=\"ytick_8\">\r\n     <g id=\"line2d_27\">\r\n      <g>\r\n       <use style=\"stroke:#000000;stroke-width:0.8;\" x=\"47.6525\" xlink:href=\"#m88bcfcea5b\" y=\"417.842515\"/>\r\n      </g>\r\n     </g>\r\n     <g id=\"text_19\">\r\n      <!-- 0.6 -->\r\n      <defs>\r\n       <path d=\"M 33.015625 40.375 \r\nQ 26.375 40.375 22.484375 35.828125 \r\nQ 18.609375 31.296875 18.609375 23.390625 \r\nQ 18.609375 15.53125 22.484375 10.953125 \r\nQ 26.375 6.390625 33.015625 6.390625 \r\nQ 39.65625 6.390625 43.53125 10.953125 \r\nQ 47.40625 15.53125 47.40625 23.390625 \r\nQ 47.40625 31.296875 43.53125 35.828125 \r\nQ 39.65625 40.375 33.015625 40.375 \r\nz\r\nM 52.59375 71.296875 \r\nL 52.59375 62.3125 \r\nQ 48.875 64.0625 45.09375 64.984375 \r\nQ 41.3125 65.921875 37.59375 65.921875 \r\nQ 27.828125 65.921875 22.671875 59.328125 \r\nQ 17.53125 52.734375 16.796875 39.40625 \r\nQ 19.671875 43.65625 24.015625 45.921875 \r\nQ 28.375 48.1875 33.59375 48.1875 \r\nQ 44.578125 48.1875 50.953125 41.515625 \r\nQ 57.328125 34.859375 57.328125 23.390625 \r\nQ 57.328125 12.15625 50.6875 5.359375 \r\nQ 44.046875 -1.421875 33.015625 -1.421875 \r\nQ 20.359375 -1.421875 13.671875 8.265625 \r\nQ 6.984375 17.96875 6.984375 36.375 \r\nQ 6.984375 53.65625 15.1875 63.9375 \r\nQ 23.390625 74.21875 37.203125 74.21875 \r\nQ 40.921875 74.21875 44.703125 73.484375 \r\nQ 48.484375 72.75 52.59375 71.296875 \r\nz\r\n\" id=\"DejaVuSans-54\"/>\r\n      </defs>\r\n      <g transform=\"translate(24.749375 421.641734)scale(0.1 -0.1)\">\r\n       <use xlink:href=\"#DejaVuSans-48\"/>\r\n       <use x=\"63.623047\" xlink:href=\"#DejaVuSans-46\"/>\r\n       <use x=\"95.410156\" xlink:href=\"#DejaVuSans-54\"/>\r\n      </g>\r\n     </g>\r\n    </g>\r\n    <g id=\"ytick_9\">\r\n     <g id=\"line2d_28\">\r\n      <g>\r\n       <use style=\"stroke:#000000;stroke-width:0.8;\" x=\"47.6525\" xlink:href=\"#m88bcfcea5b\" y=\"388.701572\"/>\r\n      </g>\r\n     </g>\r\n     <g id=\"text_20\">\r\n      <!-- 0.7 -->\r\n      <g transform=\"translate(24.749375 392.50079)scale(0.1 -0.1)\">\r\n       <use xlink:href=\"#DejaVuSans-48\"/>\r\n       <use x=\"63.623047\" xlink:href=\"#DejaVuSans-46\"/>\r\n       <use x=\"95.410156\" xlink:href=\"#DejaVuSans-55\"/>\r\n      </g>\r\n     </g>\r\n    </g>\r\n    <g id=\"ytick_10\">\r\n     <g id=\"line2d_29\">\r\n      <g>\r\n       <use style=\"stroke:#000000;stroke-width:0.8;\" x=\"47.6525\" xlink:href=\"#m88bcfcea5b\" y=\"359.560628\"/>\r\n      </g>\r\n     </g>\r\n     <g id=\"text_21\">\r\n      <!-- 0.8 -->\r\n      <defs>\r\n       <path d=\"M 31.78125 34.625 \r\nQ 24.75 34.625 20.71875 30.859375 \r\nQ 16.703125 27.09375 16.703125 20.515625 \r\nQ 16.703125 13.921875 20.71875 10.15625 \r\nQ 24.75 6.390625 31.78125 6.390625 \r\nQ 38.8125 6.390625 42.859375 10.171875 \r\nQ 46.921875 13.96875 46.921875 20.515625 \r\nQ 46.921875 27.09375 42.890625 30.859375 \r\nQ 38.875 34.625 31.78125 34.625 \r\nz\r\nM 21.921875 38.8125 \r\nQ 15.578125 40.375 12.03125 44.71875 \r\nQ 8.5 49.078125 8.5 55.328125 \r\nQ 8.5 64.0625 14.71875 69.140625 \r\nQ 20.953125 74.21875 31.78125 74.21875 \r\nQ 42.671875 74.21875 48.875 69.140625 \r\nQ 55.078125 64.0625 55.078125 55.328125 \r\nQ 55.078125 49.078125 51.53125 44.71875 \r\nQ 48 40.375 41.703125 38.8125 \r\nQ 48.828125 37.15625 52.796875 32.3125 \r\nQ 56.78125 27.484375 56.78125 20.515625 \r\nQ 56.78125 9.90625 50.3125 4.234375 \r\nQ 43.84375 -1.421875 31.78125 -1.421875 \r\nQ 19.734375 -1.421875 13.25 4.234375 \r\nQ 6.78125 9.90625 6.78125 20.515625 \r\nQ 6.78125 27.484375 10.78125 32.3125 \r\nQ 14.796875 37.15625 21.921875 38.8125 \r\nz\r\nM 18.3125 54.390625 \r\nQ 18.3125 48.734375 21.84375 45.5625 \r\nQ 25.390625 42.390625 31.78125 42.390625 \r\nQ 38.140625 42.390625 41.71875 45.5625 \r\nQ 45.3125 48.734375 45.3125 54.390625 \r\nQ 45.3125 60.0625 41.71875 63.234375 \r\nQ 38.140625 66.40625 31.78125 66.40625 \r\nQ 25.390625 66.40625 21.84375 63.234375 \r\nQ 18.3125 60.0625 18.3125 54.390625 \r\nz\r\n\" id=\"DejaVuSans-56\"/>\r\n      </defs>\r\n      <g transform=\"translate(24.749375 363.359847)scale(0.1 -0.1)\">\r\n       <use xlink:href=\"#DejaVuSans-48\"/>\r\n       <use x=\"63.623047\" xlink:href=\"#DejaVuSans-46\"/>\r\n       <use x=\"95.410156\" xlink:href=\"#DejaVuSans-56\"/>\r\n      </g>\r\n     </g>\r\n    </g>\r\n    <g id=\"ytick_11\">\r\n     <g id=\"line2d_30\">\r\n      <g>\r\n       <use style=\"stroke:#000000;stroke-width:0.8;\" x=\"47.6525\" xlink:href=\"#m88bcfcea5b\" y=\"330.419684\"/>\r\n      </g>\r\n     </g>\r\n     <g id=\"text_22\">\r\n      <!-- 0.9 -->\r\n      <defs>\r\n       <path d=\"M 10.984375 1.515625 \r\nL 10.984375 10.5 \r\nQ 14.703125 8.734375 18.5 7.8125 \r\nQ 22.3125 6.890625 25.984375 6.890625 \r\nQ 35.75 6.890625 40.890625 13.453125 \r\nQ 46.046875 20.015625 46.78125 33.40625 \r\nQ 43.953125 29.203125 39.59375 26.953125 \r\nQ 35.25 24.703125 29.984375 24.703125 \r\nQ 19.046875 24.703125 12.671875 31.3125 \r\nQ 6.296875 37.9375 6.296875 49.421875 \r\nQ 6.296875 60.640625 12.9375 67.421875 \r\nQ 19.578125 74.21875 30.609375 74.21875 \r\nQ 43.265625 74.21875 49.921875 64.515625 \r\nQ 56.59375 54.828125 56.59375 36.375 \r\nQ 56.59375 19.140625 48.40625 8.859375 \r\nQ 40.234375 -1.421875 26.421875 -1.421875 \r\nQ 22.703125 -1.421875 18.890625 -0.6875 \r\nQ 15.09375 0.046875 10.984375 1.515625 \r\nz\r\nM 30.609375 32.421875 \r\nQ 37.25 32.421875 41.125 36.953125 \r\nQ 45.015625 41.5 45.015625 49.421875 \r\nQ 45.015625 57.28125 41.125 61.84375 \r\nQ 37.25 66.40625 30.609375 66.40625 \r\nQ 23.96875 66.40625 20.09375 61.84375 \r\nQ 16.21875 57.28125 16.21875 49.421875 \r\nQ 16.21875 41.5 20.09375 36.953125 \r\nQ 23.96875 32.421875 30.609375 32.421875 \r\nz\r\n\" id=\"DejaVuSans-57\"/>\r\n      </defs>\r\n      <g transform=\"translate(24.749375 334.218903)scale(0.1 -0.1)\">\r\n       <use xlink:href=\"#DejaVuSans-48\"/>\r\n       <use x=\"63.623047\" xlink:href=\"#DejaVuSans-46\"/>\r\n       <use x=\"95.410156\" xlink:href=\"#DejaVuSans-57\"/>\r\n      </g>\r\n     </g>\r\n    </g>\r\n    <g id=\"text_23\">\r\n     <!-- Accuracy -->\r\n     <defs>\r\n      <path d=\"M 34.1875 63.1875 \r\nL 20.796875 26.90625 \r\nL 47.609375 26.90625 \r\nz\r\nM 28.609375 72.90625 \r\nL 39.796875 72.90625 \r\nL 67.578125 0 \r\nL 57.328125 0 \r\nL 50.6875 18.703125 \r\nL 17.828125 18.703125 \r\nL 11.1875 0 \r\nL 0.78125 0 \r\nz\r\n\" id=\"DejaVuSans-65\"/>\r\n      <path d=\"M 8.5 21.578125 \r\nL 8.5 54.6875 \r\nL 17.484375 54.6875 \r\nL 17.484375 21.921875 \r\nQ 17.484375 14.15625 20.5 10.265625 \r\nQ 23.53125 6.390625 29.59375 6.390625 \r\nQ 36.859375 6.390625 41.078125 11.03125 \r\nQ 45.3125 15.671875 45.3125 23.6875 \r\nL 45.3125 54.6875 \r\nL 54.296875 54.6875 \r\nL 54.296875 0 \r\nL 45.3125 0 \r\nL 45.3125 8.40625 \r\nQ 42.046875 3.421875 37.71875 1 \r\nQ 33.40625 -1.421875 27.6875 -1.421875 \r\nQ 18.265625 -1.421875 13.375 4.4375 \r\nQ 8.5 10.296875 8.5 21.578125 \r\nz\r\nM 31.109375 56 \r\nz\r\n\" id=\"DejaVuSans-117\"/>\r\n      <path d=\"M 41.109375 46.296875 \r\nQ 39.59375 47.171875 37.8125 47.578125 \r\nQ 36.03125 48 33.890625 48 \r\nQ 26.265625 48 22.1875 43.046875 \r\nQ 18.109375 38.09375 18.109375 28.8125 \r\nL 18.109375 0 \r\nL 9.078125 0 \r\nL 9.078125 54.6875 \r\nL 18.109375 54.6875 \r\nL 18.109375 46.1875 \r\nQ 20.953125 51.171875 25.484375 53.578125 \r\nQ 30.03125 56 36.53125 56 \r\nQ 37.453125 56 38.578125 55.875 \r\nQ 39.703125 55.765625 41.0625 55.515625 \r\nz\r\n\" id=\"DejaVuSans-114\"/>\r\n      <path d=\"M 34.28125 27.484375 \r\nQ 23.390625 27.484375 19.1875 25 \r\nQ 14.984375 22.515625 14.984375 16.5 \r\nQ 14.984375 11.71875 18.140625 8.90625 \r\nQ 21.296875 6.109375 26.703125 6.109375 \r\nQ 34.1875 6.109375 38.703125 11.40625 \r\nQ 43.21875 16.703125 43.21875 25.484375 \r\nL 43.21875 27.484375 \r\nz\r\nM 52.203125 31.203125 \r\nL 52.203125 0 \r\nL 43.21875 0 \r\nL 43.21875 8.296875 \r\nQ 40.140625 3.328125 35.546875 0.953125 \r\nQ 30.953125 -1.421875 24.3125 -1.421875 \r\nQ 15.921875 -1.421875 10.953125 3.296875 \r\nQ 6 8.015625 6 15.921875 \r\nQ 6 25.140625 12.171875 29.828125 \r\nQ 18.359375 34.515625 30.609375 34.515625 \r\nL 43.21875 34.515625 \r\nL 43.21875 35.40625 \r\nQ 43.21875 41.609375 39.140625 45 \r\nQ 35.0625 48.390625 27.6875 48.390625 \r\nQ 23 48.390625 18.546875 47.265625 \r\nQ 14.109375 46.140625 10.015625 43.890625 \r\nL 10.015625 52.203125 \r\nQ 14.9375 54.109375 19.578125 55.046875 \r\nQ 24.21875 56 28.609375 56 \r\nQ 40.484375 56 46.34375 49.84375 \r\nQ 52.203125 43.703125 52.203125 31.203125 \r\nz\r\n\" id=\"DejaVuSans-97\"/>\r\n      <path d=\"M 32.171875 -5.078125 \r\nQ 28.375 -14.84375 24.75 -17.8125 \r\nQ 21.140625 -20.796875 15.09375 -20.796875 \r\nL 7.90625 -20.796875 \r\nL 7.90625 -13.28125 \r\nL 13.1875 -13.28125 \r\nQ 16.890625 -13.28125 18.9375 -11.515625 \r\nQ 21 -9.765625 23.484375 -3.21875 \r\nL 25.09375 0.875 \r\nL 2.984375 54.6875 \r\nL 12.5 54.6875 \r\nL 29.59375 11.921875 \r\nL 46.6875 54.6875 \r\nL 56.203125 54.6875 \r\nz\r\n\" id=\"DejaVuSans-121\"/>\r\n     </defs>\r\n     <g transform=\"translate(17.837812 432.924418)rotate(-90)scale(0.14 -0.14)\">\r\n      <use xlink:href=\"#DejaVuSans-65\"/>\r\n      <use x=\"68.392578\" xlink:href=\"#DejaVuSans-99\"/>\r\n      <use x=\"123.373047\" xlink:href=\"#DejaVuSans-99\"/>\r\n      <use x=\"178.353516\" xlink:href=\"#DejaVuSans-117\"/>\r\n      <use x=\"241.732422\" xlink:href=\"#DejaVuSans-114\"/>\r\n      <use x=\"282.845703\" xlink:href=\"#DejaVuSans-97\"/>\r\n      <use x=\"344.125\" xlink:href=\"#DejaVuSans-99\"/>\r\n      <use x=\"399.105469\" xlink:href=\"#DejaVuSans-121\"/>\r\n     </g>\r\n    </g>\r\n   </g>\r\n   <g id=\"line2d_31\">\r\n    <path clip-path=\"url(#p8a9de3c271)\" d=\"M 78.088864 490.694876 \r\nL 90.263409 490.694876 \r\nL 93.307045 454.268696 \r\nL 96.350682 398.415214 \r\nL 99.394318 388.701575 \r\nL 102.437955 403.27205 \r\nL 105.481591 398.415214 \r\nL 111.568864 393.558394 \r\nL 114.6125 393.558394 \r\nL 117.656136 395.986804 \r\nL 120.699773 386.273165 \r\nL 123.743409 393.558394 \r\nL 126.787045 391.129985 \r\nL 129.830682 395.986804 \r\nL 132.874318 388.701575 \r\nL 135.917955 386.273165 \r\nL 138.961591 388.701575 \r\nL 145.048864 388.701575 \r\nL 148.0925 383.844756 \r\nL 151.136136 388.701575 \r\nL 157.223409 388.701575 \r\nL 160.267045 383.844756 \r\nL 166.354318 388.701575 \r\nL 169.397955 388.701575 \r\nL 172.441591 383.844756 \r\nL 175.485227 388.701575 \r\nL 178.528864 386.273165 \r\nL 181.5725 386.273165 \r\nL 184.616136 383.844756 \r\nL 187.659773 388.701575 \r\nL 190.703409 381.416329 \r\nL 193.747045 383.844756 \r\nL 196.790682 388.701575 \r\nL 199.834318 386.273165 \r\nL 202.877955 378.987919 \r\nL 208.965227 388.701575 \r\nL 212.008864 361.989034 \r\nL 215.0525 388.701575 \r\nL 218.096136 386.273165 \r\nL 221.139773 381.416329 \r\nL 224.183409 374.1311 \r\nL 227.227045 386.273165 \r\nL 230.270682 386.273165 \r\nL 233.314318 388.701575 \r\nL 236.357955 376.559509 \r\nL 239.401591 386.273165 \r\nL 242.445227 366.845871 \r\nL 245.488864 388.701575 \r\nL 251.576136 378.987919 \r\nL 254.619773 386.273165 \r\nL 257.663409 383.844756 \r\nL 260.707045 378.987919 \r\nL 263.750682 383.844756 \r\nL 266.794318 366.845871 \r\nL 269.837955 383.844756 \r\nL 272.881591 371.70269 \r\nL 278.968864 381.416329 \r\nL 282.0125 374.1311 \r\nL 285.056136 347.418576 \r\nL 288.099773 383.844756 \r\nL 291.143409 352.275396 \r\nL 294.187045 383.844756 \r\nL 297.230682 376.559509 \r\nL 300.274318 371.70269 \r\nL 303.317955 374.1311 \r\nL 306.361591 378.987919 \r\nL 309.405227 361.989034 \r\nL 312.448864 378.987919 \r\nL 315.4925 376.559509 \r\nL 318.536136 347.418576 \r\nL 321.579773 378.987919 \r\nL 324.623409 344.990149 \r\nL 327.667045 383.844756 \r\nL 330.710682 376.559509 \r\nL 333.754318 354.703805 \r\nL 336.797955 374.1311 \r\nL 339.841591 366.845871 \r\nL 342.885227 369.27428 \r\nL 348.9725 364.417444 \r\nL 352.016136 354.703805 \r\nL 355.059773 349.846986 \r\nL 358.103409 357.132215 \r\nL 361.147045 337.70492 \r\nL 364.190682 337.70492 \r\nL 367.234318 364.417444 \r\nL 370.277955 374.1311 \r\nL 373.321591 371.70269 \r\nL 376.365227 349.846986 \r\nL 379.408864 361.989034 \r\nL 382.4525 349.846986 \r\nL 385.496136 323.134445 \r\nL 388.539773 344.990149 \r\nL 391.583409 340.13333 \r\nL 394.627045 359.560624 \r\nL 397.670682 364.417444 \r\nL 400.714318 347.418576 \r\nL 403.757955 352.275396 \r\nL 406.801591 337.70492 \r\nL 409.845227 344.990149 \r\nL 412.888864 357.132215 \r\nL 415.9325 332.848101 \r\nL 418.976136 361.989034 \r\nL 422.019773 327.991264 \r\nL 425.063409 342.56174 \r\nL 428.107045 337.70492 \r\nL 431.150682 330.419691 \r\nL 434.194318 342.56174 \r\nL 437.237955 344.990149 \r\nL 440.281591 320.706035 \r\nL 443.325227 332.848101 \r\nL 446.368864 349.846986 \r\nL 449.4125 347.418576 \r\nL 452.456136 327.991264 \r\nL 455.499773 342.56174 \r\nL 458.543409 325.562855 \r\nL 461.587045 349.846986 \r\nL 464.630682 320.706035 \r\nL 467.674318 337.70492 \r\nL 470.717955 315.849216 \r\nL 473.761591 340.13333 \r\nL 479.848864 320.706035 \r\nL 482.8925 327.991264 \r\nL 485.936136 342.56174 \r\nL 488.979773 330.419691 \r\nL 492.023409 337.70492 \r\nL 495.067045 320.706035 \r\nL 498.110682 340.13333 \r\nL 501.154318 318.277626 \r\nL 504.197955 344.990149 \r\nL 507.241591 325.562855 \r\nL 510.285227 335.276511 \r\nL 513.328864 323.134445 \r\nL 516.3725 320.706035 \r\nL 519.416136 325.562855 \r\nL 522.459773 327.991264 \r\nL 528.547045 327.991264 \r\nL 531.590682 323.134445 \r\nL 534.634318 327.991264 \r\nL 537.677955 330.419691 \r\nL 540.721591 323.134445 \r\nL 543.765227 335.276511 \r\nL 546.808864 323.134445 \r\nL 549.8525 320.706035 \r\nL 552.896136 332.848101 \r\nL 555.939773 332.848101 \r\nL 558.983409 325.562855 \r\nL 562.027045 320.706035 \r\nL 565.070682 337.70492 \r\nL 568.114318 332.848101 \r\nL 571.157955 318.277626 \r\nL 574.201591 323.134445 \r\nL 577.245227 323.134445 \r\nL 580.288864 318.277626 \r\nL 583.3325 318.277626 \r\nL 592.463409 325.562855 \r\nL 595.507045 320.706035 \r\nL 598.550682 323.134445 \r\nL 601.594318 332.848101 \r\nL 604.637955 320.706035 \r\nL 607.681591 323.134445 \r\nL 610.725227 320.706035 \r\nL 613.768864 315.849216 \r\nL 616.8125 325.562855 \r\nL 619.856136 323.134445 \r\nL 622.899773 318.277626 \r\nL 625.943409 327.991264 \r\nL 628.987045 318.277626 \r\nL 632.030682 318.277626 \r\nL 635.074318 323.134445 \r\nL 638.117955 320.706035 \r\nL 641.161591 327.991264 \r\nL 644.205227 315.849216 \r\nL 650.2925 320.706035 \r\nL 653.336136 327.991264 \r\nL 656.379773 327.991264 \r\nL 659.423409 313.420806 \r\nL 662.467045 323.134445 \r\nL 665.510682 327.991264 \r\nL 668.554318 313.420806 \r\nL 671.597955 315.849216 \r\nL 677.685227 315.849216 \r\nL 680.728864 318.277626 \r\nL 683.7725 323.134445 \r\nL 686.816136 310.992397 \r\nL 686.816136 310.992397 \r\n\" style=\"fill:none;stroke:#1f77b4;stroke-linecap:square;stroke-width:1.5;\"/>\r\n   </g>\r\n   <g id=\"patch_8\">\r\n    <path d=\"M 47.6525 499.68 \r\nL 47.6525 302.007273 \r\n\" style=\"fill:none;stroke:#000000;stroke-linecap:square;stroke-linejoin:miter;stroke-width:0.8;\"/>\r\n   </g>\r\n   <g id=\"patch_9\">\r\n    <path d=\"M 717.2525 499.68 \r\nL 717.2525 302.007273 \r\n\" style=\"fill:none;stroke:#000000;stroke-linecap:square;stroke-linejoin:miter;stroke-width:0.8;\"/>\r\n   </g>\r\n   <g id=\"patch_10\">\r\n    <path d=\"M 47.6525 499.68 \r\nL 717.2525 499.68 \r\n\" style=\"fill:none;stroke:#000000;stroke-linecap:square;stroke-linejoin:miter;stroke-width:0.8;\"/>\r\n   </g>\r\n   <g id=\"patch_11\">\r\n    <path d=\"M 47.6525 302.007273 \r\nL 717.2525 302.007273 \r\n\" style=\"fill:none;stroke:#000000;stroke-linecap:square;stroke-linejoin:miter;stroke-width:0.8;\"/>\r\n   </g>\r\n  </g>\r\n  <g id=\"text_24\">\r\n   <!-- Training Metrics -->\r\n   <defs>\r\n    <path d=\"M -0.296875 72.90625 \r\nL 61.375 72.90625 \r\nL 61.375 64.59375 \r\nL 35.5 64.59375 \r\nL 35.5 0 \r\nL 25.59375 0 \r\nL 25.59375 64.59375 \r\nL -0.296875 64.59375 \r\nz\r\n\" id=\"DejaVuSans-84\"/>\r\n    <path d=\"M 9.421875 54.6875 \r\nL 18.40625 54.6875 \r\nL 18.40625 0 \r\nL 9.421875 0 \r\nz\r\nM 9.421875 75.984375 \r\nL 18.40625 75.984375 \r\nL 18.40625 64.59375 \r\nL 9.421875 64.59375 \r\nz\r\n\" id=\"DejaVuSans-105\"/>\r\n    <path d=\"M 54.890625 33.015625 \r\nL 54.890625 0 \r\nL 45.90625 0 \r\nL 45.90625 32.71875 \r\nQ 45.90625 40.484375 42.875 44.328125 \r\nQ 39.84375 48.1875 33.796875 48.1875 \r\nQ 26.515625 48.1875 22.3125 43.546875 \r\nQ 18.109375 38.921875 18.109375 30.90625 \r\nL 18.109375 0 \r\nL 9.078125 0 \r\nL 9.078125 54.6875 \r\nL 18.109375 54.6875 \r\nL 18.109375 46.1875 \r\nQ 21.34375 51.125 25.703125 53.5625 \r\nQ 30.078125 56 35.796875 56 \r\nQ 45.21875 56 50.046875 50.171875 \r\nQ 54.890625 44.34375 54.890625 33.015625 \r\nz\r\n\" id=\"DejaVuSans-110\"/>\r\n    <path d=\"M 45.40625 27.984375 \r\nQ 45.40625 37.75 41.375 43.109375 \r\nQ 37.359375 48.484375 30.078125 48.484375 \r\nQ 22.859375 48.484375 18.828125 43.109375 \r\nQ 14.796875 37.75 14.796875 27.984375 \r\nQ 14.796875 18.265625 18.828125 12.890625 \r\nQ 22.859375 7.515625 30.078125 7.515625 \r\nQ 37.359375 7.515625 41.375 12.890625 \r\nQ 45.40625 18.265625 45.40625 27.984375 \r\nz\r\nM 54.390625 6.78125 \r\nQ 54.390625 -7.171875 48.1875 -13.984375 \r\nQ 42 -20.796875 29.203125 -20.796875 \r\nQ 24.46875 -20.796875 20.265625 -20.09375 \r\nQ 16.0625 -19.390625 12.109375 -17.921875 \r\nL 12.109375 -9.1875 \r\nQ 16.0625 -11.328125 19.921875 -12.34375 \r\nQ 23.78125 -13.375 27.78125 -13.375 \r\nQ 36.625 -13.375 41.015625 -8.765625 \r\nQ 45.40625 -4.15625 45.40625 5.171875 \r\nL 45.40625 9.625 \r\nQ 42.625 4.78125 38.28125 2.390625 \r\nQ 33.9375 0 27.875 0 \r\nQ 17.828125 0 11.671875 7.65625 \r\nQ 5.515625 15.328125 5.515625 27.984375 \r\nQ 5.515625 40.671875 11.671875 48.328125 \r\nQ 17.828125 56 27.875 56 \r\nQ 33.9375 56 38.28125 53.609375 \r\nQ 42.625 51.21875 45.40625 46.390625 \r\nL 45.40625 54.6875 \r\nL 54.390625 54.6875 \r\nz\r\n\" id=\"DejaVuSans-103\"/>\r\n    <path id=\"DejaVuSans-32\"/>\r\n    <path d=\"M 9.8125 72.90625 \r\nL 24.515625 72.90625 \r\nL 43.109375 23.296875 \r\nL 61.8125 72.90625 \r\nL 76.515625 72.90625 \r\nL 76.515625 0 \r\nL 66.890625 0 \r\nL 66.890625 64.015625 \r\nL 48.09375 14.015625 \r\nL 38.1875 14.015625 \r\nL 19.390625 64.015625 \r\nL 19.390625 0 \r\nL 9.8125 0 \r\nz\r\n\" id=\"DejaVuSans-77\"/>\r\n    <path d=\"M 56.203125 29.59375 \r\nL 56.203125 25.203125 \r\nL 14.890625 25.203125 \r\nQ 15.484375 15.921875 20.484375 11.0625 \r\nQ 25.484375 6.203125 34.421875 6.203125 \r\nQ 39.59375 6.203125 44.453125 7.46875 \r\nQ 49.3125 8.734375 54.109375 11.28125 \r\nL 54.109375 2.78125 \r\nQ 49.265625 0.734375 44.1875 -0.34375 \r\nQ 39.109375 -1.421875 33.890625 -1.421875 \r\nQ 20.796875 -1.421875 13.15625 6.1875 \r\nQ 5.515625 13.8125 5.515625 26.8125 \r\nQ 5.515625 40.234375 12.765625 48.109375 \r\nQ 20.015625 56 32.328125 56 \r\nQ 43.359375 56 49.78125 48.890625 \r\nQ 56.203125 41.796875 56.203125 29.59375 \r\nz\r\nM 47.21875 32.234375 \r\nQ 47.125 39.59375 43.09375 43.984375 \r\nQ 39.0625 48.390625 32.421875 48.390625 \r\nQ 24.90625 48.390625 20.390625 44.140625 \r\nQ 15.875 39.890625 15.1875 32.171875 \r\nz\r\n\" id=\"DejaVuSans-101\"/>\r\n    <path d=\"M 18.3125 70.21875 \r\nL 18.3125 54.6875 \r\nL 36.8125 54.6875 \r\nL 36.8125 47.703125 \r\nL 18.3125 47.703125 \r\nL 18.3125 18.015625 \r\nQ 18.3125 11.328125 20.140625 9.421875 \r\nQ 21.96875 7.515625 27.59375 7.515625 \r\nL 36.8125 7.515625 \r\nL 36.8125 0 \r\nL 27.59375 0 \r\nQ 17.1875 0 13.234375 3.875 \r\nQ 9.28125 7.765625 9.28125 18.015625 \r\nL 9.28125 47.703125 \r\nL 2.6875 47.703125 \r\nL 2.6875 54.6875 \r\nL 9.28125 54.6875 \r\nL 9.28125 70.21875 \r\nz\r\n\" id=\"DejaVuSans-116\"/>\r\n   </defs>\r\n   <g transform=\"translate(323.42375 16.318125)scale(0.12 -0.12)\">\r\n    <use xlink:href=\"#DejaVuSans-84\"/>\r\n    <use x=\"60.865234\" xlink:href=\"#DejaVuSans-114\"/>\r\n    <use x=\"101.978516\" xlink:href=\"#DejaVuSans-97\"/>\r\n    <use x=\"163.257812\" xlink:href=\"#DejaVuSans-105\"/>\r\n    <use x=\"191.041016\" xlink:href=\"#DejaVuSans-110\"/>\r\n    <use x=\"254.419922\" xlink:href=\"#DejaVuSans-105\"/>\r\n    <use x=\"282.203125\" xlink:href=\"#DejaVuSans-110\"/>\r\n    <use x=\"345.582031\" xlink:href=\"#DejaVuSans-103\"/>\r\n    <use x=\"409.058594\" xlink:href=\"#DejaVuSans-32\"/>\r\n    <use x=\"440.845703\" xlink:href=\"#DejaVuSans-77\"/>\r\n    <use x=\"527.125\" xlink:href=\"#DejaVuSans-101\"/>\r\n    <use x=\"588.648438\" xlink:href=\"#DejaVuSans-116\"/>\r\n    <use x=\"627.857422\" xlink:href=\"#DejaVuSans-114\"/>\r\n    <use x=\"668.970703\" xlink:href=\"#DejaVuSans-105\"/>\r\n    <use x=\"696.753906\" xlink:href=\"#DejaVuSans-99\"/>\r\n    <use x=\"751.734375\" xlink:href=\"#DejaVuSans-115\"/>\r\n   </g>\r\n  </g>\r\n </g>\r\n <defs>\r\n  <clipPath id=\"p32edbb64b5\">\r\n   <rect height=\"197.672727\" width=\"669.6\" x=\"47.6525\" y=\"64.8\"/>\r\n  </clipPath>\r\n  <clipPath id=\"p8a9de3c271\">\r\n   <rect height=\"197.672727\" width=\"669.6\" x=\"47.6525\" y=\"302.007273\"/>\r\n  </clipPath>\r\n </defs>\r\n</svg>\r\n",
      "image/png": "[encoded data removed]"
     },
     "metadata": {
      "needs_background": "light"
     }
    }
   ],
   "source": [
    "fig, axes = plt.subplots(2, sharex=True, figsize=(12, 8))\n",
    "fig.suptitle('Training Metrics')\n",
    "\n",
    "axes[0].set_ylabel(\"Loss\", fontsize=14)\n",
    "axes[0].plot(train_loss_results)\n",
    "\n",
    "axes[1].set_ylabel(\"Accuracy\", fontsize=14)\n",
    "axes[1].set_xlabel(\"Epoch\", fontsize=14)\n",
    "axes[1].plot(train_accuracy_results)\n",
    "plt.show()"
   ]
  },
  {
   "cell_type": "code",
   "execution_count": 39,
   "metadata": {
    "colab": {},
    "colab_type": "code",
    "id": "Ps3_9dJ3Lodk",
    "slideshow": {
     "slide_type": "slide"
    }
   },
   "outputs": [
    {
     "output_type": "stream",
     "name": "stdout",
     "text": "Downloading data from https://storage.googleapis.com/download.tensorflow.org/data/iris_test.csv\n8192/573 [============================================================================================================================================================================================================================================================================================================================================================================================================================================] - 0s 0us/step\n"
    }
   ],
   "source": [
    "## Evaluate on test set\n",
    "\n",
    "test_url = \"https://storage.googleapis.com/download.tensorflow.org/data/iris_test.csv\"\n",
    "\n",
    "test_fp = tf.keras.utils.get_file(fname=os.path.basename(test_url),\n",
    "                                  origin=test_url)"
   ]
  },
  {
   "cell_type": "code",
   "execution_count": 41,
   "metadata": {
    "colab": {},
    "colab_type": "code",
    "id": "SRMWCu30bnxH",
    "slideshow": {
     "slide_type": "fragment"
    }
   },
   "outputs": [],
   "source": [
    "test_df = pd.read_csv(test_fp)\n",
    "test_dataset = tf.data.Dataset.from_tensor_slices((test_df.values[:,:-1],test_df.values[:,-1]))\n",
    "test_dataset = test_dataset.batch(batch_size)"
   ]
  },
  {
   "cell_type": "code",
   "execution_count": 42,
   "metadata": {
    "colab": {},
    "colab_type": "code",
    "id": "Tw03-MK1cYId",
    "slideshow": {
     "slide_type": "slide"
    }
   },
   "outputs": [
    {
     "output_type": "stream",
     "name": "stdout",
     "text": "Test set accuracy: 96.667%\n"
    }
   ],
   "source": [
    "## Compute test accuracy\n",
    "test_accuracy = tf.keras.metrics.Accuracy()\n",
    "\n",
    "for (x, y) in test_dataset:\n",
    "  # training=False is needed only if there are layers with different\n",
    "  # behavior during training versus inference (e.g. Dropout).\n",
    "  logits = model(x, training=False)\n",
    "  prediction = tf.argmax(logits, axis=1, output_type=tf.int32)\n",
    "  test_accuracy(prediction, y)\n",
    "\n",
    "print(\"Test set accuracy: {:.3%}\".format(test_accuracy.result()))"
   ]
  },
  {
   "cell_type": "code",
   "execution_count": 43,
   "metadata": {
    "colab": {},
    "colab_type": "code",
    "id": "uNwt2eMeOane",
    "slideshow": {
     "slide_type": "slide"
    }
   },
   "outputs": [
    {
     "output_type": "stream",
     "name": "stdout",
     "text": "actual: 1.0 =? pred: 1\nactual: 2.0 =? pred: 2\nactual: 0.0 =? pred: 0\nactual: 1.0 =? pred: 1\nactual: 1.0 =? pred: 1\nactual: 1.0 =? pred: 1\nactual: 0.0 =? pred: 0\nactual: 2.0 =? pred: 2\nactual: 1.0 =? pred: 1\nactual: 2.0 =? pred: 2\nactual: 2.0 =? pred: 2\nactual: 0.0 =? pred: 0\nactual: 2.0 =? pred: 2\nactual: 1.0 =? pred: 1\nactual: 1.0 =? pred: 1\nactual: 0.0 =? pred: 0\nactual: 1.0 =? pred: 1\nactual: 0.0 =? pred: 0\nactual: 0.0 =? pred: 0\nactual: 2.0 =? pred: 2\nactual: 0.0 =? pred: 0\nactual: 1.0 =? pred: 1\nactual: 2.0 =? pred: 2\nactual: 1.0 =? pred: 2\nactual: 1.0 =? pred: 1\nactual: 1.0 =? pred: 1\nactual: 0.0 =? pred: 0\nactual: 1.0 =? pred: 1\nactual: 2.0 =? pred: 2\nactual: 1.0 =? pred: 1\n"
    }
   ],
   "source": [
    "## Last batch actual labels and predicted\n",
    "print(\"\\n\".join(f\"actual: {a} =? pred: {b}\" for a,b in zip(y,prediction)))"
   ]
  },
  {
   "cell_type": "code",
   "execution_count": null,
   "metadata": {},
   "outputs": [],
   "source": []
  }
 ],
 "metadata": {
  "celltoolbar": "Slideshow",
  "colab": {
   "collapsed_sections": [],
   "name": "custom_training_walkthrough.ipynb",
   "private_outputs": true,
   "provenance": [],
   "toc_visible": true,
   "version": "0.3.2"
  },
  "kernelspec": {
   "display_name": "Python 3",
   "language": "python",
   "name": "python3"
  },
  "language_info": {
   "codemirror_mode": {
    "name": "ipython",
    "version": 3
   },
   "file_extension": ".py",
   "mimetype": "text/x-python",
   "name": "python",
   "nbconvert_exporter": "python",
   "pygments_lexer": "ipython3",
   "version": "3.7.1-final"
  }
 },
 "nbformat": 4,
 "nbformat_minor": 1
}