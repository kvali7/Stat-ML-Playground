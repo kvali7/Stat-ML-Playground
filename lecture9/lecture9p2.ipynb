{
 "cells": [
  {
   "cell_type": "code",
   "execution_count": 2,
   "metadata": {
    "cellView": "form",
    "colab": {},
    "colab_type": "code",
    "id": "CPII1rGR2rF9",
    "slideshow": {
     "slide_type": "skip"
    }
   },
   "outputs": [],
   "source": [
    "# This was modified from Tensorflow tutorial: https://www.tensorflow.org/tutorials/customization/custom_training_walkthrough\n",
    "# All appropriate copywrites are retained, use of this material is guided by fair use for teaching\n",
    "# Some modifications made for course STA 208 by James Sharpnack jsharpna@gmail.com\n",
    "\n",
    "#@title Licensed under the Apache License, Version 2.0 (the \"License\");\n",
    "# you may not use this file except in compliance with the License.\n",
    "# You may obtain a copy of the License at\n",
    "#\n",
    "# https://www.apache.org/licenses/LICENSE-2.0\n",
    "#\n",
    "# Unless required by applicable law or agreed to in writing, software\n",
    "# distributed under the License is distributed on an \"AS IS\" BASIS,\n",
    "# WITHOUT WARRANTIES OR CONDITIONS OF ANY KIND, either express or implied.\n",
    "# See the License for the specific language governing permissions and\n",
    "# limitations under the License."
   ]
  },
  {
   "cell_type": "markdown",
   "metadata": {},
   "source": [
    "# Classification with Tensorflow\n",
    "\n",
    "## Davis SML: Lecture 9 Part 2\n",
    "\n",
    "## Prof. James Sharpnack"
   ]
  },
  {
   "cell_type": "markdown",
   "metadata": {
    "slideshow": {
     "slide_type": "slide"
    }
   },
   "source": [
    "### Importing and installing tensorflow\n",
    "\n",
    "- install tensorflow 2.0 with conda (you do not need to install tensorflow-gpu for the course)\n",
    "- tensorflow, build and execute computational graphs\n",
    "- tensorflow 1.0 and 2.0 differ mainly by making eager execution default, removing sessions"
   ]
  },
  {
   "cell_type": "code",
   "execution_count": 3,
   "metadata": {
    "colab": {},
    "colab_type": "code",
    "id": "jElLULrDhQZR",
    "slideshow": {
     "slide_type": "fragment"
    }
   },
   "outputs": [
    {
     "name": "stdout",
     "output_type": "stream",
     "text": [
      "TensorFlow version: 2.0.0\n",
      "Eager execution: True\n"
     ]
    }
   ],
   "source": [
    "import os\n",
    "import matplotlib.pyplot as plt\n",
    "import tensorflow as tf\n",
    "import pandas as pd\n",
    "\n",
    "print(\"TensorFlow version: {}\".format(tf.__version__))\n",
    "print(\"Eager execution: {}\".format(tf.executing_eagerly()))"
   ]
  },
  {
   "cell_type": "markdown",
   "metadata": {
    "slideshow": {
     "slide_type": "slide"
    }
   },
   "source": [
    "### Loading data\n",
    "\n",
    "- tensorflow has many built in utilities for getting data\n",
    "- you could just as easily use requests/pandas"
   ]
  },
  {
   "cell_type": "code",
   "execution_count": 4,
   "metadata": {
    "colab": {},
    "colab_type": "code",
    "id": "J6c7uEU9rjRM",
    "slideshow": {
     "slide_type": "slide"
    }
   },
   "outputs": [
    {
     "name": "stdout",
     "output_type": "stream",
     "text": [
      "Local copy of the dataset file: /home/jsharpna/.keras/datasets/iris_training.csv\n"
     ]
    }
   ],
   "source": [
    "train_dataset_url = \"https://storage.googleapis.com/download.tensorflow.org/data/iris_training.csv\"\n",
    "\n",
    "train_dataset_fp = tf.keras.utils.get_file(fname=os.path.basename(train_dataset_url),\n",
    "                                           origin=train_dataset_url)\n",
    "\n",
    "print(\"Local copy of the dataset file: {}\".format(train_dataset_fp))"
   ]
  },
  {
   "cell_type": "code",
   "execution_count": 5,
   "metadata": {
    "slideshow": {
     "slide_type": "fragment"
    }
   },
   "outputs": [],
   "source": [
    "train_df = pd.read_csv(train_dataset_fp)\n",
    "train_dataset = tf.data.Dataset.from_tensor_slices((train_df.values[:,:-1],train_df.values[:,-1]))"
   ]
  },
  {
   "cell_type": "markdown",
   "metadata": {
    "slideshow": {
     "slide_type": "slide"
    }
   },
   "source": [
    "### Tensorflow datasets API\n",
    "\n",
    "- Datasets API loads and readies data for use in stochastic gradient descent type iteration\n",
    "- the batch size tells it how many samples for the mini-batch\n",
    "- Dataset has methods to shuffle the data and apply transformations "
   ]
  },
  {
   "cell_type": "code",
   "execution_count": 6,
   "metadata": {
    "colab": {},
    "colab_type": "code",
    "id": "WsxHnz1ebJ2S",
    "slideshow": {
     "slide_type": "fragment"
    }
   },
   "outputs": [],
   "source": [
    "batch_size = 32\n",
    "\n",
    "train_dataset = train_dataset.shuffle(1000)\n",
    "train_dataset = train_dataset.batch(batch_size)\n",
    "## sets batchsize and shuffles"
   ]
  },
  {
   "cell_type": "code",
   "execution_count": 7,
   "metadata": {
    "colab": {},
    "colab_type": "code",
    "id": "iDuG94H-C122",
    "slideshow": {
     "slide_type": "slide"
    }
   },
   "outputs": [
    {
     "data": {
      "text/plain": [
       "<tf.Tensor: id=18, shape=(32, 4), dtype=float64, numpy=\n",
       "array([[4.6, 3.2, 1.4, 0.2],\n",
       "       [7.7, 3.8, 6.7, 2.2],\n",
       "       [6.9, 3.1, 5.1, 2.3],\n",
       "       [5.5, 3.5, 1.3, 0.2],\n",
       "       [4.4, 3. , 1.3, 0.2],\n",
       "       [5.1, 3.8, 1.9, 0.4],\n",
       "       [6. , 2.2, 5. , 1.5],\n",
       "       [5.4, 3. , 4.5, 1.5],\n",
       "       [5.1, 2.5, 3. , 1.1],\n",
       "       [5.7, 2.9, 4.2, 1.3],\n",
       "       [5. , 2.3, 3.3, 1. ],\n",
       "       [5. , 3.2, 1.2, 0.2],\n",
       "       [6.2, 2.2, 4.5, 1.5],\n",
       "       [7.4, 2.8, 6.1, 1.9],\n",
       "       [4.6, 3.1, 1.5, 0.2],\n",
       "       [6.6, 2.9, 4.6, 1.3],\n",
       "       [5.7, 2.8, 4.5, 1.3],\n",
       "       [4.9, 2.5, 4.5, 1.7],\n",
       "       [4.9, 3.1, 1.5, 0.1],\n",
       "       [4.8, 3.1, 1.6, 0.2],\n",
       "       [7. , 3.2, 4.7, 1.4],\n",
       "       [6.5, 3. , 5.2, 2. ],\n",
       "       [5.8, 2.7, 5.1, 1.9],\n",
       "       [4.7, 3.2, 1.3, 0.2],\n",
       "       [6.4, 3.1, 5.5, 1.8],\n",
       "       [6.7, 3. , 5. , 1.7],\n",
       "       [4.9, 3.1, 1.5, 0.1],\n",
       "       [6.7, 3. , 5.2, 2.3],\n",
       "       [6.8, 3. , 5.5, 2.1],\n",
       "       [6.4, 2.8, 5.6, 2.2],\n",
       "       [5.1, 3.5, 1.4, 0.3],\n",
       "       [4.8, 3. , 1.4, 0.3]])>"
      ]
     },
     "execution_count": 7,
     "metadata": {},
     "output_type": "execute_result"
    }
   ],
   "source": [
    "X,y = next(iter(train_dataset))\n",
    "X"
   ]
  },
  {
   "cell_type": "markdown",
   "metadata": {
    "slideshow": {
     "slide_type": "slide"
    }
   },
   "source": [
    "### Keras Model API\n",
    "\n",
    "- a model is a predictor which builds a computational graph, maintains losses, prepares for optimization\n",
    "- built from layers which are operations in computational graph\n",
    "- layers have trainable variables, input and output tensor shapes"
   ]
  },
  {
   "cell_type": "code",
   "execution_count": 8,
   "metadata": {
    "slideshow": {
     "slide_type": "slide"
    }
   },
   "outputs": [
    {
     "data": {
      "text/plain": [
       "(TensorSpec(shape=(None, 4), dtype=tf.float64, name=None),\n",
       " TensorSpec(shape=(None,), dtype=tf.float64, name=None))"
      ]
     },
     "execution_count": 8,
     "metadata": {},
     "output_type": "execute_result"
    }
   ],
   "source": [
    "train_dataset.element_spec"
   ]
  },
  {
   "cell_type": "code",
   "execution_count": 9,
   "metadata": {
    "slideshow": {
     "slide_type": "slide"
    }
   },
   "outputs": [
    {
     "name": "stdout",
     "output_type": "stream",
     "text": [
      "WARNING:tensorflow:Layer dense is casting an input tensor from dtype float64 to the layer's dtype of float32, which is new behavior in TensorFlow 2.  The layer has dtype float32 because it's dtype defaults to floatx.\n",
      "\n",
      "If you intended to run this layer in float32, you can safely ignore this warning. If in doubt, this warning is likely only an issue if you are porting a TensorFlow 1.X model to TensorFlow 2.\n",
      "\n",
      "To change all layers to have dtype float64 by default, call `tf.keras.backend.set_floatx('float64')`. To change just this layer, pass dtype='float64' to the layer constructor. If you are the author of this layer, you can disable autocasting by passing autocast=False to the base Layer constructor.\n",
      "\n"
     ]
    },
    {
     "data": {
      "text/plain": [
       "<tf.Tensor: id=46, shape=(32, 3), dtype=float32, numpy=\n",
       "array([[-1.7310516 ,  0.6890017 ,  1.568934  ],\n",
       "       [-1.2321018 ,  0.07183695,  7.3786564 ],\n",
       "       [-1.6252513 ,  0.8472171 ,  5.943072  ],\n",
       "       [-2.1015508 ,  1.0234553 ,  1.7514107 ],\n",
       "       [-1.656076  ,  0.69046646,  1.5034462 ],\n",
       "       [-1.9536504 ,  0.68630725,  1.8704369 ],\n",
       "       [-0.6386379 ,  0.05053979,  6.0700607 ],\n",
       "       [-1.0703502 ,  0.12206721,  4.7808294 ],\n",
       "       [-1.3081126 ,  0.6168029 ,  3.630794  ],\n",
       "       [-1.1271017 ,  0.24579543,  4.753661  ],\n",
       "       [-0.9981173 ,  0.34248632,  3.995444  ],\n",
       "       [-1.9195673 ,  0.93282646,  1.5946565 ],\n",
       "       [-0.9307992 ,  0.40514517,  5.717633  ],\n",
       "       [-0.8849145 ,  0.13554704,  7.3628073 ],\n",
       "       [-1.6417408 ,  0.6343436 ,  1.725265  ],\n",
       "       [-1.1307168 ,  0.2999282 ,  5.587775  ],\n",
       "       [-0.938839  ,  0.07479072,  5.092637  ],\n",
       "       [-0.87823534,  0.13021088,  4.8199005 ],\n",
       "       [-1.6494067 ,  0.65499467,  1.8942974 ],\n",
       "       [-1.637047  ,  0.6399095 ,  1.9207706 ],\n",
       "       [-1.3498166 ,  0.43364513,  5.679681  ],\n",
       "       [-1.2678554 ,  0.44020796,  5.929308  ],\n",
       "       [-0.9815829 ,  0.21088219,  5.6811275 ],\n",
       "       [-1.8029184 ,  0.7790445 ,  1.5297034 ],\n",
       "       [-1.0178573 ,  0.08038771,  6.1116886 ],\n",
       "       [-1.2330675 ,  0.39542037,  5.889118  ],\n",
       "       [-1.6494067 ,  0.65499467,  1.8942974 ],\n",
       "       [-1.4911586 ,  0.72881997,  5.995219  ],\n",
       "       [-1.2461078 ,  0.43625438,  6.346792  ],\n",
       "       [-1.0869055 ,  0.33259094,  6.3470078 ],\n",
       "       [-2.0220182 ,  0.9127615 ,  1.6216092 ],\n",
       "       [-1.7556713 ,  0.83472896,  1.7903777 ]], dtype=float32)>"
      ]
     },
     "execution_count": 9,
     "metadata": {},
     "output_type": "execute_result"
    }
   ],
   "source": [
    "lin_layers = tf.keras.layers.Dense(3)\n",
    "lin_layers(X)\n",
    "## Builds and calls the layer"
   ]
  },
  {
   "cell_type": "code",
   "execution_count": 10,
   "metadata": {
    "slideshow": {
     "slide_type": "slide"
    }
   },
   "outputs": [
    {
     "data": {
      "text/plain": [
       "[<tf.Variable 'dense/kernel:0' shape=(4, 3) dtype=float32, numpy=\n",
       " array([[-0.22390974,  0.31869543,  0.5209168 ],\n",
       "        [-0.3983484 , -0.03515214, -0.6500874 ],\n",
       "        [ 0.49475873, -0.5817327 ,  0.9132222 ],\n",
       "        [-0.5950711 ,  0.7495769 , -0.12757248]], dtype=float32)>,\n",
       " <tf.Variable 'dense/bias:0' shape=(3,) dtype=float32, numpy=array([0., 0., 0.], dtype=float32)>]"
      ]
     },
     "execution_count": 10,
     "metadata": {},
     "output_type": "execute_result"
    }
   ],
   "source": [
    "lin_layers.trainable_variables"
   ]
  },
  {
   "cell_type": "code",
   "execution_count": 11,
   "metadata": {
    "colab": {},
    "colab_type": "code",
    "id": "2fZ6oL2ig3ZK",
    "slideshow": {
     "slide_type": "slide"
    }
   },
   "outputs": [],
   "source": [
    "## create a keras model\n",
    "model = tf.keras.Sequential([\n",
    "  tf.keras.layers.Dense(3)\n",
    "])"
   ]
  },
  {
   "cell_type": "code",
   "execution_count": 12,
   "metadata": {
    "colab": {},
    "colab_type": "code",
    "id": "xe6SQ5NrpB-I",
    "slideshow": {
     "slide_type": "slide"
    }
   },
   "outputs": [
    {
     "name": "stdout",
     "output_type": "stream",
     "text": [
      "WARNING:tensorflow:Layer sequential is casting an input tensor from dtype float64 to the layer's dtype of float32, which is new behavior in TensorFlow 2.  The layer has dtype float32 because it's dtype defaults to floatx.\n",
      "\n",
      "If you intended to run this layer in float32, you can safely ignore this warning. If in doubt, this warning is likely only an issue if you are porting a TensorFlow 1.X model to TensorFlow 2.\n",
      "\n",
      "To change all layers to have dtype float64 by default, call `tf.keras.backend.set_floatx('float64')`. To change just this layer, pass dtype='float64' to the layer constructor. If you are the author of this layer, you can disable autocasting by passing autocast=False to the base Layer constructor.\n",
      "\n"
     ]
    },
    {
     "data": {
      "text/plain": [
       "<tf.Tensor: id=79, shape=(5, 3), dtype=float32, numpy=\n",
       "array([[-3.2300115, -2.0251138,  4.2152457],\n",
       "       [-2.8198097, -0.7680574,  7.119982 ],\n",
       "       [-3.2243695, -1.3586173,  6.4011183],\n",
       "       [-3.971176 , -2.5950513,  4.8970785],\n",
       "       [-3.0977335, -1.9543148,  4.011347 ]], dtype=float32)>"
      ]
     },
     "execution_count": 12,
     "metadata": {},
     "output_type": "execute_result"
    }
   ],
   "source": [
    "## model is callable outputs decision function\n",
    "logits = model(X)\n",
    "logits[:5]"
   ]
  },
  {
   "cell_type": "code",
   "execution_count": 13,
   "metadata": {
    "colab": {},
    "colab_type": "code",
    "id": "_tRwHZmTNTX2",
    "slideshow": {
     "slide_type": "slide"
    }
   },
   "outputs": [
    {
     "data": {
      "text/plain": [
       "<tf.Tensor: id=84, shape=(5, 3), dtype=float32, numpy=\n",
       "array([[5.8272958e-04, 1.9442296e-03, 9.9747306e-01],\n",
       "       [4.8196940e-05, 3.7504575e-04, 9.9957675e-01],\n",
       "       [6.5991750e-05, 4.2635936e-04, 9.9950767e-01],\n",
       "       [1.4068987e-04, 5.5706548e-04, 9.9930227e-01],\n",
       "       [8.1488979e-04, 2.5566975e-03, 9.9662834e-01]], dtype=float32)>"
      ]
     },
     "execution_count": 13,
     "metadata": {},
     "output_type": "execute_result"
    }
   ],
   "source": [
    "## Apply softmax to logits to get predicted probabilities\n",
    "tf.nn.softmax(logits[:5])"
   ]
  },
  {
   "cell_type": "code",
   "execution_count": 14,
   "metadata": {
    "colab": {},
    "colab_type": "code",
    "id": "-Jzm_GoErz8B",
    "slideshow": {
     "slide_type": "fragment"
    }
   },
   "outputs": [],
   "source": [
    "y_pred = tf.argmax(logits, axis=1)"
   ]
  },
  {
   "cell_type": "code",
   "execution_count": 15,
   "metadata": {
    "colab": {},
    "colab_type": "code",
    "id": "QOsi6b-1CXIn",
    "slideshow": {
     "slide_type": "slide"
    }
   },
   "outputs": [
    {
     "data": {
      "text/plain": [
       "<tf.Tensor: id=108, shape=(), dtype=float32, numpy=4.704753>"
      ]
     },
     "execution_count": 15,
     "metadata": {},
     "output_type": "execute_result"
    }
   ],
   "source": [
    "## Create the losses\n",
    "logistic_loss = tf.keras.losses.SparseCategoricalCrossentropy(from_logits=True)\n",
    "\n",
    "logistic_loss(y,logits)"
   ]
  },
  {
   "cell_type": "code",
   "execution_count": 16,
   "metadata": {
    "colab": {},
    "colab_type": "code",
    "id": "tMAT4DcMPwI-",
    "slideshow": {
     "slide_type": "slide"
    }
   },
   "outputs": [
    {
     "name": "stdout",
     "output_type": "stream",
     "text": [
      "Loss test: 4.7047529220581055\n"
     ]
    }
   ],
   "source": [
    "def loss(model, x, y, training):\n",
    "  # training=training is needed only if there are layers with different\n",
    "  # behavior during training versus inference (e.g. Dropout).\n",
    "  logits = model(x, training=training)\n",
    "\n",
    "  return logistic_loss(y,logits)\n",
    "\n",
    "\n",
    "l = loss(model, X, y, training=False)\n",
    "print(\"Loss test: {}\".format(l))"
   ]
  },
  {
   "cell_type": "markdown",
   "metadata": {
    "slideshow": {
     "slide_type": "slide"
    }
   },
   "source": [
    "### Automatic differentiation\n",
    "\n",
    "- Tensorflow knows how to differentiate built in expressions (exp, matmul, log, etc.)\n",
    "- you can also use chain rule to \"backpropagate\" derivatives (more on this later)\n",
    "- as a simple case, consider linear classifier with loss $\\ell(y x^\\top \\beta)$ (eg logistic)"
   ]
  },
  {
   "cell_type": "markdown",
   "metadata": {
    "slideshow": {
     "slide_type": "fragment"
    }
   },
   "source": [
    "If tensorflow has $\\ell$ and $\\ell'$ saved then it can automatically perform the following op\n",
    "$$\\frac{\\partial}{\\partial \\beta} \\ell(y x^\\top \\beta) = \\ell'(y x^\\top \\beta) \\cdot y x$$\n",
    "this is the simplest example of automatic differentiation."
   ]
  },
  {
   "cell_type": "code",
   "execution_count": 17,
   "metadata": {
    "colab": {},
    "colab_type": "code",
    "id": "x57HcKWhKkei",
    "slideshow": {
     "slide_type": "slide"
    }
   },
   "outputs": [],
   "source": [
    "## Gradient tape lets TF know with respect to what to take gradients\n",
    "def grad(model, inputs, targets):\n",
    "  with tf.GradientTape() as tape:\n",
    "    loss_value = loss(model, inputs, targets, training=True)\n",
    "  return loss_value, tape.gradient(loss_value, model.trainable_variables)"
   ]
  },
  {
   "cell_type": "code",
   "execution_count": 18,
   "metadata": {
    "colab": {},
    "colab_type": "code",
    "id": "8xxi2NNGKwG_",
    "slideshow": {
     "slide_type": "slide"
    }
   },
   "outputs": [],
   "source": [
    "## Create optimizer (chooses learning schedule etc)\n",
    "optimizer = tf.keras.optimizers.SGD(learning_rate=0.01)"
   ]
  },
  {
   "cell_type": "code",
   "execution_count": 19,
   "metadata": {
    "colab": {},
    "colab_type": "code",
    "id": "rxRNTFVe56RG",
    "slideshow": {
     "slide_type": "slide"
    }
   },
   "outputs": [
    {
     "name": "stdout",
     "output_type": "stream",
     "text": [
      "Step: 0, Initial Loss: 4.7047529220581055\n",
      "Step: 1,         Loss: 4.406172275543213\n"
     ]
    }
   ],
   "source": [
    "loss_value, grads = grad(model, X, y)\n",
    "\n",
    "print(\"Step: {}, Initial Loss: {}\".format(optimizer.iterations.numpy(),\n",
    "                                          loss_value.numpy()))\n",
    "\n",
    "## Optimizer has apply_gradients step which will modify all training variables appropriately\n",
    "optimizer.apply_gradients(zip(grads, model.trainable_variables))\n",
    "\n",
    "print(\"Step: {},         Loss: {}\".format(optimizer.iterations.numpy(),\n",
    "                                          loss(model, X, y, training=True).numpy()))"
   ]
  },
  {
   "cell_type": "code",
   "execution_count": 20,
   "metadata": {
    "colab": {},
    "colab_type": "code",
    "id": "AIgulGRUhpto",
    "slideshow": {
     "slide_type": "slide"
    }
   },
   "outputs": [
    {
     "name": "stdout",
     "output_type": "stream",
     "text": [
      "Epoch 000: Loss: 3.942, Accuracy: 35.000%\n",
      "Epoch 050: Loss: 0.607, Accuracy: 71.667%\n",
      "Epoch 100: Loss: 0.475, Accuracy: 80.833%\n",
      "Epoch 150: Loss: 0.413, Accuracy: 92.500%\n",
      "Epoch 200: Loss: 0.378, Accuracy: 93.333%\n"
     ]
    }
   ],
   "source": [
    "## Note: Rerunning this cell uses the same model variables\n",
    "\n",
    "# Keep results for plotting\n",
    "train_loss_results = []\n",
    "train_accuracy_results = []\n",
    "\n",
    "num_epochs = 201\n",
    "\n",
    "for epoch in range(num_epochs):\n",
    "  epoch_loss_avg = tf.keras.metrics.Mean()\n",
    "  epoch_accuracy = tf.keras.metrics.SparseCategoricalAccuracy()\n",
    "\n",
    "  # Training loop - using batches of 32\n",
    "  for x, y in train_dataset:\n",
    "    # Optimize the model\n",
    "    loss_value, grads = grad(model, x, y)\n",
    "    optimizer.apply_gradients(zip(grads, model.trainable_variables))\n",
    "\n",
    "    # Track progress\n",
    "    epoch_loss_avg.update_state(loss_value)  # Add current batch loss\n",
    "    epoch_accuracy.update_state(y, model(x, training=True))\n",
    "\n",
    "  # End epoch\n",
    "  train_loss_results.append(epoch_loss_avg.result())\n",
    "  train_accuracy_results.append(epoch_accuracy.result())\n",
    "\n",
    "  if epoch % 50 == 0:\n",
    "    print(\"Epoch {:03d}: Loss: {:.3f}, Accuracy: {:.3%}\".format(epoch,\n",
    "                                                                epoch_loss_avg.result(),\n",
    "                                                                epoch_accuracy.result()))"
   ]
  },
  {
   "cell_type": "code",
   "execution_count": 21,
   "metadata": {
    "colab": {},
    "colab_type": "code",
    "id": "agjvNd2iUGFn",
    "slideshow": {
     "slide_type": "slide"
    }
   },
   "outputs": [
    {
     "data": {
      "image/png": "[encoded data removed]",
      "text/plain": [
       "<Figure size 864x576 with 2 Axes>"
      ]
     },
     "metadata": {
      "needs_background": "light"
     },
     "output_type": "display_data"
    }
   ],
   "source": [
    "fig, axes = plt.subplots(2, sharex=True, figsize=(12, 8))\n",
    "fig.suptitle('Training Metrics')\n",
    "\n",
    "axes[0].set_ylabel(\"Loss\", fontsize=14)\n",
    "axes[0].plot(train_loss_results)\n",
    "\n",
    "axes[1].set_ylabel(\"Accuracy\", fontsize=14)\n",
    "axes[1].set_xlabel(\"Epoch\", fontsize=14)\n",
    "axes[1].plot(train_accuracy_results)\n",
    "plt.show()"
   ]
  },
  {
   "cell_type": "code",
   "execution_count": 22,
   "metadata": {
    "colab": {},
    "colab_type": "code",
    "id": "Ps3_9dJ3Lodk",
    "slideshow": {
     "slide_type": "slide"
    }
   },
   "outputs": [],
   "source": [
    "## Evaluate on test set\n",
    "\n",
    "test_url = \"https://storage.googleapis.com/download.tensorflow.org/data/iris_test.csv\"\n",
    "\n",
    "test_fp = tf.keras.utils.get_file(fname=os.path.basename(test_url),\n",
    "                                  origin=test_url)"
   ]
  },
  {
   "cell_type": "code",
   "execution_count": 23,
   "metadata": {
    "colab": {},
    "colab_type": "code",
    "id": "SRMWCu30bnxH",
    "slideshow": {
     "slide_type": "fragment"
    }
   },
   "outputs": [],
   "source": [
    "test_df = pd.read_csv(test_fp)\n",
    "test_dataset = tf.data.Dataset.from_tensor_slices((test_df.values[:,:-1],test_df.values[:,-1]))\n",
    "test_dataset = test_dataset.batch(batch_size)"
   ]
  },
  {
   "cell_type": "code",
   "execution_count": 24,
   "metadata": {
    "colab": {},
    "colab_type": "code",
    "id": "Tw03-MK1cYId",
    "slideshow": {
     "slide_type": "slide"
    }
   },
   "outputs": [
    {
     "name": "stdout",
     "output_type": "stream",
     "text": [
      "Test set accuracy: 93.333%\n"
     ]
    }
   ],
   "source": [
    "## Compute test accuracy\n",
    "test_accuracy = tf.keras.metrics.Accuracy()\n",
    "\n",
    "for (x, y) in test_dataset:\n",
    "  # training=False is needed only if there are layers with different\n",
    "  # behavior during training versus inference (e.g. Dropout).\n",
    "  logits = model(x, training=False)\n",
    "  prediction = tf.argmax(logits, axis=1, output_type=tf.int32)\n",
    "  test_accuracy(prediction, y)\n",
    "\n",
    "print(\"Test set accuracy: {:.3%}\".format(test_accuracy.result()))"
   ]
  },
  {
   "cell_type": "code",
   "execution_count": 25,
   "metadata": {
    "colab": {},
    "colab_type": "code",
    "id": "uNwt2eMeOane",
    "slideshow": {
     "slide_type": "slide"
    }
   },
   "outputs": [
    {
     "name": "stdout",
     "output_type": "stream",
     "text": [
      "actual: 1.0 =? pred: 1\n",
      "actual: 2.0 =? pred: 2\n",
      "actual: 0.0 =? pred: 0\n",
      "actual: 1.0 =? pred: 1\n",
      "actual: 1.0 =? pred: 1\n",
      "actual: 1.0 =? pred: 1\n",
      "actual: 0.0 =? pred: 0\n",
      "actual: 2.0 =? pred: 2\n",
      "actual: 1.0 =? pred: 1\n",
      "actual: 2.0 =? pred: 2\n",
      "actual: 2.0 =? pred: 2\n",
      "actual: 0.0 =? pred: 0\n",
      "actual: 2.0 =? pred: 2\n",
      "actual: 1.0 =? pred: 1\n",
      "actual: 1.0 =? pred: 1\n",
      "actual: 0.0 =? pred: 0\n",
      "actual: 1.0 =? pred: 1\n",
      "actual: 0.0 =? pred: 0\n",
      "actual: 0.0 =? pred: 0\n",
      "actual: 2.0 =? pred: 2\n",
      "actual: 0.0 =? pred: 0\n",
      "actual: 1.0 =? pred: 2\n",
      "actual: 2.0 =? pred: 2\n",
      "actual: 1.0 =? pred: 2\n",
      "actual: 1.0 =? pred: 1\n",
      "actual: 1.0 =? pred: 1\n",
      "actual: 0.0 =? pred: 0\n",
      "actual: 1.0 =? pred: 1\n",
      "actual: 2.0 =? pred: 2\n",
      "actual: 1.0 =? pred: 1\n"
     ]
    }
   ],
   "source": [
    "## Last batch actual labels and predicted\n",
    "print(\"\\n\".join(f\"actual: {a} =? pred: {b}\" for a,b in zip(y,prediction)))"
   ]
  }
 ],
 "metadata": {
  "celltoolbar": "Slideshow",
  "colab": {
   "collapsed_sections": [],
   "name": "custom_training_walkthrough.ipynb",
   "private_outputs": true,
   "provenance": [],
   "toc_visible": true,
   "version": "0.3.2"
  },
  "kernelspec": {
   "display_name": "Python 3",
   "language": "python",
   "name": "python3"
  },
  "language_info": {
   "codemirror_mode": {
    "name": "ipython",
    "version": 3
   },
   "file_extension": ".py",
   "mimetype": "text/x-python",
   "name": "python",
   "nbconvert_exporter": "python",
   "pygments_lexer": "ipython3",
   "version": "3.7.4"
  }
 },
 "nbformat": 4,
 "nbformat_minor": 1
}
