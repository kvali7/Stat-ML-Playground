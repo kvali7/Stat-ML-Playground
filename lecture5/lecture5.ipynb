{
 "cells": [
  {
   "cell_type": "markdown",
   "metadata": {
    "slideshow": {
     "slide_type": "slide"
    }
   },
   "source": [
    "# The Lasso\n",
    "\n",
    "## Stats 208: Lecture 5\n",
    "\n",
    "## Prof. Sharpnack\n",
    "\n",
    "- Lecture slides at [course github page](http://github.com/jsharpna/DavisSML)\n",
    "- Some content of these slides are from [STA 251 notes](https://github.com/jsharpna/AML) and [STA 141B lectures](https://github.com/jsharpna/141Blectures). \n",
    "- Some content is from Elements of Statistical Learning"
   ]
  },
  {
   "cell_type": "markdown",
   "metadata": {
    "slideshow": {
     "slide_type": "slide"
    }
   },
   "source": [
    "### Recall Convex Optimization\n",
    "\n",
    "**Def** A function $f : \\mathbb R^p \\to \\mathbb R$ is convex if for any $0 \\le \\alpha \\le 1$, $x_0, x_1 \\in \\mathbb R^p$,\n",
    "$$\n",
    "f(\\alpha x_0 + (1 - \\alpha) x_1) \\le \\alpha f(x_0) + (1 - \\alpha) f(x_1).\n",
    "$$\n",
    "\n",
    "> For convex functions, local minima are global minima"
   ]
  },
  {
   "cell_type": "markdown",
   "metadata": {
    "slideshow": {
     "slide_type": "fragment"
    }
   },
   "source": [
    "Recall **1st Order Condition**. If f is differentiable then it is convex if \n",
    "$$\n",
    "f(x) \\ge f(x_0) + \\nabla f(x_0)^\\top (x - x_0), \\forall x,x_0\n",
    "$$\n",
    "and when $\\nabla f(x_0) = 0$ then \n",
    "$$\n",
    "f(x) \\ge f(x_0), \\forall x\n",
    "$$\n",
    "so any fixed point of gradient descent is a global min (for convex, differentiable f)"
   ]
  },
  {
   "cell_type": "markdown",
   "metadata": {
    "slideshow": {
     "slide_type": "slide"
    }
   },
   "source": [
    "### Subdifferential\n",
    "\n",
    "**Def.** $g(x_0) \\in \\mathbb R^p$ is a *subgradient* of $f$ at $x_0$ if  \n",
    "$$\n",
    "f(x) \\ge f(x_0) + g(x_0)^\\top (x - x_0), \\forall x.\n",
    "$$\n",
    "The set of all subgradients at $x_0$ is call the *subdifferential*, denoted $\\partial f(x_0)$.\n",
    "\n",
    "> For any global optima, $0 \\in \\partial f(x_0)$."
   ]
  },
  {
   "cell_type": "markdown",
   "metadata": {
    "slideshow": {
     "slide_type": "slide"
    }
   },
   "source": [
    "### Wavelet denoising\n",
    "\n",
    "Soft thresholding is commonly used for orthonormal bases.  \n",
    "- Suppose that we have a vector $y_1,\\ldots, y_T$ (like a time series).\n",
    "- And we want to reconstruct $y$ with $W \\beta$ where $\\beta$ has a small sum of absolute values $\\sum_i |\\beta_i|$ \n",
    "- $W$ is $T \\times T$ and $W W^\\top = W^\\top W = I$ (orthonormal full rank design)\n",
    "\n",
    "Want to minimize \n",
    "$$\n",
    "\\frac 12 \\sum_{i=1}^T (y - W \\beta)_i^2 + \\lambda \\sum_{i=1}^T |\\beta_i|.\n",
    "$$"
   ]
  },
  {
   "cell_type": "code",
   "execution_count": 1,
   "metadata": {
    "slideshow": {
     "slide_type": "skip"
    }
   },
   "outputs": [],
   "source": [
    "import numpy as np\n",
    "import pandas as pd\n",
    "import matplotlib.pyplot as plt"
   ]
  },
  {
   "cell_type": "code",
   "execution_count": 2,
   "metadata": {
    "slideshow": {
     "slide_type": "skip"
    }
   },
   "outputs": [],
   "source": [
    "## Explore Turkish stock exchange dataset\n",
    "\n",
    "tse = pd.read_excel('../../data/data_akbilgic.xlsx',skiprows=1)\n",
    "\n",
    "tse = tse.rename(columns={'ISE':'TLISE','ISE.1':'USDISE'})"
   ]
  },
  {
   "cell_type": "code",
   "execution_count": 3,
   "metadata": {
    "slideshow": {
     "slide_type": "skip"
    }
   },
   "outputs": [],
   "source": [
    "def const_wave(T,a,b):\n",
    "    wave = np.zeros(T)\n",
    "    s1 = (b-a) // 2\n",
    "    s2 = (b-a) - s1\n",
    "    norm_C = (s1*s2 / (s1+s2))**0.5\n",
    "    wave[a:a+s1] = norm_C / s1\n",
    "    wave[a+s1:b] = -norm_C / s2\n",
    "    return wave"
   ]
  },
  {
   "cell_type": "code",
   "execution_count": 4,
   "metadata": {
    "slideshow": {
     "slide_type": "skip"
    }
   },
   "outputs": [],
   "source": [
    "def _const_wave_basis(T,a,b):\n",
    "    if b-a < 2:\n",
    "        return []\n",
    "    wave_basis = []\n",
    "    wave_basis.append(const_wave(T,a,b))\n",
    "    mid_pt = a + (b-a)//2\n",
    "    wave_basis += _const_wave_basis(T,a,mid_pt)\n",
    "    wave_basis += _const_wave_basis(T,mid_pt,b)\n",
    "    return wave_basis"
   ]
  },
  {
   "cell_type": "code",
   "execution_count": 5,
   "metadata": {
    "slideshow": {
     "slide_type": "skip"
    }
   },
   "outputs": [],
   "source": [
    "def const_wave_basis(T,a,b):\n",
    "    father = np.ones(T) / T**0.5\n",
    "    return [father] + _const_wave_basis(T,a,b)"
   ]
  },
  {
   "cell_type": "code",
   "execution_count": 6,
   "metadata": {
    "slideshow": {
     "slide_type": "skip"
    }
   },
   "outputs": [],
   "source": [
    "# Construct discrete Haar wavelet basis\n",
    "T,p = tse.shape\n",
    "wave_basis = const_wave_basis(T,0,T)\n",
    "W = np.array(wave_basis).T"
   ]
  },
  {
   "cell_type": "code",
   "execution_count": 7,
   "metadata": {
    "slideshow": {
     "slide_type": "slide"
    }
   },
   "outputs": [
    {
     "data": {
      "image/png": "[encoded data removed]",
      "text/plain": [
       "<Figure size 432x288 with 1 Axes>"
      ]
     },
     "metadata": {
      "needs_background": "light"
     },
     "output_type": "display_data"
    }
   ],
   "source": [
    "_ = plt.plot(W[:,:3])"
   ]
  },
  {
   "cell_type": "code",
   "execution_count": 8,
   "metadata": {
    "slideshow": {
     "slide_type": "skip"
    }
   },
   "outputs": [],
   "source": [
    "def soft(y,lamb):\n",
    "    pos_part = (y - lamb) * (y > lamb)\n",
    "    neg_part = (y + lamb) * (y < -lamb)\n",
    "    return pos_part + neg_part"
   ]
  },
  {
   "cell_type": "code",
   "execution_count": 11,
   "metadata": {
    "slideshow": {
     "slide_type": "skip"
    }
   },
   "outputs": [],
   "source": [
    "## Volatility seems most interesting\n",
    "## will construct local measure of volatility\n",
    "## remove rolling window estimate (local centering)\n",
    "## square the residuals\n",
    "\n",
    "tse = tse.set_index('date')\n",
    "tse_trem = tse - tse.rolling(\"7D\").mean()\n",
    "tse_vol = tse_trem**2.\n",
    "\n",
    "## Make wavelet transformation and soft threshold\n",
    "\n",
    "tse_wave = W.T @ tse_vol.values\n",
    "lamb = .001\n",
    "tse_soft = soft(tse_wave,lamb)\n",
    "tse_rec = W @ tse_soft\n",
    "tse_den = tse_vol.copy()\n",
    "tse_den.iloc[:,:] = tse_rec"
   ]
  },
  {
   "cell_type": "code",
   "execution_count": 12,
   "metadata": {
    "slideshow": {
     "slide_type": "slide"
    }
   },
   "outputs": [
    {
     "data": {
      "image/png": "[encoded data removed]",
      "text/plain": [
       "<Figure size 720x720 with 9 Axes>"
      ]
     },
     "metadata": {
      "needs_background": "light"
     },
     "output_type": "display_data"
    }
   ],
   "source": [
    "_ = tse_vol.plot(subplots=True,figsize=(10,10))"
   ]
  },
  {
   "cell_type": "code",
   "execution_count": 13,
   "metadata": {
    "slideshow": {
     "slide_type": "slide"
    }
   },
   "outputs": [
    {
     "data": {
      "image/png": "[encoded data removed]",
      "text/plain": [
       "<Figure size 720x720 with 9 Axes>"
      ]
     },
     "metadata": {
      "needs_background": "light"
     },
     "output_type": "display_data"
    }
   ],
   "source": [
    "_ = tse_den.plot(subplots=True,figsize=(10,10))"
   ]
  },
  {
   "cell_type": "markdown",
   "metadata": {},
   "source": [
    "### Wavelet reconstruction\n",
    "\n",
    "Can reconstruct the sequence by\n",
    "$$\n",
    "\\hat y = W \\hat \\beta.\n",
    "$$\n",
    "The objective is likelihood term + L1 penalty term,\n",
    "$$\n",
    "\\frac 12 \\sum_{i=1}^T (y - W \\beta)_i^2 + \\lambda \\sum_{i=1}^T |\\beta_i|.\n",
    "$$\n",
    "> The L1 penalty \"forces\" some $\\beta_i = 0$, inducing sparsity"
   ]
  },
  {
   "cell_type": "code",
   "execution_count": 16,
   "metadata": {
    "slideshow": {
     "slide_type": "slide"
    }
   },
   "outputs": [
    {
     "name": "stdout",
     "output_type": "stream",
     "text": [
      "[  0   2  48  63 344 345]\n"
     ]
    },
    {
     "data": {
      "image/png": "[encoded data removed]",
      "text/plain": [
       "<Figure size 432x288 with 1 Axes>"
      ]
     },
     "metadata": {
      "needs_background": "light"
     },
     "output_type": "display_data"
    }
   ],
   "source": [
    "plt.plot(tse_soft[:,4])\n",
    "high_idx = np.where(np.abs(tse_soft[:,4]) > .0001)[0]\n",
    "print(high_idx)"
   ]
  },
  {
   "cell_type": "code",
   "execution_count": 17,
   "metadata": {
    "slideshow": {
     "slide_type": "slide"
    }
   },
   "outputs": [
    {
     "data": {
      "text/plain": [
       "[<matplotlib.lines.Line2D at 0x7f7ad167b908>]"
      ]
     },
     "execution_count": 17,
     "metadata": {},
     "output_type": "execute_result"
    },
    {
     "data": {
      "image/png": "[encoded data removed]",
      "text/plain": [
       "<Figure size 432x288 with 7 Axes>"
      ]
     },
     "metadata": {
      "needs_background": "light"
     },
     "output_type": "display_data"
    }
   ],
   "source": [
    "fig, axs = plt.subplots(len(high_idx) + 1,1)\n",
    "for i, idx in enumerate(high_idx):\n",
    "    axs[i].plot(W[:,idx])\n",
    "plt.plot(tse_den['FTSE'],c='r')"
   ]
  },
  {
   "cell_type": "markdown",
   "metadata": {
    "slideshow": {
     "slide_type": "slide"
    }
   },
   "source": [
    "### Non-orthogonal design\n",
    "\n",
    "The objective is likelihood term + L1 penalty term,\n",
    "$$\n",
    "\\frac 12 \\sum_{i=1}^T (y - X \\beta)_i^2 + \\lambda \\sum_{i=1}^T |\\beta_i|.\n",
    "$$\n",
    "does not have closed form for $X$ that is non-orthogonal.\n",
    "\n",
    "- it is convex\n",
    "- it is non-smooth (recall $|x|$)\n",
    "- has tuning parameter $\\lambda$"
   ]
  },
  {
   "cell_type": "markdown",
   "metadata": {
    "slideshow": {
     "slide_type": "fragment"
    }
   },
   "source": [
    "Compare to best subset selection (NP-hard):\n",
    "$$\n",
    "\\min \\frac 12 \\sum_{i=1}^T (y - X \\beta)_i^2.\n",
    "$$\n",
    "for\n",
    "$$\n",
    "\\| \\beta \\|_0 = |{\\rm supp}(\\beta)| < s.\n",
    "$$"
   ]
  },
  {
   "cell_type": "markdown",
   "metadata": {
    "slideshow": {
     "slide_type": "slide"
    }
   },
   "source": [
    "### Image of Lasso solution\n",
    "\n",
    "<img src=\"lasso_soln.PNG\" width=100%>"
   ]
  },
  {
   "cell_type": "markdown",
   "metadata": {
    "slideshow": {
     "slide_type": "slide"
    }
   },
   "source": [
    "### Solving the Lasso\n",
    "\n",
    "The lasso can be written in *regularized form*,\n",
    "$$\n",
    "\\min \\frac 12 \\sum_{i=1}^T (y - X \\beta)_i^2 + \\lambda \\sum_{i=1}^T |\\beta_i|,\n",
    "$$\n",
    "or in *constrained form*,\n",
    "$$\n",
    "\\min \\frac 12 \\sum_{i=1}^T (y - X \\beta)_i^2, \\quad \\textrm{s.t.} \\sum_{i=1}^T |\\beta_i| \\le C,\n",
    "$$\n",
    "\n",
    "- For every $\\lambda$ there is a $C$ such that the regularized form and constrained form have the same argmin\n",
    "- This correspondence is data dependent"
   ]
  },
  {
   "cell_type": "markdown",
   "metadata": {
    "slideshow": {
     "slide_type": "slide"
    }
   },
   "source": [
    "### Solving Lasso\n",
    "\n",
    "A quadratic program (QP) is a convex optimization of the form \n",
    "$$\n",
    "\\min \\beta^\\top Q \\beta + \\beta^\\top a \\quad \\textrm{ s.t. } A\\beta \\le c\n",
    "$$\n",
    "where $Q$ is positive semi-definite.\n",
    "\n",
    "**claim:** The lasso (constrained form) is a QP.\n",
    "\n",
    "$$\n",
    "\\sum_{i=1}^T (y - X \\beta)_i^2 = \\frac 12 \\beta^\\top (X^\\top X) \\beta + \\beta^\\top (X^\\top y) + C\n",
    "$$\n",
    "but what about $\\| \\beta \\|_1$?"
   ]
  },
  {
   "cell_type": "markdown",
   "metadata": {
    "slideshow": {
     "slide_type": "slide"
    }
   },
   "source": [
    "![](lasso_QP.PNG)"
   ]
  },
  {
   "cell_type": "markdown",
   "metadata": {
    "slideshow": {
     "slide_type": "slide"
    }
   },
   "source": [
    "### Solving the lasso\n",
    "\n",
    "For a single $\\lambda$ (or $C$ in constrained form) can solve the lasso with many specialized methods\n",
    "- quadratic program solver\n",
    "- proximal gradient\n",
    "- alternating direction method of multipliers\n",
    "\n",
    "but $\\lambda$ is a tuning parameter.  Options\n",
    "1. Construct a grid of $\\lambda$ and solve each lasso\n",
    "2. Solve for all $\\lambda$ values - path algorithm"
   ]
  },
  {
   "cell_type": "markdown",
   "metadata": {
    "slideshow": {
     "slide_type": "slide"
    }
   },
   "source": [
    "### Active sets and why lasso works better\n",
    "\n",
    "- Let $\\hat \\beta_\\lambda$ be the $\\hat \\beta$ at tuning parameter $\\lambda$.\n",
    "- Define $\\mathcal A_\\lambda = {\\rm supp}(\\hat \\beta_\\lambda)$ the non-zero elements of $\\hat \\beta_\\lambda$.\n",
    " - For large $\\lambda = \\infty$, $|\\mathcal A_\\lambda| = 0$ (penalty dominates)\n",
    " - For small $\\lambda = 0$, $|\\mathcal A_\\lambda| = p$ (loss dominates)\n",
    " \n",
    "Forward greedy selection only adds elements to the active set, does not remove elements."
   ]
  },
  {
   "cell_type": "markdown",
   "metadata": {
    "slideshow": {
     "slide_type": "slide"
    }
   },
   "source": [
    "![](active.PNG)"
   ]
  },
  {
   "cell_type": "markdown",
   "metadata": {
    "slideshow": {
     "slide_type": "slide"
    }
   },
   "source": [
    "### Lasso Path\n",
    "\n",
    "1. Start at $\\lambda = +\\infty, \\hat \\beta = 0$.\n",
    "2. Decrease $\\lambda$ until $\\hat \\beta_{j_1} \\ne 0$, $\\mathcal A \\gets \\{j_1\\}$. (Hitting event)\n",
    "3. Continue decreasing $\\lambda$ updating $\\mathcal A$ with hitting and leaving events\n",
    "\n",
    "\n",
    "- $x_{j_1}$ is the predictor variable most correlated with $y$\n",
    "- Hitting events are when element is added to $\\mathcal A$\n",
    "- Leaving events are when element is removed from $\\mathcal A$\n",
    "- $\\hat \\beta_{\\lambda,j}$ is piecewise linear, continuous, as a function of $\\lambda$\n",
    "- knots are at \"hitting\" and \"leaving\" events"
   ]
  },
  {
   "cell_type": "markdown",
   "metadata": {
    "slideshow": {
     "slide_type": "slide"
    }
   },
   "source": [
    "![](lasso_path.PNG)\n",
    "from sklearn.org"
   ]
  },
  {
   "cell_type": "markdown",
   "metadata": {
    "slideshow": {
     "slide_type": "slide"
    }
   },
   "source": [
    "### Least Angle Regression (LAR)\n",
    "\n",
    "1. Standardize predictors and start with residual $r = y - \\bar y$, $\\hat beta = 0$\n",
    "2. Find $x_j$ most correlated with $r$\n",
    "3. Move $\\beta_j$ in the direction of $x_j^\\top r$ until the residual is more correlated with another $x_k$\n",
    "4. Move $\\beta_j,\\beta_k$ in the direction of their joint OLS coefficients of $r$ on $(x_j,x_k)$ until some other competitor $x_l$ has as much correlation with the current residual\n",
    "5. Continue until all predictors have been entered."
   ]
  },
  {
   "cell_type": "markdown",
   "metadata": {
    "slideshow": {
     "slide_type": "fragment"
    }
   },
   "source": [
    "### Lasso modification\n",
    "\n",
    "4.5 If a non-zero coefficient drops to 0 then remove it from the active set and recompute the restricted OLS."
   ]
  },
  {
   "cell_type": "markdown",
   "metadata": {
    "slideshow": {
     "slide_type": "slide"
    }
   },
   "source": [
    "![](lars_lasso.png)\n",
    "from ESL"
   ]
  },
  {
   "cell_type": "code",
   "execution_count": 66,
   "metadata": {
    "slideshow": {
     "slide_type": "skip"
    }
   },
   "outputs": [],
   "source": [
    "# %load ../standard_import.txt\n",
    "import pandas as pd\n",
    "import numpy as np\n",
    "import matplotlib.pyplot as plt\n",
    "from sklearn import preprocessing, model_selection, linear_model\n",
    "\n",
    "%matplotlib inline"
   ]
  },
  {
   "cell_type": "code",
   "execution_count": 65,
   "metadata": {
    "slideshow": {
     "slide_type": "slide"
    }
   },
   "outputs": [
    {
     "name": "stdout",
     "output_type": "stream",
     "text": [
      "<class 'pandas.core.frame.DataFrame'>\n",
      "Index: 263 entries, -Alan Ashby to -Willie Wilson\n",
      "Data columns (total 20 columns):\n",
      "AtBat        263 non-null int64\n",
      "Hits         263 non-null int64\n",
      "HmRun        263 non-null int64\n",
      "Runs         263 non-null int64\n",
      "RBI          263 non-null int64\n",
      "Walks        263 non-null int64\n",
      "Years        263 non-null int64\n",
      "CAtBat       263 non-null int64\n",
      "CHits        263 non-null int64\n",
      "CHmRun       263 non-null int64\n",
      "CRuns        263 non-null int64\n",
      "CRBI         263 non-null int64\n",
      "CWalks       263 non-null int64\n",
      "League       263 non-null object\n",
      "Division     263 non-null object\n",
      "PutOuts      263 non-null int64\n",
      "Assists      263 non-null int64\n",
      "Errors       263 non-null int64\n",
      "Salary       263 non-null float64\n",
      "NewLeague    263 non-null object\n",
      "dtypes: float64(1), int64(16), object(3)\n",
      "memory usage: 43.1+ KB\n"
     ]
    }
   ],
   "source": [
    "## Modified from the github repo: https://github.com/JWarmenhoven/ISLR-python \n",
    "## which is based on the book by James et al. Intro to Statistical Learning.\n",
    "\n",
    "df = pd.read_csv('../../data/Hitters.csv', index_col=0).dropna()\n",
    "df.index.name = 'Player'\n",
    "df.info()"
   ]
  },
  {
   "cell_type": "code",
   "execution_count": 90,
   "metadata": {
    "slideshow": {
     "slide_type": "slide"
    }
   },
   "outputs": [],
   "source": [
    "## Simulate a dataset for lasso\n",
    "\n",
    "n=100\n",
    "p=1000\n",
    "X = np.random.randn(n,p)\n",
    "X = preprocessing.scale(X)"
   ]
  },
  {
   "cell_type": "code",
   "execution_count": 91,
   "metadata": {
    "slideshow": {
     "slide_type": "slide"
    }
   },
   "outputs": [
    {
     "name": "stdout",
     "output_type": "stream",
     "text": [
      "Number of non-zero's: 25\n"
     ]
    }
   ],
   "source": [
    "## Subselect true active set\n",
    "\n",
    "sprob = 0.02\n",
    "Sbool = np.random.rand(p) < sprob\n",
    "s = np.sum(Sbool)\n",
    "print(\"Number of non-zero's: {}\".format(s))"
   ]
  },
  {
   "cell_type": "code",
   "execution_count": 92,
   "metadata": {
    "slideshow": {
     "slide_type": "slide"
    }
   },
   "outputs": [],
   "source": [
    "## Construct beta and y\n",
    "\n",
    "mu = 100.\n",
    "beta = np.zeros(p)\n",
    "beta[Sbool] = mu * np.random.randn(s)\n",
    "\n",
    "eps = np.random.randn(n)\n",
    "y = X.dot(beta) + eps"
   ]
  },
  {
   "cell_type": "code",
   "execution_count": 94,
   "metadata": {
    "slideshow": {
     "slide_type": "slide"
    }
   },
   "outputs": [],
   "source": [
    "## Run lars with lasso mod, find active set\n",
    "\n",
    "larper = linear_model.lars_path(X,y,method=\"lasso\")\n",
    "S = set(np.where(Sbool)[0])\n",
    "\n",
    "def plot_it():\n",
    "    for j in S:\n",
    "        _ = plt.plot(larper[0],larper[2][j,:],'r')\n",
    "    for j in set(range(p)) - S:\n",
    "        _ = plt.plot(larper[0],larper[2][j,:],'k',linewidth=.75)\n",
    "    _ = plt.title('Lasso path for simulated data')\n",
    "    _ = plt.xlabel('lambda')\n",
    "    _ = plt.ylabel('Coef')"
   ]
  },
  {
   "cell_type": "code",
   "execution_count": 95,
   "metadata": {
    "slideshow": {
     "slide_type": "slide"
    }
   },
   "outputs": [
    {
     "data": {
      "image/png": "[encoded data removed]",
      "text/plain": [
       "<Figure size 432x288 with 1 Axes>"
      ]
     },
     "metadata": {
      "needs_background": "light"
     },
     "output_type": "display_data"
    }
   ],
   "source": [
    "plot_it()"
   ]
  },
  {
   "cell_type": "code",
   "execution_count": 77,
   "metadata": {
    "slideshow": {
     "slide_type": "slide"
    }
   },
   "outputs": [
    {
     "name": "stdout",
     "output_type": "stream",
     "text": [
      "<class 'pandas.core.frame.DataFrame'>\n",
      "Index: 263 entries, -Alan Ashby to -Willie Wilson\n",
      "Data columns (total 20 columns):\n",
      "AtBat        263 non-null int64\n",
      "Hits         263 non-null int64\n",
      "HmRun        263 non-null int64\n",
      "Runs         263 non-null int64\n",
      "RBI          263 non-null int64\n",
      "Walks        263 non-null int64\n",
      "Years        263 non-null int64\n",
      "CAtBat       263 non-null int64\n",
      "CHits        263 non-null int64\n",
      "CHmRun       263 non-null int64\n",
      "CRuns        263 non-null int64\n",
      "CRBI         263 non-null int64\n",
      "CWalks       263 non-null int64\n",
      "League       263 non-null object\n",
      "Division     263 non-null object\n",
      "PutOuts      263 non-null int64\n",
      "Assists      263 non-null int64\n",
      "Errors       263 non-null int64\n",
      "Salary       263 non-null float64\n",
      "NewLeague    263 non-null object\n",
      "dtypes: float64(1), int64(16), object(3)\n",
      "memory usage: 43.1+ KB\n"
     ]
    }
   ],
   "source": [
    "## Hitters dataset\n",
    "\n",
    "df = pd.read_csv('../../data/Hitters.csv', index_col=0).dropna()\n",
    "df.index.name = 'Player'\n",
    "df.info()"
   ]
  },
  {
   "cell_type": "code",
   "execution_count": 78,
   "metadata": {
    "slideshow": {
     "slide_type": "slide"
    }
   },
   "outputs": [
    {
     "data": {
      "text/html": [
       "<div>\n",
       "<style scoped>\n",
       "    .dataframe tbody tr th:only-of-type {\n",
       "        vertical-align: middle;\n",
       "    }\n",
       "\n",
       "    .dataframe tbody tr th {\n",
       "        vertical-align: top;\n",
       "    }\n",
       "\n",
       "    .dataframe thead th {\n",
       "        text-align: right;\n",
       "    }\n",
       "</style>\n",
       "<table border=\"1\" class=\"dataframe\">\n",
       "  <thead>\n",
       "    <tr style=\"text-align: right;\">\n",
       "      <th></th>\n",
       "      <th>AtBat</th>\n",
       "      <th>Hits</th>\n",
       "      <th>HmRun</th>\n",
       "      <th>Runs</th>\n",
       "      <th>RBI</th>\n",
       "      <th>Walks</th>\n",
       "      <th>Years</th>\n",
       "      <th>CAtBat</th>\n",
       "      <th>CHits</th>\n",
       "      <th>CHmRun</th>\n",
       "      <th>CRuns</th>\n",
       "      <th>CRBI</th>\n",
       "      <th>CWalks</th>\n",
       "      <th>League</th>\n",
       "      <th>Division</th>\n",
       "      <th>PutOuts</th>\n",
       "      <th>Assists</th>\n",
       "      <th>Errors</th>\n",
       "      <th>Salary</th>\n",
       "      <th>NewLeague</th>\n",
       "    </tr>\n",
       "    <tr>\n",
       "      <th>Player</th>\n",
       "      <th></th>\n",
       "      <th></th>\n",
       "      <th></th>\n",
       "      <th></th>\n",
       "      <th></th>\n",
       "      <th></th>\n",
       "      <th></th>\n",
       "      <th></th>\n",
       "      <th></th>\n",
       "      <th></th>\n",
       "      <th></th>\n",
       "      <th></th>\n",
       "      <th></th>\n",
       "      <th></th>\n",
       "      <th></th>\n",
       "      <th></th>\n",
       "      <th></th>\n",
       "      <th></th>\n",
       "      <th></th>\n",
       "      <th></th>\n",
       "    </tr>\n",
       "  </thead>\n",
       "  <tbody>\n",
       "    <tr>\n",
       "      <th>-Alan Ashby</th>\n",
       "      <td>315</td>\n",
       "      <td>81</td>\n",
       "      <td>7</td>\n",
       "      <td>24</td>\n",
       "      <td>38</td>\n",
       "      <td>39</td>\n",
       "      <td>14</td>\n",
       "      <td>3449</td>\n",
       "      <td>835</td>\n",
       "      <td>69</td>\n",
       "      <td>321</td>\n",
       "      <td>414</td>\n",
       "      <td>375</td>\n",
       "      <td>N</td>\n",
       "      <td>W</td>\n",
       "      <td>632</td>\n",
       "      <td>43</td>\n",
       "      <td>10</td>\n",
       "      <td>475.0</td>\n",
       "      <td>N</td>\n",
       "    </tr>\n",
       "    <tr>\n",
       "      <th>-Alvin Davis</th>\n",
       "      <td>479</td>\n",
       "      <td>130</td>\n",
       "      <td>18</td>\n",
       "      <td>66</td>\n",
       "      <td>72</td>\n",
       "      <td>76</td>\n",
       "      <td>3</td>\n",
       "      <td>1624</td>\n",
       "      <td>457</td>\n",
       "      <td>63</td>\n",
       "      <td>224</td>\n",
       "      <td>266</td>\n",
       "      <td>263</td>\n",
       "      <td>A</td>\n",
       "      <td>W</td>\n",
       "      <td>880</td>\n",
       "      <td>82</td>\n",
       "      <td>14</td>\n",
       "      <td>480.0</td>\n",
       "      <td>A</td>\n",
       "    </tr>\n",
       "    <tr>\n",
       "      <th>-Andre Dawson</th>\n",
       "      <td>496</td>\n",
       "      <td>141</td>\n",
       "      <td>20</td>\n",
       "      <td>65</td>\n",
       "      <td>78</td>\n",
       "      <td>37</td>\n",
       "      <td>11</td>\n",
       "      <td>5628</td>\n",
       "      <td>1575</td>\n",
       "      <td>225</td>\n",
       "      <td>828</td>\n",
       "      <td>838</td>\n",
       "      <td>354</td>\n",
       "      <td>N</td>\n",
       "      <td>E</td>\n",
       "      <td>200</td>\n",
       "      <td>11</td>\n",
       "      <td>3</td>\n",
       "      <td>500.0</td>\n",
       "      <td>N</td>\n",
       "    </tr>\n",
       "    <tr>\n",
       "      <th>-Andres Galarraga</th>\n",
       "      <td>321</td>\n",
       "      <td>87</td>\n",
       "      <td>10</td>\n",
       "      <td>39</td>\n",
       "      <td>42</td>\n",
       "      <td>30</td>\n",
       "      <td>2</td>\n",
       "      <td>396</td>\n",
       "      <td>101</td>\n",
       "      <td>12</td>\n",
       "      <td>48</td>\n",
       "      <td>46</td>\n",
       "      <td>33</td>\n",
       "      <td>N</td>\n",
       "      <td>E</td>\n",
       "      <td>805</td>\n",
       "      <td>40</td>\n",
       "      <td>4</td>\n",
       "      <td>91.5</td>\n",
       "      <td>N</td>\n",
       "    </tr>\n",
       "    <tr>\n",
       "      <th>-Alfredo Griffin</th>\n",
       "      <td>594</td>\n",
       "      <td>169</td>\n",
       "      <td>4</td>\n",
       "      <td>74</td>\n",
       "      <td>51</td>\n",
       "      <td>35</td>\n",
       "      <td>11</td>\n",
       "      <td>4408</td>\n",
       "      <td>1133</td>\n",
       "      <td>19</td>\n",
       "      <td>501</td>\n",
       "      <td>336</td>\n",
       "      <td>194</td>\n",
       "      <td>A</td>\n",
       "      <td>W</td>\n",
       "      <td>282</td>\n",
       "      <td>421</td>\n",
       "      <td>25</td>\n",
       "      <td>750.0</td>\n",
       "      <td>A</td>\n",
       "    </tr>\n",
       "  </tbody>\n",
       "</table>\n",
       "</div>"
      ],
      "text/plain": [
       "                   AtBat  Hits  HmRun  Runs  RBI  Walks  Years  CAtBat  CHits  \\\n",
       "Player                                                                          \n",
       "-Alan Ashby          315    81      7    24   38     39     14    3449    835   \n",
       "-Alvin Davis         479   130     18    66   72     76      3    1624    457   \n",
       "-Andre Dawson        496   141     20    65   78     37     11    5628   1575   \n",
       "-Andres Galarraga    321    87     10    39   42     30      2     396    101   \n",
       "-Alfredo Griffin     594   169      4    74   51     35     11    4408   1133   \n",
       "\n",
       "                   CHmRun  CRuns  CRBI  CWalks League Division  PutOuts  \\\n",
       "Player                                                                    \n",
       "-Alan Ashby            69    321   414     375      N        W      632   \n",
       "-Alvin Davis           63    224   266     263      A        W      880   \n",
       "-Andre Dawson         225    828   838     354      N        E      200   \n",
       "-Andres Galarraga      12     48    46      33      N        E      805   \n",
       "-Alfredo Griffin       19    501   336     194      A        W      282   \n",
       "\n",
       "                   Assists  Errors  Salary NewLeague  \n",
       "Player                                                \n",
       "-Alan Ashby             43      10   475.0         N  \n",
       "-Alvin Davis            82      14   480.0         A  \n",
       "-Andre Dawson           11       3   500.0         N  \n",
       "-Andres Galarraga       40       4    91.5         N  \n",
       "-Alfredo Griffin       421      25   750.0         A  "
      ]
     },
     "execution_count": 78,
     "metadata": {},
     "output_type": "execute_result"
    }
   ],
   "source": [
    "df.head()"
   ]
  },
  {
   "cell_type": "code",
   "execution_count": 79,
   "metadata": {
    "slideshow": {
     "slide_type": "slide"
    }
   },
   "outputs": [
    {
     "name": "stdout",
     "output_type": "stream",
     "text": [
      "<class 'pandas.core.frame.DataFrame'>\n",
      "Index: 263 entries, -Alan Ashby to -Willie Wilson\n",
      "Data columns (total 6 columns):\n",
      "League_A       263 non-null uint8\n",
      "League_N       263 non-null uint8\n",
      "Division_E     263 non-null uint8\n",
      "Division_W     263 non-null uint8\n",
      "NewLeague_A    263 non-null uint8\n",
      "NewLeague_N    263 non-null uint8\n",
      "dtypes: uint8(6)\n",
      "memory usage: 3.6+ KB\n",
      "                   League_A  League_N  Division_E  Division_W  NewLeague_A  \\\n",
      "Player                                                                       \n",
      "-Alan Ashby               0         1           0           1            0   \n",
      "-Alvin Davis              1         0           0           1            1   \n",
      "-Andre Dawson             0         1           1           0            0   \n",
      "-Andres Galarraga         0         1           1           0            0   \n",
      "-Alfredo Griffin          1         0           0           1            1   \n",
      "\n",
      "                   NewLeague_N  \n",
      "Player                          \n",
      "-Alan Ashby                  1  \n",
      "-Alvin Davis                 0  \n",
      "-Andre Dawson                1  \n",
      "-Andres Galarraga            1  \n",
      "-Alfredo Griffin             0  \n"
     ]
    }
   ],
   "source": [
    "dummies = pd.get_dummies(df[['League', 'Division', 'NewLeague']])\n",
    "dummies.info()\n",
    "print(dummies.head())"
   ]
  },
  {
   "cell_type": "code",
   "execution_count": 96,
   "metadata": {
    "slideshow": {
     "slide_type": "slide"
    }
   },
   "outputs": [
    {
     "name": "stdout",
     "output_type": "stream",
     "text": [
      "<class 'pandas.core.frame.DataFrame'>\n",
      "Index: 263 entries, -Alan Ashby to -Willie Wilson\n",
      "Data columns (total 19 columns):\n",
      "AtBat          263 non-null float64\n",
      "Hits           263 non-null float64\n",
      "HmRun          263 non-null float64\n",
      "Runs           263 non-null float64\n",
      "RBI            263 non-null float64\n",
      "Walks          263 non-null float64\n",
      "Years          263 non-null float64\n",
      "CAtBat         263 non-null float64\n",
      "CHits          263 non-null float64\n",
      "CHmRun         263 non-null float64\n",
      "CRuns          263 non-null float64\n",
      "CRBI           263 non-null float64\n",
      "CWalks         263 non-null float64\n",
      "PutOuts        263 non-null float64\n",
      "Assists        263 non-null float64\n",
      "Errors         263 non-null float64\n",
      "League_N       263 non-null uint8\n",
      "Division_W     263 non-null uint8\n",
      "NewLeague_N    263 non-null uint8\n",
      "dtypes: float64(16), uint8(3)\n",
      "memory usage: 35.7+ KB\n"
     ]
    }
   ],
   "source": [
    "y = df.Salary\n",
    "\n",
    "# Drop the column with the independent variable (Salary), and columns for which we created dummy variables\n",
    "X_ = df.drop(['Salary', 'League', 'Division', 'NewLeague'], axis=1).astype('float64')\n",
    "# Define the feature set X.\n",
    "X = pd.concat([X_, dummies[['League_N', 'Division_W', 'NewLeague_N']]], axis=1)\n",
    "X.info()"
   ]
  },
  {
   "cell_type": "code",
   "execution_count": 81,
   "metadata": {
    "slideshow": {
     "slide_type": "slide"
    }
   },
   "outputs": [
    {
     "data": {
      "text/html": [
       "<div>\n",
       "<style scoped>\n",
       "    .dataframe tbody tr th:only-of-type {\n",
       "        vertical-align: middle;\n",
       "    }\n",
       "\n",
       "    .dataframe tbody tr th {\n",
       "        vertical-align: top;\n",
       "    }\n",
       "\n",
       "    .dataframe thead th {\n",
       "        text-align: right;\n",
       "    }\n",
       "</style>\n",
       "<table border=\"1\" class=\"dataframe\">\n",
       "  <thead>\n",
       "    <tr style=\"text-align: right;\">\n",
       "      <th></th>\n",
       "      <th>AtBat</th>\n",
       "      <th>Hits</th>\n",
       "      <th>HmRun</th>\n",
       "      <th>Runs</th>\n",
       "      <th>RBI</th>\n",
       "      <th>Walks</th>\n",
       "      <th>Years</th>\n",
       "      <th>CAtBat</th>\n",
       "      <th>CHits</th>\n",
       "      <th>CHmRun</th>\n",
       "      <th>CRuns</th>\n",
       "      <th>CRBI</th>\n",
       "      <th>CWalks</th>\n",
       "      <th>PutOuts</th>\n",
       "      <th>Assists</th>\n",
       "      <th>Errors</th>\n",
       "      <th>League_N</th>\n",
       "      <th>Division_W</th>\n",
       "      <th>NewLeague_N</th>\n",
       "    </tr>\n",
       "    <tr>\n",
       "      <th>Player</th>\n",
       "      <th></th>\n",
       "      <th></th>\n",
       "      <th></th>\n",
       "      <th></th>\n",
       "      <th></th>\n",
       "      <th></th>\n",
       "      <th></th>\n",
       "      <th></th>\n",
       "      <th></th>\n",
       "      <th></th>\n",
       "      <th></th>\n",
       "      <th></th>\n",
       "      <th></th>\n",
       "      <th></th>\n",
       "      <th></th>\n",
       "      <th></th>\n",
       "      <th></th>\n",
       "      <th></th>\n",
       "      <th></th>\n",
       "    </tr>\n",
       "  </thead>\n",
       "  <tbody>\n",
       "    <tr>\n",
       "      <th>-Alan Ashby</th>\n",
       "      <td>315.0</td>\n",
       "      <td>81.0</td>\n",
       "      <td>7.0</td>\n",
       "      <td>24.0</td>\n",
       "      <td>38.0</td>\n",
       "      <td>39.0</td>\n",
       "      <td>14.0</td>\n",
       "      <td>3449.0</td>\n",
       "      <td>835.0</td>\n",
       "      <td>69.0</td>\n",
       "      <td>321.0</td>\n",
       "      <td>414.0</td>\n",
       "      <td>375.0</td>\n",
       "      <td>632.0</td>\n",
       "      <td>43.0</td>\n",
       "      <td>10.0</td>\n",
       "      <td>1</td>\n",
       "      <td>1</td>\n",
       "      <td>1</td>\n",
       "    </tr>\n",
       "    <tr>\n",
       "      <th>-Alvin Davis</th>\n",
       "      <td>479.0</td>\n",
       "      <td>130.0</td>\n",
       "      <td>18.0</td>\n",
       "      <td>66.0</td>\n",
       "      <td>72.0</td>\n",
       "      <td>76.0</td>\n",
       "      <td>3.0</td>\n",
       "      <td>1624.0</td>\n",
       "      <td>457.0</td>\n",
       "      <td>63.0</td>\n",
       "      <td>224.0</td>\n",
       "      <td>266.0</td>\n",
       "      <td>263.0</td>\n",
       "      <td>880.0</td>\n",
       "      <td>82.0</td>\n",
       "      <td>14.0</td>\n",
       "      <td>0</td>\n",
       "      <td>1</td>\n",
       "      <td>0</td>\n",
       "    </tr>\n",
       "    <tr>\n",
       "      <th>-Andre Dawson</th>\n",
       "      <td>496.0</td>\n",
       "      <td>141.0</td>\n",
       "      <td>20.0</td>\n",
       "      <td>65.0</td>\n",
       "      <td>78.0</td>\n",
       "      <td>37.0</td>\n",
       "      <td>11.0</td>\n",
       "      <td>5628.0</td>\n",
       "      <td>1575.0</td>\n",
       "      <td>225.0</td>\n",
       "      <td>828.0</td>\n",
       "      <td>838.0</td>\n",
       "      <td>354.0</td>\n",
       "      <td>200.0</td>\n",
       "      <td>11.0</td>\n",
       "      <td>3.0</td>\n",
       "      <td>1</td>\n",
       "      <td>0</td>\n",
       "      <td>1</td>\n",
       "    </tr>\n",
       "    <tr>\n",
       "      <th>-Andres Galarraga</th>\n",
       "      <td>321.0</td>\n",
       "      <td>87.0</td>\n",
       "      <td>10.0</td>\n",
       "      <td>39.0</td>\n",
       "      <td>42.0</td>\n",
       "      <td>30.0</td>\n",
       "      <td>2.0</td>\n",
       "      <td>396.0</td>\n",
       "      <td>101.0</td>\n",
       "      <td>12.0</td>\n",
       "      <td>48.0</td>\n",
       "      <td>46.0</td>\n",
       "      <td>33.0</td>\n",
       "      <td>805.0</td>\n",
       "      <td>40.0</td>\n",
       "      <td>4.0</td>\n",
       "      <td>1</td>\n",
       "      <td>0</td>\n",
       "      <td>1</td>\n",
       "    </tr>\n",
       "    <tr>\n",
       "      <th>-Alfredo Griffin</th>\n",
       "      <td>594.0</td>\n",
       "      <td>169.0</td>\n",
       "      <td>4.0</td>\n",
       "      <td>74.0</td>\n",
       "      <td>51.0</td>\n",
       "      <td>35.0</td>\n",
       "      <td>11.0</td>\n",
       "      <td>4408.0</td>\n",
       "      <td>1133.0</td>\n",
       "      <td>19.0</td>\n",
       "      <td>501.0</td>\n",
       "      <td>336.0</td>\n",
       "      <td>194.0</td>\n",
       "      <td>282.0</td>\n",
       "      <td>421.0</td>\n",
       "      <td>25.0</td>\n",
       "      <td>0</td>\n",
       "      <td>1</td>\n",
       "      <td>0</td>\n",
       "    </tr>\n",
       "  </tbody>\n",
       "</table>\n",
       "</div>"
      ],
      "text/plain": [
       "                   AtBat   Hits  HmRun  Runs   RBI  Walks  Years  CAtBat  \\\n",
       "Player                                                                     \n",
       "-Alan Ashby        315.0   81.0    7.0  24.0  38.0   39.0   14.0  3449.0   \n",
       "-Alvin Davis       479.0  130.0   18.0  66.0  72.0   76.0    3.0  1624.0   \n",
       "-Andre Dawson      496.0  141.0   20.0  65.0  78.0   37.0   11.0  5628.0   \n",
       "-Andres Galarraga  321.0   87.0   10.0  39.0  42.0   30.0    2.0   396.0   \n",
       "-Alfredo Griffin   594.0  169.0    4.0  74.0  51.0   35.0   11.0  4408.0   \n",
       "\n",
       "                    CHits  CHmRun  CRuns   CRBI  CWalks  PutOuts  Assists  \\\n",
       "Player                                                                      \n",
       "-Alan Ashby         835.0    69.0  321.0  414.0   375.0    632.0     43.0   \n",
       "-Alvin Davis        457.0    63.0  224.0  266.0   263.0    880.0     82.0   \n",
       "-Andre Dawson      1575.0   225.0  828.0  838.0   354.0    200.0     11.0   \n",
       "-Andres Galarraga   101.0    12.0   48.0   46.0    33.0    805.0     40.0   \n",
       "-Alfredo Griffin   1133.0    19.0  501.0  336.0   194.0    282.0    421.0   \n",
       "\n",
       "                   Errors  League_N  Division_W  NewLeague_N  \n",
       "Player                                                        \n",
       "-Alan Ashby          10.0         1           1            1  \n",
       "-Alvin Davis         14.0         0           1            0  \n",
       "-Andre Dawson         3.0         1           0            1  \n",
       "-Andres Galarraga     4.0         1           0            1  \n",
       "-Alfredo Griffin     25.0         0           1            0  "
      ]
     },
     "execution_count": 81,
     "metadata": {},
     "output_type": "execute_result"
    }
   ],
   "source": [
    "X.head(5)"
   ]
  },
  {
   "cell_type": "code",
   "execution_count": 83,
   "metadata": {
    "slideshow": {
     "slide_type": "slide"
    }
   },
   "outputs": [
    {
     "name": "stderr",
     "output_type": "stream",
     "text": [
      "/home/jsharpna/anaconda/lib/python3.7/site-packages/sklearn/linear_model/coordinate_descent.py:491: ConvergenceWarning: Objective did not converge. You might want to increase the number of iterations. Fitting data with very small alpha may cause precision problems.\n",
      "  ConvergenceWarning)\n"
     ]
    },
    {
     "data": {
      "text/plain": [
       "LassoCV(alphas=None, copy_X=True,\n",
       "    cv=<generator object BaseCrossValidator.split at 0x7ff4c0960e58>,\n",
       "    eps=0.001, fit_intercept=True, max_iter=1000, n_alphas=100,\n",
       "    n_jobs=None, normalize=False, positive=False, precompute='auto',\n",
       "    random_state=None, selection='cyclic', tol=0.0001, verbose=False)"
      ]
     },
     "execution_count": 83,
     "metadata": {},
     "output_type": "execute_result"
    }
   ],
   "source": [
    "loo = model_selection.LeaveOneOut()\n",
    "looiter = loo.split(X)\n",
    "hitlasso = linear_model.LassoCV(cv=looiter)\n",
    "hitlasso.fit(X,y)"
   ]
  },
  {
   "cell_type": "code",
   "execution_count": 84,
   "metadata": {
    "slideshow": {
     "slide_type": "slide"
    }
   },
   "outputs": [
    {
     "name": "stdout",
     "output_type": "stream",
     "text": [
      "The selected lambda value is 540.66\n"
     ]
    }
   ],
   "source": [
    "print(\"The selected lambda value is {:.2f}\".format(hitlasso.alpha_))"
   ]
  },
  {
   "cell_type": "code",
   "execution_count": 85,
   "metadata": {
    "slideshow": {
     "slide_type": "fragment"
    }
   },
   "outputs": [
    {
     "data": {
      "text/plain": [
       "array([-0.        ,  1.49586273,  0.        ,  0.        ,  0.        ,\n",
       "        1.13979587, -0.        , -0.33734233,  0.82306877,  0.        ,\n",
       "        0.79947238,  0.65458696, -0.03331169,  0.27575248,  0.13166923,\n",
       "       -0.        ,  0.        , -0.        ,  0.        ])"
      ]
     },
     "execution_count": 85,
     "metadata": {},
     "output_type": "execute_result"
    }
   ],
   "source": [
    "hitlasso.coef_"
   ]
  },
  {
   "cell_type": "markdown",
   "metadata": {
    "slideshow": {
     "slide_type": "slide"
    }
   },
   "source": [
    "We can also compare this to the selected model from forward stagewise regression:\n",
    "\n",
    "```\n",
    "[-0.21830515,  0.38154135,  0.        ,  0.        ,  0.        ,\n",
    "        0.16139123,  0.        ,  0.        ,  0.        ,  0.        ,\n",
    "        0.09994524,  0.56696569, -0.16872682,  0.16924078,  0.        ,\n",
    "        0.        ,  0.        , -0.19429699,  0.        ]\n",
    "```\n",
    "\n",
    "This is not exactly the same model with differences in the inclusion or exclusion of AtBat, HmRun, Runs, RBI, Years, CHmRun, Errors, League_N, Division_W, NewLeague_N"
   ]
  },
  {
   "cell_type": "code",
   "execution_count": 87,
   "metadata": {
    "slideshow": {
     "slide_type": "skip"
    }
   },
   "outputs": [],
   "source": [
    "bforw = [-0.21830515,  0.38154135,  0.        ,  0.        ,  0.        ,\n",
    "        0.16139123,  0.        ,  0.        ,  0.        ,  0.        ,\n",
    "        0.09994524,  0.56696569, -0.16872682,  0.16924078,  0.        ,\n",
    "        0.        ,  0.        , -0.19429699,  0.        ]"
   ]
  },
  {
   "cell_type": "code",
   "execution_count": 98,
   "metadata": {
    "slideshow": {
     "slide_type": "fragment"
    }
   },
   "outputs": [
    {
     "name": "stdout",
     "output_type": "stream",
     "text": [
      "AtBat, HmRun, Runs, RBI, Years, CHmRun, Errors, League_N, Division_W, NewLeague_N\n"
     ]
    }
   ],
   "source": [
    "print(\", \".join(X.columns[(hitlasso.coef_ != 0.) != (bforw != 0.)]))"
   ]
  }
 ],
 "metadata": {
  "celltoolbar": "Slideshow",
  "kernelspec": {
   "display_name": "Python 3",
   "language": "python",
   "name": "python3"
  },
  "language_info": {
   "codemirror_mode": {
    "name": "ipython",
    "version": 3
   },
   "file_extension": ".py",
   "mimetype": "text/x-python",
   "name": "python",
   "nbconvert_exporter": "python",
   "pygments_lexer": "ipython3",
   "version": "3.7.2"
  }
 },
 "nbformat": 4,
 "nbformat_minor": 2
}
